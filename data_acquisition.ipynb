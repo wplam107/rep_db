{
 "cells": [
  {
   "cell_type": "markdown",
   "metadata": {},
   "source": [
    "# Data Acquisition Notebook\n",
    "- Notebook detailing ```database.py```\n",
    "- Database will hold 2 most recent congresses"
   ]
  },
  {
   "cell_type": "markdown",
   "metadata": {},
   "source": [
    "## ProPublica Data\n",
    "- Functions and parameters"
   ]
  },
  {
   "cell_type": "code",
   "execution_count": 1,
   "metadata": {},
   "outputs": [],
   "source": [
    "# API Key\n",
    "import configparser\n",
    "\n",
    "# Read/Scrape data\n",
    "import requests\n",
    "import json\n",
    "import re\n",
    "from bs4 import BeautifulSoup"
   ]
  },
  {
   "cell_type": "code",
   "execution_count": 2,
   "metadata": {},
   "outputs": [],
   "source": [
    "config = configparser.ConfigParser()\n",
    "config.read('auth/config.ini')\n",
    "PROPUBLICA_API_KEY = config.get('propublica', 'PROPUBLICA_API_KEY')"
   ]
  },
  {
   "cell_type": "code",
   "execution_count": 3,
   "metadata": {},
   "outputs": [],
   "source": [
    "API_ROOT = 'https://api.propublica.org/congress/v1/'\n",
    "header = {'X-API-Key': f'{PROPUBLICA_API_KEY}'}"
   ]
  },
  {
   "cell_type": "code",
   "execution_count": 4,
   "metadata": {},
   "outputs": [],
   "source": [
    "def get_house_ids(congress):\n",
    "    '''\n",
    "    Function to get house members' ProPublica ID by congress number\n",
    "    '''\n",
    "\n",
    "    call_string = API_ROOT + f'{congress}/house/members.json'\n",
    "    r = requests.get(call_string, headers=header)\n",
    "    result = r.json()['results'][0]['members']\n",
    "    member_ids = [ member['id'] for member in result ]\n",
    "    \n",
    "    return member_ids"
   ]
  },
  {
   "cell_type": "code",
   "execution_count": 8,
   "metadata": {},
   "outputs": [],
   "source": [
    "def get_member_data(member):\n",
    "    '''\n",
    "    Function to get house member's data\n",
    "    '''\n",
    "    \n",
    "    call_string = API_ROOT + f'members/{member}.json'\n",
    "    r = requests.get(call_string, headers=header)\n",
    "    result = r.json()['results'][0]\n",
    "    \n",
    "    return result"
   ]
  },
  {
   "cell_type": "markdown",
   "metadata": {},
   "source": [
    "## Get Initial Congress and Clean Data/Select Features"
   ]
  },
  {
   "cell_type": "code",
   "execution_count": 9,
   "metadata": {},
   "outputs": [],
   "source": [
    "# House members of the 116th Congress (2018-2020)\n",
    "ids_116 = get_house_ids(116)\n",
    "members_116 = [ get_member_data(member) for member in ids_116 ]"
   ]
  },
  {
   "cell_type": "code",
   "execution_count": 18,
   "metadata": {},
   "outputs": [],
   "source": [
    "from pprint import pprint"
   ]
  },
  {
   "cell_type": "code",
   "execution_count": 27,
   "metadata": {},
   "outputs": [],
   "source": [
    "# Sample dictionary function\n",
    "def sample_dict(dictionary, _range=(0,5)):\n",
    "    assert _range[0] < _range[1]\n",
    "    \n",
    "    sample_keys = list(dictionary.keys())[_range[0]: _range[1]]\n",
    "    sample_dict = { key: dictionary[key] for key in sample_keys }\n",
    "    \n",
    "    print(f'*Total Length: {len(dictionary)}')\n",
    "    print('*Sample Dictionary:')\n",
    "    pprint(sample_dict)"
   ]
  },
  {
   "cell_type": "code",
   "execution_count": 28,
   "metadata": {
    "scrolled": true
   },
   "outputs": [
    {
     "name": "stdout",
     "output_type": "stream",
     "text": [
      "*Total Length: 26\n",
      "*Sample Dictionary:\n",
      "{'first_name': 'Ralph',\n",
      " 'id': 'A000374',\n",
      " 'last_name': 'Abraham',\n",
      " 'member_id': 'A000374',\n",
      " 'middle_name': None}\n"
     ]
    }
   ],
   "source": [
    "sample_dict(members_116[0])"
   ]
  },
  {
   "cell_type": "code",
   "execution_count": 40,
   "metadata": {},
   "outputs": [],
   "source": [
    "def role_cleaner(role):\n",
    "    '''\n",
    "    Function to keep relevent role information\n",
    "    '''\n",
    "    \n",
    "    # Nest subcommittees into committees\n",
    "    committees = []\n",
    "    subcommittees = []\n",
    "    \n",
    "    if role['committees'] != []:\n",
    "        for com in role['committees']:\n",
    "            if com != 'subcommittees':\n",
    "                com['subcommittees'] = []\n",
    "                committees.append(com)\n",
    "            else:\n",
    "                subcommittees = com\n",
    "                \n",
    "        if subcommittees != []:\n",
    "            for com in committees:\n",
    "                for subcom in subcommittees:\n",
    "                        if subcom['parent_committee_id'] == com['code']:\n",
    "                            com['subcommittees'].append(subcom)\n",
    "                \n",
    "    role_dict = {\n",
    "        'details': {\n",
    "            'congress': role['congress'],\n",
    "            'state': role['state'],\n",
    "            'party': role['party'],\n",
    "            'seniority': role['seniority'],\n",
    "            'district': role['district'],\n",
    "            'start_date': role['start_date'],\n",
    "            'end_date': role['end_date'],\n",
    "            'at_large': role['at_large'],\n",
    "        },\n",
    "        'voting': {\n",
    "            'sponsored': role['bills_sponsored'],\n",
    "            'cosponsored': role['bills_cosponsored'],\n",
    "            'total_votes': role['total_votes'],\n",
    "            'missed_votes': role['missed_votes'],\n",
    "        },\n",
    "        'committees': committees,\n",
    "    }\n",
    "    \n",
    "    return role_dict\n",
    "    \n",
    "def member_cleaner(member):\n",
    "    '''\n",
    "    Function to keep relevent information on congress member\n",
    "    '''\n",
    "    \n",
    "    roles = member['roles']\n",
    "    roles.sort(key=lambda x: x['congress'], reverse=True)\n",
    "    fec_id = roles[0]['fec_candidate_id']\n",
    "    \n",
    "    mem_dict = {\n",
    "        '_id': member['id'],\n",
    "        'bio': {\n",
    "            'first_name': member['first_name'],\n",
    "            'middle_name': member['middle_name'],\n",
    "            'last_name': member['last_name'],\n",
    "            'dob': member['date_of_birth'],\n",
    "            'gender': member['gender'],\n",
    "            'current_party': member['current_party'],\n",
    "        },\n",
    "        'activity': {\n",
    "            'most_recent_vote': member['most_recent_vote'],\n",
    "            'last_updated': member['last_updated'],\n",
    "            'in_office': member['in_office'],\n",
    "        },\n",
    "        'other_ids': {\n",
    "            'google_id': member['google_entity_id'],\n",
    "            'votesmart_id': member['votesmart_id'],\n",
    "            'govtrack_id': member['govtrack_id'],\n",
    "            'cspan_id': member['cspan_id'],\n",
    "            'crp_id': member['crp_id'],\n",
    "            'fec_id': fec_id,\n",
    "        },\n",
    "        'roles': [\n",
    "            role_cleaner(role) for role in roles\n",
    "        ],   \n",
    "    }\n",
    "    \n",
    "    return mem_dict"
   ]
  },
  {
   "cell_type": "code",
   "execution_count": 41,
   "metadata": {},
   "outputs": [],
   "source": [
    "sample = member_cleaner(members_116[0])"
   ]
  },
  {
   "cell_type": "code",
   "execution_count": 42,
   "metadata": {},
   "outputs": [
    {
     "name": "stdout",
     "output_type": "stream",
     "text": [
      "{'_id': 'A000374',\n",
      " 'activity': {'in_office': False,\n",
      "              'last_updated': '2020-12-31 18:30:50 -0500',\n",
      "              'most_recent_vote': '2020-10-01'},\n",
      " 'bio': {'current_party': 'R',\n",
      "         'dob': '1954-09-16',\n",
      "         'first_name': 'Ralph',\n",
      "         'gender': 'M',\n",
      "         'last_name': 'Abraham',\n",
      "         'middle_name': None},\n",
      " 'other_ids': {'crp_id': 'N00036633',\n",
      "               'cspan_id': '76236',\n",
      "               'fec_id': 'H4LA05221',\n",
      "               'google_id': '/m/012dwd7_',\n",
      "               'govtrack_id': '412630',\n",
      "               'votesmart_id': '155414'},\n",
      " 'roles': [{'committees': [{'api_uri': 'https://api.propublica.org/congress/v1/116/house/committees/HSAG.json',\n",
      "                            'begin_date': '2019-01-23',\n",
      "                            'code': 'HSAG',\n",
      "                            'end_date': '2021-01-03',\n",
      "                            'name': 'Committee on Agriculture',\n",
      "                            'rank_in_party': 13,\n",
      "                            'side': 'minority',\n",
      "                            'subcommittees': [],\n",
      "                            'title': 'Member'},\n",
      "                           {'api_uri': 'https://api.propublica.org/congress/v1/116/house/committees/HSAS.json',\n",
      "                            'begin_date': '2019-01-23',\n",
      "                            'code': 'HSAS',\n",
      "                            'end_date': '2021-01-03',\n",
      "                            'name': 'Committee on Armed Services',\n",
      "                            'rank_in_party': 17,\n",
      "                            'side': 'minority',\n",
      "                            'subcommittees': [],\n",
      "                            'title': 'Member'}],\n",
      "            'details': {'at_large': False,\n",
      "                        'congress': '116',\n",
      "                        'district': '5',\n",
      "                        'end_date': '2021-01-03',\n",
      "                        'party': 'R',\n",
      "                        'seniority': '6',\n",
      "                        'start_date': '2019-01-03',\n",
      "                        'state': 'LA'},\n",
      "            'voting': {'cosponsored': 168,\n",
      "                       'missed_votes': 377,\n",
      "                       'sponsored': 6,\n",
      "                       'total_votes': 954}},\n",
      "           {'committees': [{'api_uri': 'https://api.propublica.org/congress/v1/115/house/committees/HSAG.json',\n",
      "                            'begin_date': '',\n",
      "                            'code': 'HSAG',\n",
      "                            'end_date': '2019-01-03',\n",
      "                            'name': 'Committee on Agriculture',\n",
      "                            'rank_in_party': 19,\n",
      "                            'side': 'majority',\n",
      "                            'subcommittees': [],\n",
      "                            'title': 'Member'},\n",
      "                           {'api_uri': 'https://api.propublica.org/congress/v1/115/house/committees/HSAS.json',\n",
      "                            'begin_date': '',\n",
      "                            'code': 'HSAS',\n",
      "                            'end_date': '2019-01-03',\n",
      "                            'name': 'Committee on Armed Services',\n",
      "                            'rank_in_party': 27,\n",
      "                            'side': 'majority',\n",
      "                            'subcommittees': [],\n",
      "                            'title': 'Member'},\n",
      "                           {'api_uri': 'https://api.propublica.org/congress/v1/115/house/committees/HSSY.json',\n",
      "                            'begin_date': '',\n",
      "                            'code': 'HSSY',\n",
      "                            'end_date': '2019-01-03',\n",
      "                            'name': 'Committee on Science, Space, and '\n",
      "                                    'Technology',\n",
      "                            'rank_in_party': 13,\n",
      "                            'side': 'majority',\n",
      "                            'subcommittees': [],\n",
      "                            'title': 'Member'}],\n",
      "            'details': {'at_large': False,\n",
      "                        'congress': '115',\n",
      "                        'district': '5',\n",
      "                        'end_date': '2019-01-03',\n",
      "                        'party': 'R',\n",
      "                        'seniority': '4',\n",
      "                        'start_date': '2017-01-03',\n",
      "                        'state': 'LA'},\n",
      "            'voting': {'cosponsored': 255,\n",
      "                       'missed_votes': 18,\n",
      "                       'sponsored': 9,\n",
      "                       'total_votes': 1211}},\n",
      "           {'committees': [{'api_uri': 'https://api.propublica.org/congress/v1/114/house/committees/HSAG.json',\n",
      "                            'begin_date': '',\n",
      "                            'code': 'HSAG',\n",
      "                            'end_date': '2017-01-03',\n",
      "                            'name': 'Committee on Agriculture',\n",
      "                            'rank_in_party': 23,\n",
      "                            'subcommittees': []},\n",
      "                           {'api_uri': 'https://api.propublica.org/congress/v1/114/house/committees/HSSY.json',\n",
      "                            'begin_date': '',\n",
      "                            'code': 'HSSY',\n",
      "                            'end_date': '2017-01-03',\n",
      "                            'name': 'Committee on Science, Space, and '\n",
      "                                    'Technology',\n",
      "                            'rank_in_party': 20,\n",
      "                            'subcommittees': []},\n",
      "                           {'api_uri': 'https://api.propublica.org/congress/v1/114/house/committees/HSVR.json',\n",
      "                            'begin_date': '',\n",
      "                            'code': 'HSVR',\n",
      "                            'end_date': '2017-01-03',\n",
      "                            'name': \"Committee on Veterans' Affairs\",\n",
      "                            'rank_in_party': 10,\n",
      "                            'subcommittees': []}],\n",
      "            'details': {'at_large': False,\n",
      "                        'congress': '114',\n",
      "                        'district': '5',\n",
      "                        'end_date': '2017-01-03',\n",
      "                        'party': 'R',\n",
      "                        'seniority': '2',\n",
      "                        'start_date': '2015-01-06',\n",
      "                        'state': 'LA'},\n",
      "            'voting': {'cosponsored': 208,\n",
      "                       'missed_votes': 2,\n",
      "                       'sponsored': 16,\n",
      "                       'total_votes': 1325}}]}\n"
     ]
    }
   ],
   "source": [
    "pprint(sample)"
   ]
  },
  {
   "cell_type": "markdown",
   "metadata": {},
   "source": [
    "## Get Number of Current Congress"
   ]
  },
  {
   "cell_type": "code",
   "execution_count": null,
   "metadata": {},
   "outputs": [],
   "source": [
    "from datetime import datetime"
   ]
  },
  {
   "cell_type": "code",
   "execution_count": null,
   "metadata": {},
   "outputs": [],
   "source": [
    "# Year of 1st Congress\n",
    "begin = 1789\n",
    "\n",
    "# Determine year to use\n",
    "now = datetime.now().date()\n",
    "if now.day >= 20:\n",
    "    year = now.year\n",
    "else:\n",
    "    year = now.year - 1\n",
    "    \n",
    "# Determine current congress\n",
    "current_cong_num = int(1 + (year - begin)/2)"
   ]
  },
  {
   "cell_type": "code",
   "execution_count": null,
   "metadata": {
    "scrolled": false
   },
   "outputs": [],
   "source": [
    "print('Current Congress:', current_cong_num)"
   ]
  },
  {
   "cell_type": "code",
   "execution_count": null,
   "metadata": {},
   "outputs": [],
   "source": [
    "# House members of current congress\n",
    "current_members = get_house_ids(current_cong_num)\n",
    "members = [ get_member_data(mem) for mem in current_members ]"
   ]
  },
  {
   "cell_type": "code",
   "execution_count": null,
   "metadata": {
    "scrolled": true
   },
   "outputs": [],
   "source": [
    "member = members[0]\n",
    "sample_dict(member)"
   ]
  },
  {
   "cell_type": "code",
   "execution_count": null,
   "metadata": {},
   "outputs": [],
   "source": [
    "# Database connection and authentication\n",
    "import firebase_admin\n",
    "from firebase_admin import credentials, firestore\n",
    "from google.cloud.firestore_v1.batch import WriteBatch"
   ]
  },
  {
   "cell_type": "code",
   "execution_count": null,
   "metadata": {},
   "outputs": [],
   "source": [
    "GCP_AUTH_PATH = config.get('firebase', 'GCP_AUTH_PATH')\n",
    "cred = credentials.Certificate(GCP_AUTH_PATH)\n",
    "app = firebase_admin.initialize_app(cred)"
   ]
  },
  {
   "cell_type": "code",
   "execution_count": null,
   "metadata": {},
   "outputs": [],
   "source": [
    "# Database\n",
    "db = firestore.client()"
   ]
  },
  {
   "cell_type": "code",
   "execution_count": null,
   "metadata": {},
   "outputs": [],
   "source": [
    "def batch_insert_members(members, db):\n",
    "    '''\n",
    "    Function to batch insert house members into database\n",
    "    '''\n",
    "    \n",
    "    batch = db.batch()\n",
    "    for member in members:\n",
    "        _id = member['member_id']\n",
    "        insert_ref = db.collection(\"reps\").document(f\"{_id}\")\n",
    "        batch.set(insert_ref, member)\n",
    "    \n",
    "    batch.commit()\n",
    "    \n",
    "    return len(batch.write_results)"
   ]
  },
  {
   "cell_type": "code",
   "execution_count": null,
   "metadata": {},
   "outputs": [],
   "source": [
    "batch_insert_members(members, db)"
   ]
  },
  {
   "cell_type": "code",
   "execution_count": null,
   "metadata": {},
   "outputs": [],
   "source": [
    "rep_ref = db.collection('reps').document('A000370')\n",
    "result = rep_ref.get().to_dict()"
   ]
  },
  {
   "cell_type": "code",
   "execution_count": null,
   "metadata": {
    "scrolled": false
   },
   "outputs": [],
   "source": [
    "result['roles'].sort(key=lambda x: x['next_election'], reverse=True)"
   ]
  },
  {
   "cell_type": "code",
   "execution_count": null,
   "metadata": {
    "scrolled": true
   },
   "outputs": [],
   "source": [
    "# House members of the 116th congress (2018-2020)\n",
    "ids_116 = get_house_ids(116)\n",
    "members_116 = [ get_member_data(mem) for mem in ids_116 ]"
   ]
  },
  {
   "cell_type": "code",
   "execution_count": null,
   "metadata": {},
   "outputs": [],
   "source": [
    "def get_roll_call_vote(congress, session_number, roll_call_num):\n",
    "    query = f'{congress}/house/sessions/{session_number}/votes/{roll_call_num}.json'\n",
    "    call_string = API_ROOT + query\n",
    "    r = requests.get(call_string, headers=header)\n",
    "    result = r.json()['results']['votes']\n",
    "    \n",
    "    return result"
   ]
  }
 ],
 "metadata": {
  "kernelspec": {
   "display_name": "db-env",
   "language": "python",
   "name": "db-env"
  },
  "language_info": {
   "codemirror_mode": {
    "name": "ipython",
    "version": 3
   },
   "file_extension": ".py",
   "mimetype": "text/x-python",
   "name": "python",
   "nbconvert_exporter": "python",
   "pygments_lexer": "ipython3",
   "version": "3.7.7"
  }
 },
 "nbformat": 4,
 "nbformat_minor": 2
}
