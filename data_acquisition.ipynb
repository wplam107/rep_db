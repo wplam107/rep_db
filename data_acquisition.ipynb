{
 "cells": [
  {
   "cell_type": "markdown",
   "metadata": {},
   "source": [
    "# Data Acquisition Notebook\n",
    "- Notebook detailing ```database.py```\n",
    "- Database will hold 2 most recent congresses"
   ]
  },
  {
   "cell_type": "markdown",
   "metadata": {},
   "source": [
    "## ProPublica Data\n",
    "- Functions and parameters"
   ]
  },
  {
   "cell_type": "code",
   "execution_count": 1,
   "metadata": {},
   "outputs": [],
   "source": [
    "# API Key\n",
    "import configparser\n",
    "\n",
    "# Read/Scrape data\n",
    "import requests\n",
    "import json\n",
    "import re\n",
    "from bs4 import BeautifulSoup"
   ]
  },
  {
   "cell_type": "code",
   "execution_count": 2,
   "metadata": {},
   "outputs": [],
   "source": [
    "config = configparser.ConfigParser()\n",
    "config.read('auth/config.ini')\n",
    "PROPUBLICA_API_KEY = config.get('propublica', 'PROPUBLICA_API_KEY')"
   ]
  },
  {
   "cell_type": "code",
   "execution_count": 3,
   "metadata": {},
   "outputs": [],
   "source": [
    "API_ROOT = 'https://api.propublica.org/congress/v1/'\n",
    "header = {'X-API-Key': f'{PROPUBLICA_API_KEY}'}"
   ]
  },
  {
   "cell_type": "code",
   "execution_count": 4,
   "metadata": {},
   "outputs": [],
   "source": [
    "def get_house_ids(congress):\n",
    "    '''\n",
    "    Function to get house members' ProPublica ID by congress number\n",
    "    '''\n",
    "\n",
    "    call_string = API_ROOT + f'{congress}/house/members.json'\n",
    "    r = requests.get(call_string, headers=header)\n",
    "    result = r.json()['results'][0]['members']\n",
    "    member_ids = [ member['id'] for member in result ]\n",
    "    \n",
    "    return member_ids"
   ]
  },
  {
   "cell_type": "code",
   "execution_count": 5,
   "metadata": {},
   "outputs": [],
   "source": [
    "def get_member_data(member):\n",
    "    '''\n",
    "    Function to get house member's data\n",
    "    '''\n",
    "    \n",
    "    call_string = API_ROOT + f'members/{member}.json'\n",
    "    r = requests.get(call_string, headers=header)\n",
    "    result = r.json()['results'][0]\n",
    "    \n",
    "    return result"
   ]
  },
  {
   "cell_type": "markdown",
   "metadata": {},
   "source": [
    "## Get Initial Congress and Clean Data/Select Features"
   ]
  },
  {
   "cell_type": "code",
   "execution_count": 16,
   "metadata": {},
   "outputs": [],
   "source": [
    "# House members of the 116th Congress (2018-2020)\n",
    "ids_116 = get_house_ids(116)\n",
    "members_116 = [ get_member_data(member) for member in ids_116 ]"
   ]
  },
  {
   "cell_type": "code",
   "execution_count": 55,
   "metadata": {},
   "outputs": [],
   "source": [
    "from pprint import pprint\n",
    "from datetime import datetime"
   ]
  },
  {
   "cell_type": "code",
   "execution_count": 144,
   "metadata": {},
   "outputs": [],
   "source": [
    "def to_date(s):\n",
    "    date = datetime.strptime(s, '%Y-%m-%d')\n",
    "    return date"
   ]
  },
  {
   "cell_type": "code",
   "execution_count": 145,
   "metadata": {},
   "outputs": [],
   "source": [
    "def member_cleaner(member):\n",
    "    '''\n",
    "    Function to keep relevent information on congress member\n",
    "    '''\n",
    "    \n",
    "    roles = member['roles']\n",
    "    roles.sort(key=lambda x: x['congress'], reverse=True)\n",
    "    fec_id = roles[0]['fec_candidate_id']\n",
    "    \n",
    "    mem_dict = {\n",
    "        '_id': member['id'],\n",
    "        'bio': {\n",
    "            'first_name': member['first_name'],\n",
    "            'middle_name': member['middle_name'],\n",
    "            'last_name': member['last_name'],\n",
    "            'dob': to_date(member['date_of_birth']),\n",
    "            'gender': member['gender'],\n",
    "            'current_party': member['current_party'],\n",
    "        },\n",
    "        'activity': {\n",
    "            'last_updated': to_date(member['last_updated'][:10]), # Ignore time\n",
    "            'in_office': member['in_office'],\n",
    "        },\n",
    "        'other_ids': {\n",
    "            'google_id': member['google_entity_id'],\n",
    "            'votesmart_id': member['votesmart_id'],\n",
    "            'govtrack_id': member['govtrack_id'],\n",
    "            'cspan_id': member['cspan_id'],\n",
    "            'crp_id': member['crp_id'],\n",
    "            'fec_id': fec_id,\n",
    "        },\n",
    "        'roles': member['roles'],   \n",
    "    }\n",
    "    \n",
    "    return mem_dict"
   ]
  },
  {
   "cell_type": "markdown",
   "metadata": {},
   "source": [
    "## Inserting into Google Firestore"
   ]
  },
  {
   "cell_type": "code",
   "execution_count": 10,
   "metadata": {},
   "outputs": [],
   "source": [
    "# Database connection and authentication\n",
    "import firebase_admin\n",
    "from firebase_admin import credentials, firestore\n",
    "from google.cloud.firestore_v1.batch import WriteBatch"
   ]
  },
  {
   "cell_type": "code",
   "execution_count": 11,
   "metadata": {},
   "outputs": [],
   "source": [
    "GCP_AUTH_PATH = config.get('firebase', 'GCP_AUTH_PATH')\n",
    "cred = credentials.Certificate(GCP_AUTH_PATH)\n",
    "app = firebase_admin.initialize_app(cred)"
   ]
  },
  {
   "cell_type": "code",
   "execution_count": 138,
   "metadata": {},
   "outputs": [],
   "source": [
    "# Database\n",
    "db = firestore.client()"
   ]
  },
  {
   "cell_type": "code",
   "execution_count": 154,
   "metadata": {},
   "outputs": [],
   "source": [
    "members_insert = map(member_cleaner, members_116)"
   ]
  },
  {
   "cell_type": "code",
   "execution_count": 155,
   "metadata": {},
   "outputs": [],
   "source": [
    "def batch_insert_members(members, db):\n",
    "    '''\n",
    "    Function to batch insert house members into database\n",
    "    '''\n",
    "    \n",
    "    batch = db.batch()\n",
    "    members_len = 0\n",
    "    for member in members:\n",
    "        _id = member['_id']\n",
    "        insert_ref = db.collection(\"reps\").document(f\"{_id}\")\n",
    "        batch.set(insert_ref, member)\n",
    "        members_len += 1\n",
    "            \n",
    "    batch.commit()\n",
    "    \n",
    "    batch_len = len(batch.write_results)\n",
    "    f_string = f'Batch Length: {batch_len}, Members Length: {members_len}'\n",
    "    assert batch_len == members_len, f_string\n",
    "    \n",
    "    return f'{batch_len} members inserted'"
   ]
  },
  {
   "cell_type": "code",
   "execution_count": 156,
   "metadata": {},
   "outputs": [
    {
     "data": {
      "text/plain": [
       "'451 members inserted'"
      ]
     },
     "execution_count": 156,
     "metadata": {},
     "output_type": "execute_result"
    }
   ],
   "source": [
    "batch_insert_members(members_insert, db)"
   ]
  },
  {
   "cell_type": "markdown",
   "metadata": {},
   "source": [
    "## Creating Query Functions\n",
    "- Google Firestore requires composite indices to be created when query across multiple fields."
   ]
  },
  {
   "cell_type": "code",
   "execution_count": 159,
   "metadata": {},
   "outputs": [],
   "source": [
    "reps_ref = db.collection('reps')"
   ]
  },
  {
   "cell_type": "code",
   "execution_count": null,
   "metadata": {},
   "outputs": [],
   "source": [
    "reps_red.document('')"
   ]
  },
  {
   "cell_type": "code",
   "execution_count": 161,
   "metadata": {},
   "outputs": [],
   "source": [
    "date = datetime(1980, 1, 1)"
   ]
  },
  {
   "cell_type": "code",
   "execution_count": 162,
   "metadata": {},
   "outputs": [
    {
     "data": {
      "text/plain": [
       "datetime.datetime(1980, 1, 1, 0, 0)"
      ]
     },
     "execution_count": 162,
     "metadata": {},
     "output_type": "execute_result"
    }
   ],
   "source": [
    "date"
   ]
  },
  {
   "cell_type": "code",
   "execution_count": 177,
   "metadata": {},
   "outputs": [],
   "source": [
    "result = reps_ref.where('bio.dob', '>=', date).order_by('bio.dob').stream()"
   ]
  },
  {
   "cell_type": "code",
   "execution_count": 178,
   "metadata": {},
   "outputs": [],
   "source": [
    "young_reps = [ r.to_dict()['bio'] for r in result ]"
   ]
  },
  {
   "cell_type": "code",
   "execution_count": 179,
   "metadata": {},
   "outputs": [
    {
     "data": {
      "text/plain": [
       "[{'gender': 'M',\n",
       "  'current_party': 'R',\n",
       "  'first_name': 'Lee',\n",
       "  'dob': DatetimeWithNanoseconds(1980, 1, 30, 0, 0, tzinfo=<UTC>),\n",
       "  'last_name': 'Zeldin',\n",
       "  'middle_name': None},\n",
       " {'current_party': 'I',\n",
       "  'gender': 'M',\n",
       "  'middle_name': None,\n",
       "  'dob': DatetimeWithNanoseconds(1980, 4, 18, 0, 0, tzinfo=<UTC>),\n",
       "  'last_name': 'Amash',\n",
       "  'first_name': 'Justin'},\n",
       " {'dob': DatetimeWithNanoseconds(1980, 5, 22, 0, 0, tzinfo=<UTC>),\n",
       "  'gender': 'F',\n",
       "  'middle_name': None,\n",
       "  'first_name': 'Sharice',\n",
       "  'last_name': 'Davids',\n",
       "  'current_party': 'D'},\n",
       " {'last_name': 'Pappas',\n",
       "  'current_party': 'D',\n",
       "  'gender': 'M',\n",
       "  'dob': DatetimeWithNanoseconds(1980, 6, 4, 0, 0, tzinfo=<UTC>),\n",
       "  'middle_name': None,\n",
       "  'first_name': 'Chris'},\n",
       " {'gender': 'M',\n",
       "  'dob': DatetimeWithNanoseconds(1980, 6, 16, 0, 0, tzinfo=<UTC>),\n",
       "  'first_name': 'Jason',\n",
       "  'middle_name': '',\n",
       "  'current_party': 'R',\n",
       "  'last_name': 'Smith'},\n",
       " {'dob': DatetimeWithNanoseconds(1980, 7, 10, 0, 0, tzinfo=<UTC>),\n",
       "  'current_party': 'R',\n",
       "  'middle_name': None,\n",
       "  'gender': 'M',\n",
       "  'last_name': 'Mast',\n",
       "  'first_name': 'Brian'},\n",
       " {'first_name': 'Joseph',\n",
       "  'last_name': 'Kennedy',\n",
       "  'current_party': 'D',\n",
       "  'gender': 'M',\n",
       "  'dob': DatetimeWithNanoseconds(1980, 10, 4, 0, 0, tzinfo=<UTC>),\n",
       "  'middle_name': 'P.'},\n",
       " {'dob': DatetimeWithNanoseconds(1980, 11, 16, 0, 0, tzinfo=<UTC>),\n",
       "  'current_party': 'D',\n",
       "  'middle_name': None,\n",
       "  'gender': 'M',\n",
       "  'last_name': 'Swalwell',\n",
       "  'first_name': 'Eric'},\n",
       " {'last_name': 'San Nicolas',\n",
       "  'dob': DatetimeWithNanoseconds(1981, 1, 30, 0, 0, tzinfo=<UTC>),\n",
       "  'first_name': 'Michael',\n",
       "  'middle_name': None,\n",
       "  'current_party': 'D',\n",
       "  'gender': 'M'},\n",
       " {'middle_name': None,\n",
       "  'current_party': 'R',\n",
       "  'gender': 'M',\n",
       "  'last_name': 'Steil',\n",
       "  'first_name': 'Bryan',\n",
       "  'dob': DatetimeWithNanoseconds(1981, 3, 30, 0, 0, tzinfo=<UTC>)},\n",
       " {'last_name': 'Gabbard',\n",
       "  'first_name': 'Tulsi',\n",
       "  'gender': 'F',\n",
       "  'middle_name': None,\n",
       "  'dob': DatetimeWithNanoseconds(1981, 4, 12, 0, 0, tzinfo=<UTC>),\n",
       "  'current_party': 'D'},\n",
       " {'gender': 'F',\n",
       "  'middle_name': None,\n",
       "  'first_name': 'Ilhan',\n",
       "  'last_name': 'Omar',\n",
       "  'dob': DatetimeWithNanoseconds(1981, 10, 4, 0, 0, tzinfo=<UTC>),\n",
       "  'current_party': 'D'},\n",
       " {'last_name': 'Gaetz',\n",
       "  'gender': 'M',\n",
       "  'current_party': 'R',\n",
       "  'middle_name': None,\n",
       "  'first_name': 'Matt',\n",
       "  'dob': DatetimeWithNanoseconds(1982, 5, 7, 0, 0, tzinfo=<UTC>)},\n",
       " {'first_name': 'Joe',\n",
       "  'gender': 'M',\n",
       "  'current_party': 'D',\n",
       "  'middle_name': None,\n",
       "  'last_name': 'Cunningham',\n",
       "  'dob': DatetimeWithNanoseconds(1982, 5, 26, 0, 0, tzinfo=<UTC>)},\n",
       " {'current_party': 'D',\n",
       "  'first_name': 'Andy',\n",
       "  'dob': DatetimeWithNanoseconds(1982, 7, 12, 0, 0, tzinfo=<UTC>),\n",
       "  'middle_name': None,\n",
       "  'last_name': 'Kim',\n",
       "  'gender': 'M'},\n",
       " {'middle_name': None,\n",
       "  'dob': DatetimeWithNanoseconds(1982, 7, 25, 0, 0, tzinfo=<UTC>),\n",
       "  'first_name': 'Jared',\n",
       "  'last_name': 'Golden',\n",
       "  'gender': 'M',\n",
       "  'current_party': 'D'},\n",
       " {'middle_name': None,\n",
       "  'first_name': 'Lance',\n",
       "  'dob': DatetimeWithNanoseconds(1982, 12, 1, 0, 0, tzinfo=<UTC>),\n",
       "  'last_name': 'Gooden',\n",
       "  'current_party': 'R',\n",
       "  'gender': 'M'},\n",
       " {'first_name': 'Colin',\n",
       "  'gender': 'M',\n",
       "  'last_name': 'Allred',\n",
       "  'dob': DatetimeWithNanoseconds(1983, 4, 15, 0, 0, tzinfo=<UTC>),\n",
       "  'current_party': 'D',\n",
       "  'middle_name': None},\n",
       " {'gender': 'M',\n",
       "  'current_party': 'R',\n",
       "  'last_name': 'Reschenthaler',\n",
       "  'first_name': 'Guy',\n",
       "  'middle_name': None,\n",
       "  'dob': DatetimeWithNanoseconds(1983, 4, 17, 0, 0, tzinfo=<UTC>)},\n",
       " {'last_name': 'Stevens',\n",
       "  'first_name': 'Haley',\n",
       "  'middle_name': '',\n",
       "  'gender': 'F',\n",
       "  'dob': DatetimeWithNanoseconds(1983, 6, 24, 0, 0, tzinfo=<UTC>),\n",
       "  'current_party': 'D'},\n",
       " {'first_name': 'Trey',\n",
       "  'last_name': 'Hollingsworth',\n",
       "  'dob': DatetimeWithNanoseconds(1983, 9, 12, 0, 0, tzinfo=<UTC>),\n",
       "  'middle_name': None,\n",
       "  'current_party': 'R',\n",
       "  'gender': 'M'},\n",
       " {'current_party': 'R',\n",
       "  'middle_name': None,\n",
       "  'first_name': 'Mike',\n",
       "  'gender': 'M',\n",
       "  'last_name': 'Gallagher',\n",
       "  'dob': DatetimeWithNanoseconds(1984, 3, 3, 0, 0, tzinfo=<UTC>)},\n",
       " {'gender': 'M',\n",
       "  'dob': DatetimeWithNanoseconds(1984, 3, 14, 0, 0, tzinfo=<UTC>),\n",
       "  'first_name': 'Dan',\n",
       "  'current_party': 'R',\n",
       "  'middle_name': None,\n",
       "  'last_name': 'Crenshaw'},\n",
       " {'current_party': 'R',\n",
       "  'first_name': 'William',\n",
       "  'dob': DatetimeWithNanoseconds(1984, 4, 30, 0, 0, tzinfo=<UTC>),\n",
       "  'middle_name': None,\n",
       "  'gender': 'M',\n",
       "  'last_name': 'Timmons'},\n",
       " {'current_party': 'D',\n",
       "  'middle_name': None,\n",
       "  'first_name': 'Joe',\n",
       "  'last_name': 'Neguse',\n",
       "  'dob': DatetimeWithNanoseconds(1984, 5, 13, 0, 0, tzinfo=<UTC>),\n",
       "  'gender': 'M'},\n",
       " {'middle_name': None,\n",
       "  'gender': 'M',\n",
       "  'dob': DatetimeWithNanoseconds(1984, 6, 27, 0, 0, tzinfo=<UTC>),\n",
       "  'last_name': 'Lamb',\n",
       "  'first_name': 'Conor',\n",
       "  'current_party': 'D'},\n",
       " {'last_name': 'Stefanik',\n",
       "  'gender': 'F',\n",
       "  'middle_name': None,\n",
       "  'first_name': 'Elise',\n",
       "  'dob': DatetimeWithNanoseconds(1984, 7, 2, 0, 0, tzinfo=<UTC>),\n",
       "  'current_party': 'R'},\n",
       " {'last_name': 'Gonzalez',\n",
       "  'dob': DatetimeWithNanoseconds(1984, 9, 19, 0, 0, tzinfo=<UTC>),\n",
       "  'first_name': 'Anthony',\n",
       "  'middle_name': None,\n",
       "  'current_party': 'R',\n",
       "  'gender': 'M'},\n",
       " {'last_name': 'Torres Small',\n",
       "  'current_party': 'D',\n",
       "  'gender': 'F',\n",
       "  'dob': DatetimeWithNanoseconds(1984, 11, 15, 0, 0, tzinfo=<UTC>),\n",
       "  'middle_name': None,\n",
       "  'first_name': 'Xochitl'},\n",
       " {'first_name': 'Josh',\n",
       "  'dob': DatetimeWithNanoseconds(1986, 8, 1, 0, 0, tzinfo=<UTC>),\n",
       "  'current_party': 'D',\n",
       "  'last_name': 'Harder',\n",
       "  'gender': 'M',\n",
       "  'middle_name': None},\n",
       " {'middle_name': None,\n",
       "  'current_party': 'D',\n",
       "  'last_name': 'Underwood',\n",
       "  'gender': 'F',\n",
       "  'dob': DatetimeWithNanoseconds(1986, 10, 4, 0, 0, tzinfo=<UTC>),\n",
       "  'first_name': 'Lauren'},\n",
       " {'middle_name': None,\n",
       "  'gender': 'M',\n",
       "  'current_party': 'D',\n",
       "  'dob': DatetimeWithNanoseconds(1986, 11, 28, 0, 0, tzinfo=<UTC>),\n",
       "  'first_name': 'Max',\n",
       "  'last_name': 'Rose'},\n",
       " {'dob': DatetimeWithNanoseconds(1987, 8, 25, 0, 0, tzinfo=<UTC>),\n",
       "  'gender': 'F',\n",
       "  'middle_name': None,\n",
       "  'last_name': 'Hill',\n",
       "  'current_party': 'D',\n",
       "  'first_name': 'Katie'},\n",
       " {'dob': DatetimeWithNanoseconds(1988, 12, 27, 0, 0, tzinfo=<UTC>),\n",
       "  'first_name': 'Abby',\n",
       "  'middle_name': None,\n",
       "  'last_name': 'Finkenauer',\n",
       "  'gender': 'F',\n",
       "  'current_party': 'D'},\n",
       " {'last_name': 'Ocasio-Cortez',\n",
       "  'first_name': 'Alexandria',\n",
       "  'gender': 'F',\n",
       "  'current_party': 'D',\n",
       "  'middle_name': None,\n",
       "  'dob': DatetimeWithNanoseconds(1989, 10, 13, 0, 0, tzinfo=<UTC>)}]"
      ]
     },
     "execution_count": 179,
     "metadata": {},
     "output_type": "execute_result"
    }
   ],
   "source": [
    "young_reps"
   ]
  },
  {
   "cell_type": "code",
   "execution_count": 158,
   "metadata": {},
   "outputs": [],
   "source": [
    "def where_(ref, field, operator, value):\n",
    "    ref = ref.where(field, operator, value)\n",
    "    return ref"
   ]
  },
  {
   "cell_type": "code",
   "execution_count": null,
   "metadata": {},
   "outputs": [],
   "source": [
    "def order_by_(ref, field):\n",
    "    ref = ref.order_by(field)\n",
    "    return"
   ]
  },
  {
   "cell_type": "code",
   "execution_count": 109,
   "metadata": {},
   "outputs": [],
   "source": [
    "result = query('reps', 'bio.gender', '==', 'F')"
   ]
  },
  {
   "cell_type": "code",
   "execution_count": 111,
   "metadata": {},
   "outputs": [],
   "source": [
    "result = result.stream()"
   ]
  },
  {
   "cell_type": "code",
   "execution_count": 115,
   "metadata": {},
   "outputs": [],
   "source": [
    "a = next(result)"
   ]
  },
  {
   "cell_type": "code",
   "execution_count": 119,
   "metadata": {},
   "outputs": [],
   "source": [
    "a = a.to_dict()"
   ]
  },
  {
   "cell_type": "code",
   "execution_count": 142,
   "metadata": {},
   "outputs": [],
   "source": [
    "b = datetime.date(a['activity']['last_updated'])"
   ]
  },
  {
   "cell_type": "code",
   "execution_count": 143,
   "metadata": {},
   "outputs": [
    {
     "data": {
      "text/plain": [
       "datetime.date(2021, 1, 28)"
      ]
     },
     "execution_count": 143,
     "metadata": {},
     "output_type": "execute_result"
    }
   ],
   "source": [
    "b"
   ]
  },
  {
   "cell_type": "code",
   "execution_count": 70,
   "metadata": {},
   "outputs": [],
   "source": [
    "reps_ref = db.collection('reps')\n",
    "query = reps_ref.where('bio.current_party', '==', 'D').order_by('dob').limit(10).stream()"
   ]
  },
  {
   "cell_type": "markdown",
   "metadata": {},
   "source": [
    "## Get Number of Current Congress"
   ]
  },
  {
   "cell_type": "code",
   "execution_count": null,
   "metadata": {},
   "outputs": [],
   "source": [
    "# Year of 1st Congress\n",
    "begin = 1789\n",
    "\n",
    "# Determine year to use\n",
    "now = datetime.now().date()\n",
    "if now.day >= 20:\n",
    "    year = now.year\n",
    "else:\n",
    "    year = now.year - 1\n",
    "    \n",
    "# Determine current congress\n",
    "current_cong_num = int(1 + (year - begin)/2)"
   ]
  },
  {
   "cell_type": "code",
   "execution_count": null,
   "metadata": {
    "scrolled": false
   },
   "outputs": [],
   "source": [
    "print('Current Congress:', current_cong_num)"
   ]
  },
  {
   "cell_type": "code",
   "execution_count": null,
   "metadata": {},
   "outputs": [],
   "source": [
    "# House members of current congress\n",
    "current_members = get_house_ids(current_cong_num)\n",
    "members = [ get_member_data(mem) for mem in current_members ]"
   ]
  },
  {
   "cell_type": "code",
   "execution_count": null,
   "metadata": {
    "scrolled": true
   },
   "outputs": [],
   "source": [
    "member = members[0]\n",
    "sample_dict(member)"
   ]
  },
  {
   "cell_type": "code",
   "execution_count": null,
   "metadata": {},
   "outputs": [],
   "source": [
    "def get_roll_call_vote(congress, session_number, roll_call_num):\n",
    "    query = f'{congress}/house/sessions/{session_number}/votes/{roll_call_num}.json'\n",
    "    call_string = API_ROOT + query\n",
    "    r = requests.get(call_string, headers=header)\n",
    "    result = r.json()['results']['votes']\n",
    "    \n",
    "    return result"
   ]
  }
 ],
 "metadata": {
  "kernelspec": {
   "display_name": "db-env",
   "language": "python",
   "name": "db-env"
  },
  "language_info": {
   "codemirror_mode": {
    "name": "ipython",
    "version": 3
   },
   "file_extension": ".py",
   "mimetype": "text/x-python",
   "name": "python",
   "nbconvert_exporter": "python",
   "pygments_lexer": "ipython3",
   "version": "3.7.7"
  }
 },
 "nbformat": 4,
 "nbformat_minor": 2
}
