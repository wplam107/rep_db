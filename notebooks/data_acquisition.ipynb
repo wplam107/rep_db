{
 "cells": [
  {
   "cell_type": "markdown",
   "id": "brilliant-metallic",
   "metadata": {},
   "source": [
    "# Data Acquisition Notebook\n",
    "- Notebook for the acquisition of US House of Representatives biographical data and the transformations at each step."
   ]
  },
  {
   "cell_type": "markdown",
   "id": "parallel-ballet",
   "metadata": {},
   "source": [
    "## Authentication and Configuration\n",
    "- Utilizing a ```config.ini``` file and ```Auth``` class to configure and authenticate.\n",
    "- Functions from ```data_acq_functions.py```.\n",
    "- Dependencies: ```configparser```, ```pymongo```, ```requests```, ```functools```, ```re```, ```mediawiki```, and ```googleapiclient```"
   ]
  },
  {
   "cell_type": "code",
   "execution_count": 1,
   "id": "young-walter",
   "metadata": {
    "ExecuteTime": {
     "end_time": "2021-03-07T19:58:50.372124Z",
     "start_time": "2021-03-07T19:58:49.780396Z"
    }
   },
   "outputs": [],
   "source": [
    "import data_acq_functions as daf\n",
    "from data_acq_functions import Auth"
   ]
  },
  {
   "cell_type": "code",
   "execution_count": 2,
   "id": "innocent-facing",
   "metadata": {
    "ExecuteTime": {
     "end_time": "2021-03-07T19:58:50.378756Z",
     "start_time": "2021-03-07T19:58:50.374734Z"
    }
   },
   "outputs": [],
   "source": [
    "# Config ProPublica API\n",
    "config = Auth('../database-dev/auth/config.ini')\n",
    "PP_ROOT, PP_HEADER = config.config_propublica()"
   ]
  },
  {
   "cell_type": "markdown",
   "id": "related-execution",
   "metadata": {},
   "source": [
    "## Acquiring ProPublica Representative Data\n",
    "- Primary IDs based on [US Congress Bioguide IDs](https://bioguide.congress.gov/).\n",
    "- Return representative dictionaries with minor cleaning."
   ]
  },
  {
   "cell_type": "code",
   "execution_count": 3,
   "id": "inside-collective",
   "metadata": {
    "ExecuteTime": {
     "end_time": "2021-03-07T19:58:52.378431Z",
     "start_time": "2021-03-07T19:58:52.044134Z"
    }
   },
   "outputs": [],
   "source": [
    "# Retrieve all 117th House IDs\n",
    "house_ids = daf.get_house_ids(117, PP_ROOT, PP_HEADER)"
   ]
  },
  {
   "cell_type": "code",
   "execution_count": 4,
   "id": "perfect-reserve",
   "metadata": {
    "ExecuteTime": {
     "end_time": "2021-03-07T19:58:52.817541Z",
     "start_time": "2021-03-07T19:58:52.813591Z"
    }
   },
   "outputs": [
    {
     "name": "stdout",
     "output_type": "stream",
     "text": [
      "A000370\n"
     ]
    }
   ],
   "source": [
    "# Sample Bioguide ID\n",
    "print(house_ids[0])"
   ]
  },
  {
   "cell_type": "code",
   "execution_count": 5,
   "id": "corrected-maximum",
   "metadata": {
    "ExecuteTime": {
     "end_time": "2021-03-07T19:58:53.306410Z",
     "start_time": "2021-03-07T19:58:53.227973Z"
    }
   },
   "outputs": [
    {
     "name": "stdout",
     "output_type": "stream",
     "text": [
      "_id: A000370\n",
      "first_name: Alma\n",
      "middle_name: \n",
      "last_name: Adams\n",
      "dob: 1946-05-27\n",
      "gender: F\n",
      "current_party: D\n",
      "state: NC\n",
      "google_id: /m/02b45d\n",
      "votesmart_id: 5935\n"
     ]
    }
   ],
   "source": [
    "# Sample - Retrieve ProPublica data for representative from US House\n",
    "sample_rep = daf.get_member(house_ids[0], PP_ROOT, PP_HEADER)\n",
    "for k, v in list(sample_rep.items())[:10]: # First 10 key-value pairs\n",
    "    print(f'{k}: {v}')"
   ]
  },
  {
   "cell_type": "markdown",
   "id": "eight-diesel",
   "metadata": {},
   "source": [
    "## Retrieving Wikipedia URLs\n",
    "- Error logging wrapper (```@error_logging```) was built to wrap functions to group representatives by errors during data pulls.\n",
    "- ```googleapiclient.errors.HttpError```: Missing or wrong Google Entity IDs from the ProPublica data pull.  Initiate function pulling the ID through a Google Knowledge Graph search.\n",
    "- ```KeyError```: Missing Wikipedia URL in Google Knowledge Graph.  Initiate function pulling the ID through MediaWiki search."
   ]
  },
  {
   "cell_type": "code",
   "execution_count": 6,
   "id": "brutal-chuck",
   "metadata": {
    "ExecuteTime": {
     "end_time": "2021-03-07T19:58:54.904580Z",
     "start_time": "2021-03-07T19:58:54.691516Z"
    }
   },
   "outputs": [],
   "source": [
    "# Config Google API Services and MediaWiki\n",
    "entities = config.config_gkg()\n",
    "wiki = config.config_wiki()"
   ]
  },
  {
   "cell_type": "code",
   "execution_count": 11,
   "id": "american-better",
   "metadata": {
    "ExecuteTime": {
     "end_time": "2021-03-07T20:15:29.740689Z",
     "start_time": "2021-03-07T20:15:29.439782Z"
    }
   },
   "outputs": [
    {
     "name": "stdout",
     "output_type": "stream",
     "text": [
      "Alma Adams\n",
      "https://en.wikipedia.org/wiki/Alma_Adams\n"
     ]
    }
   ],
   "source": [
    "# Sample - Retrive Wikipedia URL for representative, no errors\n",
    "sample_rep = daf.get_rep_data(house_ids[0], PP_ROOT, PP_HEADER, entities, wiki)\n",
    "print(sample_rep['first_name'], sample_rep['last_name'])\n",
    "print(sample_rep['wiki_url'])"
   ]
  },
  {
   "cell_type": "code",
   "execution_count": 12,
   "id": "muslim-explosion",
   "metadata": {
    "ExecuteTime": {
     "end_time": "2021-03-07T20:15:36.237676Z",
     "start_time": "2021-03-07T20:15:36.068545Z"
    }
   },
   "outputs": [
    {
     "name": "stdout",
     "output_type": "stream",
     "text": [
      "Angie Craig\n",
      "https://en.wikipedia.org/wiki/Angie_Craig\n"
     ]
    }
   ],
   "source": [
    "# Sample - Initially missing Google Entity ID in ProPublica data\n",
    "sample_rep = daf.get_rep_data('C001119', PP_ROOT, PP_HEADER, entities, wiki)\n",
    "print(sample_rep['first_name'], sample_rep['last_name'])\n",
    "print(sample_rep['wiki_url'])"
   ]
  },
  {
   "cell_type": "code",
   "execution_count": 13,
   "id": "conceptual-plate",
   "metadata": {
    "ExecuteTime": {
     "end_time": "2021-03-07T20:15:39.518289Z",
     "start_time": "2021-03-07T20:15:39.332224Z"
    }
   },
   "outputs": [
    {
     "name": "stdout",
     "output_type": "stream",
     "text": [
      "Debbie Dingell\n",
      "https://en.wikipedia.org/wiki/Debbie_Dingell\n"
     ]
    }
   ],
   "source": [
    "# Sample - Initially missing wikipedia URL in Google Knowledge Graph\n",
    "sample_rep = daf.get_rep_data('D000624', PP_ROOT, PP_HEADER, entities, wiki)\n",
    "print(sample_rep['first_name'], sample_rep['last_name'])\n",
    "print(sample_rep['wiki_url'])"
   ]
  },
  {
   "cell_type": "markdown",
   "id": "widespread-police",
   "metadata": {},
   "source": [
    "## Initial Database Population and Bulk Writes\n",
    "- A local MongoDB database was utilized to avoid write/read limits from cloud databases (Google Firestore, AWS RDS, etc.) and to allow data to be nested and stored in different formats."
   ]
  },
  {
   "cell_type": "code",
   "execution_count": 15,
   "id": "floating-istanbul",
   "metadata": {
    "ExecuteTime": {
     "end_time": "2021-03-07T20:22:15.536815Z",
     "start_time": "2021-03-07T20:22:15.531332Z"
    }
   },
   "outputs": [],
   "source": [
    "# Config local MongoDB\n",
    "db = config.config_mongodb()\n",
    "collection = db['reps']"
   ]
  },
  {
   "cell_type": "code",
   "execution_count": 18,
   "id": "entertaining-orchestra",
   "metadata": {
    "ExecuteTime": {
     "end_time": "2021-03-07T20:23:23.888744Z",
     "start_time": "2021-03-07T20:23:23.886079Z"
    }
   },
   "outputs": [],
   "source": [
    "# Bulk write insert statements\n",
    "# inserts = []\n",
    "# for member in members:\n",
    "#     data = get_rep_data(member, PP_ROOT, PP_HEADER, entities, wiki)\n",
    "#     inserts.append(InsertOne(data))"
   ]
  },
  {
   "cell_type": "code",
   "execution_count": 20,
   "id": "similar-utilization",
   "metadata": {
    "ExecuteTime": {
     "end_time": "2021-03-07T20:24:35.613720Z",
     "start_time": "2021-03-07T20:24:35.611015Z"
    }
   },
   "outputs": [],
   "source": [
    "# Bulk write to collection\n",
    "# result = collection.bulk_write(inserts)\n",
    "# print(result.bulk_api_result)"
   ]
  },
  {
   "cell_type": "code",
   "execution_count": null,
   "id": "tight-dayton",
   "metadata": {},
   "outputs": [],
   "source": []
  }
 ],
 "metadata": {
  "kernelspec": {
   "display_name": "rep-data-env",
   "language": "python",
   "name": "rep-data-env"
  },
  "language_info": {
   "codemirror_mode": {
    "name": "ipython",
    "version": 3
   },
   "file_extension": ".py",
   "mimetype": "text/x-python",
   "name": "python",
   "nbconvert_exporter": "python",
   "pygments_lexer": "ipython3",
   "version": "3.9.2"
  },
  "toc": {
   "base_numbering": 1,
   "nav_menu": {},
   "number_sections": false,
   "sideBar": true,
   "skip_h1_title": false,
   "title_cell": "Table of Contents",
   "title_sidebar": "Contents",
   "toc_cell": false,
   "toc_position": {},
   "toc_section_display": true,
   "toc_window_display": false
  }
 },
 "nbformat": 4,
 "nbformat_minor": 5
}
