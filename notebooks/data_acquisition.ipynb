{
 "cells": [
  {
   "cell_type": "markdown",
   "id": "brilliant-metallic",
   "metadata": {},
   "source": [
    "# Data Acquisition Notebook\n",
    "- **Data Sources: [ProPublica Congress API](https://www.propublica.org/datastore/api/propublica-congress-api), [Google Knowledge Graph](https://developers.google.com/knowledge-graph/libraries), [Wikipedia](https://www.wikipedia.org/), [VoteSmart](https://justfacts.votesmart.org/), [Center for Responsive Politics (OpenSecrets API)](https://www.opensecrets.org/open-data/api).**\n",
    "- Functions and transformations for acquisition of US House of Representatives biographical data."
   ]
  },
  {
   "cell_type": "markdown",
   "id": "juvenile-cosmetic",
   "metadata": {},
   "source": [
    "## Authentication and Configuration\n",
    "- Utilizing a ```config.ini``` file and ```Auth``` class to configure and authenticate.\n",
    "- Functions from ```data_acq_functions.py```.\n",
    "- Dependencies: ```configparser```, ```pymongo```, ```requests```, ```functools```, ```bs4```, ```re```, ```mediawiki```, and ```googleapiclient```"
   ]
  },
  {
   "cell_type": "code",
   "execution_count": 1,
   "id": "israeli-camel",
   "metadata": {
    "ExecuteTime": {
     "end_time": "2021-03-07T21:47:01.558495Z",
     "start_time": "2021-03-07T21:47:00.996115Z"
    }
   },
   "outputs": [],
   "source": [
    "import data_acq_functions as daf # Only aliased for the purposes of the notebook\n",
    "from data_acq_functions import Auth"
   ]
  },
  {
   "cell_type": "code",
   "execution_count": 2,
   "id": "entitled-observer",
   "metadata": {
    "ExecuteTime": {
     "end_time": "2021-03-07T21:47:01.566017Z",
     "start_time": "2021-03-07T21:47:01.561398Z"
    }
   },
   "outputs": [],
   "source": [
    "# Config ProPublica API\n",
    "config = Auth('../database-dev/auth/config.ini')\n",
    "PP_ROOT, PP_HEADER = config.config_propublica()"
   ]
  },
  {
   "cell_type": "markdown",
   "id": "radical-times",
   "metadata": {},
   "source": [
    "## Building Initial Database\n",
    "- ```build_db_script.py``` utilized to build database.\n",
    "\n",
    "### Acquiring ProPublica Representative Data\n",
    "- Utilizing [ProPublica Congress API](https://www.propublica.org/datastore/api/propublica-congress-api).\n",
    "- Primary IDs based on [US Congress Bioguide IDs](https://bioguide.congress.gov/).\n",
    "- Return representative dictionaries with minor cleaning."
   ]
  },
  {
   "cell_type": "code",
   "execution_count": 3,
   "id": "liked-generator",
   "metadata": {
    "ExecuteTime": {
     "end_time": "2021-03-07T21:47:01.858910Z",
     "start_time": "2021-03-07T21:47:01.568982Z"
    }
   },
   "outputs": [],
   "source": [
    "# Retrieve all 117th House IDs\n",
    "house_ids = daf.get_house_ids(117, PP_ROOT, PP_HEADER)"
   ]
  },
  {
   "cell_type": "code",
   "execution_count": 4,
   "id": "removable-cheese",
   "metadata": {
    "ExecuteTime": {
     "end_time": "2021-03-07T21:47:01.865186Z",
     "start_time": "2021-03-07T21:47:01.861834Z"
    }
   },
   "outputs": [
    {
     "name": "stdout",
     "output_type": "stream",
     "text": [
      "A000370\n"
     ]
    }
   ],
   "source": [
    "# Sample Bioguide ID\n",
    "print(house_ids[0])"
   ]
  },
  {
   "cell_type": "code",
   "execution_count": 5,
   "id": "secondary-choir",
   "metadata": {
    "ExecuteTime": {
     "end_time": "2021-03-07T21:47:01.944412Z",
     "start_time": "2021-03-07T21:47:01.867465Z"
    }
   },
   "outputs": [
    {
     "name": "stdout",
     "output_type": "stream",
     "text": [
      "_id: A000370\n",
      "first_name: Alma\n",
      "middle_name: \n",
      "last_name: Adams\n",
      "dob: 1946-05-27\n",
      "gender: F\n",
      "current_party: D\n",
      "state: NC\n",
      "google_id: /m/02b45d\n",
      "votesmart_id: 5935\n"
     ]
    }
   ],
   "source": [
    "# Sample - Retrieve ProPublica data for representative from US House\n",
    "sample_rep = daf.get_member(house_ids[0], PP_ROOT, PP_HEADER)\n",
    "for k, v in list(sample_rep.items())[:10]: # First 10 key-value pairs\n",
    "    print(f'{k}: {v}')"
   ]
  },
  {
   "cell_type": "markdown",
   "id": "dietary-graham",
   "metadata": {},
   "source": [
    "### Retrieving Wikipedia URLs\n",
    "- Utilizing [Google Knowledge Graph](https://developers.google.com/knowledge-graph/libraries) and [MediaWiki](https://github.com/barrust/mediawiki) to acquire Wikipedia page URLs of representatives.\n",
    "- Error logging wrapper (```@error_logging```) was built to wrap functions to group representatives by errors during data pulls.\n",
    "- ```googleapiclient.errors.HttpError```: Missing or wrong Google Entity IDs from the ProPublica data pull.  Initiate function pulling the ID through a Google Knowledge Graph search.\n",
    "- ```KeyError```: Missing Wikipedia URL in Google Knowledge Graph.  Initiate function pulling the ID through MediaWiki search."
   ]
  },
  {
   "cell_type": "code",
   "execution_count": 6,
   "id": "center-alabama",
   "metadata": {
    "ExecuteTime": {
     "end_time": "2021-03-07T21:47:02.137262Z",
     "start_time": "2021-03-07T21:47:01.946733Z"
    }
   },
   "outputs": [],
   "source": [
    "# Config Google API Services and MediaWiki\n",
    "entities = config.config_gkg()\n",
    "wiki = config.config_wiki()"
   ]
  },
  {
   "cell_type": "code",
   "execution_count": 7,
   "id": "serial-separation",
   "metadata": {
    "ExecuteTime": {
     "end_time": "2021-03-07T21:47:02.575187Z",
     "start_time": "2021-03-07T21:47:02.140335Z"
    }
   },
   "outputs": [
    {
     "name": "stdout",
     "output_type": "stream",
     "text": [
      "Alma Adams\n",
      "https://en.wikipedia.org/wiki/Alma_Adams\n"
     ]
    }
   ],
   "source": [
    "# Sample - Retrive Wikipedia URL for representative, no errors\n",
    "sample_rep = daf.get_rep_data(house_ids[0], PP_ROOT, PP_HEADER, entities, wiki)\n",
    "print(sample_rep['first_name'], sample_rep['last_name'])\n",
    "print(sample_rep['wiki_url'])"
   ]
  },
  {
   "cell_type": "code",
   "execution_count": 8,
   "id": "dressed-cabin",
   "metadata": {
    "ExecuteTime": {
     "end_time": "2021-03-07T21:47:02.949865Z",
     "start_time": "2021-03-07T21:47:02.581108Z"
    }
   },
   "outputs": [
    {
     "name": "stdout",
     "output_type": "stream",
     "text": [
      "Angie Craig\n",
      "https://en.wikipedia.org/wiki/Angie_Craig\n"
     ]
    }
   ],
   "source": [
    "# Sample - Initially missing Google Entity ID in ProPublica data\n",
    "sample_rep = daf.get_rep_data('C001119', PP_ROOT, PP_HEADER, entities, wiki)\n",
    "print(sample_rep['first_name'], sample_rep['last_name'])\n",
    "print(sample_rep['wiki_url'])"
   ]
  },
  {
   "cell_type": "code",
   "execution_count": 9,
   "id": "completed-slovenia",
   "metadata": {
    "ExecuteTime": {
     "end_time": "2021-03-07T21:47:03.507800Z",
     "start_time": "2021-03-07T21:47:02.953871Z"
    }
   },
   "outputs": [
    {
     "name": "stdout",
     "output_type": "stream",
     "text": [
      "Debbie Dingell\n",
      "https://en.wikipedia.org/wiki/Debbie_Dingell\n"
     ]
    }
   ],
   "source": [
    "# Sample - Initially missing wikipedia URL in Google Knowledge Graph Entity\n",
    "sample_rep = daf.get_rep_data('D000624', PP_ROOT, PP_HEADER, entities, wiki)\n",
    "print(sample_rep['first_name'], sample_rep['last_name'])\n",
    "print(sample_rep['wiki_url'])"
   ]
  },
  {
   "cell_type": "markdown",
   "id": "jewish-promise",
   "metadata": {},
   "source": [
    "### Initial Database Population and Bulk Writes\n",
    "- A local MongoDB database was utilized to avoid write/read limits from cloud databases (Google Firestore, AWS RDS, etc.) and to allow data to be nested and stored in different formats."
   ]
  },
  {
   "cell_type": "code",
   "execution_count": 10,
   "id": "instant-period",
   "metadata": {
    "ExecuteTime": {
     "end_time": "2021-03-07T21:47:03.514272Z",
     "start_time": "2021-03-07T21:47:03.510671Z"
    }
   },
   "outputs": [],
   "source": [
    "from pymongo import InsertOne"
   ]
  },
  {
   "cell_type": "code",
   "execution_count": 11,
   "id": "packed-sapphire",
   "metadata": {
    "ExecuteTime": {
     "end_time": "2021-03-07T21:47:03.542757Z",
     "start_time": "2021-03-07T21:47:03.517152Z"
    }
   },
   "outputs": [],
   "source": [
    "# Config local MongoDB\n",
    "db = config.config_mongodb()\n",
    "collection = db['reps']"
   ]
  },
  {
   "cell_type": "code",
   "execution_count": 12,
   "id": "executive-sound",
   "metadata": {
    "ExecuteTime": {
     "end_time": "2021-03-07T21:47:03.548072Z",
     "start_time": "2021-03-07T21:47:03.544944Z"
    }
   },
   "outputs": [],
   "source": [
    "# Bulk write insert statements\n",
    "# inserts = []\n",
    "# for member in house_ids:\n",
    "#     data = get_rep_data(member, PP_ROOT, PP_HEADER, entities, wiki)\n",
    "#     inserts.append(InsertOne(data))"
   ]
  },
  {
   "cell_type": "code",
   "execution_count": 13,
   "id": "recognized-soundtrack",
   "metadata": {
    "ExecuteTime": {
     "end_time": "2021-03-07T21:47:03.554557Z",
     "start_time": "2021-03-07T21:47:03.551365Z"
    }
   },
   "outputs": [],
   "source": [
    "# Bulk write to collection\n",
    "# result = collection.bulk_write(inserts)\n",
    "# print(result.bulk_api_result)"
   ]
  },
  {
   "cell_type": "markdown",
   "id": "cathedral-playlist",
   "metadata": {},
   "source": [
    "## Acquire Educational Data\n",
    "- Utilizing BeautifulSoup to scrape US House Representative Wikipedia pages.\n",
    "- Educational background located in ```<th>Education</th>``` or ```<th><a>Alma mater</a></th>``` row of ```<table>``` with attribute ```class=\"infobox vcard\"```.\n",
    "- Error logging to utilize [VoteSmart](https://justfacts.votesmart.org/) as an alternative when Wikipedia pages are missing educational data from infobox."
   ]
  },
  {
   "cell_type": "code",
   "execution_count": 14,
   "id": "distinguished-prison",
   "metadata": {
    "ExecuteTime": {
     "end_time": "2021-03-07T21:47:03.569986Z",
     "start_time": "2021-03-07T21:47:03.558003Z"
    }
   },
   "outputs": [],
   "source": [
    "# Retrieve all representative IDs, Wikipedia URLs, VoteSmart IDs, first name, last name\n",
    "projection = {'_id': 1, 'first_name': 1, 'last_name': 1, 'wiki_url': 1, 'votesmart_id': 1}\n",
    "results = collection.find({}, projection)\n",
    "reps = [ rep for rep in results ]"
   ]
  },
  {
   "cell_type": "code",
   "execution_count": 15,
   "id": "breathing-count",
   "metadata": {
    "ExecuteTime": {
     "end_time": "2021-03-07T21:47:03.577664Z",
     "start_time": "2021-03-07T21:47:03.573623Z"
    }
   },
   "outputs": [],
   "source": [
    "# Check if there are missing wikipedia URLs\n",
    "for rep in reps:\n",
    "    assert rep['wiki_url'] != None\n",
    "    assert rep['wiki_url'] != ''"
   ]
  },
  {
   "cell_type": "code",
   "execution_count": 16,
   "id": "banner-shipping",
   "metadata": {
    "ExecuteTime": {
     "end_time": "2021-03-07T21:47:03.588797Z",
     "start_time": "2021-03-07T21:47:03.581778Z"
    }
   },
   "outputs": [
    {
     "name": "stdout",
     "output_type": "stream",
     "text": [
      "{'_id': 'A000370', 'first_name': 'Alma', 'last_name': 'Adams', 'votesmart_id': '5935', 'wiki_url': 'https://en.wikipedia.org/wiki/Alma_Adams'}\n"
     ]
    }
   ],
   "source": [
    "# Sample\n",
    "print(reps[0])"
   ]
  },
  {
   "cell_type": "code",
   "execution_count": 18,
   "id": "protected-custom",
   "metadata": {
    "ExecuteTime": {
     "end_time": "2021-03-07T21:49:46.821931Z",
     "start_time": "2021-03-07T21:49:46.508187Z"
    }
   },
   "outputs": [
    {
     "name": "stdout",
     "output_type": "stream",
     "text": [
      "(['North Carolina A&T State University', 'BS', 'MS', 'Ohio State University', 'PhD'], None)\n"
     ]
    }
   ],
   "source": [
    "wiki_url = reps[0]['wiki_url']\n",
    "edus = daf.wiki_edu_scrape(wiki_url)\n",
    "print(edus) # ([<educational data>], <error>)"
   ]
  },
  {
   "cell_type": "markdown",
   "id": "interested-tuition",
   "metadata": {},
   "source": [
    "### Script for educational background acquisition\n",
    "- Initial for-loop script ran in an out-of-date notebook.\n",
    "- Note: several representatives had to be manually checked (all error lists), all errors were corrected by the script."
   ]
  },
  {
   "cell_type": "code",
   "execution_count": 27,
   "id": "tracked-still",
   "metadata": {
    "ExecuteTime": {
     "end_time": "2021-03-07T22:23:29.076845Z",
     "start_time": "2021-03-07T22:23:28.783727Z"
    }
   },
   "outputs": [],
   "source": [
    "# Error lists\n",
    "no_wiki_edu = []\n",
    "no_vs_id = []\n",
    "no_vs_edu = []\n",
    "other_errors = []\n",
    "\n",
    "# Sample script (for-loop used in original script)\n",
    "rep = reps[0]\n",
    "edus, error = daf.wiki_edu_scrape(rep['wiki_url'])\n",
    "rep['education'] = edus\n",
    "if error: # No educational background on wikipedia (Note: None had post-secondary degrees)\n",
    "    no_wiki_edu.append(rep)\n",
    "\n",
    "elif len(edus) < 2: # No degree shown in wikipedia educational background\n",
    "    vs_id, error = daf.get_vs_id(rep)\n",
    "    if error:\n",
    "        rep['education'] = None # No VoteSmart ID\n",
    "        no_vs_id.append(rep)\n",
    "    else:\n",
    "        rep['votesmart_id'] = vs_id\n",
    "        edus, error = daf.vs_edu_scrape(rep)\n",
    "        if error:\n",
    "            rep['education'] = None # No degree from VoteSmart\n",
    "            no_vs_edu.append(rep)\n",
    "        else: \n",
    "            rep['education'] = edus # Degree pulled from VoteSmart\n",
    "\n",
    "else: # No errors clean educational data\n",
    "    edus, error = daf.clean_edu(rep)\n",
    "    if error:\n",
    "        other_errors.append(rep)\n",
    "    else:\n",
    "        rep['education'] = edus"
   ]
  },
  {
   "cell_type": "code",
   "execution_count": 28,
   "id": "synthetic-madagascar",
   "metadata": {
    "ExecuteTime": {
     "end_time": "2021-03-07T22:23:29.571730Z",
     "start_time": "2021-03-07T22:23:29.567126Z"
    }
   },
   "outputs": [
    {
     "data": {
      "text/plain": [
       "[['BS', 'North Carolina A&T State University'],\n",
       " ['MS', 'North Carolina A&T State University'],\n",
       " ['PHD', 'Ohio State University']]"
      ]
     },
     "execution_count": 28,
     "metadata": {},
     "output_type": "execute_result"
    }
   ],
   "source": [
    "# Sample result\n",
    "rep['education']"
   ]
  },
  {
   "cell_type": "markdown",
   "id": "documented-spectacular",
   "metadata": {},
   "source": [
    "### Bulk Update Educational Backgrounds"
   ]
  },
  {
   "cell_type": "code",
   "execution_count": 29,
   "id": "designed-gibson",
   "metadata": {
    "ExecuteTime": {
     "end_time": "2021-03-07T22:26:18.100196Z",
     "start_time": "2021-03-07T22:26:18.096589Z"
    }
   },
   "outputs": [],
   "source": [
    "from pymongo import UpdateOne"
   ]
  },
  {
   "cell_type": "code",
   "execution_count": 26,
   "id": "broad-element",
   "metadata": {
    "ExecuteTime": {
     "end_time": "2021-03-07T22:22:08.013089Z",
     "start_time": "2021-03-07T22:22:08.010126Z"
    }
   },
   "outputs": [],
   "source": [
    "# Create bulk updates\n",
    "# updates = []\n",
    "# for rep in reps:\n",
    "#     update = UpdateOne(\n",
    "#         {'_id': rep['_id']},\n",
    "#         {'$set': {'votesmart_id': rep['votesmart_id'], 'education': rep['education']}}\n",
    "#     )\n",
    "#     updates.append(update)"
   ]
  },
  {
   "cell_type": "code",
   "execution_count": null,
   "id": "cloudy-induction",
   "metadata": {},
   "outputs": [],
   "source": [
    "# result = collection.bulk_write(updates)\n",
    "# result.bulk_api_result"
   ]
  }
 ],
 "metadata": {
  "kernelspec": {
   "display_name": "rep-data-env",
   "language": "python",
   "name": "rep-data-env"
  },
  "language_info": {
   "codemirror_mode": {
    "name": "ipython",
    "version": 3
   },
   "file_extension": ".py",
   "mimetype": "text/x-python",
   "name": "python",
   "nbconvert_exporter": "python",
   "pygments_lexer": "ipython3",
   "version": "3.9.2"
  },
  "toc": {
   "base_numbering": 1,
   "nav_menu": {},
   "number_sections": false,
   "sideBar": true,
   "skip_h1_title": false,
   "title_cell": "Table of Contents",
   "title_sidebar": "Contents",
   "toc_cell": false,
   "toc_position": {},
   "toc_section_display": true,
   "toc_window_display": false
  }
 },
 "nbformat": 4,
 "nbformat_minor": 5
}
