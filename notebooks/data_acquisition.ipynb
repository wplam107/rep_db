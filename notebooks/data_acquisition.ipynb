{
 "cells": [
  {
   "cell_type": "markdown",
   "metadata": {},
   "source": [
    "# Data Acquisition Notebook\n",
    "- Notebook for code to be refactored for ```build_database.py``` and ```db_functions.py``` in the ```db-build``` directory\n",
    "- Database will hold 2 most recent congresses"
   ]
  },
  {
   "cell_type": "markdown",
   "metadata": {},
   "source": [
    "## ProPublica Configuration"
   ]
  },
  {
   "cell_type": "code",
   "execution_count": 1,
   "metadata": {
    "ExecuteTime": {
     "end_time": "2021-02-02T00:51:40.704162Z",
     "start_time": "2021-02-02T00:51:40.684709Z"
    }
   },
   "outputs": [],
   "source": [
    "# API Key\n",
    "import configparser"
   ]
  },
  {
   "cell_type": "code",
   "execution_count": 2,
   "metadata": {
    "ExecuteTime": {
     "end_time": "2021-02-02T00:51:40.721965Z",
     "start_time": "2021-02-02T00:51:40.708081Z"
    }
   },
   "outputs": [],
   "source": [
    "config = configparser.ConfigParser()\n",
    "config.read('../auth/config.ini')\n",
    "PROPUBLICA_API_KEY = config.get('propublica', 'PROPUBLICA_API_KEY')"
   ]
  },
  {
   "cell_type": "code",
   "execution_count": 3,
   "metadata": {
    "ExecuteTime": {
     "end_time": "2021-02-02T00:51:40.732220Z",
     "start_time": "2021-02-02T00:51:40.728443Z"
    }
   },
   "outputs": [],
   "source": [
    "API_ROOT = 'https://api.propublica.org/congress/v1/'\n",
    "header = {'X-API-Key': f'{PROPUBLICA_API_KEY}'}"
   ]
  },
  {
   "cell_type": "markdown",
   "metadata": {},
   "source": [
    "## Get Initial Congress and Clean Data/Select Features"
   ]
  },
  {
   "cell_type": "code",
   "execution_count": 4,
   "metadata": {
    "ExecuteTime": {
     "end_time": "2021-02-02T00:51:40.924987Z",
     "start_time": "2021-02-02T00:51:40.735844Z"
    }
   },
   "outputs": [],
   "source": [
    "# Read/Scrape data\n",
    "import requests\n",
    "import json\n",
    "import re\n",
    "from bs4 import BeautifulSoup\n",
    "from datetime import datetime\n",
    "\n",
    "from pprint import pprint"
   ]
  },
  {
   "cell_type": "code",
   "execution_count": 5,
   "metadata": {
    "ExecuteTime": {
     "end_time": "2021-02-02T00:51:40.932261Z",
     "start_time": "2021-02-02T00:51:40.927641Z"
    }
   },
   "outputs": [],
   "source": [
    "def get_house_ids(congress):\n",
    "    '''\n",
    "    Function to get house members' ProPublica ID by congress number\n",
    "    '''\n",
    "\n",
    "    call_string = API_ROOT + f'{congress}/house/members.json'\n",
    "    r = requests.get(call_string, headers=header)\n",
    "    result = r.json()['results'][0]['members']\n",
    "    member_ids = [ member['id'] for member in result ]\n",
    "    \n",
    "    return member_ids"
   ]
  },
  {
   "cell_type": "code",
   "execution_count": 6,
   "metadata": {
    "ExecuteTime": {
     "end_time": "2021-02-02T00:51:41.394722Z",
     "start_time": "2021-02-02T00:51:40.934461Z"
    }
   },
   "outputs": [],
   "source": [
    "# House member ids of the 116-117th Congress (2018-2022)\n",
    "ids_116 = get_house_ids(116)\n",
    "ids_117 = get_house_ids(117)"
   ]
  },
  {
   "cell_type": "code",
   "execution_count": 7,
   "metadata": {
    "ExecuteTime": {
     "end_time": "2021-02-02T00:51:41.399736Z",
     "start_time": "2021-02-02T00:51:41.396987Z"
    }
   },
   "outputs": [],
   "source": [
    "# Create list of unique IDs to remove redundant API calls\n",
    "all_ids = list(set(ids_116 + ids_117))"
   ]
  },
  {
   "cell_type": "code",
   "execution_count": 8,
   "metadata": {
    "ExecuteTime": {
     "end_time": "2021-02-02T00:51:41.408026Z",
     "start_time": "2021-02-02T00:51:41.404381Z"
    }
   },
   "outputs": [],
   "source": [
    "def get_member_data(member):\n",
    "    '''\n",
    "    Function to get house member's data\n",
    "    '''\n",
    "    \n",
    "    call_string = API_ROOT + f'members/{member}.json'\n",
    "    r = requests.get(call_string, headers=header)\n",
    "    result = r.json()['results'][0]\n",
    "    \n",
    "    return result"
   ]
  },
  {
   "cell_type": "code",
   "execution_count": 9,
   "metadata": {
    "ExecuteTime": {
     "end_time": "2021-02-02T00:51:41.508278Z",
     "start_time": "2021-02-02T00:51:41.411811Z"
    }
   },
   "outputs": [
    {
     "name": "stdout",
     "output_type": "stream",
     "text": [
      "id: T000486\n",
      "member_id: T000486\n",
      "first_name: Ritchie\n",
      "middle_name: None\n",
      "last_name: Torres\n"
     ]
    }
   ],
   "source": [
    "# Sample\n",
    "sample_id = all_ids[0]\n",
    "sample = get_member_data(sample_id)\n",
    "for k, v in list(sample.items())[:5]:\n",
    "    print(f'{k}: {v}')"
   ]
  },
  {
   "cell_type": "code",
   "execution_count": 10,
   "metadata": {
    "ExecuteTime": {
     "end_time": "2021-02-02T00:51:41.515248Z",
     "start_time": "2021-02-02T00:51:41.511024Z"
    }
   },
   "outputs": [],
   "source": [
    "# Create generator, split list in half to ensure under batch write limit\n",
    "half = int(len(all_ids)/2)\n",
    "members1 = ( get_member_data(member) for member in all_ids[:half] )\n",
    "members2 = ( get_member_data(member) for member in all_ids[half:] )"
   ]
  },
  {
   "cell_type": "code",
   "execution_count": 11,
   "metadata": {
    "ExecuteTime": {
     "end_time": "2021-02-02T00:51:41.521663Z",
     "start_time": "2021-02-02T00:51:41.518421Z"
    }
   },
   "outputs": [],
   "source": [
    "def to_date(s):\n",
    "    date = datetime.strptime(s, '%Y-%m-%d')\n",
    "    return date"
   ]
  },
  {
   "cell_type": "code",
   "execution_count": 12,
   "metadata": {
    "ExecuteTime": {
     "end_time": "2021-02-02T00:51:41.534004Z",
     "start_time": "2021-02-02T00:51:41.525508Z"
    }
   },
   "outputs": [],
   "source": [
    "def member_cleaner(member):\n",
    "    '''\n",
    "    Function to keep relevent information on congress member\n",
    "    '''\n",
    "    \n",
    "    roles = member['roles']\n",
    "    roles.sort(key=lambda x: x['congress'], reverse=True)\n",
    "    fec_id = roles[0]['fec_candidate_id'] # Most recent FEC candidate ID\n",
    "    \n",
    "    mem_dict = {\n",
    "        '_id': member['id'],\n",
    "        'bio': {\n",
    "            'first_name': member['first_name'],\n",
    "            'middle_name': member['middle_name'],\n",
    "            'last_name': member['last_name'],\n",
    "            'dob': to_date(member['date_of_birth']),\n",
    "            'gender': member['gender'],\n",
    "            'current_party': member['current_party'],\n",
    "        },\n",
    "        'activity': {\n",
    "            'last_updated': to_date(member['last_updated'][:10]), # Ignore time\n",
    "            'in_office': member['in_office'],\n",
    "        },\n",
    "        'other_ids': {\n",
    "            'google_id': member['google_entity_id'],\n",
    "            'votesmart_id': member['votesmart_id'],\n",
    "            'govtrack_id': member['govtrack_id'],\n",
    "            'cspan_id': member['cspan_id'],\n",
    "            'crp_id': member['crp_id'],\n",
    "            'fec_id': fec_id,\n",
    "        },\n",
    "        'roles': member['roles'],   \n",
    "    }\n",
    "    \n",
    "    return mem_dict"
   ]
  },
  {
   "cell_type": "markdown",
   "metadata": {},
   "source": [
    "## Inserting into Google Firestore"
   ]
  },
  {
   "cell_type": "code",
   "execution_count": 13,
   "metadata": {
    "ExecuteTime": {
     "end_time": "2021-02-02T00:51:41.997328Z",
     "start_time": "2021-02-02T00:51:41.536189Z"
    }
   },
   "outputs": [],
   "source": [
    "# Database connection and authentication\n",
    "import firebase_admin\n",
    "from firebase_admin import credentials, firestore\n",
    "# from google.cloud.firestore_v1.batch import WriteBatch"
   ]
  },
  {
   "cell_type": "code",
   "execution_count": 14,
   "metadata": {
    "ExecuteTime": {
     "end_time": "2021-02-02T00:51:42.004912Z",
     "start_time": "2021-02-02T00:51:41.999346Z"
    }
   },
   "outputs": [],
   "source": [
    "GCP_AUTH_PATH = config.get('firebase', 'GCP_AUTH_PATH')\n",
    "cred = credentials.Certificate(GCP_AUTH_PATH)\n",
    "app = firebase_admin.initialize_app(cred)"
   ]
  },
  {
   "cell_type": "code",
   "execution_count": 15,
   "metadata": {
    "ExecuteTime": {
     "end_time": "2021-02-02T00:51:42.009805Z",
     "start_time": "2021-02-02T00:51:42.007197Z"
    }
   },
   "outputs": [],
   "source": [
    "# Database\n",
    "db = firestore.client()"
   ]
  },
  {
   "cell_type": "code",
   "execution_count": 16,
   "metadata": {
    "ExecuteTime": {
     "end_time": "2021-02-02T00:51:42.016470Z",
     "start_time": "2021-02-02T00:51:42.013053Z"
    }
   },
   "outputs": [],
   "source": [
    "members_insert1 = map(member_cleaner, members1)\n",
    "members_insert2 = map(member_cleaner, members2)"
   ]
  },
  {
   "cell_type": "code",
   "execution_count": 17,
   "metadata": {
    "ExecuteTime": {
     "end_time": "2021-02-02T00:51:42.024276Z",
     "start_time": "2021-02-02T00:51:42.018732Z"
    }
   },
   "outputs": [],
   "source": [
    "def batch_insert_members(members, db):\n",
    "    '''\n",
    "    Function to batch insert house members into database\n",
    "    '''\n",
    "    \n",
    "    batch = db.batch()\n",
    "    members_len = 0\n",
    "    for member in members:\n",
    "        _id = member['_id']\n",
    "        insert_ref = db.collection(\"reps\").document(f\"{_id}\")\n",
    "        batch.set(insert_ref, member)\n",
    "        members_len += 1\n",
    "            \n",
    "    batch.commit()\n",
    "    \n",
    "    batch_len = len(batch.write_results)\n",
    "    f_string = f'Batch Length: {batch_len}, Members Length: {members_len}'\n",
    "    assert batch_len == members_len, f_string\n",
    "    \n",
    "    print(f'{batch_len} members inserted')"
   ]
  },
  {
   "cell_type": "code",
   "execution_count": 18,
   "metadata": {
    "ExecuteTime": {
     "end_time": "2021-02-02T00:51:42.030502Z",
     "start_time": "2021-02-02T00:51:42.026735Z"
    }
   },
   "outputs": [],
   "source": [
    "# batch_insert_members(members_insert1, db)\n",
    "# batch_insert_members(members_insert2, db)"
   ]
  }
 ],
 "metadata": {
  "kernelspec": {
   "display_name": "db-env",
   "language": "python",
   "name": "db-env"
  },
  "language_info": {
   "codemirror_mode": {
    "name": "ipython",
    "version": 3
   },
   "file_extension": ".py",
   "mimetype": "text/x-python",
   "name": "python",
   "nbconvert_exporter": "python",
   "pygments_lexer": "ipython3",
   "version": "3.7.7"
  },
  "toc": {
   "base_numbering": 1,
   "nav_menu": {},
   "number_sections": false,
   "sideBar": true,
   "skip_h1_title": false,
   "title_cell": "Table of Contents",
   "title_sidebar": "Contents",
   "toc_cell": false,
   "toc_position": {},
   "toc_section_display": true,
   "toc_window_display": false
  }
 },
 "nbformat": 4,
 "nbformat_minor": 2
}
