{
 "cells": [
  {
   "cell_type": "markdown",
   "metadata": {},
   "source": [
    "# Data Acquisition and ETL"
   ]
  },
  {
   "cell_type": "code",
   "execution_count": 1,
   "metadata": {
    "ExecuteTime": {
     "end_time": "2021-02-15T22:48:04.863821Z",
     "start_time": "2021-02-15T22:48:04.098834Z"
    }
   },
   "outputs": [],
   "source": [
    "# Config reader\n",
    "import configparser\n",
    "\n",
    "# Database connection and authentication\n",
    "import firebase_admin\n",
    "from firebase_admin import credentials, firestore\n",
    "\n",
    "# Webscraping and API calls\n",
    "import requests\n",
    "from googleapiclient.discovery import build\n",
    "from bs4 import BeautifulSoup\n",
    "from mediawiki import MediaWiki\n",
    "\n",
    "# Utils\n",
    "import functools\n",
    "import re\n",
    "import googleapiclient\n",
    "from datetime import datetime"
   ]
  },
  {
   "cell_type": "markdown",
   "metadata": {},
   "source": [
    "## ProPublic API and Google Firestore Access\n",
    "- Utilizing a ```config.ini``` file to store private API keys and location/name of certificates"
   ]
  },
  {
   "cell_type": "code",
   "execution_count": 2,
   "metadata": {
    "ExecuteTime": {
     "end_time": "2021-02-15T22:48:04.874746Z",
     "start_time": "2021-02-15T22:48:04.866385Z"
    }
   },
   "outputs": [],
   "source": [
    "# Read config.ini file\n",
    "config = configparser.ConfigParser()\n",
    "config.read('./auth/config.ini')\n",
    "\n",
    "# Get ProPublica Auth\n",
    "PROPUBLICA_API_KEY = config.get('propublica', 'PROPUBLICA_API_KEY')\n",
    "API_ROOT = 'https://api.propublica.org/congress/v1/'\n",
    "header = {'X-API-Key': f'{PROPUBLICA_API_KEY}'}\n",
    "\n",
    "# Get Google Firebase Auth\n",
    "GCP_AUTH_PATH = config.get('firebase', 'GCP_AUTH_PATH')\n",
    "cred = credentials.Certificate(GCP_AUTH_PATH)\n",
    "app = firebase_admin.initialize_app(cred)\n",
    "\n",
    "# Instantiate connection to database\n",
    "db = firestore.client()"
   ]
  },
  {
   "cell_type": "markdown",
   "metadata": {},
   "source": [
    "## Acquire US Representatives Data\n",
    "- Retrieving the 2 most recent congresses (116th and 117th congress) from ProPublica\n",
    "- Transforming JSON files to smaller documents (fewer fields/keys)\n",
    "- Loading documents on to Google Firestore database"
   ]
  },
  {
   "cell_type": "markdown",
   "metadata": {},
   "source": [
    "### Acquire ProPublica Data"
   ]
  },
  {
   "cell_type": "code",
   "execution_count": 3,
   "metadata": {
    "ExecuteTime": {
     "end_time": "2021-02-15T22:48:04.883241Z",
     "start_time": "2021-02-15T22:48:04.878016Z"
    }
   },
   "outputs": [],
   "source": [
    "def get_house_ids(congress):\n",
    "    '''\n",
    "    Function to get house members' ProPublica ID by congress number\n",
    "    '''\n",
    "\n",
    "    call_string = API_ROOT + f'{congress}/house/members.json'\n",
    "    r = requests.get(call_string, headers=header)\n",
    "    result = r.json()['results'][0]['members']\n",
    "    member_ids = [ member['id'] for member in result ]\n",
    "    \n",
    "    return member_ids"
   ]
  },
  {
   "cell_type": "code",
   "execution_count": 4,
   "metadata": {
    "ExecuteTime": {
     "end_time": "2021-02-15T22:48:05.443531Z",
     "start_time": "2021-02-15T22:48:04.887533Z"
    }
   },
   "outputs": [],
   "source": [
    "# House member ids of the 116-117th Congress (2018-2022)\n",
    "ids_116 = get_house_ids(116)\n",
    "ids_117 = get_house_ids(117)"
   ]
  },
  {
   "cell_type": "code",
   "execution_count": 5,
   "metadata": {
    "ExecuteTime": {
     "end_time": "2021-02-15T22:48:05.448941Z",
     "start_time": "2021-02-15T22:48:05.445839Z"
    }
   },
   "outputs": [],
   "source": [
    "# Create list of unique IDs to remove redundant API calls\n",
    "all_ids = list(set(ids_116 + ids_117))"
   ]
  },
  {
   "cell_type": "code",
   "execution_count": 6,
   "metadata": {
    "ExecuteTime": {
     "end_time": "2021-02-15T22:48:05.458919Z",
     "start_time": "2021-02-15T22:48:05.451471Z"
    }
   },
   "outputs": [
    {
     "name": "stdout",
     "output_type": "stream",
     "text": [
      "H001087\n"
     ]
    }
   ],
   "source": [
    "# Sample\n",
    "print(all_ids[0])"
   ]
  },
  {
   "cell_type": "code",
   "execution_count": 7,
   "metadata": {
    "ExecuteTime": {
     "end_time": "2021-02-15T22:48:05.465963Z",
     "start_time": "2021-02-15T22:48:05.461617Z"
    }
   },
   "outputs": [],
   "source": [
    "def get_member_data(member):\n",
    "    '''\n",
    "    Function to get house member's data\n",
    "    '''\n",
    "    \n",
    "    call_string = API_ROOT + f'members/{member}.json'\n",
    "    r = requests.get(call_string, headers=header)\n",
    "    result = r.json()['results'][0]\n",
    "    \n",
    "    return result"
   ]
  },
  {
   "cell_type": "code",
   "execution_count": 8,
   "metadata": {
    "ExecuteTime": {
     "end_time": "2021-02-15T22:48:05.671589Z",
     "start_time": "2021-02-15T22:48:05.473028Z"
    },
    "scrolled": true
   },
   "outputs": [
    {
     "name": "stdout",
     "output_type": "stream",
     "text": [
      "id: H001087\n",
      "member_id: H001087\n",
      "first_name: Katie\n",
      "middle_name: None\n",
      "last_name: Hill\n",
      "suffix: None\n",
      "date_of_birth: 1987-08-25\n",
      "gender: F\n",
      "url: None\n",
      "times_topics_url: \n"
     ]
    }
   ],
   "source": [
    "# Sample\n",
    "sample = get_member_data(all_ids[0])\n",
    "for k, v in list(sample.items())[:10]:\n",
    "    print(f'{k}: {v}')"
   ]
  },
  {
   "cell_type": "code",
   "execution_count": 9,
   "metadata": {
    "ExecuteTime": {
     "end_time": "2021-02-15T22:48:05.683816Z",
     "start_time": "2021-02-15T22:48:05.675850Z"
    }
   },
   "outputs": [],
   "source": [
    "def member_cleaner(member):\n",
    "    '''\n",
    "    Function to keep relevent information on congress member\n",
    "    '''\n",
    "    \n",
    "    roles = member['roles']\n",
    "    roles.sort(key=lambda x: x['congress'], reverse=True)\n",
    "    fec_id = roles[0]['fec_candidate_id'] # Most recent FEC candidate ID\n",
    "    state = roles[0]['state'] # Most recent state served\n",
    "    congresses = [ role['congress'] for role in roles ]\n",
    "    date = datetime.strptime(member['date_of_birth'], '%Y-%m-%d')\n",
    "    \n",
    "    mem_dict = {\n",
    "        '_id': member['id'],\n",
    "        'first_name': member['first_name'],\n",
    "        'middle_name': member['middle_name'],\n",
    "        'last_name': member['last_name'],\n",
    "        'dob': date,\n",
    "        'gender': member['gender'],\n",
    "        'current_party': member['current_party'],\n",
    "        'state': state,\n",
    "        'google_id': member['google_entity_id'],\n",
    "        'votesmart_id': member['votesmart_id'],\n",
    "        'govtrack_id': member['govtrack_id'],\n",
    "        'cspan_id': member['cspan_id'],\n",
    "        'crp_id': member['crp_id'],\n",
    "        'fec_id': fec_id,\n",
    "        'in_office': member['in_office'],\n",
    "        'congresses': congresses,   \n",
    "    }\n",
    "    \n",
    "    return mem_dict"
   ]
  },
  {
   "cell_type": "code",
   "execution_count": 10,
   "metadata": {
    "ExecuteTime": {
     "end_time": "2021-02-15T22:48:05.699676Z",
     "start_time": "2021-02-15T22:48:05.686800Z"
    },
    "scrolled": true
   },
   "outputs": [
    {
     "name": "stdout",
     "output_type": "stream",
     "text": [
      "_id: H001087\n",
      "first_name: Katie\n",
      "middle_name: None\n",
      "last_name: Hill\n",
      "dob: 1987-08-25 00:00:00\n",
      "gender: F\n",
      "current_party: D\n",
      "state: CA\n",
      "google_id: /g/11gtgfywx0\n",
      "votesmart_id: 179354\n"
     ]
    }
   ],
   "source": [
    "# Sample\n",
    "sample = member_cleaner(sample)\n",
    "for k, v in list(sample.items())[:10]:\n",
    "    print(f'{k}: {v}')"
   ]
  },
  {
   "cell_type": "markdown",
   "metadata": {},
   "source": [
    "### Batch Insert"
   ]
  },
  {
   "cell_type": "code",
   "execution_count": 11,
   "metadata": {
    "ExecuteTime": {
     "end_time": "2021-02-15T22:48:05.709358Z",
     "start_time": "2021-02-15T22:48:05.702183Z"
    }
   },
   "outputs": [],
   "source": [
    "def batch_insert(docs, db, col_name, _id='id', with_ids=True):\n",
    "    '''\n",
    "    Function to batch write to Firestore\n",
    "    '''\n",
    "    \n",
    "    print(f'Writing data to {col_name} collection')\n",
    "    batch = db.batch()\n",
    "    batch_len = 0\n",
    "    batch_num = 0\n",
    "    total = 0\n",
    "    for doc in docs:\n",
    "        if with_ids:\n",
    "            _id = f'{doc[_id]}'\n",
    "        else:\n",
    "            _id = None\n",
    "        \n",
    "        ref = db.collection(col_name).document(_id)\n",
    "        batch.set(ref, doc)\n",
    "        batch_len += 1\n",
    "        total += 1\n",
    "        \n",
    "        if batch_len > 499:\n",
    "            batch.commit()\n",
    "            print(f'Batch {batch_num} Inserted')\n",
    "            print(f'Inserts: {len(batch.write_results)}')\n",
    "            batch_len = 0\n",
    "            batch_num += 1\n",
    "        \n",
    "    batch.commit()\n",
    "    print(f'Batch {batch_num} Inserted')\n",
    "    print(f'Inserts: {len(batch.write_results)}')\n",
    "    print(f'Total Inserts: {total}')"
   ]
  },
  {
   "cell_type": "code",
   "execution_count": 12,
   "metadata": {
    "ExecuteTime": {
     "end_time": "2021-02-15T22:48:05.716111Z",
     "start_time": "2021-02-15T22:48:05.712147Z"
    }
   },
   "outputs": [],
   "source": [
    "# Generator for representative data\n",
    "reps = ( get_member_data(mem) for mem in all_ids[:10] )\n",
    "\n",
    "# Generator for cleaned representative data\n",
    "cleaned_reps = ( member_cleaner(rep) for rep in reps )"
   ]
  },
  {
   "cell_type": "code",
   "execution_count": 13,
   "metadata": {
    "ExecuteTime": {
     "end_time": "2021-02-15T22:48:05.721852Z",
     "start_time": "2021-02-15T22:48:05.719043Z"
    }
   },
   "outputs": [],
   "source": [
    "# Batch insert\n",
    "# batch_insert(cleaned_reps)"
   ]
  },
  {
   "cell_type": "markdown",
   "metadata": {},
   "source": [
    "## Acquire Wikipedia Page URL\n",
    "- Utilizing Google Knowledge Graph to find US Representative Wikipedia page\n",
    "- Logging errors"
   ]
  },
  {
   "cell_type": "code",
   "execution_count": 14,
   "metadata": {
    "ExecuteTime": {
     "end_time": "2021-02-15T22:48:05.727090Z",
     "start_time": "2021-02-15T22:48:05.724131Z"
    }
   },
   "outputs": [],
   "source": [
    "# Collection reference\n",
    "ref = db.collection('reps')"
   ]
  },
  {
   "cell_type": "code",
   "execution_count": 15,
   "metadata": {
    "ExecuteTime": {
     "end_time": "2021-02-15T22:48:05.737035Z",
     "start_time": "2021-02-15T22:48:05.730408Z"
    }
   },
   "outputs": [],
   "source": [
    "# Wrapper for error logging\n",
    "def error_logging(func):\n",
    "    @functools.wraps(func)\n",
    "    def wrapper_error(*args):\n",
    "        data = None\n",
    "        error = None\n",
    "        try:\n",
    "            data = func(*args)\n",
    "        except Exception as e:\n",
    "            error = e\n",
    "        return data, error\n",
    "    return wrapper_error"
   ]
  },
  {
   "cell_type": "code",
   "execution_count": 16,
   "metadata": {
    "ExecuteTime": {
     "end_time": "2021-02-15T22:48:05.745112Z",
     "start_time": "2021-02-15T22:48:05.741128Z"
    }
   },
   "outputs": [],
   "source": [
    "# Retrieve Google GCP API Key from 'config.ini'\n",
    "GCP_API_KEY = config.get('gcpkeys', 'GCP_API_KEY')"
   ]
  },
  {
   "cell_type": "markdown",
   "metadata": {},
   "source": [
    "### Retrieve Wikipedia Page with Google Knowledge Graph by ID"
   ]
  },
  {
   "cell_type": "code",
   "execution_count": 17,
   "metadata": {
    "ExecuteTime": {
     "end_time": "2021-02-15T22:48:06.643252Z",
     "start_time": "2021-02-15T22:48:05.748247Z"
    }
   },
   "outputs": [],
   "source": [
    "# Get all representatives\n",
    "query = ref.where('_id', '!=', '').stream()\n",
    "members = [ doc.to_dict() for doc in query ]"
   ]
  },
  {
   "cell_type": "code",
   "execution_count": 18,
   "metadata": {
    "ExecuteTime": {
     "end_time": "2021-02-15T22:48:07.059316Z",
     "start_time": "2021-02-15T22:48:06.645575Z"
    }
   },
   "outputs": [],
   "source": [
    "# Use Google API client\n",
    "service = build('kgsearch', 'v1', developerKey=GCP_API_KEY)\n",
    "entities = service.entities()"
   ]
  },
  {
   "cell_type": "code",
   "execution_count": 19,
   "metadata": {
    "ExecuteTime": {
     "end_time": "2021-02-15T22:48:07.066207Z",
     "start_time": "2021-02-15T22:48:07.061803Z"
    }
   },
   "outputs": [],
   "source": [
    "def kg_id(mem):\n",
    "    '''\n",
    "    Function to search by Google Entity ID in Google Knowledge Graph\n",
    "    '''\n",
    "    \n",
    "    _id = mem['google_id']\n",
    "    r = entities.search(ids=_id).execute()\n",
    "    result = r['itemListElement'][0]['result']\n",
    "    return result"
   ]
  },
  {
   "cell_type": "code",
   "execution_count": 20,
   "metadata": {
    "ExecuteTime": {
     "end_time": "2021-02-15T22:48:07.316551Z",
     "start_time": "2021-02-15T22:48:07.068649Z"
    }
   },
   "outputs": [
    {
     "data": {
      "text/plain": [
       "{'@type': ['Thing', 'Person'],\n",
       " 'name': 'Robert Aderholt',\n",
       " '@id': 'kg:/m/024p03',\n",
       " 'detailedDescription': {'url': 'https://en.wikipedia.org/wiki/Robert_Aderholt',\n",
       "  'license': 'https://en.wikipedia.org/wiki/Wikipedia:Text_of_Creative_Commons_Attribution-ShareAlike_3.0_Unported_License',\n",
       "  'articleBody': \"Robert Brown Aderholt is an American politician and attorney serving as the U.S. Representative for Alabama's 4th congressional district, serving since 1997. He is a member of the Republican Party. \"},\n",
       " 'description': 'U.S. Representative',\n",
       " 'url': 'https://aderholt.house.gov/'}"
      ]
     },
     "execution_count": 20,
     "metadata": {},
     "output_type": "execute_result"
    }
   ],
   "source": [
    "kg_id(members[0])"
   ]
  },
  {
   "cell_type": "code",
   "execution_count": 21,
   "metadata": {
    "ExecuteTime": {
     "end_time": "2021-02-15T22:48:07.322295Z",
     "start_time": "2021-02-15T22:48:07.318782Z"
    }
   },
   "outputs": [],
   "source": [
    "@error_logging\n",
    "def get_wikipedia(mem):\n",
    "    '''\n",
    "    Get Wikipedia page of US Representative\n",
    "    '''\n",
    "    \n",
    "    result = kg_id(mem)\n",
    "    wiki_url = result['detailedDescription']['url']\n",
    "    return wiki_url"
   ]
  },
  {
   "cell_type": "code",
   "execution_count": 22,
   "metadata": {
    "ExecuteTime": {
     "end_time": "2021-02-15T22:48:07.529137Z",
     "start_time": "2021-02-15T22:48:07.324673Z"
    }
   },
   "outputs": [
    {
     "data": {
      "text/plain": [
       "('https://en.wikipedia.org/wiki/Robert_Aderholt', None)"
      ]
     },
     "execution_count": 22,
     "metadata": {},
     "output_type": "execute_result"
    }
   ],
   "source": [
    "get_wikipedia(members[0])"
   ]
  },
  {
   "cell_type": "code",
   "execution_count": 23,
   "metadata": {
    "ExecuteTime": {
     "end_time": "2021-02-15T22:48:47.991659Z",
     "start_time": "2021-02-15T22:48:07.536337Z"
    }
   },
   "outputs": [],
   "source": [
    "errors = {}\n",
    "for mem in members:\n",
    "    data, error = get_wikipedia(mem)\n",
    "    if error != None:\n",
    "        e_type = type(error)\n",
    "        if e_type not in errors.keys():\n",
    "            errors[e_type] = []\n",
    "        errors[e_type].append(mem)\n",
    "    mem['wiki_url'] = data"
   ]
  },
  {
   "cell_type": "code",
   "execution_count": 24,
   "metadata": {
    "ExecuteTime": {
     "end_time": "2021-02-15T22:48:48.001241Z",
     "start_time": "2021-02-15T22:48:47.996354Z"
    }
   },
   "outputs": [
    {
     "name": "stdout",
     "output_type": "stream",
     "text": [
      "<class 'googleapiclient.errors.HttpError'>: 5\n",
      "<class 'IndexError'>: 16\n",
      "<class 'KeyError'>: 12\n"
     ]
    }
   ],
   "source": [
    "# Find different types of errors\n",
    "for e, v in errors.items():\n",
    "    print(f'{e}: {len(v)}')"
   ]
  },
  {
   "cell_type": "markdown",
   "metadata": {},
   "source": [
    "### Check Errors\n",
    "- ```KeyError```: Missing Wikipedia URL in Google Knowledge Graph\n",
    "- ```HttpError```: Missing Google Entity ID from ProPublica data\n",
    "- ```IndexError```: Wrong Google Entity ID in ProPublica data"
   ]
  },
  {
   "cell_type": "code",
   "execution_count": 25,
   "metadata": {
    "ExecuteTime": {
     "end_time": "2021-02-15T22:48:48.017521Z",
     "start_time": "2021-02-15T22:48:48.005120Z"
    }
   },
   "outputs": [
    {
     "data": {
      "text/plain": [
       "{'in_office': True,\n",
       " 'last_name': 'Case',\n",
       " 'congresses': ['117', '116', '109', '108'],\n",
       " 'first_name': 'Ed',\n",
       " 'dob': DatetimeWithNanoseconds(1952, 9, 27, 0, 0, tzinfo=<UTC>),\n",
       " 'cspan_id': None,\n",
       " 'govtrack_id': '400069',\n",
       " '_id': 'C001055',\n",
       " 'middle_name': None,\n",
       " 'crp_id': 'N00025882',\n",
       " 'votesmart_id': None,\n",
       " 'google_id': None,\n",
       " 'state': 'HI',\n",
       " 'fec_id': 'H2HI02128',\n",
       " 'current_party': 'D',\n",
       " 'gender': 'M',\n",
       " 'wiki_url': None}"
      ]
     },
     "execution_count": 25,
     "metadata": {},
     "output_type": "execute_result"
    }
   ],
   "source": [
    "http_errors = errors[googleapiclient.errors.HttpError]\n",
    "http_errors[0] # Missing Google Entity IDs"
   ]
  },
  {
   "cell_type": "code",
   "execution_count": 26,
   "metadata": {
    "ExecuteTime": {
     "end_time": "2021-02-15T22:48:48.097596Z",
     "start_time": "2021-02-15T22:48:48.022030Z"
    }
   },
   "outputs": [
    {
     "data": {
      "text/plain": [
       "{'@type': ['Person', 'Thing'],\n",
       " 'url': 'http://debbiedingellforcongress.com/',\n",
       " 'name': 'Debbie Dingell',\n",
       " 'description': 'U.S. Representative',\n",
       " '@id': 'kg:/m/03m4188'}"
      ]
     },
     "execution_count": 26,
     "metadata": {},
     "output_type": "execute_result"
    }
   ],
   "source": [
    "key_errors = errors[KeyError]\n",
    "kg_id(key_errors[0]) # Missing wikipedia 'url' key"
   ]
  },
  {
   "cell_type": "code",
   "execution_count": 27,
   "metadata": {
    "ExecuteTime": {
     "end_time": "2021-02-15T22:48:48.177975Z",
     "start_time": "2021-02-15T22:48:48.101174Z"
    }
   },
   "outputs": [
    {
     "data": {
      "text/plain": [
       "{'@context': {'kg': 'http://g.co/kg',\n",
       "  'resultScore': 'goog:resultScore',\n",
       "  '@vocab': 'http://schema.org/',\n",
       "  'EntitySearchResult': 'goog:EntitySearchResult',\n",
       "  'detailedDescription': 'goog:detailedDescription',\n",
       "  'goog': 'http://schema.googleapis.com/'},\n",
       " '@type': 'ItemList',\n",
       " 'itemListElement': []}"
      ]
     },
     "execution_count": 27,
     "metadata": {},
     "output_type": "execute_result"
    }
   ],
   "source": [
    "index_errors = errors[IndexError]\n",
    "entities.search(ids=index_errors[0]['google_id']).execute() # Google ID incorrect"
   ]
  },
  {
   "cell_type": "code",
   "execution_count": 28,
   "metadata": {
    "ExecuteTime": {
     "end_time": "2021-02-15T22:48:48.186021Z",
     "start_time": "2021-02-15T22:48:48.180860Z"
    }
   },
   "outputs": [
    {
     "name": "stdout",
     "output_type": "stream",
     "text": [
      "Google ID Errors: 21\n"
     ]
    }
   ],
   "source": [
    "# Merge lists\n",
    "_id_errors = index_errors + http_errors\n",
    "print('Google ID Errors:', len(_id_errors))"
   ]
  },
  {
   "cell_type": "markdown",
   "metadata": {},
   "source": [
    "### Retrieve Google IDs and Wikipedia URLs with Google Knowledge Graph by Search Terms"
   ]
  },
  {
   "cell_type": "code",
   "execution_count": 29,
   "metadata": {
    "ExecuteTime": {
     "end_time": "2021-02-15T22:48:48.195020Z",
     "start_time": "2021-02-15T22:48:48.189187Z"
    }
   },
   "outputs": [],
   "source": [
    "def kg_search(mem):\n",
    "    '''\n",
    "    Function to find Google Entity by search\n",
    "    '''\n",
    "    \n",
    "    data = [\n",
    "        mem['first_name'],\n",
    "        mem['last_name'],\n",
    "        'politician'\n",
    "    ]\n",
    "    query = ' '.join(data)\n",
    "    r = entities.search(query=query).execute()\n",
    "    result = r['itemListElement'][0]['result'] # Return top result\n",
    "    return result"
   ]
  },
  {
   "cell_type": "code",
   "execution_count": 30,
   "metadata": {
    "ExecuteTime": {
     "end_time": "2021-02-15T22:48:48.202173Z",
     "start_time": "2021-02-15T22:48:48.197792Z"
    }
   },
   "outputs": [],
   "source": [
    "@error_logging\n",
    "def get_google_id(mem):\n",
    "    '''\n",
    "    Get Google Entity ID via Google Knowledge Graph search\n",
    "    '''\n",
    "    \n",
    "    result = kg_search(mem)\n",
    "    s = result['@id']\n",
    "    _id = re.search('(?<=:).*', s)[0]\n",
    "    return _id"
   ]
  },
  {
   "cell_type": "code",
   "execution_count": 31,
   "metadata": {
    "ExecuteTime": {
     "end_time": "2021-02-15T22:48:51.718800Z",
     "start_time": "2021-02-15T22:48:48.205681Z"
    }
   },
   "outputs": [],
   "source": [
    "new_errors = {}\n",
    "for mem in _id_errors:\n",
    "    # Get correct Google Entity ID\n",
    "    _id, error = get_google_id(mem)\n",
    "    if error != None:\n",
    "        e_type = type(error)\n",
    "        if e_type not in new_errors.keys():\n",
    "            new_errors[e_type] = []\n",
    "        new_errors[e_type].append(mem)\n",
    "    mem['google_id'] = _id\n",
    "    \n",
    "    # Get Wikipedia page with new Google Entity ID\n",
    "    wiki_url, error = get_wikipedia(mem)\n",
    "    if error != None:\n",
    "        e_type = type(error)\n",
    "        if e_type not in new_errors.keys():\n",
    "            new_errors[e_type] = []\n",
    "        new_errors[e_type].append(mem)\n",
    "    mem['wiki_url'] = wiki_url"
   ]
  },
  {
   "cell_type": "code",
   "execution_count": 32,
   "metadata": {
    "ExecuteTime": {
     "end_time": "2021-02-15T22:48:51.725877Z",
     "start_time": "2021-02-15T22:48:51.721006Z"
    }
   },
   "outputs": [
    {
     "name": "stdout",
     "output_type": "stream",
     "text": [
      "Types of ID Errors Remaining: []\n"
     ]
    }
   ],
   "source": [
    "print('Types of ID Errors Remaining:', list(new_errors.keys()))"
   ]
  },
  {
   "cell_type": "markdown",
   "metadata": {},
   "source": [
    "### Retrieve Wikipedia URL from WikiMedia"
   ]
  },
  {
   "cell_type": "code",
   "execution_count": 33,
   "metadata": {
    "ExecuteTime": {
     "end_time": "2021-02-15T22:48:51.733139Z",
     "start_time": "2021-02-15T22:48:51.728441Z"
    }
   },
   "outputs": [],
   "source": [
    "def url_from_wikimedia(mem):\n",
    "    '''\n",
    "    Function to get Wikipedia URL of Representative from WikiMedia search\n",
    "    '''\n",
    "    \n",
    "    wikipedia = MediaWiki()\n",
    "    name = f\"{mem['first_name']} {mem['last_name']} politician\"\n",
    "    wiki_url = wikipedia.page(name).url\n",
    "    return wiki_url"
   ]
  },
  {
   "cell_type": "code",
   "execution_count": 34,
   "metadata": {
    "ExecuteTime": {
     "end_time": "2021-02-15T22:48:52.199735Z",
     "start_time": "2021-02-15T22:48:51.735740Z"
    }
   },
   "outputs": [
    {
     "data": {
      "text/plain": [
       "'https://en.wikipedia.org/wiki/Debbie_Dingell'"
      ]
     },
     "execution_count": 34,
     "metadata": {},
     "output_type": "execute_result"
    }
   ],
   "source": [
    "# Sample\n",
    "sample = key_errors[0]\n",
    "url_from_wikimedia(sample)"
   ]
  },
  {
   "cell_type": "code",
   "execution_count": 35,
   "metadata": {
    "ExecuteTime": {
     "end_time": "2021-02-15T22:48:57.211332Z",
     "start_time": "2021-02-15T22:48:52.201913Z"
    }
   },
   "outputs": [],
   "source": [
    "# Correct 'wiki_url' values\n",
    "for mem in key_errors:\n",
    "    wiki_url = url_from_wikimedia(mem)\n",
    "    mem['wiki_url'] = wiki_url"
   ]
  },
  {
   "cell_type": "code",
   "execution_count": 36,
   "metadata": {
    "ExecuteTime": {
     "end_time": "2021-02-15T22:48:57.217578Z",
     "start_time": "2021-02-15T22:48:57.213509Z"
    }
   },
   "outputs": [],
   "source": [
    "# Check if all members have 'google_id' and 'wiki_url'\n",
    "for mem in members:\n",
    "    assert mem['google_id'] != None\n",
    "    assert mem['wiki_url'] != None"
   ]
  },
  {
   "cell_type": "markdown",
   "metadata": {},
   "source": [
    "### Batch Insert\n",
    "- The members of congress will be rewritten instead of updated\n",
    "- Future updates will utilize batch updating instead"
   ]
  },
  {
   "cell_type": "code",
   "execution_count": 37,
   "metadata": {
    "ExecuteTime": {
     "end_time": "2021-02-15T22:48:57.225908Z",
     "start_time": "2021-02-15T22:48:57.220533Z"
    }
   },
   "outputs": [],
   "source": [
    "# Batch insert\n",
    "# batch_insert(members)"
   ]
  }
 ],
 "metadata": {
  "kernelspec": {
   "display_name": "db-env",
   "language": "python",
   "name": "db-env"
  },
  "language_info": {
   "codemirror_mode": {
    "name": "ipython",
    "version": 3
   },
   "file_extension": ".py",
   "mimetype": "text/x-python",
   "name": "python",
   "nbconvert_exporter": "python",
   "pygments_lexer": "ipython3",
   "version": "3.7.4"
  },
  "toc": {
   "base_numbering": 1,
   "nav_menu": {},
   "number_sections": false,
   "sideBar": true,
   "skip_h1_title": false,
   "title_cell": "Table of Contents",
   "title_sidebar": "Contents",
   "toc_cell": false,
   "toc_position": {},
   "toc_section_display": true,
   "toc_window_display": true
  }
 },
 "nbformat": 4,
 "nbformat_minor": 4
}
