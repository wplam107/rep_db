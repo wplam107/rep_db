{
 "cells": [
  {
   "cell_type": "markdown",
   "id": "alone-external",
   "metadata": {},
   "source": [
    "# Acquiring Shapefiles and Writing to GeoJSON"
   ]
  },
  {
   "cell_type": "code",
   "execution_count": 9,
   "id": "foster-crisis",
   "metadata": {
    "ExecuteTime": {
     "end_time": "2021-03-04T01:08:07.773462Z",
     "start_time": "2021-03-04T01:08:07.701318Z"
    }
   },
   "outputs": [],
   "source": [
    "import pymongo\n",
    "import geopandas as gpd\n",
    "import us\n",
    "from auth import Auth"
   ]
  },
  {
   "cell_type": "markdown",
   "id": "biblical-ecuador",
   "metadata": {},
   "source": [
    "## GeoPandas\n",
    "- Downloaded TIGER files from [US Census Bureau](https://www2.census.gov/geo/tiger/TIGER2020/CD/).\n",
    "- Mapped FIPS state numbers to state abbreviations from [```us```](https://github.com/unitedstates/python-us) package.\n",
    "- Wrote data to GeoJSON file."
   ]
  },
  {
   "cell_type": "code",
   "execution_count": 36,
   "id": "frozen-anime",
   "metadata": {
    "ExecuteTime": {
     "end_time": "2021-03-04T01:26:04.629940Z",
     "start_time": "2021-03-04T01:26:03.451029Z"
    }
   },
   "outputs": [],
   "source": [
    "fp = '../tl_2020_us_cd116/tl_2020_us_cd116.shp'\n",
    "df = gpd.read_file(fp)"
   ]
  },
  {
   "cell_type": "code",
   "execution_count": 37,
   "id": "applicable-founder",
   "metadata": {
    "ExecuteTime": {
     "end_time": "2021-03-04T01:26:05.166550Z",
     "start_time": "2021-03-04T01:26:05.162715Z"
    }
   },
   "outputs": [],
   "source": [
    "fips_dict = {}\n",
    "for state in us.states.STATES:\n",
    "    fips_dict[state.fips] = state.abbr"
   ]
  },
  {
   "cell_type": "code",
   "execution_count": 38,
   "id": "former-hebrew",
   "metadata": {
    "ExecuteTime": {
     "end_time": "2021-03-04T01:26:05.843307Z",
     "start_time": "2021-03-04T01:26:05.828266Z"
    }
   },
   "outputs": [],
   "source": [
    "df['STATEFP'] = df['STATEFP'].map(fips_dict)\n",
    "df.rename(columns={'STATEFP': 'state_fips', 'CD116FP': 'cd'}, inplace=True)\n",
    "df = df[['state_fips', 'cd', 'geometry']]"
   ]
  },
  {
   "cell_type": "code",
   "execution_count": 43,
   "id": "developed-removal",
   "metadata": {
    "ExecuteTime": {
     "end_time": "2021-03-04T01:32:53.133218Z",
     "start_time": "2021-03-04T01:32:53.009604Z"
    }
   },
   "outputs": [
    {
     "data": {
      "text/html": [
       "<div>\n",
       "<style scoped>\n",
       "    .dataframe tbody tr th:only-of-type {\n",
       "        vertical-align: middle;\n",
       "    }\n",
       "\n",
       "    .dataframe tbody tr th {\n",
       "        vertical-align: top;\n",
       "    }\n",
       "\n",
       "    .dataframe thead th {\n",
       "        text-align: right;\n",
       "    }\n",
       "</style>\n",
       "<table border=\"1\" class=\"dataframe\">\n",
       "  <thead>\n",
       "    <tr style=\"text-align: right;\">\n",
       "      <th></th>\n",
       "      <th>state_fips</th>\n",
       "      <th>cd</th>\n",
       "      <th>geometry</th>\n",
       "    </tr>\n",
       "  </thead>\n",
       "  <tbody>\n",
       "    <tr>\n",
       "      <th>0</th>\n",
       "      <td>MN</td>\n",
       "      <td>07</td>\n",
       "      <td>POLYGON ((-97.23909 48.96826, -97.23909 48.968...</td>\n",
       "    </tr>\n",
       "    <tr>\n",
       "      <th>1</th>\n",
       "      <td>MN</td>\n",
       "      <td>02</td>\n",
       "      <td>POLYGON ((-93.91131 44.54651, -93.91024 44.548...</td>\n",
       "    </tr>\n",
       "    <tr>\n",
       "      <th>2</th>\n",
       "      <td>MN</td>\n",
       "      <td>06</td>\n",
       "      <td>POLYGON ((-94.64041 45.37072, -94.64039 45.371...</td>\n",
       "    </tr>\n",
       "  </tbody>\n",
       "</table>\n",
       "</div>"
      ],
      "text/plain": [
       "  state_fips  cd                                           geometry\n",
       "0         MN  07  POLYGON ((-97.23909 48.96826, -97.23909 48.968...\n",
       "1         MN  02  POLYGON ((-93.91131 44.54651, -93.91024 44.548...\n",
       "2         MN  06  POLYGON ((-94.64041 45.37072, -94.64039 45.371..."
      ]
     },
     "execution_count": 43,
     "metadata": {},
     "output_type": "execute_result"
    }
   ],
   "source": [
    "df.head(3)"
   ]
  },
  {
   "cell_type": "code",
   "execution_count": 46,
   "id": "asian-pavilion",
   "metadata": {
    "ExecuteTime": {
     "end_time": "2021-03-04T01:37:24.944503Z",
     "start_time": "2021-03-04T01:37:01.853615Z"
    }
   },
   "outputs": [],
   "source": [
    "df.to_file('cd_geo.json', driver='GeoJSON')"
   ]
  },
  {
   "cell_type": "code",
   "execution_count": null,
   "id": "documentary-academy",
   "metadata": {},
   "outputs": [],
   "source": []
  }
 ],
 "metadata": {
  "kernelspec": {
   "display_name": "geo-env",
   "language": "python",
   "name": "geo-env"
  },
  "language_info": {
   "codemirror_mode": {
    "name": "ipython",
    "version": 3
   },
   "file_extension": ".py",
   "mimetype": "text/x-python",
   "name": "python",
   "nbconvert_exporter": "python",
   "pygments_lexer": "ipython3",
   "version": "3.9.1"
  },
  "toc": {
   "base_numbering": 1,
   "nav_menu": {},
   "number_sections": false,
   "sideBar": true,
   "skip_h1_title": false,
   "title_cell": "Table of Contents",
   "title_sidebar": "Contents",
   "toc_cell": false,
   "toc_position": {},
   "toc_section_display": true,
   "toc_window_display": true
  }
 },
 "nbformat": 4,
 "nbformat_minor": 5
}
