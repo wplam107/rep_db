{
 "cells": [
  {
   "cell_type": "markdown",
   "id": "foster-entertainment",
   "metadata": {},
   "source": [
    "# Creating Cartographic Congressional Districts"
   ]
  },
  {
   "cell_type": "code",
   "execution_count": 1,
   "id": "relative-column",
   "metadata": {
    "ExecuteTime": {
     "end_time": "2021-03-08T20:45:42.156983Z",
     "start_time": "2021-03-08T20:45:40.770537Z"
    }
   },
   "outputs": [],
   "source": [
    "import pandas as pd\n",
    "import geopandas as gpd\n",
    "import topojson as tp\n",
    "import json\n",
    "import matplotlib.pyplot as plt\n",
    "import us"
   ]
  },
  {
   "cell_type": "markdown",
   "id": "unlimited-canada",
   "metadata": {},
   "source": [
    "## GeoPandas\n",
    "- State data from [```us```](https://github.com/unitedstates/python-us) package.\n",
    "- Only include 50 states + DC"
   ]
  },
  {
   "cell_type": "markdown",
   "id": "treated-yukon",
   "metadata": {},
   "source": [
    "### Congressional Districts and States\n",
    "- Congressional district and State Shapefiles [US Census Bureau](https://www.census.gov/geographies/mapping-files/time-series/geo/cartographic-boundary.html)."
   ]
  },
  {
   "cell_type": "code",
   "execution_count": 2,
   "id": "according-newark",
   "metadata": {
    "ExecuteTime": {
     "end_time": "2021-03-08T20:45:43.385851Z",
     "start_time": "2021-03-08T20:45:43.146570Z"
    }
   },
   "outputs": [],
   "source": [
    "cd = gpd.read_file('../cb_2019_us_cd116_5m/cb_2019_us_cd116_5m.shp')\n",
    "st = gpd.read_file('../cb_2019_us_state_5m/cb_2019_us_state_5m.shp')"
   ]
  },
  {
   "cell_type": "code",
   "execution_count": 3,
   "id": "metropolitan-horizontal",
   "metadata": {
    "ExecuteTime": {
     "end_time": "2021-03-08T20:45:43.480819Z",
     "start_time": "2021-03-08T20:45:43.453844Z"
    }
   },
   "outputs": [
    {
     "data": {
      "text/html": [
       "<div>\n",
       "<style scoped>\n",
       "    .dataframe tbody tr th:only-of-type {\n",
       "        vertical-align: middle;\n",
       "    }\n",
       "\n",
       "    .dataframe tbody tr th {\n",
       "        vertical-align: top;\n",
       "    }\n",
       "\n",
       "    .dataframe thead th {\n",
       "        text-align: right;\n",
       "    }\n",
       "</style>\n",
       "<table border=\"1\" class=\"dataframe\">\n",
       "  <thead>\n",
       "    <tr style=\"text-align: right;\">\n",
       "      <th></th>\n",
       "      <th>STATEFP</th>\n",
       "      <th>CD116FP</th>\n",
       "      <th>AFFGEOID</th>\n",
       "      <th>GEOID</th>\n",
       "      <th>LSAD</th>\n",
       "      <th>CDSESSN</th>\n",
       "      <th>ALAND</th>\n",
       "      <th>AWATER</th>\n",
       "      <th>geometry</th>\n",
       "    </tr>\n",
       "  </thead>\n",
       "  <tbody>\n",
       "    <tr>\n",
       "      <th>0</th>\n",
       "      <td>06</td>\n",
       "      <td>46</td>\n",
       "      <td>5001600US0646</td>\n",
       "      <td>0646</td>\n",
       "      <td>C2</td>\n",
       "      <td>116</td>\n",
       "      <td>187083592</td>\n",
       "      <td>995827</td>\n",
       "      <td>POLYGON ((-118.01098 33.83197, -117.99790 33.8...</td>\n",
       "    </tr>\n",
       "    <tr>\n",
       "      <th>1</th>\n",
       "      <td>53</td>\n",
       "      <td>08</td>\n",
       "      <td>5001600US5308</td>\n",
       "      <td>5308</td>\n",
       "      <td>C2</td>\n",
       "      <td>116</td>\n",
       "      <td>19060921511</td>\n",
       "      <td>369956145</td>\n",
       "      <td>POLYGON ((-122.55184 46.96594, -122.52653 46.9...</td>\n",
       "    </tr>\n",
       "    <tr>\n",
       "      <th>2</th>\n",
       "      <td>28</td>\n",
       "      <td>03</td>\n",
       "      <td>5001600US2803</td>\n",
       "      <td>2803</td>\n",
       "      <td>C2</td>\n",
       "      <td>116</td>\n",
       "      <td>33034109746</td>\n",
       "      <td>341716865</td>\n",
       "      <td>POLYGON ((-91.65501 31.25181, -91.65403 31.255...</td>\n",
       "    </tr>\n",
       "  </tbody>\n",
       "</table>\n",
       "</div>"
      ],
      "text/plain": [
       "  STATEFP CD116FP       AFFGEOID GEOID LSAD CDSESSN        ALAND     AWATER  \\\n",
       "0      06      46  5001600US0646  0646   C2     116    187083592     995827   \n",
       "1      53      08  5001600US5308  5308   C2     116  19060921511  369956145   \n",
       "2      28      03  5001600US2803  2803   C2     116  33034109746  341716865   \n",
       "\n",
       "                                            geometry  \n",
       "0  POLYGON ((-118.01098 33.83197, -117.99790 33.8...  \n",
       "1  POLYGON ((-122.55184 46.96594, -122.52653 46.9...  \n",
       "2  POLYGON ((-91.65501 31.25181, -91.65403 31.255...  "
      ]
     },
     "execution_count": 3,
     "metadata": {},
     "output_type": "execute_result"
    }
   ],
   "source": [
    "cd.head(3)"
   ]
  },
  {
   "cell_type": "code",
   "execution_count": 4,
   "id": "genetic-latest",
   "metadata": {
    "ExecuteTime": {
     "end_time": "2021-03-08T20:45:43.787279Z",
     "start_time": "2021-03-08T20:45:43.756569Z"
    }
   },
   "outputs": [
    {
     "data": {
      "text/html": [
       "<div>\n",
       "<style scoped>\n",
       "    .dataframe tbody tr th:only-of-type {\n",
       "        vertical-align: middle;\n",
       "    }\n",
       "\n",
       "    .dataframe tbody tr th {\n",
       "        vertical-align: top;\n",
       "    }\n",
       "\n",
       "    .dataframe thead th {\n",
       "        text-align: right;\n",
       "    }\n",
       "</style>\n",
       "<table border=\"1\" class=\"dataframe\">\n",
       "  <thead>\n",
       "    <tr style=\"text-align: right;\">\n",
       "      <th></th>\n",
       "      <th>STATEFP</th>\n",
       "      <th>STATENS</th>\n",
       "      <th>AFFGEOID</th>\n",
       "      <th>GEOID</th>\n",
       "      <th>STUSPS</th>\n",
       "      <th>NAME</th>\n",
       "      <th>LSAD</th>\n",
       "      <th>ALAND</th>\n",
       "      <th>AWATER</th>\n",
       "      <th>geometry</th>\n",
       "    </tr>\n",
       "  </thead>\n",
       "  <tbody>\n",
       "    <tr>\n",
       "      <th>0</th>\n",
       "      <td>23</td>\n",
       "      <td>01779787</td>\n",
       "      <td>0400000US23</td>\n",
       "      <td>23</td>\n",
       "      <td>ME</td>\n",
       "      <td>Maine</td>\n",
       "      <td>00</td>\n",
       "      <td>79887659040</td>\n",
       "      <td>11745717739</td>\n",
       "      <td>MULTIPOLYGON (((-68.37659 44.11376, -68.37538 ...</td>\n",
       "    </tr>\n",
       "    <tr>\n",
       "      <th>1</th>\n",
       "      <td>33</td>\n",
       "      <td>01779794</td>\n",
       "      <td>0400000US33</td>\n",
       "      <td>33</td>\n",
       "      <td>NH</td>\n",
       "      <td>New Hampshire</td>\n",
       "      <td>00</td>\n",
       "      <td>23189198255</td>\n",
       "      <td>1026903434</td>\n",
       "      <td>POLYGON ((-72.55725 42.85302, -72.55423 42.860...</td>\n",
       "    </tr>\n",
       "    <tr>\n",
       "      <th>2</th>\n",
       "      <td>10</td>\n",
       "      <td>01779781</td>\n",
       "      <td>0400000US10</td>\n",
       "      <td>10</td>\n",
       "      <td>DE</td>\n",
       "      <td>Delaware</td>\n",
       "      <td>00</td>\n",
       "      <td>5046620081</td>\n",
       "      <td>1399291164</td>\n",
       "      <td>MULTIPOLYGON (((-75.57080 39.62677, -75.55945 ...</td>\n",
       "    </tr>\n",
       "  </tbody>\n",
       "</table>\n",
       "</div>"
      ],
      "text/plain": [
       "  STATEFP   STATENS     AFFGEOID GEOID STUSPS           NAME LSAD  \\\n",
       "0      23  01779787  0400000US23    23     ME          Maine   00   \n",
       "1      33  01779794  0400000US33    33     NH  New Hampshire   00   \n",
       "2      10  01779781  0400000US10    10     DE       Delaware   00   \n",
       "\n",
       "         ALAND       AWATER                                           geometry  \n",
       "0  79887659040  11745717739  MULTIPOLYGON (((-68.37659 44.11376, -68.37538 ...  \n",
       "1  23189198255   1026903434  POLYGON ((-72.55725 42.85302, -72.55423 42.860...  \n",
       "2   5046620081   1399291164  MULTIPOLYGON (((-75.57080 39.62677, -75.55945 ...  "
      ]
     },
     "execution_count": 4,
     "metadata": {},
     "output_type": "execute_result"
    }
   ],
   "source": [
    "st.head(3)"
   ]
  },
  {
   "cell_type": "code",
   "execution_count": 5,
   "id": "accessible-battery",
   "metadata": {
    "ExecuteTime": {
     "end_time": "2021-03-08T20:45:46.854333Z",
     "start_time": "2021-03-08T20:45:46.843516Z"
    }
   },
   "outputs": [],
   "source": [
    "# Merge GeoDataFrames on state FIPS code\n",
    "df = pd.merge(cd, st, on='STATEFP', how='left', suffixes=('_cd', '_state'))"
   ]
  },
  {
   "cell_type": "code",
   "execution_count": 6,
   "id": "statistical-tumor",
   "metadata": {
    "ExecuteTime": {
     "end_time": "2021-03-08T20:45:47.698138Z",
     "start_time": "2021-03-08T20:45:47.691393Z"
    }
   },
   "outputs": [],
   "source": [
    "# Only keep 50 states + DC\n",
    "states = [ state.abbr for state in us.states.STATES ] + ['DC']\n",
    "df = df.loc[df['STUSPS'].isin(states)]"
   ]
  },
  {
   "cell_type": "markdown",
   "id": "mighty-embassy",
   "metadata": {},
   "source": [
    "### Parallels and Geographic Centers for Projections\n",
    "- Create features for Albers projections:\n",
    "    - State Latitude Parallels\n",
    "    - State Lat-Long Centers relative to prime meridian"
   ]
  },
  {
   "cell_type": "code",
   "execution_count": 8,
   "id": "monetary-possible",
   "metadata": {
    "ExecuteTime": {
     "end_time": "2021-03-08T20:45:51.632693Z",
     "start_time": "2021-03-08T20:45:51.218366Z"
    },
    "scrolled": true
   },
   "outputs": [
    {
     "name": "stderr",
     "output_type": "stream",
     "text": [
      "<ipython-input-8-1eb0f1cbe1c1>:3: UserWarning: Geometry is in a geographic CRS. Results from 'centroid' are likely incorrect. Use 'GeoSeries.to_crs()' to re-project geometries to a projected CRS before this operation.\n",
      "\n",
      "  df['state_center'] = df['geometry_state'].centroid.map(lambda x: x.bounds[:2])\n"
     ]
    }
   ],
   "source": [
    "df['state_parallels'] = df['geometry_state'].bounds[['miny', 'maxy']].values.tolist()\n",
    "df['state_parallels'] = df['state_parallels'].map(lambda x: str(x))\n",
    "df['state_center'] = df['geometry_state'].centroid.map(lambda x: x.bounds[:2])\n",
    "df['state_center'] = df['state_center'].map(lambda x: str(list(x)))"
   ]
  },
  {
   "cell_type": "code",
   "execution_count": 9,
   "id": "according-blackberry",
   "metadata": {
    "ExecuteTime": {
     "end_time": "2021-03-08T20:45:53.831172Z",
     "start_time": "2021-03-08T20:45:53.826418Z"
    }
   },
   "outputs": [],
   "source": [
    "col_dict = {\n",
    "    'CD116FP': 'cd116',\n",
    "    'STUSPS': 'state_abbr',\n",
    "    'NAME': 'state',\n",
    "    'geometry_cd': 'geometry'\n",
    "}\n",
    "df.rename(columns=col_dict, inplace=True)"
   ]
  },
  {
   "cell_type": "code",
   "execution_count": 10,
   "id": "verified-catering",
   "metadata": {
    "ExecuteTime": {
     "end_time": "2021-03-08T20:46:00.337570Z",
     "start_time": "2021-03-08T20:46:00.330644Z"
    }
   },
   "outputs": [],
   "source": [
    "df = df[['state', 'state_abbr', 'cd116', 'state_parallels', 'state_center', 'geometry']]"
   ]
  },
  {
   "cell_type": "code",
   "execution_count": 13,
   "id": "massive-shuttle",
   "metadata": {
    "ExecuteTime": {
     "end_time": "2021-03-08T20:47:03.797871Z",
     "start_time": "2021-03-08T20:47:03.778347Z"
    }
   },
   "outputs": [
    {
     "data": {
      "text/html": [
       "<div>\n",
       "<style scoped>\n",
       "    .dataframe tbody tr th:only-of-type {\n",
       "        vertical-align: middle;\n",
       "    }\n",
       "\n",
       "    .dataframe tbody tr th {\n",
       "        vertical-align: top;\n",
       "    }\n",
       "\n",
       "    .dataframe thead th {\n",
       "        text-align: right;\n",
       "    }\n",
       "</style>\n",
       "<table border=\"1\" class=\"dataframe\">\n",
       "  <thead>\n",
       "    <tr style=\"text-align: right;\">\n",
       "      <th></th>\n",
       "      <th>state</th>\n",
       "      <th>state_abbr</th>\n",
       "      <th>cd116</th>\n",
       "      <th>state_parallels</th>\n",
       "      <th>state_center</th>\n",
       "      <th>geometry</th>\n",
       "    </tr>\n",
       "  </thead>\n",
       "  <tbody>\n",
       "    <tr>\n",
       "      <th>0</th>\n",
       "      <td>California</td>\n",
       "      <td>CA</td>\n",
       "      <td>46</td>\n",
       "      <td>[32.534155999999996, 42.009518]</td>\n",
       "      <td>[-119.61056021596366, 37.24595553055751]</td>\n",
       "      <td>POLYGON ((-118.01098 33.83197, -117.99790 33.8...</td>\n",
       "    </tr>\n",
       "    <tr>\n",
       "      <th>1</th>\n",
       "      <td>Washington</td>\n",
       "      <td>WA</td>\n",
       "      <td>08</td>\n",
       "      <td>[45.543541, 49.002494]</td>\n",
       "      <td>[-120.45086015401453, 47.38228437070155]</td>\n",
       "      <td>POLYGON ((-122.55184 46.96594, -122.52653 46.9...</td>\n",
       "    </tr>\n",
       "    <tr>\n",
       "      <th>2</th>\n",
       "      <td>Mississippi</td>\n",
       "      <td>MS</td>\n",
       "      <td>03</td>\n",
       "      <td>[30.173942999999998, 34.996052]</td>\n",
       "      <td>[-89.66427750479714, 32.74881844210875]</td>\n",
       "      <td>POLYGON ((-91.65501 31.25181, -91.65403 31.255...</td>\n",
       "    </tr>\n",
       "  </tbody>\n",
       "</table>\n",
       "</div>"
      ],
      "text/plain": [
       "         state state_abbr cd116                  state_parallels  \\\n",
       "0   California         CA    46  [32.534155999999996, 42.009518]   \n",
       "1   Washington         WA    08           [45.543541, 49.002494]   \n",
       "2  Mississippi         MS    03  [30.173942999999998, 34.996052]   \n",
       "\n",
       "                               state_center  \\\n",
       "0  [-119.61056021596366, 37.24595553055751]   \n",
       "1  [-120.45086015401453, 47.38228437070155]   \n",
       "2   [-89.66427750479714, 32.74881844210875]   \n",
       "\n",
       "                                            geometry  \n",
       "0  POLYGON ((-118.01098 33.83197, -117.99790 33.8...  \n",
       "1  POLYGON ((-122.55184 46.96594, -122.52653 46.9...  \n",
       "2  POLYGON ((-91.65501 31.25181, -91.65403 31.255...  "
      ]
     },
     "execution_count": 13,
     "metadata": {},
     "output_type": "execute_result"
    }
   ],
   "source": [
    "df.head(3)"
   ]
  },
  {
   "cell_type": "code",
   "execution_count": 15,
   "id": "wireless-liberia",
   "metadata": {
    "ExecuteTime": {
     "end_time": "2021-03-08T20:47:23.224804Z",
     "start_time": "2021-03-08T20:47:19.818859Z"
    },
    "scrolled": true
   },
   "outputs": [],
   "source": [
    "# Generate TopoJSON files of individual states\n",
    "states = list(df['state_abbr'].unique())\n",
    "error = []\n",
    "for state in states:\n",
    "    try:\n",
    "        topo = tp.Topology(data=df.loc[df['state_abbr'] == state])\n",
    "    except:\n",
    "        error.append(state)\n",
    "    topo.to_json(f'./data/{state}.topo.json')"
   ]
  },
  {
   "cell_type": "markdown",
   "id": "major-patent",
   "metadata": {},
   "source": [
    "## National Map with States\n",
    "- Downloaded data from composite Albers [TopoJSON GitHub](https://github.com/topojson/us-atlas#states-10m.json)."
   ]
  },
  {
   "cell_type": "code",
   "execution_count": 21,
   "id": "liable-timeline",
   "metadata": {
    "ExecuteTime": {
     "end_time": "2021-03-08T20:57:51.784088Z",
     "start_time": "2021-03-08T20:57:51.745188Z"
    }
   },
   "outputs": [],
   "source": [
    "usa = gpd.read_file('./data/usa.topo.json')"
   ]
  },
  {
   "cell_type": "code",
   "execution_count": 22,
   "id": "unauthorized-collection",
   "metadata": {
    "ExecuteTime": {
     "end_time": "2021-03-08T20:57:52.567516Z",
     "start_time": "2021-03-08T20:57:52.544083Z"
    }
   },
   "outputs": [
    {
     "data": {
      "text/html": [
       "<div>\n",
       "<style scoped>\n",
       "    .dataframe tbody tr th:only-of-type {\n",
       "        vertical-align: middle;\n",
       "    }\n",
       "\n",
       "    .dataframe tbody tr th {\n",
       "        vertical-align: top;\n",
       "    }\n",
       "\n",
       "    .dataframe thead th {\n",
       "        text-align: right;\n",
       "    }\n",
       "</style>\n",
       "<table border=\"1\" class=\"dataframe\">\n",
       "  <thead>\n",
       "    <tr style=\"text-align: right;\">\n",
       "      <th></th>\n",
       "      <th>id</th>\n",
       "      <th>name</th>\n",
       "      <th>geometry</th>\n",
       "    </tr>\n",
       "  </thead>\n",
       "  <tbody>\n",
       "    <tr>\n",
       "      <th>0</th>\n",
       "      <td>01</td>\n",
       "      <td>Alabama</td>\n",
       "      <td>MULTIPOLYGON (((647.959 492.438, 651.817 491.5...</td>\n",
       "    </tr>\n",
       "    <tr>\n",
       "      <th>1</th>\n",
       "      <td>02</td>\n",
       "      <td>Alaska</td>\n",
       "      <td>MULTIPOLYGON (((104.168 551.602, 104.645 550.2...</td>\n",
       "    </tr>\n",
       "    <tr>\n",
       "      <th>2</th>\n",
       "      <td>04</td>\n",
       "      <td>Arizona</td>\n",
       "      <td>POLYGON ((145.070 407.049, 145.730 406.740, 14...</td>\n",
       "    </tr>\n",
       "  </tbody>\n",
       "</table>\n",
       "</div>"
      ],
      "text/plain": [
       "   id     name                                           geometry\n",
       "0  01  Alabama  MULTIPOLYGON (((647.959 492.438, 651.817 491.5...\n",
       "1  02   Alaska  MULTIPOLYGON (((104.168 551.602, 104.645 550.2...\n",
       "2  04  Arizona  POLYGON ((145.070 407.049, 145.730 406.740, 14..."
      ]
     },
     "execution_count": 22,
     "metadata": {},
     "output_type": "execute_result"
    }
   ],
   "source": [
    "usa.head(3)"
   ]
  },
  {
   "cell_type": "code",
   "execution_count": 35,
   "id": "indirect-ottawa",
   "metadata": {
    "ExecuteTime": {
     "end_time": "2021-03-08T21:03:09.668798Z",
     "start_time": "2021-03-08T21:03:09.663783Z"
    }
   },
   "outputs": [],
   "source": [
    "# Map FIPS code to state abbreviation\n",
    "fips_dict = { state.fips: state.abbr for state in us.states.STATES }\n",
    "usa['id'] = usa['id'].map(fips_dict)"
   ]
  },
  {
   "cell_type": "code",
   "execution_count": 38,
   "id": "loaded-father",
   "metadata": {
    "ExecuteTime": {
     "end_time": "2021-03-08T21:04:06.834142Z",
     "start_time": "2021-03-08T21:04:06.821957Z"
    }
   },
   "outputs": [
    {
     "data": {
      "text/html": [
       "<div>\n",
       "<style scoped>\n",
       "    .dataframe tbody tr th:only-of-type {\n",
       "        vertical-align: middle;\n",
       "    }\n",
       "\n",
       "    .dataframe tbody tr th {\n",
       "        vertical-align: top;\n",
       "    }\n",
       "\n",
       "    .dataframe thead th {\n",
       "        text-align: right;\n",
       "    }\n",
       "</style>\n",
       "<table border=\"1\" class=\"dataframe\">\n",
       "  <thead>\n",
       "    <tr style=\"text-align: right;\">\n",
       "      <th></th>\n",
       "      <th>id</th>\n",
       "      <th>name</th>\n",
       "      <th>geometry</th>\n",
       "    </tr>\n",
       "  </thead>\n",
       "  <tbody>\n",
       "    <tr>\n",
       "      <th>27</th>\n",
       "      <td>NaN</td>\n",
       "      <td>District of Columbia</td>\n",
       "      <td>POLYGON ((825.883 266.995, 826.959 265.345, 82...</td>\n",
       "    </tr>\n",
       "  </tbody>\n",
       "</table>\n",
       "</div>"
      ],
      "text/plain": [
       "     id                  name  \\\n",
       "27  NaN  District of Columbia   \n",
       "\n",
       "                                             geometry  \n",
       "27  POLYGON ((825.883 266.995, 826.959 265.345, 82...  "
      ]
     },
     "execution_count": 38,
     "metadata": {},
     "output_type": "execute_result"
    }
   ],
   "source": [
    "# Find DC\n",
    "usa.loc[usa['id'].isna()]"
   ]
  },
  {
   "cell_type": "code",
   "execution_count": 39,
   "id": "danish-subcommittee",
   "metadata": {
    "ExecuteTime": {
     "end_time": "2021-03-08T21:04:42.928583Z",
     "start_time": "2021-03-08T21:04:42.924963Z"
    }
   },
   "outputs": [],
   "source": [
    "# Add DC\n",
    "usa.at[27, 'id'] = 'DC'"
   ]
  },
  {
   "cell_type": "code",
   "execution_count": 41,
   "id": "arbitrary-guard",
   "metadata": {
    "ExecuteTime": {
     "end_time": "2021-03-08T21:04:58.020925Z",
     "start_time": "2021-03-08T21:04:57.740156Z"
    }
   },
   "outputs": [
    {
     "data": {
      "image/png": "[encoded data removed]",
      "text/plain": [
       "<Figure size 432x288 with 1 Axes>"
      ]
     },
     "metadata": {
      "needs_background": "light"
     },
     "output_type": "display_data"
    }
   ],
   "source": [
    "# TopoJSON state data is mapped to SVG, the top-left corner is origin\n",
    "usa.plot().invert_yaxis()"
   ]
  },
  {
   "cell_type": "code",
   "execution_count": 46,
   "id": "racial-gross",
   "metadata": {
    "ExecuteTime": {
     "end_time": "2021-03-08T21:10:55.553871Z",
     "start_time": "2021-03-08T21:10:55.267164Z"
    }
   },
   "outputs": [],
   "source": [
    "topo = tp.Topology(data=usa)\n",
    "topo.to_json('./data/usa.topo.json')"
   ]
  },
  {
   "cell_type": "code",
   "execution_count": null,
   "id": "small-relay",
   "metadata": {},
   "outputs": [],
   "source": []
  }
 ],
 "metadata": {
  "kernelspec": {
   "display_name": "geo-env",
   "language": "python",
   "name": "geo-env"
  },
  "language_info": {
   "codemirror_mode": {
    "name": "ipython",
    "version": 3
   },
   "file_extension": ".py",
   "mimetype": "text/x-python",
   "name": "python",
   "nbconvert_exporter": "python",
   "pygments_lexer": "ipython3",
   "version": "3.9.1"
  },
  "toc": {
   "base_numbering": 1,
   "nav_menu": {},
   "number_sections": false,
   "sideBar": true,
   "skip_h1_title": false,
   "title_cell": "Table of Contents",
   "title_sidebar": "Contents",
   "toc_cell": false,
   "toc_position": {},
   "toc_section_display": true,
   "toc_window_display": false
  }
 },
 "nbformat": 4,
 "nbformat_minor": 5
}
