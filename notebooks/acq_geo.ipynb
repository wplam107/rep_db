{
 "cells": [
  {
   "cell_type": "markdown",
   "id": "attended-surgeon",
   "metadata": {},
   "source": [
    "# Acquiring Shapefiles and Writing to GeoJSON"
   ]
  },
  {
   "cell_type": "code",
   "execution_count": 156,
   "id": "stuck-bridal",
   "metadata": {
    "ExecuteTime": {
     "end_time": "2021-03-04T18:48:13.884254Z",
     "start_time": "2021-03-04T18:48:13.880245Z"
    }
   },
   "outputs": [],
   "source": [
    "import pymongo\n",
    "import numpy as np\n",
    "import pandas as pd\n",
    "import geopandas as gpd\n",
    "import topojson as tp\n",
    "import json\n",
    "import matplotlib.pyplot as plt\n",
    "import us\n",
    "from auth import Auth"
   ]
  },
  {
   "cell_type": "markdown",
   "id": "banner-tractor",
   "metadata": {},
   "source": [
    "## GeoPandas\n",
    "- Mapped FIPS state numbers to state abbreviations from [```us```](https://github.com/unitedstates/python-us) package.\n",
    "- Wrote data to TopoJSON file."
   ]
  },
  {
   "cell_type": "markdown",
   "id": "occupied-perfume",
   "metadata": {},
   "source": [
    "### Congressional Districts\n",
    "- Downloaded TIGER files from [US Census Bureau](https://www2.census.gov/geo/tiger/TIGER2020/CD/)."
   ]
  },
  {
   "cell_type": "code",
   "execution_count": 240,
   "id": "destroyed-amplifier",
   "metadata": {
    "ExecuteTime": {
     "end_time": "2021-03-05T16:59:20.666853Z",
     "start_time": "2021-03-05T16:59:18.240879Z"
    }
   },
   "outputs": [],
   "source": [
    "fp = '../tl_2020_us_cd116/tl_2020_us_cd116.shp'\n",
    "df = gpd.read_file(fp)"
   ]
  },
  {
   "cell_type": "code",
   "execution_count": 241,
   "id": "based-mechanics",
   "metadata": {
    "ExecuteTime": {
     "end_time": "2021-03-05T16:59:20.691922Z",
     "start_time": "2021-03-05T16:59:20.671399Z"
    }
   },
   "outputs": [],
   "source": [
    "fips_dict = {}\n",
    "for state in us.states.STATES:\n",
    "    fips_dict[state.fips] = state.abbr"
   ]
  },
  {
   "cell_type": "code",
   "execution_count": 242,
   "id": "advanced-dominican",
   "metadata": {
    "ExecuteTime": {
     "end_time": "2021-03-05T16:59:20.739089Z",
     "start_time": "2021-03-05T16:59:20.695355Z"
    }
   },
   "outputs": [],
   "source": [
    "df['STATEFP'] = df['STATEFP'].map(fips_dict)\n",
    "df.rename(columns={'STATEFP': 'state', 'CD116FP': 'cd'}, inplace=True)\n",
    "df = df[['state', 'cd', 'geometry']]"
   ]
  },
  {
   "cell_type": "code",
   "execution_count": 243,
   "id": "expensive-lawyer",
   "metadata": {
    "ExecuteTime": {
     "end_time": "2021-03-05T16:59:20.927575Z",
     "start_time": "2021-03-05T16:59:20.857498Z"
    }
   },
   "outputs": [
    {
     "data": {
      "text/html": [
       "<div>\n",
       "<style scoped>\n",
       "    .dataframe tbody tr th:only-of-type {\n",
       "        vertical-align: middle;\n",
       "    }\n",
       "\n",
       "    .dataframe tbody tr th {\n",
       "        vertical-align: top;\n",
       "    }\n",
       "\n",
       "    .dataframe thead th {\n",
       "        text-align: right;\n",
       "    }\n",
       "</style>\n",
       "<table border=\"1\" class=\"dataframe\">\n",
       "  <thead>\n",
       "    <tr style=\"text-align: right;\">\n",
       "      <th></th>\n",
       "      <th>state</th>\n",
       "      <th>cd</th>\n",
       "      <th>geometry</th>\n",
       "    </tr>\n",
       "  </thead>\n",
       "  <tbody>\n",
       "    <tr>\n",
       "      <th>194</th>\n",
       "      <td>NaN</td>\n",
       "      <td>98</td>\n",
       "      <td>MULTIPOLYGON (((146.00199 16.02878, 146.01425 ...</td>\n",
       "    </tr>\n",
       "    <tr>\n",
       "      <th>263</th>\n",
       "      <td>NaN</td>\n",
       "      <td>98</td>\n",
       "      <td>POLYGON ((-77.11975 38.93435, -77.11886 38.935...</td>\n",
       "    </tr>\n",
       "    <tr>\n",
       "      <th>270</th>\n",
       "      <td>NaN</td>\n",
       "      <td>98</td>\n",
       "      <td>POLYGON ((144.56343 13.44806, 144.56357 13.450...</td>\n",
       "    </tr>\n",
       "    <tr>\n",
       "      <th>283</th>\n",
       "      <td>NaN</td>\n",
       "      <td>98</td>\n",
       "      <td>MULTIPOLYGON (((-64.95671 17.67898, -64.95638 ...</td>\n",
       "    </tr>\n",
       "    <tr>\n",
       "      <th>285</th>\n",
       "      <td>NaN</td>\n",
       "      <td>98</td>\n",
       "      <td>MULTIPOLYGON (((-67.32325 18.36388, -67.32227 ...</td>\n",
       "    </tr>\n",
       "    <tr>\n",
       "      <th>309</th>\n",
       "      <td>NaN</td>\n",
       "      <td>98</td>\n",
       "      <td>MULTIPOLYGON (((-168.22527 -14.53591, -168.224...</td>\n",
       "    </tr>\n",
       "  </tbody>\n",
       "</table>\n",
       "</div>"
      ],
      "text/plain": [
       "    state  cd                                           geometry\n",
       "194   NaN  98  MULTIPOLYGON (((146.00199 16.02878, 146.01425 ...\n",
       "263   NaN  98  POLYGON ((-77.11975 38.93435, -77.11886 38.935...\n",
       "270   NaN  98  POLYGON ((144.56343 13.44806, 144.56357 13.450...\n",
       "283   NaN  98  MULTIPOLYGON (((-64.95671 17.67898, -64.95638 ...\n",
       "285   NaN  98  MULTIPOLYGON (((-67.32325 18.36388, -67.32227 ...\n",
       "309   NaN  98  MULTIPOLYGON (((-168.22527 -14.53591, -168.224..."
      ]
     },
     "execution_count": 243,
     "metadata": {},
     "output_type": "execute_result"
    }
   ],
   "source": [
    "# NaNs are at-large congressional districts\n",
    "df.loc[df['state'].isna()]"
   ]
  },
  {
   "cell_type": "code",
   "execution_count": 244,
   "id": "rubber-insight",
   "metadata": {
    "ExecuteTime": {
     "end_time": "2021-03-05T16:59:23.807314Z",
     "start_time": "2021-03-05T16:59:23.464894Z"
    }
   },
   "outputs": [
    {
     "data": {
      "image/png": "[encoded data removed]",
      "text/plain": [
       "<Figure size 360x216 with 1 Axes>"
      ]
     },
     "metadata": {
      "needs_background": "light"
     },
     "output_type": "display_data"
    }
   ],
   "source": [
    "data = gpd.GeoDataFrame(df.iloc[263]).T\n",
    "fig, ax = plt.subplots(1,1, figsize=(5,3))\n",
    "data.plot(ax=ax)\n",
    "plt.show()"
   ]
  },
  {
   "cell_type": "code",
   "execution_count": 245,
   "id": "advance-dublin",
   "metadata": {
    "ExecuteTime": {
     "end_time": "2021-03-05T16:59:29.194154Z",
     "start_time": "2021-03-05T16:59:29.191034Z"
    }
   },
   "outputs": [],
   "source": [
    "# Set value to 'DC'\n",
    "df.at[263, 'state'] = 'DC'"
   ]
  },
  {
   "cell_type": "code",
   "execution_count": 246,
   "id": "fifteen-seventh",
   "metadata": {
    "ExecuteTime": {
     "end_time": "2021-03-05T16:59:30.536889Z",
     "start_time": "2021-03-05T16:59:30.528259Z"
    }
   },
   "outputs": [],
   "source": [
    "# Drop NaN 'state_fips'\n",
    "df = df.loc[df['state'].notna()]"
   ]
  },
  {
   "cell_type": "code",
   "execution_count": 251,
   "id": "initial-immigration",
   "metadata": {
    "ExecuteTime": {
     "end_time": "2021-03-05T17:47:34.837346Z",
     "start_time": "2021-03-05T17:47:33.267888Z"
    }
   },
   "outputs": [
    {
     "data": {
      "text/plain": [
       "<AxesSubplot:>"
      ]
     },
     "execution_count": 251,
     "metadata": {},
     "output_type": "execute_result"
    },
    {
     "data": {
      "image/png": "[encoded data removed]",
      "text/plain": [
       "<Figure size 432x288 with 1 Axes>"
      ]
     },
     "metadata": {
      "needs_background": "light"
     },
     "output_type": "display_data"
    }
   ],
   "source": [
    "df.plot()"
   ]
  },
  {
   "cell_type": "code",
   "execution_count": 211,
   "id": "imposed-interpretation",
   "metadata": {
    "ExecuteTime": {
     "end_time": "2021-03-04T19:18:55.615526Z",
     "start_time": "2021-03-04T19:18:02.430857Z"
    }
   },
   "outputs": [],
   "source": [
    "# Generate files of individual states\n",
    "states = list(df['state'].unique())\n",
    "for state in states:\n",
    "    topo = tp.Topology(data=df.loc[df['state'] == state])\n",
    "    topo.to_json(f'./data/{state}.topo.json')"
   ]
  },
  {
   "cell_type": "markdown",
   "id": "alien-validity",
   "metadata": {},
   "source": [
    "### States\n",
    "- Downloaded data from composite Albers [TopoJSON GitHub](https://github.com/topojson/us-atlas#states-10m.json).\n",
    "- Note: TopoJSON state data is mapped to SVG, the top-left corner is origin."
   ]
  },
  {
   "cell_type": "code",
   "execution_count": 229,
   "id": "muslim-discharge",
   "metadata": {
    "ExecuteTime": {
     "end_time": "2021-03-05T00:07:02.056962Z",
     "start_time": "2021-03-05T00:07:02.026374Z"
    }
   },
   "outputs": [],
   "source": [
    "df = gpd.read_file('./data/USA.topo.json')"
   ]
  },
  {
   "cell_type": "code",
   "execution_count": 230,
   "id": "knowing-brooklyn",
   "metadata": {
    "ExecuteTime": {
     "end_time": "2021-03-05T00:07:02.863702Z",
     "start_time": "2021-03-05T00:07:02.858004Z"
    }
   },
   "outputs": [],
   "source": [
    "df['id'] = df['id'].map(fips_dict)\n",
    "df.at[27, 'id'] = 'DC'"
   ]
  },
  {
   "cell_type": "code",
   "execution_count": 232,
   "id": "pacific-timothy",
   "metadata": {
    "ExecuteTime": {
     "end_time": "2021-03-05T00:08:04.484413Z",
     "start_time": "2021-03-05T00:08:04.478688Z"
    }
   },
   "outputs": [],
   "source": [
    "df.drop(columns='name', inplace=True)"
   ]
  },
  {
   "cell_type": "code",
   "execution_count": 233,
   "id": "short-summit",
   "metadata": {
    "ExecuteTime": {
     "end_time": "2021-03-05T00:08:07.596450Z",
     "start_time": "2021-03-05T00:08:07.324403Z"
    }
   },
   "outputs": [
    {
     "data": {
      "image/png": "[encoded data removed]",
      "text/plain": [
       "<Figure size 432x288 with 1 Axes>"
      ]
     },
     "metadata": {
      "needs_background": "light"
     },
     "output_type": "display_data"
    }
   ],
   "source": [
    "df.plot().invert_yaxis()"
   ]
  },
  {
   "cell_type": "code",
   "execution_count": 234,
   "id": "included-finland",
   "metadata": {
    "ExecuteTime": {
     "end_time": "2021-03-05T00:08:42.051062Z",
     "start_time": "2021-03-05T00:08:41.620050Z"
    }
   },
   "outputs": [],
   "source": [
    "topo = tp.Topology(data=df)\n",
    "topo.to_json('./data/USA.topo.json')"
   ]
  },
  {
   "cell_type": "code",
   "execution_count": 239,
   "id": "consecutive-nickname",
   "metadata": {
    "ExecuteTime": {
     "end_time": "2021-03-05T16:58:54.468021Z",
     "start_time": "2021-03-05T16:58:54.299922Z"
    }
   },
   "outputs": [
    {
     "data": {
      "text/plain": [
       "(-57.63445472997703, 12.97635452036684, 957.0565715456056, 606.5694262668666)"
      ]
     },
     "execution_count": 239,
     "metadata": {},
     "output_type": "execute_result"
    }
   ],
   "source": [
    "topo.to_dict()['bbox']"
   ]
  },
  {
   "cell_type": "code",
   "execution_count": null,
   "id": "spatial-concrete",
   "metadata": {},
   "outputs": [],
   "source": []
  }
 ],
 "metadata": {
  "kernelspec": {
   "display_name": "geo-env",
   "language": "python",
   "name": "geo-env"
  },
  "language_info": {
   "codemirror_mode": {
    "name": "ipython",
    "version": 3
   },
   "file_extension": ".py",
   "mimetype": "text/x-python",
   "name": "python",
   "nbconvert_exporter": "python",
   "pygments_lexer": "ipython3",
   "version": "3.9.1"
  },
  "toc": {
   "base_numbering": 1,
   "nav_menu": {},
   "number_sections": false,
   "sideBar": true,
   "skip_h1_title": false,
   "title_cell": "Table of Contents",
   "title_sidebar": "Contents",
   "toc_cell": false,
   "toc_position": {},
   "toc_section_display": true,
   "toc_window_display": false
  }
 },
 "nbformat": 4,
 "nbformat_minor": 5
}
