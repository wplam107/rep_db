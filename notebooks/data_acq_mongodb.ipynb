{
 "cells": [
  {
   "cell_type": "markdown",
   "id": "through-valentine",
   "metadata": {},
   "source": [
    "# Development Database Notebook"
   ]
  },
  {
   "cell_type": "code",
   "execution_count": 1,
   "id": "eastern-tampa",
   "metadata": {
    "ExecuteTime": {
     "end_time": "2021-02-24T02:28:36.868921Z",
     "start_time": "2021-02-24T02:28:36.759793Z"
    }
   },
   "outputs": [],
   "source": [
    "import configparser\n",
    "import pymongo"
   ]
  },
  {
   "cell_type": "markdown",
   "id": "overall-messaging",
   "metadata": {},
   "source": [
    "## Configuration\n",
    "- ```config.ini``` used to store configurations and private keys."
   ]
  },
  {
   "cell_type": "code",
   "execution_count": 4,
   "id": "rural-ratio",
   "metadata": {
    "ExecuteTime": {
     "end_time": "2021-02-24T02:42:24.510138Z",
     "start_time": "2021-02-24T02:42:24.480100Z"
    }
   },
   "outputs": [],
   "source": [
    "# Get config file\n",
    "config = configparser.ConfigParser()\n",
    "config.read('../database-dev/auth/config.ini')\n",
    "\n",
    "# Get ProPublica config\n",
    "PROPUBLICA_KEY = config.get('propublica', 'PROPUBLICA_API_KEY')\n",
    "API_ROOT = config.get('propublica', 'API_ROOT')\n",
    "PROPUBLICA_HEADER = {'X-API-Key': f'{PROPUBLICA_KEY}'}\n",
    "\n",
    "# Get MongoDB config\n",
    "MONGO_LOCAL = config.get('mongodb', 'MONGO_LOCAL')\n",
    "MONGO_DB = config.get('mongodb', 'MONGO_DB')\n",
    "client = pymongo.MongoClient(MONGO_LOCAL)\n",
    "\n",
    "# Connect to database\n",
    "db = client.get_database(MONGO_DB)"
   ]
  },
  {
   "cell_type": "markdown",
   "id": "precise-pottery",
   "metadata": {},
   "source": [
    "## Acquire US House of Representatives Biographical Data\n",
    "- Current US House of Representatives *(117th Congress, 2021-2022)* pulled utilizing ProPublica's [Congress API](https://projects.propublica.org/api-docs/congress-api/).\n",
    "- Transformation of JSON files to MongoDB documents."
   ]
  },
  {
   "cell_type": "code",
   "execution_count": null,
   "id": "distant-jones",
   "metadata": {},
   "outputs": [],
   "source": []
  }
 ],
 "metadata": {
  "kernelspec": {
   "display_name": "nosql-etl",
   "language": "python",
   "name": "nosql-etl"
  },
  "language_info": {
   "codemirror_mode": {
    "name": "ipython",
    "version": 3
   },
   "file_extension": ".py",
   "mimetype": "text/x-python",
   "name": "python",
   "nbconvert_exporter": "python",
   "pygments_lexer": "ipython3",
   "version": "3.9.1"
  },
  "toc": {
   "base_numbering": 1,
   "nav_menu": {},
   "number_sections": false,
   "sideBar": true,
   "skip_h1_title": false,
   "title_cell": "Table of Contents",
   "title_sidebar": "Contents",
   "toc_cell": false,
   "toc_position": {},
   "toc_section_display": true,
   "toc_window_display": false
  }
 },
 "nbformat": 4,
 "nbformat_minor": 5
}
