{
 "cells": [
  {
   "cell_type": "markdown",
   "id": "comprehensive-samoa",
   "metadata": {},
   "source": [
    "# Development Database Notebook"
   ]
  },
  {
   "cell_type": "markdown",
   "id": "found-suffering",
   "metadata": {},
   "source": [
    "## Configuration\n",
    "- ```config.ini``` used to store configurations and private keys."
   ]
  },
  {
   "cell_type": "code",
   "execution_count": 1,
   "id": "facial-slide",
   "metadata": {
    "ExecuteTime": {
     "end_time": "2021-02-25T01:02:48.087440Z",
     "start_time": "2021-02-25T01:02:48.078709Z"
    }
   },
   "outputs": [],
   "source": [
    "import configparser"
   ]
  },
  {
   "cell_type": "code",
   "execution_count": 2,
   "id": "surgical-province",
   "metadata": {
    "ExecuteTime": {
     "end_time": "2021-02-25T01:02:48.095666Z",
     "start_time": "2021-02-25T01:02:48.090190Z"
    }
   },
   "outputs": [],
   "source": [
    "# Get config file\n",
    "config = configparser.ConfigParser()\n",
    "config.read('../database-dev/auth/config.ini')\n",
    "\n",
    "# Get ProPublica config\n",
    "PROPUBLICA_KEY = config.get('propublica', 'PROPUBLICA_API_KEY')\n",
    "API_ROOT = config.get('propublica', 'API_ROOT')\n",
    "PROPUBLICA_HEADER = {'X-API-Key': f'{PROPUBLICA_KEY}'}"
   ]
  },
  {
   "cell_type": "markdown",
   "id": "native-agency",
   "metadata": {},
   "source": [
    "## Acquire US House of Representatives Biographical Data\n",
    "- Current US House of Representatives *(117th Congress, 2021-2022)* pulled utilizing ProPublica's [Congress API](https://projects.propublica.org/api-docs/congress-api/).\n",
    "- Retrieve Wikipedia URL for future educational background scraping."
   ]
  },
  {
   "cell_type": "markdown",
   "id": "trying-february",
   "metadata": {},
   "source": [
    "### ProPublica API - Members Endpoint\n",
    "- Utilize ```requests``` to make API calls for JSON responses.\n",
    "- ProPublica IDs correspond to IDs for [Biographical Directory of the United States Congress](https://bioguide.congress.gov/)."
   ]
  },
  {
   "cell_type": "code",
   "execution_count": 3,
   "id": "closing-retreat",
   "metadata": {
    "ExecuteTime": {
     "end_time": "2021-02-25T01:02:48.206367Z",
     "start_time": "2021-02-25T01:02:48.099029Z"
    }
   },
   "outputs": [],
   "source": [
    "import requests"
   ]
  },
  {
   "cell_type": "code",
   "execution_count": 4,
   "id": "surrounded-genome",
   "metadata": {
    "ExecuteTime": {
     "end_time": "2021-02-25T01:02:48.217318Z",
     "start_time": "2021-02-25T01:02:48.210188Z"
    }
   },
   "outputs": [],
   "source": [
    "def get_house_ids(congress, api_root, header):\n",
    "    '''\n",
    "    Function to retrieve all member IDs for a particular house in congress\n",
    "    '''\n",
    "    \n",
    "    call_string = api_root + f'{congress}/house/members.json'\n",
    "    r = requests.get(call_string, headers=header)\n",
    "    result = r.json()['results'][0]['members']\n",
    "    member_ids = [ member['id'] for member in result ]\n",
    "    \n",
    "    return member_ids"
   ]
  },
  {
   "cell_type": "code",
   "execution_count": 5,
   "id": "voluntary-genetics",
   "metadata": {
    "ExecuteTime": {
     "end_time": "2021-02-25T01:02:49.206340Z",
     "start_time": "2021-02-25T01:02:48.220636Z"
    }
   },
   "outputs": [
    {
     "name": "stdout",
     "output_type": "stream",
     "text": [
      "A000370\n"
     ]
    }
   ],
   "source": [
    "# Get all house members of the 117th congress\n",
    "members = get_house_ids(117, API_ROOT, PROPUBLICA_HEADER)\n",
    "\n",
    "# Sample\n",
    "print(members[0])"
   ]
  },
  {
   "cell_type": "code",
   "execution_count": 6,
   "id": "relative-mistake",
   "metadata": {
    "ExecuteTime": {
     "end_time": "2021-02-25T01:02:49.212167Z",
     "start_time": "2021-02-25T01:02:49.208494Z"
    }
   },
   "outputs": [],
   "source": [
    "# Function to retrieve JSON for a specified member of the house\n",
    "def get_mem_json(member, api_root, header):\n",
    "    call_string = api_root + f'members/{member}.json'\n",
    "    r = requests.get(call_string, headers=header)\n",
    "    result = r.json()['results'][0]\n",
    "    \n",
    "    return result"
   ]
  },
  {
   "cell_type": "code",
   "execution_count": 7,
   "id": "successful-parker",
   "metadata": {
    "ExecuteTime": {
     "end_time": "2021-02-25T01:02:49.219157Z",
     "start_time": "2021-02-25T01:02:49.214564Z"
    }
   },
   "outputs": [],
   "source": [
    "def clean_role(role):\n",
    "    role_dict = {\n",
    "        'congress': role['congress'],\n",
    "        'state': role['state'],\n",
    "        'party': role['party'],\n",
    "        'district': role['district'],\n",
    "        'committees': [\n",
    "            {'name': comm['name'], 'code': comm['code']}\n",
    "            for comm in role['committees']\n",
    "        ],\n",
    "        'subcommittees': [\n",
    "            {'name': comm['name'], 'code': comm['code'], 'parent_code': comm['parent_committee_id']}\n",
    "            for comm in role['subcommittees']\n",
    "        ]\n",
    "    }\n",
    "    \n",
    "    return role_dict"
   ]
  },
  {
   "cell_type": "code",
   "execution_count": 8,
   "id": "polyphonic-shuttle",
   "metadata": {
    "ExecuteTime": {
     "end_time": "2021-02-25T01:02:49.230061Z",
     "start_time": "2021-02-25T01:02:49.223979Z"
    }
   },
   "outputs": [],
   "source": [
    "def get_member(member_id, api_root, header):\n",
    "    '''\n",
    "    Function to get house member data as python dictionary\n",
    "    '''\n",
    "    \n",
    "    member = get_mem_json(member_id, api_root, header)\n",
    "    current = member['roles'][0]\n",
    "    fec_id = current['fec_candidate_id'] # Most recent FEC candidate ID\n",
    "    state = current['state'] # Most recent state represented\n",
    "    \n",
    "    mem_dict = {\n",
    "        '_id': member['id'],\n",
    "        'first_name': member['first_name'],\n",
    "        'middle_name': member['middle_name'],\n",
    "        'last_name': member['last_name'],\n",
    "        'dob': member['date_of_birth'],\n",
    "        'gender': member['gender'],\n",
    "        'current_party': member['current_party'],\n",
    "        'state': state,\n",
    "        'google_id': member['google_entity_id'],\n",
    "        'votesmart_id': member['votesmart_id'],\n",
    "        'govtrack_id': member['govtrack_id'],\n",
    "        'cspan_id': member['cspan_id'],\n",
    "        'crp_id': member['crp_id'],\n",
    "        'fec_id': fec_id,\n",
    "        'in_office': member['in_office'],\n",
    "        'roles': [ clean_role(role) for role in member['roles'] ]\n",
    "    }\n",
    "    \n",
    "    return mem_dict"
   ]
  },
  {
   "cell_type": "code",
   "execution_count": 9,
   "id": "opposite-dover",
   "metadata": {
    "ExecuteTime": {
     "end_time": "2021-02-25T01:02:49.353465Z",
     "start_time": "2021-02-25T01:02:49.233736Z"
    },
    "scrolled": false
   },
   "outputs": [
    {
     "name": "stdout",
     "output_type": "stream",
     "text": [
      "_id: A000370\n",
      "first_name: Alma\n",
      "middle_name: \n",
      "last_name: Adams\n",
      "dob: 1946-05-27\n",
      "gender: F\n",
      "current_party: D\n",
      "state: NC\n",
      "google_id: /m/02b45d\n",
      "votesmart_id: 5935\n"
     ]
    }
   ],
   "source": [
    "# Sample\n",
    "sample_rep = get_member(members[0], API_ROOT, PROPUBLICA_HEADER)\n",
    "for k, v in list(sample_rep.items())[:10]: # First 10 key-value pairs\n",
    "    print(f'{k}: {v}')"
   ]
  },
  {
   "cell_type": "markdown",
   "id": "unauthorized-cruise",
   "metadata": {},
   "source": [
    "### Google Knowledge Graph API and MediaWiki - Retrieve Wikipedia URLs\n",
    "- Utilize ```googleapiclient``` and ```mediawiki``` to retrieve Wikipedia URLs of Representatives.\n",
    "- Wrapper function for error logging.\n",
    "- Functions to get wikipedia URL of US House Representative based on errors."
   ]
  },
  {
   "cell_type": "code",
   "execution_count": 10,
   "id": "modified-favorite",
   "metadata": {
    "ExecuteTime": {
     "end_time": "2021-02-25T01:02:49.633264Z",
     "start_time": "2021-02-25T01:02:49.357039Z"
    }
   },
   "outputs": [],
   "source": [
    "import functools\n",
    "import re\n",
    "import googleapiclient\n",
    "from googleapiclient.discovery import build\n",
    "from mediawiki import MediaWiki"
   ]
  },
  {
   "cell_type": "code",
   "execution_count": 11,
   "id": "opponent-madagascar",
   "metadata": {
    "ExecuteTime": {
     "end_time": "2021-02-25T01:02:50.109884Z",
     "start_time": "2021-02-25T01:02:49.635525Z"
    }
   },
   "outputs": [],
   "source": [
    "# Get API key for GKG\n",
    "GKG_API_KEY = config.get('gcpkeys', 'GKG_API_KEY')\n",
    "GKG = config.get('gcpkeys', 'GKG')\n",
    "GKG_VERSION = config.get('gcpkeys', 'GKG_VERSION')\n",
    "\n",
    "# Instantiate service connection\n",
    "service = build(GKG, GKG_VERSION, developerKey=GKG_API_KEY)\n",
    "entities = service.entities()\n",
    "\n",
    "# Instantiate wikipedia object\n",
    "wikipedia = MediaWiki()"
   ]
  },
  {
   "cell_type": "code",
   "execution_count": 12,
   "id": "pleased-hostel",
   "metadata": {
    "ExecuteTime": {
     "end_time": "2021-02-25T01:02:50.117473Z",
     "start_time": "2021-02-25T01:02:50.112585Z"
    }
   },
   "outputs": [],
   "source": [
    "# Wrapper for error logging\n",
    "def error_logging(func):\n",
    "    @functools.wraps(func)\n",
    "    def wrapper_error(*args):\n",
    "        data = None\n",
    "        error = None\n",
    "        try:\n",
    "            data = func(*args)\n",
    "        except Exception as e:\n",
    "            error = type(e)\n",
    "        return data, error\n",
    "    return wrapper_error"
   ]
  },
  {
   "cell_type": "code",
   "execution_count": 13,
   "id": "mental-simon",
   "metadata": {
    "ExecuteTime": {
     "end_time": "2021-02-25T01:02:50.126085Z",
     "start_time": "2021-02-25T01:02:50.120102Z"
    }
   },
   "outputs": [],
   "source": [
    "@error_logging\n",
    "def get_wiki_url(rep, entities):\n",
    "    '''\n",
    "    Function to get wikipedia URL from Google Knowledge Graph with Google entity ID query\n",
    "    '''\n",
    "    \n",
    "    _id = rep['google_id']\n",
    "    r = entities.search(ids=_id).execute()\n",
    "    result = r['itemListElement'][0]['result']\n",
    "    wiki_url = result['detailedDescription']['url']\n",
    "    \n",
    "    return wiki_url"
   ]
  },
  {
   "cell_type": "code",
   "execution_count": 14,
   "id": "sustained-saint",
   "metadata": {
    "ExecuteTime": {
     "end_time": "2021-02-25T01:02:50.133951Z",
     "start_time": "2021-02-25T01:02:50.129151Z"
    }
   },
   "outputs": [],
   "source": [
    "@error_logging\n",
    "def gkg_search(rep, entities):\n",
    "    '''\n",
    "    Function to get google_id and wikipedia URL from Google Knowledge Graph with search term query\n",
    "    '''\n",
    "    \n",
    "    query = f\"{rep['first_name']} {rep['last_name']} politician\"\n",
    "    r = entities.search(query=query).execute()\n",
    "    result = r['itemListElement'][0]['result']\n",
    "    _id = result['@id']\n",
    "    gid = re.search('(?<=:).*', _id)[0]\n",
    "    try:\n",
    "        wiki_url = result['detailedDescription']['url']\n",
    "    except:\n",
    "        wiki_url = None\n",
    "    \n",
    "    return gid, wiki_url"
   ]
  },
  {
   "cell_type": "code",
   "execution_count": 15,
   "id": "successful-saint",
   "metadata": {
    "ExecuteTime": {
     "end_time": "2021-02-25T01:02:50.140880Z",
     "start_time": "2021-02-25T01:02:50.136412Z"
    }
   },
   "outputs": [],
   "source": [
    "@error_logging\n",
    "def mediawiki_search(rep, wikipedia):\n",
    "    '''\n",
    "    Function to get wikipedia URL from MediaWiki\n",
    "    '''\n",
    "    \n",
    "    query = f\"{rep['first_name']} {rep['last_name']} politician\"\n",
    "    wiki_url = wikipedia.page(query).url\n",
    "    \n",
    "    return wiki_url"
   ]
  },
  {
   "cell_type": "code",
   "execution_count": 16,
   "id": "intense-language",
   "metadata": {
    "ExecuteTime": {
     "end_time": "2021-02-25T01:02:50.149992Z",
     "start_time": "2021-02-25T01:02:50.143983Z"
    },
    "scrolled": true
   },
   "outputs": [],
   "source": [
    "def get_rep_data(member_id, api_root, header, entities, wikipedia):\n",
    "    '''\n",
    "    Function to retrieve data for US Representative\n",
    "    '''\n",
    "    \n",
    "    # Retrieve from ProPublica representative JSON\n",
    "    rep = get_member(member_id, api_root, header) # Outside function\n",
    "    \n",
    "    # Initial attempt to retrieve wikipedia URL\n",
    "    wiki_url, error = get_wiki_url(rep, entities) # Outside function\n",
    "    rep['wiki_url'] = wiki_url\n",
    "    \n",
    "    # Missing or wrong google_id in ProPublica data\n",
    "    if error == (googleapiclient.errors.HttpError or IndexError):\n",
    "        data, error = gkg_search(rep, entities) # Outside function\n",
    "        gid = data[0]\n",
    "        wiki_url = data[1]\n",
    "        rep['google_id'] = gid\n",
    "        rep['wiki_url'] = wiki_url\n",
    "        \n",
    "    # Missing wikipedia URL in Google Knowledge Graph\n",
    "    if (error == KeyError) or (rep['wiki_url'] == None):\n",
    "        wiki_url, error = mediawiki_search(rep, wikipedia) # Outside function\n",
    "        rep['wiki_url'] = wiki_url\n",
    "        \n",
    "    return rep"
   ]
  },
  {
   "cell_type": "code",
   "execution_count": 17,
   "id": "fifth-vitamin",
   "metadata": {
    "ExecuteTime": {
     "end_time": "2021-02-25T01:02:50.706200Z",
     "start_time": "2021-02-25T01:02:50.153421Z"
    }
   },
   "outputs": [
    {
     "data": {
      "text/plain": [
       "'https://en.wikipedia.org/wiki/Debbie_Dingell'"
      ]
     },
     "execution_count": 17,
     "metadata": {},
     "output_type": "execute_result"
    }
   ],
   "source": [
    "# Sample, initially missing wikipedia URL in Google Knowledge Graph\n",
    "sample_rep = get_rep_data('D000624', API_ROOT, PROPUBLICA_HEADER, entities, wikipedia)\n",
    "sample_rep['wiki_url']"
   ]
  },
  {
   "cell_type": "markdown",
   "id": "incomplete-valentine",
   "metadata": {},
   "source": [
    "## MongoDB Bulk Write"
   ]
  },
  {
   "cell_type": "code",
   "execution_count": 18,
   "id": "cardiac-prize",
   "metadata": {
    "ExecuteTime": {
     "end_time": "2021-02-25T01:02:50.797129Z",
     "start_time": "2021-02-25T01:02:50.708596Z"
    }
   },
   "outputs": [],
   "source": [
    "import pymongo\n",
    "from pymongo import InsertOne"
   ]
  },
  {
   "cell_type": "code",
   "execution_count": 19,
   "id": "informal-headline",
   "metadata": {
    "ExecuteTime": {
     "end_time": "2021-02-25T01:02:50.823102Z",
     "start_time": "2021-02-25T01:02:50.799338Z"
    }
   },
   "outputs": [],
   "source": [
    "# Get MongoDB config\n",
    "MONGO_LOCAL = config.get('mongodb', 'MONGO_LOCAL')\n",
    "MONGO_DB = config.get('mongodb', 'MONGO_DB')\n",
    "client = pymongo.MongoClient(MONGO_LOCAL)\n",
    "\n",
    "# Connect to database\n",
    "db = client.get_database(MONGO_DB)\n",
    "\n",
    "# Instantiate connection to collection\n",
    "collection = db['reps']"
   ]
  },
  {
   "cell_type": "code",
   "execution_count": 20,
   "id": "assured-shark",
   "metadata": {
    "ExecuteTime": {
     "end_time": "2021-02-25T01:02:50.827495Z",
     "start_time": "2021-02-25T01:02:50.825214Z"
    }
   },
   "outputs": [],
   "source": [
    "# Bulk write insert statements\n",
    "# inserts = []\n",
    "# for member in members:\n",
    "#     data = get_rep_data(member, API_ROOT, PROPUBLICA_HEADER, entities, wikipedia)\n",
    "#     inserts.append(InsertOne(data))"
   ]
  },
  {
   "cell_type": "code",
   "execution_count": 21,
   "id": "brilliant-gates",
   "metadata": {
    "ExecuteTime": {
     "end_time": "2021-02-25T01:02:50.834509Z",
     "start_time": "2021-02-25T01:02:50.831623Z"
    }
   },
   "outputs": [],
   "source": [
    "# Bulk write to collection\n",
    "# result = collection.bulk_write(inserts)"
   ]
  },
  {
   "cell_type": "code",
   "execution_count": 22,
   "id": "collect-wells",
   "metadata": {
    "ExecuteTime": {
     "end_time": "2021-02-25T01:02:50.840916Z",
     "start_time": "2021-02-25T01:02:50.837531Z"
    }
   },
   "outputs": [],
   "source": [
    "# print(result.bulk_api_result)"
   ]
  },
  {
   "cell_type": "code",
   "execution_count": 23,
   "id": "russian-equipment",
   "metadata": {
    "ExecuteTime": {
     "end_time": "2021-02-25T01:02:50.852549Z",
     "start_time": "2021-02-25T01:02:50.848259Z"
    }
   },
   "outputs": [
    {
     "data": {
      "text/plain": [
       "440"
      ]
     },
     "execution_count": 23,
     "metadata": {},
     "output_type": "execute_result"
    }
   ],
   "source": [
    "len(members) "
   ]
  }
 ],
 "metadata": {
  "kernelspec": {
   "display_name": "nosql-etl",
   "language": "python",
   "name": "nosql-etl"
  },
  "language_info": {
   "codemirror_mode": {
    "name": "ipython",
    "version": 3
   },
   "file_extension": ".py",
   "mimetype": "text/x-python",
   "name": "python",
   "nbconvert_exporter": "python",
   "pygments_lexer": "ipython3",
   "version": "3.9.1"
  },
  "toc": {
   "base_numbering": 1,
   "nav_menu": {},
   "number_sections": false,
   "sideBar": true,
   "skip_h1_title": false,
   "title_cell": "Table of Contents",
   "title_sidebar": "Contents",
   "toc_cell": false,
   "toc_position": {},
   "toc_section_display": true,
   "toc_window_display": false
  }
 },
 "nbformat": 4,
 "nbformat_minor": 5
}
