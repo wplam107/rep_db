{
 "cells": [
  {
   "cell_type": "code",
   "execution_count": 1,
   "id": "center-pierce",
   "metadata": {
    "ExecuteTime": {
     "end_time": "2021-02-27T19:17:56.462830Z",
     "start_time": "2021-02-27T19:17:55.847820Z"
    }
   },
   "outputs": [],
   "source": [
    "import numpy as np\n",
    "import pandas as pd\n",
    "\n",
    "import configparser\n",
    "import pymongo"
   ]
  },
  {
   "cell_type": "code",
   "execution_count": 2,
   "id": "developmental-aurora",
   "metadata": {
    "ExecuteTime": {
     "end_time": "2021-02-27T19:17:56.492436Z",
     "start_time": "2021-02-27T19:17:56.465930Z"
    }
   },
   "outputs": [],
   "source": [
    "config = configparser.ConfigParser()\n",
    "config.read('../database-dev/auth/config.ini')\n",
    "\n",
    "MONGO_LOCAL = config.get('mongodb', 'MONGO_LOCAL')\n",
    "MONGO_DB = config.get('mongodb', 'MONGO_DB')\n",
    "client = pymongo.MongoClient(MONGO_LOCAL)\n",
    "db = client.get_database(MONGO_DB)\n",
    "collection = db['reps']"
   ]
  },
  {
   "cell_type": "code",
   "execution_count": 208,
   "id": "complete-walter",
   "metadata": {
    "ExecuteTime": {
     "end_time": "2021-02-27T23:29:09.975655Z",
     "start_time": "2021-02-27T23:29:09.946987Z"
    }
   },
   "outputs": [],
   "source": [
    "proj_dict = {\n",
    "    'first_name': 1,\n",
    "    'middle_name': 1,\n",
    "    'last_name': 1,\n",
    "    'dob': 1,\n",
    "    'gender': 1,\n",
    "    'current_party': 1,\n",
    "    'state': 1,\n",
    "    'roles': 1,\n",
    "    'education': 1\n",
    "}\n",
    "results = collection.find({'in_office': True}, proj_dict)\n",
    "df = pd.DataFrame(results)"
   ]
  },
  {
   "cell_type": "code",
   "execution_count": 209,
   "id": "downtown-metabolism",
   "metadata": {
    "ExecuteTime": {
     "end_time": "2021-02-27T23:29:10.221793Z",
     "start_time": "2021-02-27T23:29:10.218779Z"
    }
   },
   "outputs": [],
   "source": [
    "from datetime import date"
   ]
  },
  {
   "cell_type": "code",
   "execution_count": 210,
   "id": "systematic-editing",
   "metadata": {
    "ExecuteTime": {
     "end_time": "2021-02-27T23:29:10.463503Z",
     "start_time": "2021-02-27T23:29:10.402671Z"
    },
    "scrolled": true
   },
   "outputs": [],
   "source": [
    "df['dob'] = df['dob'].map(lambda x: pd.to_datetime(x).date())"
   ]
  },
  {
   "cell_type": "code",
   "execution_count": 211,
   "id": "received-radiation",
   "metadata": {
    "ExecuteTime": {
     "end_time": "2021-02-27T23:29:10.871989Z",
     "start_time": "2021-02-27T23:29:10.868449Z"
    }
   },
   "outputs": [],
   "source": [
    "def get_age(dob):\n",
    "    today = date.today()\n",
    "    age = today.year - dob.year - ((today.month, today.day) < (dob.month, dob.day))\n",
    "    \n",
    "    return age"
   ]
  },
  {
   "cell_type": "code",
   "execution_count": 212,
   "id": "intense-bradford",
   "metadata": {
    "ExecuteTime": {
     "end_time": "2021-02-27T23:29:11.273372Z",
     "start_time": "2021-02-27T23:29:11.267600Z"
    }
   },
   "outputs": [],
   "source": [
    "df['age'] = np.vectorize(get_age)(df['dob'].values)"
   ]
  },
  {
   "cell_type": "code",
   "execution_count": 213,
   "id": "prostate-cornell",
   "metadata": {
    "ExecuteTime": {
     "end_time": "2021-02-27T23:29:11.646412Z",
     "start_time": "2021-02-27T23:29:11.641960Z"
    }
   },
   "outputs": [],
   "source": [
    "df['terms'] = np.vectorize(lambda x: len(x))(df['roles'])"
   ]
  },
  {
   "cell_type": "code",
   "execution_count": 214,
   "id": "based-fields",
   "metadata": {
    "ExecuteTime": {
     "end_time": "2021-02-27T23:29:12.584104Z",
     "start_time": "2021-02-27T23:29:12.579667Z"
    }
   },
   "outputs": [],
   "source": [
    "df['education'] = df['education'].map(lambda x: x == None and [['HS', 'HS']] or x)"
   ]
  },
  {
   "cell_type": "code",
   "execution_count": 215,
   "id": "continental-pledge",
   "metadata": {
    "ExecuteTime": {
     "end_time": "2021-02-27T23:29:18.864399Z",
     "start_time": "2021-02-27T23:29:18.859320Z"
    }
   },
   "outputs": [],
   "source": [
    "df['max_edu'] = df['education'].str[-1]"
   ]
  },
  {
   "cell_type": "code",
   "execution_count": 222,
   "id": "floppy-acquisition",
   "metadata": {
    "ExecuteTime": {
     "end_time": "2021-02-27T23:32:00.355301Z",
     "start_time": "2021-02-27T23:32:00.348635Z"
    }
   },
   "outputs": [],
   "source": [
    "df['max_degree'] = df['max_edu'].str[0]\n",
    "df['max_institution'] = df['max_edu'].str[1]"
   ]
  },
  {
   "cell_type": "code",
   "execution_count": 232,
   "id": "opening-andorra",
   "metadata": {
    "ExecuteTime": {
     "end_time": "2021-02-27T23:51:55.754150Z",
     "start_time": "2021-02-27T23:51:55.746017Z"
    }
   },
   "outputs": [
    {
     "data": {
      "text/plain": [
       "M    0.545455\n",
       "F    0.454545\n",
       "Name: gender, dtype: float64"
      ]
     },
     "execution_count": 232,
     "metadata": {},
     "output_type": "execute_result"
    }
   ],
   "source": [
    "df.loc[df['max_degree'] == 'MS']['gender'].value_counts(normalize=True)"
   ]
  },
  {
   "cell_type": "code",
   "execution_count": 233,
   "id": "checked-circular",
   "metadata": {
    "ExecuteTime": {
     "end_time": "2021-02-27T23:51:56.800626Z",
     "start_time": "2021-02-27T23:51:56.793554Z"
    }
   },
   "outputs": [
    {
     "data": {
      "text/plain": [
       "M    0.719178\n",
       "F    0.280822\n",
       "Name: gender, dtype: float64"
      ]
     },
     "execution_count": 233,
     "metadata": {},
     "output_type": "execute_result"
    }
   ],
   "source": [
    "df['gender'].value_counts(normalize=True)"
   ]
  },
  {
   "cell_type": "code",
   "execution_count": null,
   "id": "reflected-titanium",
   "metadata": {},
   "outputs": [],
   "source": []
  }
 ],
 "metadata": {
  "kernelspec": {
   "display_name": "eda_env",
   "language": "python",
   "name": "eda_env"
  },
  "language_info": {
   "codemirror_mode": {
    "name": "ipython",
    "version": 3
   },
   "file_extension": ".py",
   "mimetype": "text/x-python",
   "name": "python",
   "nbconvert_exporter": "python",
   "pygments_lexer": "ipython3",
   "version": "3.9.1"
  },
  "toc": {
   "base_numbering": 1,
   "nav_menu": {},
   "number_sections": true,
   "sideBar": true,
   "skip_h1_title": false,
   "title_cell": "Table of Contents",
   "title_sidebar": "Contents",
   "toc_cell": false,
   "toc_position": {},
   "toc_section_display": true,
   "toc_window_display": false
  }
 },
 "nbformat": 4,
 "nbformat_minor": 5
}
