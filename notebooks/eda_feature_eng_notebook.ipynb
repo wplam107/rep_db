{
 "cells": [
  {
   "cell_type": "code",
   "execution_count": 391,
   "id": "british-scout",
   "metadata": {
    "ExecuteTime": {
     "end_time": "2021-03-01T18:33:25.418024Z",
     "start_time": "2021-03-01T18:33:25.407342Z"
    }
   },
   "outputs": [],
   "source": [
    "import numpy as np\n",
    "import pandas as pd\n",
    "import re\n",
    "from datetime import date\n",
    "\n",
    "import matplotlib.pyplot as plt\n",
    "import seaborn as sns\n",
    "\n",
    "import configparser\n",
    "import pymongo"
   ]
  },
  {
   "cell_type": "code",
   "execution_count": 225,
   "id": "latter-bleeding",
   "metadata": {
    "ExecuteTime": {
     "end_time": "2021-03-01T04:34:53.055152Z",
     "start_time": "2021-03-01T04:34:53.032840Z"
    }
   },
   "outputs": [],
   "source": [
    "config = configparser.ConfigParser()\n",
    "config.read('../database-dev/auth/config.ini')\n",
    "\n",
    "MONGO_LOCAL = config.get('mongodb', 'MONGO_LOCAL')\n",
    "MONGO_DB = config.get('mongodb', 'MONGO_DB')\n",
    "client = pymongo.MongoClient(MONGO_LOCAL)\n",
    "db = client.get_database(MONGO_DB)\n",
    "collection = db['reps']"
   ]
  },
  {
   "cell_type": "code",
   "execution_count": 281,
   "id": "offensive-force",
   "metadata": {
    "ExecuteTime": {
     "end_time": "2021-03-01T15:49:12.916596Z",
     "start_time": "2021-03-01T15:49:12.478543Z"
    }
   },
   "outputs": [],
   "source": [
    "proj_dict = {\n",
    "    'first_name': 1,\n",
    "    'middle_name': 1,\n",
    "    'last_name': 1,\n",
    "    'dob': 1,\n",
    "    'gender': 1,\n",
    "    'current_party': 1,\n",
    "    'state': 1,\n",
    "    'roles': 1,\n",
    "    'education': 1\n",
    "}\n",
    "results = collection.find({'in_office': True}, proj_dict)\n",
    "df = pd.DataFrame(results)"
   ]
  },
  {
   "cell_type": "markdown",
   "id": "recorded-airport",
   "metadata": {},
   "source": [
    "## Age and Terms Served"
   ]
  },
  {
   "cell_type": "code",
   "execution_count": 282,
   "id": "million-malaysia",
   "metadata": {
    "ExecuteTime": {
     "end_time": "2021-03-01T15:49:12.924737Z",
     "start_time": "2021-03-01T15:49:12.919614Z"
    }
   },
   "outputs": [],
   "source": [
    "def get_age(dob):\n",
    "    today = date.today()\n",
    "    age = today.year - dob.year - ((today.month, today.day) < (dob.month, dob.day))\n",
    "    \n",
    "    return age"
   ]
  },
  {
   "cell_type": "code",
   "execution_count": 283,
   "id": "bulgarian-athens",
   "metadata": {
    "ExecuteTime": {
     "end_time": "2021-03-01T15:49:27.897522Z",
     "start_time": "2021-03-01T15:49:27.821935Z"
    }
   },
   "outputs": [],
   "source": [
    "df['dob'] = df['dob'].map(lambda x: pd.to_datetime(x).date())\n",
    "df['age'] = np.vectorize(get_age)(df['dob'].values)\n",
    "df['terms'] = np.vectorize(lambda x: len(x))(df['roles'])"
   ]
  },
  {
   "cell_type": "markdown",
   "id": "professional-month",
   "metadata": {},
   "source": [
    "## Degrees and Institutions"
   ]
  },
  {
   "cell_type": "code",
   "execution_count": 284,
   "id": "contemporary-colors",
   "metadata": {
    "ExecuteTime": {
     "end_time": "2021-03-01T15:49:33.747678Z",
     "start_time": "2021-03-01T15:49:33.741999Z"
    }
   },
   "outputs": [],
   "source": [
    "df['education'] = df['education'].map(lambda x: x == None and [['HS', 'HS']] or x)\n",
    "df['education'] = df['education'].map(lambda x: x == [] and [['HS', 'HS']] or x)"
   ]
  },
  {
   "cell_type": "code",
   "execution_count": 285,
   "id": "single-dollar",
   "metadata": {
    "ExecuteTime": {
     "end_time": "2021-03-01T15:49:36.723607Z",
     "start_time": "2021-03-01T15:49:36.716749Z"
    }
   },
   "outputs": [],
   "source": [
    "df['degrees'] = df['education'].map(lambda x: [ edu[0] for edu in x ])\n",
    "df['institutions'] = df['education'].map(lambda x: [ edu[1] for edu in x ])"
   ]
  },
  {
   "cell_type": "code",
   "execution_count": 286,
   "id": "inclusive-clark",
   "metadata": {
    "ExecuteTime": {
     "end_time": "2021-03-01T15:49:48.302395Z",
     "start_time": "2021-03-01T15:49:48.289364Z"
    }
   },
   "outputs": [],
   "source": [
    "df.drop(columns='education', inplace=True)"
   ]
  },
  {
   "cell_type": "code",
   "execution_count": 287,
   "id": "prescribed-devil",
   "metadata": {
    "ExecuteTime": {
     "end_time": "2021-03-01T15:49:55.186843Z",
     "start_time": "2021-03-01T15:49:55.170708Z"
    }
   },
   "outputs": [],
   "source": [
    "degree_list = np.concatenate(df['degrees'])\n",
    "degree_list = set(degree_list)"
   ]
  },
  {
   "cell_type": "code",
   "execution_count": 288,
   "id": "essential-separate",
   "metadata": {
    "ExecuteTime": {
     "end_time": "2021-03-01T15:49:56.413708Z",
     "start_time": "2021-03-01T15:49:56.409885Z"
    }
   },
   "outputs": [
    {
     "name": "stdout",
     "output_type": "stream",
     "text": [
      "{'MPH', 'JD', 'MBA', 'BDIV', 'DMIN', 'HS', 'MS', 'THM', 'PHARMD', 'MSN', 'BS', 'BSFS', 'GRCERT', 'SYC', 'MD', 'AAS', 'DMD', 'DPA', 'AA', 'DDS', 'DVM', 'BA', 'BPA', 'MSEM', 'BSN', 'DPM', 'MFA', 'MSW', 'AB', 'MHS', 'MPA', 'ALB', 'AS', 'BGS', 'DPHIL', 'MPP', 'MSS', 'EDD', 'BBA', 'LLM', 'PHD', 'LLB', 'MPHIL', 'GRDIP', 'MACC', 'MUP', 'MIA', 'MED', 'MSC', 'MDIV', 'MA'}\n"
     ]
    }
   ],
   "source": [
    "print(degree_list)"
   ]
  },
  {
   "cell_type": "code",
   "execution_count": 293,
   "id": "built-queen",
   "metadata": {
    "ExecuteTime": {
     "end_time": "2021-03-01T15:51:39.667137Z",
     "start_time": "2021-03-01T15:51:39.659288Z"
    }
   },
   "outputs": [],
   "source": [
    "# Dictionary to bin categories\n",
    "degree_dict = {\n",
    "    'Bachelors': [\n",
    "        'BS', 'BA', 'AB', 'BPA', 'BBA', 'ALB', 'LLB', 'BDIV',\n",
    "        'BSFS', 'BPA', 'BSN', 'BGS'\n",
    "    ],\n",
    "    'Masters': [\n",
    "        'MPA', 'MA', 'MSW', 'MS', 'MPP', 'MDIV', 'THM', 'MUP',\n",
    "        'MHS', 'SYC', 'GRCERT', 'MPHIL', 'MIA', 'MSS', 'MPH',\n",
    "        'MACC', 'MFA', 'MED', 'MPH', 'MSEM', 'MSC'\n",
    "    ],\n",
    "    'Doctorate': ['PHD', 'DPA', 'EDD', 'PHARMD', 'DMIN', 'DPHIL'],\n",
    "    'MBA': ['MBA'],\n",
    "    'Medicine': ['MD', 'DPM'],\n",
    "    'Veterinary': ['DVM'],\n",
    "    'Nursing': ['GRDIP', 'MSN'],\n",
    "    'Dental': ['DDS', 'DMD'],\n",
    "    'Law': ['JD', 'LLM'],\n",
    "    'HS': ['HS'],\n",
    "    'Associates': ['AA', 'AAS', 'AS']\n",
    "}\n",
    "\n",
    "# Dictionary for average duration of degree completion\n",
    "time_dict = {\n",
    "    'Bachelors': 4,\n",
    "    'Masters': 2,\n",
    "    'Doctorate': 6,\n",
    "    'MBA': 2,\n",
    "    'Medicine': 6,\n",
    "    'Nursing': 2,\n",
    "    'Dental': 4,\n",
    "    'Law': 2,\n",
    "    'HS': 0,\n",
    "    'Associates': 2,\n",
    "    'Veterinary': 4\n",
    "}"
   ]
  },
  {
   "cell_type": "code",
   "execution_count": 294,
   "id": "material-opposition",
   "metadata": {
    "ExecuteTime": {
     "end_time": "2021-03-01T15:51:42.447484Z",
     "start_time": "2021-03-01T15:51:42.443633Z"
    }
   },
   "outputs": [],
   "source": [
    "# Create invert k, v\n",
    "map_dict = {}\n",
    "for k, vs in degree_dict.items():\n",
    "    for v in vs:\n",
    "        map_dict[v] = k"
   ]
  },
  {
   "cell_type": "code",
   "execution_count": 298,
   "id": "affiliated-sierra",
   "metadata": {
    "ExecuteTime": {
     "end_time": "2021-03-01T15:53:27.662481Z",
     "start_time": "2021-03-01T15:53:27.657122Z"
    }
   },
   "outputs": [],
   "source": [
    "# Group degrees and calculate years of post-secondary education\n",
    "df['degree_groups'] = df['degrees'].map(lambda degs: [ map_dict[deg] for deg in degs ])\n",
    "df['post_sec_years'] = df['degree_groups'].map(\n",
    "    lambda degs: sum([ time_dict[deg] for deg in degs ])\n",
    ")"
   ]
  },
  {
   "cell_type": "code",
   "execution_count": 325,
   "id": "studied-fleet",
   "metadata": {
    "ExecuteTime": {
     "end_time": "2021-03-01T16:35:49.663640Z",
     "start_time": "2021-03-01T16:35:49.657071Z"
    }
   },
   "outputs": [],
   "source": [
    "# Institutions by graduates\n",
    "colleges_dict = {}\n",
    "for edus in df['institutions']:\n",
    "    insts = []\n",
    "    for edu in edus:\n",
    "        # Prevent duplicate institutions by rep\n",
    "        if edu in insts:\n",
    "            pass\n",
    "        else:\n",
    "            if edu not in colleges_dict.keys():\n",
    "                colleges_dict[edu] = 0\n",
    "            colleges_dict[edu] += 1\n",
    "\n",
    "tups = sorted(colleges_dict.items(), key=lambda x: x[1], reverse=True)\n",
    "colleges_dict = { k: v for k, v in tups }\n",
    "del colleges_dict['HS']"
   ]
  },
  {
   "cell_type": "code",
   "execution_count": 329,
   "id": "alien-radar",
   "metadata": {
    "ExecuteTime": {
     "end_time": "2021-03-01T16:58:55.111744Z",
     "start_time": "2021-03-01T16:58:54.870121Z"
    }
   },
   "outputs": [
    {
     "data": {
      "image/png": "[encoded data removed]",
      "text/plain": [
       "<Figure size 432x288 with 1 Axes>"
      ]
     },
     "metadata": {
      "needs_background": "light"
     },
     "output_type": "display_data"
    }
   ],
   "source": [
    "x = list(colleges_dict.keys())[:10]\n",
    "y = list(colleges_dict.values())[:10]\n",
    "plt.bar(x, y)\n",
    "plt.xticks(rotation=90)\n",
    "plt.title('Alumni by Institution')\n",
    "plt.ylabel('Count')\n",
    "plt.show()"
   ]
  },
  {
   "cell_type": "code",
   "execution_count": 419,
   "id": "dress-aircraft",
   "metadata": {
    "ExecuteTime": {
     "end_time": "2021-03-01T18:47:23.966297Z",
     "start_time": "2021-03-01T18:47:23.955281Z"
    }
   },
   "outputs": [],
   "source": [
    "df['has_bach'] = df['degree_groups'].map(lambda x: 'Bachelors' in x)\n",
    "df['has_master'] = df['degree_groups'].map(lambda x: 'Masters' in x)\n",
    "df['has_business'] = df['degree_groups'].map(lambda x: 'MBA' in x)\n",
    "df['has_pro'] = df['degree_groups'].map(\n",
    "    lambda x:\n",
    "    ('Law' in x) or\n",
    "    ('Medicine' in x) or\n",
    "    ('Dental' in x) or \n",
    "    ('Veterinary' in x) or\n",
    "    ('Nursing' in x)\n",
    ")\n",
    "df['has_doctorate'] = df['degree_groups'].map(lambda x: 'Doctorate' in x)\n",
    "df['no_degree'] = df['degree_groups'].map(lambda x: 'HS' in x)"
   ]
  },
  {
   "cell_type": "code",
   "execution_count": 506,
   "id": "gentle-mixture",
   "metadata": {
    "ExecuteTime": {
     "end_time": "2021-03-01T20:12:45.769983Z",
     "start_time": "2021-03-01T20:12:44.875708Z"
    }
   },
   "outputs": [
    {
     "data": {
      "image/png": "[encoded data removed]",
      "text/plain": [
       "<Figure size 1080x720 with 6 Axes>"
      ]
     },
     "metadata": {},
     "output_type": "display_data"
    }
   ],
   "source": [
    "code_dict = {\n",
    "    'No Post-Secondary': 'no_degree',\n",
    "    'Bachelors': 'has_bach',\n",
    "    'Masters': 'has_master',\n",
    "    'MBA': 'has_business',\n",
    "    'Professional': 'has_pro',\n",
    "    'Doctorate': 'has_doctorate'\n",
    "}\n",
    "\n",
    "fig = plt.figure(figsize=(15,10))\n",
    "gs = fig.add_gridspec(2,3)\n",
    "axes = gs.subplots(sharex='col', sharey=True)\n",
    "\n",
    "for i, key in enumerate(list(code_dict.keys())):\n",
    "    ax = axes[i // 3][(i + 3) % 3]\n",
    "    x = 'gender'\n",
    "    y = code_dict[key]\n",
    "    data = pd.DataFrame(df.groupby(x)[y].mean() * 100)\n",
    "    data.reset_index(inplace=True)\n",
    "    sns.barplot(data=data, x=x, y=y, ax=ax)\n",
    "    ax.set_title(f'{key} Degree', loc='center')\n",
    "    ax.set(xlabel=x.capitalize(), ylabel='Frequency')\n",
    "    ax.label_outer()\n",
    "    for j, p in enumerate(ax.patches):\n",
    "        ax.annotate(\n",
    "            '{val:.2f}%'.format(val=data[y][j]),\n",
    "            (p.get_x() + p.get_width() / 2, p.get_height()),\n",
    "            ha='center', va='center', xytext=(0, 5), textcoords='offset points'\n",
    "        )\n",
    "\n",
    "plt.suptitle('Degree Frequency by Gender')\n",
    "plt.show()"
   ]
  },
  {
   "cell_type": "code",
   "execution_count": null,
   "id": "suited-payroll",
   "metadata": {},
   "outputs": [],
   "source": []
  }
 ],
 "metadata": {
  "kernelspec": {
   "display_name": "eda_env",
   "language": "python",
   "name": "eda_env"
  },
  "language_info": {
   "codemirror_mode": {
    "name": "ipython",
    "version": 3
   },
   "file_extension": ".py",
   "mimetype": "text/x-python",
   "name": "python",
   "nbconvert_exporter": "python",
   "pygments_lexer": "ipython3",
   "version": "3.9.1"
  },
  "toc": {
   "base_numbering": 1,
   "nav_menu": {},
   "number_sections": false,
   "sideBar": true,
   "skip_h1_title": false,
   "title_cell": "Table of Contents",
   "title_sidebar": "Contents",
   "toc_cell": false,
   "toc_position": {},
   "toc_section_display": true,
   "toc_window_display": true
  }
 },
 "nbformat": 4,
 "nbformat_minor": 5
}
