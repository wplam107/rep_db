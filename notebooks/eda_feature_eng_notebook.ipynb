{
 "cells": [
  {
   "cell_type": "code",
   "execution_count": 1,
   "id": "british-scout",
   "metadata": {
    "ExecuteTime": {
     "end_time": "2021-02-28T23:33:20.241630Z",
     "start_time": "2021-02-28T23:33:18.846731Z"
    }
   },
   "outputs": [],
   "source": [
    "import numpy as np\n",
    "import pandas as pd\n",
    "\n",
    "import matplotlib.pyplot as plt\n",
    "import seaborn as sns\n",
    "\n",
    "import configparser\n",
    "import pymongo"
   ]
  },
  {
   "cell_type": "code",
   "execution_count": 2,
   "id": "latter-bleeding",
   "metadata": {
    "ExecuteTime": {
     "end_time": "2021-02-28T23:33:20.266211Z",
     "start_time": "2021-02-28T23:33:20.244618Z"
    }
   },
   "outputs": [],
   "source": [
    "config = configparser.ConfigParser()\n",
    "config.read('../database-dev/auth/config.ini')\n",
    "\n",
    "MONGO_LOCAL = config.get('mongodb', 'MONGO_LOCAL')\n",
    "MONGO_DB = config.get('mongodb', 'MONGO_DB')\n",
    "client = pymongo.MongoClient(MONGO_LOCAL)\n",
    "db = client.get_database(MONGO_DB)\n",
    "collection = db['reps']"
   ]
  },
  {
   "cell_type": "code",
   "execution_count": 3,
   "id": "offensive-force",
   "metadata": {
    "ExecuteTime": {
     "end_time": "2021-02-28T23:33:20.301054Z",
     "start_time": "2021-02-28T23:33:20.269152Z"
    }
   },
   "outputs": [],
   "source": [
    "proj_dict = {\n",
    "    'first_name': 1,\n",
    "    'middle_name': 1,\n",
    "    'last_name': 1,\n",
    "    'dob': 1,\n",
    "    'gender': 1,\n",
    "    'current_party': 1,\n",
    "    'state': 1,\n",
    "    'roles': 1,\n",
    "    'education': 1\n",
    "}\n",
    "results = collection.find({'in_office': True}, proj_dict)\n",
    "df = pd.DataFrame(results)"
   ]
  },
  {
   "cell_type": "code",
   "execution_count": 4,
   "id": "rough-evening",
   "metadata": {
    "ExecuteTime": {
     "end_time": "2021-02-28T23:33:20.308987Z",
     "start_time": "2021-02-28T23:33:20.304856Z"
    }
   },
   "outputs": [],
   "source": [
    "from datetime import date"
   ]
  },
  {
   "cell_type": "code",
   "execution_count": 5,
   "id": "serial-algebra",
   "metadata": {
    "ExecuteTime": {
     "end_time": "2021-02-28T23:33:20.380065Z",
     "start_time": "2021-02-28T23:33:20.311923Z"
    },
    "scrolled": true
   },
   "outputs": [],
   "source": [
    "df['dob'] = df['dob'].map(lambda x: pd.to_datetime(x).date())"
   ]
  },
  {
   "cell_type": "code",
   "execution_count": 6,
   "id": "million-malaysia",
   "metadata": {
    "ExecuteTime": {
     "end_time": "2021-02-28T23:33:20.390843Z",
     "start_time": "2021-02-28T23:33:20.384935Z"
    }
   },
   "outputs": [],
   "source": [
    "def get_age(dob):\n",
    "    today = date.today()\n",
    "    age = today.year - dob.year - ((today.month, today.day) < (dob.month, dob.day))\n",
    "    \n",
    "    return age"
   ]
  },
  {
   "cell_type": "code",
   "execution_count": 7,
   "id": "illegal-cardiff",
   "metadata": {
    "ExecuteTime": {
     "end_time": "2021-02-28T23:33:20.454697Z",
     "start_time": "2021-02-28T23:33:20.447778Z"
    }
   },
   "outputs": [],
   "source": [
    "df['age'] = np.vectorize(get_age)(df['dob'].values)"
   ]
  },
  {
   "cell_type": "code",
   "execution_count": 8,
   "id": "bulgarian-athens",
   "metadata": {
    "ExecuteTime": {
     "end_time": "2021-02-28T23:33:20.584845Z",
     "start_time": "2021-02-28T23:33:20.580506Z"
    }
   },
   "outputs": [],
   "source": [
    "df['terms'] = np.vectorize(lambda x: len(x))(df['roles'])"
   ]
  },
  {
   "cell_type": "code",
   "execution_count": 9,
   "id": "contemporary-colors",
   "metadata": {
    "ExecuteTime": {
     "end_time": "2021-02-28T23:33:20.712676Z",
     "start_time": "2021-02-28T23:33:20.704311Z"
    }
   },
   "outputs": [],
   "source": [
    "df['education'] = df['education'].map(lambda x: x == None and [['HS', 'HS']] or x)\n",
    "df['education'] = df['education'].map(lambda x: x == [] and [['HS', 'HS']] or x)"
   ]
  },
  {
   "cell_type": "code",
   "execution_count": 10,
   "id": "bronze-railway",
   "metadata": {
    "ExecuteTime": {
     "end_time": "2021-02-28T23:33:20.848154Z",
     "start_time": "2021-02-28T23:33:20.842218Z"
    }
   },
   "outputs": [],
   "source": [
    "df['max_edu'] = df['education'].str[-1]"
   ]
  },
  {
   "cell_type": "code",
   "execution_count": 11,
   "id": "complex-berkeley",
   "metadata": {
    "ExecuteTime": {
     "end_time": "2021-02-28T23:33:21.008542Z",
     "start_time": "2021-02-28T23:33:21.000861Z"
    }
   },
   "outputs": [],
   "source": [
    "df['max_degree'] = df['max_edu'].str[0]\n",
    "df['max_institution'] = df['max_edu'].str[1]"
   ]
  },
  {
   "cell_type": "code",
   "execution_count": 12,
   "id": "built-queen",
   "metadata": {
    "ExecuteTime": {
     "end_time": "2021-02-28T23:33:21.193916Z",
     "start_time": "2021-02-28T23:33:21.185320Z"
    }
   },
   "outputs": [],
   "source": [
    "degree_dict = {\n",
    "    'Bachelors': ['BS', 'BA', 'AB', 'BPA', 'BBA', 'ALB', 'LLB'],\n",
    "    'Masters': [\n",
    "        'MPA', 'MA', 'MSW', 'MS', 'MPP', 'MDIV', 'THM', 'MUP',\n",
    "        'MHS', 'SYC', 'GRCERT', 'MPHIL', 'MIA', 'MSS', 'MPH',\n",
    "        'MACC', 'MFA', 'MED'\n",
    "    ],\n",
    "    'Doctorate': ['PHD', 'DPA', 'EDD', 'PHARMD', 'DMIN', 'DPHIL', 'DVM'],\n",
    "    'MBA': ['MBA'],\n",
    "    'Medicine': ['MD', 'DPM'],\n",
    "    'Nursing': ['GRDIP'],\n",
    "    'Dental': ['DDS', 'DMD'],\n",
    "    'Law': ['JD', 'LLM'],\n",
    "    'HS': ['HS'],\n",
    "    'Associates': ['AA', 'AAS', 'AS']\n",
    "}\n",
    "\n",
    "time_dict = {\n",
    "    'Bachelors': 4,\n",
    "    'Masters': 6,\n",
    "    'Doctorate': 12,\n",
    "    'MBA': 6,\n",
    "    'Medicine': 10,\n",
    "    'Nursing': 6,\n",
    "    'Dental': 8,\n",
    "    'Law': 7,\n",
    "    'HS': 0,\n",
    "    'Associates': 2\n",
    "}"
   ]
  },
  {
   "cell_type": "code",
   "execution_count": 13,
   "id": "particular-fortune",
   "metadata": {
    "ExecuteTime": {
     "end_time": "2021-02-28T23:33:21.434637Z",
     "start_time": "2021-02-28T23:33:21.426324Z"
    },
    "scrolled": true
   },
   "outputs": [],
   "source": [
    "map_dict = {}\n",
    "for k, vs in degree_dict.items():\n",
    "    for v in vs:\n",
    "        map_dict[v] = k\n",
    "\n",
    "df['degree_group'] = df['max_degree'].map(lambda x: map_dict[x])\n",
    "df['post_secondary'] = df['degree_group'].map(lambda x: time_dict[x])"
   ]
  },
  {
   "cell_type": "code",
   "execution_count": 69,
   "id": "partial-notification",
   "metadata": {
    "ExecuteTime": {
     "end_time": "2021-02-28T23:57:35.130550Z",
     "start_time": "2021-02-28T23:57:35.121778Z"
    }
   },
   "outputs": [],
   "source": [
    "data = pd.DataFrame(df.groupby('gender')['degree_group'].value_counts(normalize=True) * 100)\n",
    "data.rename(columns={'degree_group': 'pct'}, inplace=True)\n",
    "data.reset_index(inplace=True)"
   ]
  },
  {
   "cell_type": "code",
   "execution_count": 201,
   "id": "enabling-packaging",
   "metadata": {
    "ExecuteTime": {
     "end_time": "2021-03-01T00:55:45.480443Z",
     "start_time": "2021-03-01T00:55:45.468580Z"
    }
   },
   "outputs": [
    {
     "data": {
      "text/html": [
       "<div>\n",
       "<style scoped>\n",
       "    .dataframe tbody tr th:only-of-type {\n",
       "        vertical-align: middle;\n",
       "    }\n",
       "\n",
       "    .dataframe tbody tr th {\n",
       "        vertical-align: top;\n",
       "    }\n",
       "\n",
       "    .dataframe thead th {\n",
       "        text-align: right;\n",
       "    }\n",
       "</style>\n",
       "<table border=\"1\" class=\"dataframe\">\n",
       "  <thead>\n",
       "    <tr style=\"text-align: right;\">\n",
       "      <th></th>\n",
       "      <th>gender</th>\n",
       "      <th>degree_group</th>\n",
       "      <th>pct</th>\n",
       "    </tr>\n",
       "  </thead>\n",
       "  <tbody>\n",
       "    <tr>\n",
       "      <th>0</th>\n",
       "      <td>F</td>\n",
       "      <td>Bachelors</td>\n",
       "      <td>28.455285</td>\n",
       "    </tr>\n",
       "    <tr>\n",
       "      <th>1</th>\n",
       "      <td>F</td>\n",
       "      <td>Law</td>\n",
       "      <td>27.642276</td>\n",
       "    </tr>\n",
       "    <tr>\n",
       "      <th>2</th>\n",
       "      <td>F</td>\n",
       "      <td>Masters</td>\n",
       "      <td>24.390244</td>\n",
       "    </tr>\n",
       "    <tr>\n",
       "      <th>3</th>\n",
       "      <td>F</td>\n",
       "      <td>MBA</td>\n",
       "      <td>7.317073</td>\n",
       "    </tr>\n",
       "    <tr>\n",
       "      <th>4</th>\n",
       "      <td>F</td>\n",
       "      <td>Doctorate</td>\n",
       "      <td>5.691057</td>\n",
       "    </tr>\n",
       "    <tr>\n",
       "      <th>5</th>\n",
       "      <td>F</td>\n",
       "      <td>HS</td>\n",
       "      <td>3.252033</td>\n",
       "    </tr>\n",
       "    <tr>\n",
       "      <th>6</th>\n",
       "      <td>F</td>\n",
       "      <td>Medicine</td>\n",
       "      <td>1.626016</td>\n",
       "    </tr>\n",
       "    <tr>\n",
       "      <th>7</th>\n",
       "      <td>F</td>\n",
       "      <td>Associates</td>\n",
       "      <td>0.813008</td>\n",
       "    </tr>\n",
       "    <tr>\n",
       "      <th>8</th>\n",
       "      <td>F</td>\n",
       "      <td>Nursing</td>\n",
       "      <td>0.813008</td>\n",
       "    </tr>\n",
       "    <tr>\n",
       "      <th>9</th>\n",
       "      <td>M</td>\n",
       "      <td>Law</td>\n",
       "      <td>32.380952</td>\n",
       "    </tr>\n",
       "    <tr>\n",
       "      <th>10</th>\n",
       "      <td>M</td>\n",
       "      <td>Bachelors</td>\n",
       "      <td>26.349206</td>\n",
       "    </tr>\n",
       "    <tr>\n",
       "      <th>11</th>\n",
       "      <td>M</td>\n",
       "      <td>Masters</td>\n",
       "      <td>18.095238</td>\n",
       "    </tr>\n",
       "    <tr>\n",
       "      <th>12</th>\n",
       "      <td>M</td>\n",
       "      <td>MBA</td>\n",
       "      <td>8.253968</td>\n",
       "    </tr>\n",
       "    <tr>\n",
       "      <th>13</th>\n",
       "      <td>M</td>\n",
       "      <td>HS</td>\n",
       "      <td>4.761905</td>\n",
       "    </tr>\n",
       "    <tr>\n",
       "      <th>14</th>\n",
       "      <td>M</td>\n",
       "      <td>Doctorate</td>\n",
       "      <td>4.444444</td>\n",
       "    </tr>\n",
       "    <tr>\n",
       "      <th>15</th>\n",
       "      <td>M</td>\n",
       "      <td>Medicine</td>\n",
       "      <td>2.857143</td>\n",
       "    </tr>\n",
       "    <tr>\n",
       "      <th>16</th>\n",
       "      <td>M</td>\n",
       "      <td>Dental</td>\n",
       "      <td>1.587302</td>\n",
       "    </tr>\n",
       "    <tr>\n",
       "      <th>17</th>\n",
       "      <td>M</td>\n",
       "      <td>Associates</td>\n",
       "      <td>1.269841</td>\n",
       "    </tr>\n",
       "  </tbody>\n",
       "</table>\n",
       "</div>"
      ],
      "text/plain": [
       "   gender degree_group        pct\n",
       "0       F    Bachelors  28.455285\n",
       "1       F          Law  27.642276\n",
       "2       F      Masters  24.390244\n",
       "3       F          MBA   7.317073\n",
       "4       F    Doctorate   5.691057\n",
       "5       F           HS   3.252033\n",
       "6       F     Medicine   1.626016\n",
       "7       F   Associates   0.813008\n",
       "8       F      Nursing   0.813008\n",
       "9       M          Law  32.380952\n",
       "10      M    Bachelors  26.349206\n",
       "11      M      Masters  18.095238\n",
       "12      M          MBA   8.253968\n",
       "13      M           HS   4.761905\n",
       "14      M    Doctorate   4.444444\n",
       "15      M     Medicine   2.857143\n",
       "16      M       Dental   1.587302\n",
       "17      M   Associates   1.269841"
      ]
     },
     "execution_count": 201,
     "metadata": {},
     "output_type": "execute_result"
    }
   ],
   "source": [
    "data"
   ]
  },
  {
   "cell_type": "code",
   "execution_count": 199,
   "id": "representative-brass",
   "metadata": {
    "ExecuteTime": {
     "end_time": "2021-03-01T00:55:11.688122Z",
     "start_time": "2021-03-01T00:55:11.297077Z"
    }
   },
   "outputs": [
    {
     "data": {
      "image/png": "[encoded data removed]",
      "text/plain": [
       "<Figure size 1080x720 with 1 Axes>"
      ]
     },
     "metadata": {
      "needs_background": "light"
     },
     "output_type": "display_data"
    }
   ],
   "source": [
    "fig = plt.figure(figsize=(15,10))\n",
    "sns.barplot(data=data, x='degree_group', y='pct', hue='gender')\n",
    "plt.show()"
   ]
  },
  {
   "cell_type": "code",
   "execution_count": 194,
   "id": "moderate-brighton",
   "metadata": {
    "ExecuteTime": {
     "end_time": "2021-03-01T00:52:47.059694Z",
     "start_time": "2021-03-01T00:52:46.621776Z"
    }
   },
   "outputs": [
    {
     "data": {
      "image/png": "[encoded data removed]",
      "text/plain": [
       "<Figure size 1080x720 with 1 Axes>"
      ]
     },
     "metadata": {
      "needs_background": "light"
     },
     "output_type": "display_data"
    }
   ],
   "source": [
    "fig, ax = plt.subplots(1,1, figsize=(15,10))\n",
    "g = sns.histplot(data, x='gender', hue='degree_group', weights='pct', multiple='stack')\n",
    "# plt.xticks(rotation=65)\n",
    "plt.title('Terminal Degree Distribution by Gender')\n",
    "plt.xlabel('Gender')\n",
    "plt.ylabel('Percentage Terminal Degree (%)')\n",
    "leg = g.get_legend()\n",
    "plt.legend(leg.legendHandles, [ text.get_text() for text in leg.texts ], loc='center right', bbox_to_anchor=(1.15, 0.5), ncol=1)\n",
    "\n",
    "plt.show()"
   ]
  }
 ],
 "metadata": {
  "kernelspec": {
   "display_name": "eda_env",
   "language": "python",
   "name": "eda_env"
  },
  "language_info": {
   "codemirror_mode": {
    "name": "ipython",
    "version": 3
   },
   "file_extension": ".py",
   "mimetype": "text/x-python",
   "name": "python",
   "nbconvert_exporter": "python",
   "pygments_lexer": "ipython3",
   "version": "3.9.1"
  },
  "toc": {
   "base_numbering": 1,
   "nav_menu": {},
   "number_sections": true,
   "sideBar": true,
   "skip_h1_title": false,
   "title_cell": "Table of Contents",
   "title_sidebar": "Contents",
   "toc_cell": false,
   "toc_position": {},
   "toc_section_display": true,
   "toc_window_display": false
  }
 },
 "nbformat": 4,
 "nbformat_minor": 5
}
