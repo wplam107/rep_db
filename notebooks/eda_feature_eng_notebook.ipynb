{
 "cells": [
  {
   "cell_type": "code",
   "execution_count": 687,
   "id": "british-scout",
   "metadata": {
    "ExecuteTime": {
     "end_time": "2021-03-02T22:09:11.711469Z",
     "start_time": "2021-03-02T22:09:11.650451Z"
    }
   },
   "outputs": [],
   "source": [
    "import numpy as np\n",
    "import pandas as pd\n",
    "import re\n",
    "from datetime import date\n",
    "\n",
    "import matplotlib.pyplot as plt\n",
    "import seaborn as sns\n",
    "plt.style.use('ggplot')\n",
    "\n",
    "import configparser\n",
    "import pymongo"
   ]
  },
  {
   "cell_type": "code",
   "execution_count": 688,
   "id": "latter-bleeding",
   "metadata": {
    "ExecuteTime": {
     "end_time": "2021-03-02T22:09:14.458825Z",
     "start_time": "2021-03-02T22:09:14.371062Z"
    }
   },
   "outputs": [],
   "source": [
    "config = configparser.ConfigParser()\n",
    "config.read('../database-dev/auth/config.ini')\n",
    "\n",
    "MONGO_LOCAL = config.get('mongodb', 'MONGO_LOCAL')\n",
    "MONGO_DB = config.get('mongodb', 'MONGO_DB')\n",
    "client = pymongo.MongoClient(MONGO_LOCAL)\n",
    "db = client.get_database(MONGO_DB)\n",
    "collection = db['reps']"
   ]
  },
  {
   "cell_type": "code",
   "execution_count": 689,
   "id": "offensive-force",
   "metadata": {
    "ExecuteTime": {
     "end_time": "2021-03-02T22:09:15.656862Z",
     "start_time": "2021-03-02T22:09:14.857074Z"
    }
   },
   "outputs": [],
   "source": [
    "proj_dict = {\n",
    "    'first_name': 1,\n",
    "    'middle_name': 1,\n",
    "    'last_name': 1,\n",
    "    'dob': 1,\n",
    "    'gender': 1,\n",
    "    'current_party': 1,\n",
    "    'state': 1,\n",
    "    'roles': 1,\n",
    "    'education': 1\n",
    "}\n",
    "results = collection.find({'in_office': True}, proj_dict)\n",
    "df = pd.DataFrame(results)"
   ]
  },
  {
   "cell_type": "markdown",
   "id": "particular-medication",
   "metadata": {},
   "source": [
    "## Age and Terms Served"
   ]
  },
  {
   "cell_type": "code",
   "execution_count": 690,
   "id": "million-malaysia",
   "metadata": {
    "ExecuteTime": {
     "end_time": "2021-03-02T22:09:15.894656Z",
     "start_time": "2021-03-02T22:09:15.888940Z"
    }
   },
   "outputs": [],
   "source": [
    "def get_age(dob):\n",
    "    today = date.today()\n",
    "    age = today.year - dob.year - ((today.month, today.day) < (dob.month, dob.day))\n",
    "    \n",
    "    return age"
   ]
  },
  {
   "cell_type": "code",
   "execution_count": 691,
   "id": "bulgarian-athens",
   "metadata": {
    "ExecuteTime": {
     "end_time": "2021-03-02T22:09:16.451847Z",
     "start_time": "2021-03-02T22:09:16.371247Z"
    }
   },
   "outputs": [],
   "source": [
    "df['dob'] = df['dob'].map(lambda x: pd.to_datetime(x).date())\n",
    "df['age'] = np.vectorize(get_age)(df['dob'].values)\n",
    "df['terms'] = np.vectorize(lambda x: len(x))(df['roles'])"
   ]
  },
  {
   "cell_type": "code",
   "execution_count": 692,
   "id": "sitting-chase",
   "metadata": {
    "ExecuteTime": {
     "end_time": "2021-03-02T22:09:16.984380Z",
     "start_time": "2021-03-02T22:09:16.970372Z"
    }
   },
   "outputs": [
    {
     "data": {
      "text/plain": [
       "count    438.000000\n",
       "mean      57.899543\n",
       "std       12.011206\n",
       "min       25.000000\n",
       "25%       49.000000\n",
       "50%       58.000000\n",
       "75%       67.000000\n",
       "max       87.000000\n",
       "Name: age, dtype: float64"
      ]
     },
     "execution_count": 692,
     "metadata": {},
     "output_type": "execute_result"
    }
   ],
   "source": [
    "df['age'].describe()"
   ]
  },
  {
   "cell_type": "code",
   "execution_count": 693,
   "id": "elect-offering",
   "metadata": {
    "ExecuteTime": {
     "end_time": "2021-03-02T22:09:17.914294Z",
     "start_time": "2021-03-02T22:09:17.602632Z"
    }
   },
   "outputs": [
    {
     "data": {
      "image/png": "[encoded data removed]",
      "text/plain": [
       "<Figure size 720x360 with 1 Axes>"
      ]
     },
     "metadata": {},
     "output_type": "display_data"
    }
   ],
   "source": [
    "fig = plt.figure(figsize=(10,5))\n",
    "ax = plt.hist(df['age'], bins=range(20, 100, 10))\n",
    "for i, p in enumerate(ax[2].patches):\n",
    "    xy = p.get_xy()\n",
    "    plt.annotate(\n",
    "        text='{val: .0f}'.format(val=ax[0][i]),\n",
    "        xy=(p.get_x() + p.get_width() / 2, p.get_height()),\n",
    "        ha='center', va='center', xytext=(0, 5), textcoords='offset points'\n",
    "    )\n",
    "plt.title('Age Distribution of Representatives')\n",
    "plt.xlabel('Age (years)')\n",
    "plt.ylabel('Count')\n",
    "plt.show()"
   ]
  },
  {
   "cell_type": "markdown",
   "id": "entire-magnet",
   "metadata": {},
   "source": [
    "## Degrees and Institutions"
   ]
  },
  {
   "cell_type": "code",
   "execution_count": 694,
   "id": "contemporary-colors",
   "metadata": {
    "ExecuteTime": {
     "end_time": "2021-03-02T22:09:20.607075Z",
     "start_time": "2021-03-02T22:09:20.601289Z"
    }
   },
   "outputs": [],
   "source": [
    "df['education'] = df['education'].map(lambda x: x == None and [['HS', 'HS']] or x)\n",
    "df['education'] = df['education'].map(lambda x: x == [] and [['HS', 'HS']] or x)"
   ]
  },
  {
   "cell_type": "code",
   "execution_count": 695,
   "id": "julian-first",
   "metadata": {
    "ExecuteTime": {
     "end_time": "2021-03-02T22:09:21.217368Z",
     "start_time": "2021-03-02T22:09:21.209645Z"
    }
   },
   "outputs": [],
   "source": [
    "df['degrees'] = df['education'].map(lambda x: [ edu[0] for edu in x ])\n",
    "df['institutions'] = df['education'].map(lambda x: [ edu[1] for edu in x ])"
   ]
  },
  {
   "cell_type": "code",
   "execution_count": 696,
   "id": "chinese-farming",
   "metadata": {
    "ExecuteTime": {
     "end_time": "2021-03-02T22:09:21.585632Z",
     "start_time": "2021-03-02T22:09:21.573577Z"
    }
   },
   "outputs": [],
   "source": [
    "df.drop(columns='education', inplace=True)"
   ]
  },
  {
   "cell_type": "code",
   "execution_count": 697,
   "id": "hawaiian-sunset",
   "metadata": {
    "ExecuteTime": {
     "end_time": "2021-03-02T22:09:21.812805Z",
     "start_time": "2021-03-02T22:09:21.803821Z"
    }
   },
   "outputs": [],
   "source": [
    "degree_list = np.concatenate(df['degrees'])\n",
    "degree_list = set(degree_list)"
   ]
  },
  {
   "cell_type": "code",
   "execution_count": 698,
   "id": "thick-turkish",
   "metadata": {
    "ExecuteTime": {
     "end_time": "2021-03-02T22:09:22.291674Z",
     "start_time": "2021-03-02T22:09:22.280885Z"
    }
   },
   "outputs": [
    {
     "name": "stdout",
     "output_type": "stream",
     "text": [
      "{'MPH', 'JD', 'MBA', 'BDIV', 'DMIN', 'HS', 'MS', 'THM', 'PHARMD', 'MSN', 'BS', 'BSFS', 'GRCERT', 'SYC', 'MD', 'AAS', 'DMD', 'DPA', 'AA', 'DDS', 'DVM', 'BA', 'BPA', 'MSEM', 'BSN', 'DPM', 'MFA', 'MSW', 'AB', 'MHS', 'MPA', 'ALB', 'AS', 'BGS', 'DPHIL', 'MPP', 'MSS', 'EDD', 'BBA', 'LLM', 'PHD', 'LLB', 'MPHIL', 'GRDIP', 'MACC', 'MUP', 'MIA', 'MED', 'MSC', 'MDIV', 'MA'}\n"
     ]
    }
   ],
   "source": [
    "print(degree_list)"
   ]
  },
  {
   "cell_type": "code",
   "execution_count": 699,
   "id": "built-queen",
   "metadata": {
    "ExecuteTime": {
     "end_time": "2021-03-02T22:09:22.528423Z",
     "start_time": "2021-03-02T22:09:22.521050Z"
    }
   },
   "outputs": [],
   "source": [
    "# Dictionary to bin categories\n",
    "degree_dict = {\n",
    "    'Bachelors': [\n",
    "        'BS', 'BA', 'AB', 'BPA', 'BBA', 'ALB', 'LLB', 'BDIV',\n",
    "        'BSFS', 'BPA', 'BSN', 'BGS'\n",
    "    ],\n",
    "    'Masters': [\n",
    "        'MPA', 'MA', 'MSW', 'MS', 'MPP', 'MDIV', 'THM', 'MUP',\n",
    "        'MHS', 'SYC', 'GRCERT', 'MPHIL', 'MIA', 'MSS', 'MPH',\n",
    "        'MACC', 'MFA', 'MED', 'MPH', 'MSEM', 'MSC'\n",
    "    ],\n",
    "    'Doctorate': ['PHD', 'DPA', 'EDD', 'PHARMD', 'DMIN', 'DPHIL'],\n",
    "    'MBA': ['MBA'],\n",
    "    'Medicine': ['MD', 'DPM'],\n",
    "    'Veterinary': ['DVM'],\n",
    "    'Nursing': ['GRDIP', 'MSN'],\n",
    "    'Dental': ['DDS', 'DMD'],\n",
    "    'Law': ['JD', 'LLM'],\n",
    "    'HS': ['HS'],\n",
    "    'Associates': ['AA', 'AAS', 'AS']\n",
    "}\n",
    "\n",
    "# Dictionary for average duration of degree completion\n",
    "time_dict = {\n",
    "    'Bachelors': 4,\n",
    "    'Masters': 2,\n",
    "    'Doctorate': 6,\n",
    "    'MBA': 2,\n",
    "    'Medicine': 6,\n",
    "    'Nursing': 2,\n",
    "    'Dental': 4,\n",
    "    'Law': 2,\n",
    "    'HS': 0,\n",
    "    'Associates': 2,\n",
    "    'Veterinary': 4\n",
    "}"
   ]
  },
  {
   "cell_type": "code",
   "execution_count": 700,
   "id": "reasonable-safety",
   "metadata": {
    "ExecuteTime": {
     "end_time": "2021-03-02T22:09:23.037742Z",
     "start_time": "2021-03-02T22:09:23.033211Z"
    }
   },
   "outputs": [],
   "source": [
    "# Create invert k, v\n",
    "map_dict = {}\n",
    "for k, vs in degree_dict.items():\n",
    "    for v in vs:\n",
    "        map_dict[v] = k"
   ]
  },
  {
   "cell_type": "code",
   "execution_count": 701,
   "id": "compact-homework",
   "metadata": {
    "ExecuteTime": {
     "end_time": "2021-03-02T22:09:23.400794Z",
     "start_time": "2021-03-02T22:09:23.393275Z"
    }
   },
   "outputs": [],
   "source": [
    "# Group degrees and calculate years of post-secondary education\n",
    "df['degree_groups'] = df['degrees'].map(lambda degs: [ map_dict[deg] for deg in degs ])\n",
    "df['post_sec_years'] = df['degree_groups'].map(\n",
    "    lambda degs: sum([ time_dict[deg] for deg in degs ])\n",
    ")"
   ]
  },
  {
   "cell_type": "code",
   "execution_count": 702,
   "id": "anonymous-capability",
   "metadata": {
    "ExecuteTime": {
     "end_time": "2021-03-02T22:09:23.984081Z",
     "start_time": "2021-03-02T22:09:23.976971Z"
    }
   },
   "outputs": [],
   "source": [
    "# Institutions by graduates\n",
    "colleges_dict = {}\n",
    "for edus in df['institutions']:\n",
    "    insts = []\n",
    "    for edu in edus:\n",
    "        # Prevent duplicate institutions by rep\n",
    "        if edu in insts:\n",
    "            pass\n",
    "        else:\n",
    "            if edu not in colleges_dict.keys():\n",
    "                colleges_dict[edu] = 0\n",
    "            colleges_dict[edu] += 1\n",
    "\n",
    "tups = sorted(colleges_dict.items(), key=lambda x: x[1], reverse=True)\n",
    "colleges_dict = { k: v for k, v in tups }\n",
    "del colleges_dict['HS']"
   ]
  },
  {
   "cell_type": "code",
   "execution_count": 703,
   "id": "noted-banner",
   "metadata": {
    "ExecuteTime": {
     "end_time": "2021-03-02T22:09:24.830754Z",
     "start_time": "2021-03-02T22:09:24.570594Z"
    }
   },
   "outputs": [
    {
     "data": {
      "image/png": "[encoded data removed]",
      "text/plain": [
       "<Figure size 432x288 with 1 Axes>"
      ]
     },
     "metadata": {},
     "output_type": "display_data"
    }
   ],
   "source": [
    "x = list(colleges_dict.keys())[:10]\n",
    "y = list(colleges_dict.values())[:10]\n",
    "plt.bar(x, y)\n",
    "plt.xticks(rotation=90)\n",
    "plt.title('Alumni by Institution')\n",
    "plt.ylabel('Count')\n",
    "plt.show()"
   ]
  },
  {
   "cell_type": "code",
   "execution_count": 704,
   "id": "operational-remedy",
   "metadata": {
    "ExecuteTime": {
     "end_time": "2021-03-02T22:09:25.470132Z",
     "start_time": "2021-03-02T22:09:25.457870Z"
    }
   },
   "outputs": [],
   "source": [
    "df['has_bach'] = df['degree_groups'].map(lambda x: 'Bachelors' in x)\n",
    "df['has_master'] = df['degree_groups'].map(lambda x: 'Masters' in x)\n",
    "df['has_business'] = df['degree_groups'].map(lambda x: 'MBA' in x)\n",
    "df['has_pro'] = df['degree_groups'].map(\n",
    "    lambda x:\n",
    "    ('Law' in x) or\n",
    "    ('Medicine' in x) or\n",
    "    ('Dental' in x) or \n",
    "    ('Veterinary' in x) or\n",
    "    ('Nursing' in x)\n",
    ")\n",
    "df['has_doctorate'] = df['degree_groups'].map(lambda x: 'Doctorate' in x)\n",
    "df['no_degree'] = df['degree_groups'].map(lambda x: 'HS' in x)"
   ]
  },
  {
   "cell_type": "code",
   "execution_count": 705,
   "id": "oriental-sunglasses",
   "metadata": {
    "ExecuteTime": {
     "end_time": "2021-03-02T22:09:26.809324Z",
     "start_time": "2021-03-02T22:09:26.162205Z"
    },
    "scrolled": false
   },
   "outputs": [
    {
     "data": {
      "image/png": "[encoded data removed]",
      "text/plain": [
       "<Figure size 1080x720 with 6 Axes>"
      ]
     },
     "metadata": {},
     "output_type": "display_data"
    }
   ],
   "source": [
    "code_dict = {\n",
    "    'No Post-Secondary': 'no_degree',\n",
    "    'Bachelors': 'has_bach',\n",
    "    'Masters': 'has_master',\n",
    "    'MBA': 'has_business',\n",
    "    'Professional': 'has_pro',\n",
    "    'Doctorate': 'has_doctorate'\n",
    "}\n",
    "\n",
    "fig = plt.figure(figsize=(15,10))\n",
    "gs = fig.add_gridspec(2,3)\n",
    "axes = gs.subplots(sharex='col', sharey=True)\n",
    "\n",
    "for i, key in enumerate(list(code_dict.keys())):\n",
    "    ax = axes[i // 3][(i + 3) % 3]\n",
    "    x = 'gender'\n",
    "    y = code_dict[key]\n",
    "    data = pd.DataFrame(df.groupby(x)[y].mean() * 100)\n",
    "    data.reset_index(inplace=True)\n",
    "    sns.barplot(data=data, x=x, y=y, ax=ax)\n",
    "    ax.set_title(f'{key} Degree', loc='center')\n",
    "    ax.set(xlabel=x.capitalize(), ylabel='Frequency')\n",
    "    ax.label_outer()\n",
    "    for j, p in enumerate(ax.patches):\n",
    "        ax.annotate(\n",
    "            '{val:.2f}%'.format(val=data[y][j]),\n",
    "            (p.get_x() + p.get_width() / 2, p.get_height()),\n",
    "            ha='center', va='center', xytext=(0, 5), textcoords='offset points'\n",
    "        )\n",
    "\n",
    "plt.suptitle('Degree Frequency by Gender')\n",
    "plt.show()"
   ]
  },
  {
   "cell_type": "markdown",
   "id": "passive-offense",
   "metadata": {},
   "source": [
    "## EDA"
   ]
  },
  {
   "cell_type": "code",
   "execution_count": 576,
   "id": "documentary-priority",
   "metadata": {
    "ExecuteTime": {
     "end_time": "2021-03-02T17:47:43.395636Z",
     "start_time": "2021-03-02T17:47:43.392024Z"
    }
   },
   "outputs": [],
   "source": [
    "import scipy"
   ]
  },
  {
   "cell_type": "markdown",
   "id": "exceptional-converter",
   "metadata": {},
   "source": [
    "### Statistical Tests\n",
    "- $\\alpha=0.05$"
   ]
  },
  {
   "cell_type": "code",
   "execution_count": 709,
   "id": "romance-trace",
   "metadata": {
    "ExecuteTime": {
     "end_time": "2021-03-03T02:48:39.492332Z",
     "start_time": "2021-03-03T02:48:39.478104Z"
    }
   },
   "outputs": [],
   "source": [
    "def chi_square_test(df, col1, key):\n",
    "    col2 = code_dict[key]\n",
    "    data = pd.DataFrame(df.groupby(col1)[col2].value_counts())\n",
    "    data.columns = ['count']\n",
    "    ob_freq = np.array(\n",
    "        data.reset_index().pivot(index=col2, columns=col1, values='count')\n",
    "    )\n",
    "\n",
    "    prob = 0.95\n",
    "    stat, p, dof, expected = scipy.stats.chi2_contingency(ob_freq)\n",
    "\n",
    "    if abs(stat) >= scipy.stats.chi2.ppf(prob, dof):\n",
    "        print(f'Reject Null - {col1} has relationship to {col2}')\n",
    "    else:\n",
    "        print(f'Cannot Reject Null - {col1} does not have relationship to {key}')"
   ]
  },
  {
   "cell_type": "code",
   "execution_count": 710,
   "id": "equal-democrat",
   "metadata": {
    "ExecuteTime": {
     "end_time": "2021-03-03T02:48:40.054126Z",
     "start_time": "2021-03-03T02:48:40.005400Z"
    }
   },
   "outputs": [
    {
     "name": "stdout",
     "output_type": "stream",
     "text": [
      "Cannot Reject Null - gender does not have relationship to No Post-Secondary\n",
      "Cannot Reject Null - gender does not have relationship to Bachelors\n",
      "Cannot Reject Null - gender does not have relationship to Masters\n",
      "Cannot Reject Null - gender does not have relationship to MBA\n",
      "Cannot Reject Null - gender does not have relationship to Professional\n",
      "Cannot Reject Null - gender does not have relationship to Doctorate\n"
     ]
    }
   ],
   "source": [
    "for key in code_dict.keys():\n",
    "    chi_square_test(df, 'gender', key)"
   ]
  },
  {
   "cell_type": "code",
   "execution_count": 711,
   "id": "indonesian-sudan",
   "metadata": {
    "ExecuteTime": {
     "end_time": "2021-03-03T02:48:40.747863Z",
     "start_time": "2021-03-03T02:48:40.701625Z"
    }
   },
   "outputs": [
    {
     "name": "stdout",
     "output_type": "stream",
     "text": [
      "Cannot Reject Null - current_party does not have relationship to No Post-Secondary\n",
      "Cannot Reject Null - current_party does not have relationship to Bachelors\n",
      "Cannot Reject Null - current_party does not have relationship to Masters\n",
      "Cannot Reject Null - current_party does not have relationship to MBA\n",
      "Cannot Reject Null - current_party does not have relationship to Professional\n",
      "Cannot Reject Null - current_party does not have relationship to Doctorate\n"
     ]
    }
   ],
   "source": [
    "for key in code_dict.keys():\n",
    "    chi_square_test(df, 'current_party', key)"
   ]
  },
  {
   "cell_type": "code",
   "execution_count": null,
   "id": "horizontal-safety",
   "metadata": {},
   "outputs": [],
   "source": []
  }
 ],
 "metadata": {
  "kernelspec": {
   "display_name": "eda_env",
   "language": "python",
   "name": "eda_env"
  },
  "language_info": {
   "codemirror_mode": {
    "name": "ipython",
    "version": 3
   },
   "file_extension": ".py",
   "mimetype": "text/x-python",
   "name": "python",
   "nbconvert_exporter": "python",
   "pygments_lexer": "ipython3",
   "version": "3.9.1"
  },
  "toc": {
   "base_numbering": 1,
   "nav_menu": {},
   "number_sections": false,
   "sideBar": true,
   "skip_h1_title": false,
   "title_cell": "Table of Contents",
   "title_sidebar": "Contents",
   "toc_cell": false,
   "toc_position": {},
   "toc_section_display": true,
   "toc_window_display": true
  }
 },
 "nbformat": 4,
 "nbformat_minor": 5
}
