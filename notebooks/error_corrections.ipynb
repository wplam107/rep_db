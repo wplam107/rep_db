{
 "cells": [
  {
   "cell_type": "markdown",
   "id": "alert-baking",
   "metadata": {},
   "source": [
    "# Notebook for Error Corrections"
   ]
  },
  {
   "cell_type": "code",
   "execution_count": 123,
   "id": "conscious-stereo",
   "metadata": {
    "ExecuteTime": {
     "end_time": "2021-02-28T23:05:16.112785Z",
     "start_time": "2021-02-28T23:05:16.102113Z"
    }
   },
   "outputs": [],
   "source": [
    "import configparser\n",
    "import pymongo\n",
    "\n",
    "import re\n",
    "import requests\n",
    "import googleapiclient\n",
    "from googleapiclient.discovery import build\n",
    "from mediawiki import MediaWiki\n",
    "from bs4 import BeautifulSoup"
   ]
  },
  {
   "cell_type": "code",
   "execution_count": 101,
   "id": "psychological-growth",
   "metadata": {
    "ExecuteTime": {
     "end_time": "2021-02-28T19:19:21.873015Z",
     "start_time": "2021-02-28T19:19:21.275552Z"
    }
   },
   "outputs": [],
   "source": [
    "config = configparser.ConfigParser()\n",
    "config.read('../database-dev/auth/config.ini')\n",
    "\n",
    "# MongoDB\n",
    "MONGO_LOCAL = config.get('mongodb', 'MONGO_LOCAL')\n",
    "MONGO_DB = config.get('mongodb', 'MONGO_DB')\n",
    "client = pymongo.MongoClient(MONGO_LOCAL)\n",
    "db = client.get_database(MONGO_DB)\n",
    "collection = db['reps']\n",
    "\n",
    "# ProPublica\n",
    "PROPUBLICA_KEY = config.get('propublica', 'PROPUBLICA_API_KEY')\n",
    "API_ROOT = config.get('propublica', 'API_ROOT')\n",
    "PROPUBLICA_HEADER = {'X-API-Key': f'{PROPUBLICA_KEY}'}\n",
    "\n",
    "# GKG\n",
    "GKG_API_KEY = config.get('gcpkeys', 'GKG_API_KEY')\n",
    "GKG = config.get('gcpkeys', 'GKG')\n",
    "GKG_VERSION = config.get('gcpkeys', 'GKG_VERSION')\n",
    "\n",
    "# Instantiate service connection\n",
    "service = build(GKG, GKG_VERSION, developerKey=GKG_API_KEY)\n",
    "entities = service.entities()\n",
    "\n",
    "# Instantiate wikipedia object\n",
    "wikipedia = MediaWiki()"
   ]
  },
  {
   "cell_type": "code",
   "execution_count": 102,
   "id": "established-syndicate",
   "metadata": {
    "ExecuteTime": {
     "end_time": "2021-02-28T19:19:24.194570Z",
     "start_time": "2021-02-28T19:19:24.107536Z"
    }
   },
   "outputs": [],
   "source": [
    "reps = [ r for r in collection.find({}) ]"
   ]
  },
  {
   "cell_type": "code",
   "execution_count": 103,
   "id": "bored-groove",
   "metadata": {
    "ExecuteTime": {
     "end_time": "2021-02-28T19:19:25.200524Z",
     "start_time": "2021-02-28T19:19:25.193627Z"
    }
   },
   "outputs": [
    {
     "name": "stdout",
     "output_type": "stream",
     "text": [
      "Jesús García\n",
      "https://en.wikipedia.org/wiki/Jes%C3%BAs_%22Chuy%22_Garc%C3%ADa\n",
      "Ralph Norman\n",
      "https://en.wikipedia.org/wiki/Karen_Handel\n",
      "Jefferson Van Drew\n",
      "https://en.wikipedia.org/wiki/Jeff_Van_Drew\n"
     ]
    }
   ],
   "source": [
    "# Check wikipedia URL errors\n",
    "errors = []\n",
    "for rep in reps:\n",
    "    f_name = rep['first_name']\n",
    "    l_name = rep['last_name']\n",
    "    url = rep['wiki_url']\n",
    "    if re.search(f'.*{f_name}.*', url) or re.search(f'.*{l_name}.*', url):\n",
    "        pass\n",
    "    else:\n",
    "        errors.append(rep)\n",
    "        print(rep['first_name'], rep['last_name'])\n",
    "        print(rep['wiki_url'])"
   ]
  },
  {
   "cell_type": "markdown",
   "id": "indoor-explorer",
   "metadata": {},
   "source": [
    "## Ralph Norman\n",
    "- Notified ProPublica of incorrect Google Entity ID.\n",
    "- Previously notified ProPublica of incorrect John Carter Google Entity ID."
   ]
  },
  {
   "cell_type": "markdown",
   "id": "north-mixer",
   "metadata": {},
   "source": [
    "### Google Entity ID"
   ]
  },
  {
   "cell_type": "code",
   "execution_count": 104,
   "id": "aggressive-blind",
   "metadata": {
    "ExecuteTime": {
     "end_time": "2021-02-28T19:19:28.894520Z",
     "start_time": "2021-02-28T19:19:28.619577Z"
    }
   },
   "outputs": [
    {
     "name": "stdout",
     "output_type": "stream",
     "text": [
      "https://en.wikipedia.org/wiki/Karen_Handel\n",
      "Database Google Entity ID: /m/0g838b\n"
     ]
    }
   ],
   "source": [
    "# Check GKG result\n",
    "_id = errors[1]['google_id']\n",
    "r = entities.search(ids=_id).execute()\n",
    "result = r['itemListElement'][0]['result']\n",
    "wiki_url = result['detailedDescription']['url']\n",
    "print(wiki_url)\n",
    "print('Database Google Entity ID:', _id)"
   ]
  },
  {
   "cell_type": "code",
   "execution_count": 105,
   "id": "equal-drill",
   "metadata": {
    "ExecuteTime": {
     "end_time": "2021-02-28T19:19:29.494254Z",
     "start_time": "2021-02-28T19:19:29.355695Z"
    },
    "scrolled": true
   },
   "outputs": [
    {
     "name": "stdout",
     "output_type": "stream",
     "text": [
      "ProPublica Google Entity ID: /m/0g838b\n"
     ]
    }
   ],
   "source": [
    "# Check ProPublica Data\n",
    "call_string = API_ROOT + f\"members/{errors[1]['_id']}.json\"\n",
    "r = requests.get(call_string, headers=PROPUBLICA_HEADER)\n",
    "result = r.json()['results'][0]\n",
    "print('ProPublica Google Entity ID:', result['google_entity_id'])"
   ]
  },
  {
   "cell_type": "code",
   "execution_count": 106,
   "id": "rental-glucose",
   "metadata": {
    "ExecuteTime": {
     "end_time": "2021-02-28T19:19:32.519957Z",
     "start_time": "2021-02-28T19:19:32.292818Z"
    }
   },
   "outputs": [
    {
     "name": "stdout",
     "output_type": "stream",
     "text": [
      "Google Entity Search Result: {'url': 'http://www.scstatehouse.gov/member.php?code=1421590739', 'name': 'Ralph Norman', 'description': 'U.S. Representative', '@type': ['Person', 'Thing'], '@id': 'kg:/m/0f9kbx'}\n"
     ]
    }
   ],
   "source": [
    "# Use GKG search query to get proper ID\n",
    "query = f\"{errors[1]['first_name']} {errors[1]['last_name']} politician\"\n",
    "r = entities.search(query=query).execute()\n",
    "result = r['itemListElement'][0]['result']\n",
    "_id = result['@id']\n",
    "gid = re.search('(?<=:).*', _id)[0]\n",
    "print('Google Entity Search Result:', result)"
   ]
  },
  {
   "cell_type": "code",
   "execution_count": 119,
   "id": "frequent-orange",
   "metadata": {
    "ExecuteTime": {
     "end_time": "2021-02-28T22:57:13.153271Z",
     "start_time": "2021-02-28T22:57:13.148725Z"
    }
   },
   "outputs": [
    {
     "data": {
      "text/plain": [
       "'https://en.wikipedia.org/wiki/Ralph_Norman'"
      ]
     },
     "execution_count": 119,
     "metadata": {},
     "output_type": "execute_result"
    }
   ],
   "source": [
    "# Retrieve correct wikipedia url\n",
    "query = f\"{errors[1]['first_name']} {errors[1]['last_name']} politician\"\n",
    "wiki_url = wikipedia.page(query).url\n",
    "wiki_url"
   ]
  },
  {
   "cell_type": "markdown",
   "id": "vietnamese-southeast",
   "metadata": {},
   "source": [
    "### Educational Background"
   ]
  },
  {
   "cell_type": "code",
   "execution_count": 129,
   "id": "ready-found",
   "metadata": {
    "ExecuteTime": {
     "end_time": "2021-02-28T23:08:01.791266Z",
     "start_time": "2021-02-28T23:08:01.505193Z"
    }
   },
   "outputs": [
    {
     "name": "stdout",
     "output_type": "stream",
     "text": [
      "['Presbyterian College', 'BS']\n"
     ]
    }
   ],
   "source": [
    "r = requests.get(wiki_url).text\n",
    "soup = BeautifulSoup(r)\n",
    "box = soup.find('table', attrs={'class': 'infobox vcard'})\n",
    "edus = box.find('th', text='Education').next_sibling\n",
    "edu = [ a.text for a in edus.find_all('a') ]\n",
    "print(edu)"
   ]
  },
  {
   "cell_type": "code",
   "execution_count": 130,
   "id": "determined-lyric",
   "metadata": {
    "ExecuteTime": {
     "end_time": "2021-02-28T23:08:02.333852Z",
     "start_time": "2021-02-28T23:08:02.330383Z"
    }
   },
   "outputs": [],
   "source": [
    "edu = [[edu[1], edu[0]]]"
   ]
  },
  {
   "cell_type": "code",
   "execution_count": 131,
   "id": "faced-spain",
   "metadata": {
    "ExecuteTime": {
     "end_time": "2021-02-28T23:08:04.049784Z",
     "start_time": "2021-02-28T23:08:04.042261Z"
    }
   },
   "outputs": [
    {
     "name": "stderr",
     "output_type": "stream",
     "text": [
      "<ipython-input-131-364d274ba09e>:3: DeprecationWarning: update is deprecated. Use replace_one, update_one or update_many instead.\n",
      "  result = collection.update({'_id': _id}, {'$set': {'google_id': gid, 'wiki_url': wiki_url, 'education': edu}})\n"
     ]
    },
    {
     "data": {
      "text/plain": [
       "{'n': 1, 'nModified': 1, 'ok': 1.0, 'updatedExisting': True}"
      ]
     },
     "execution_count": 131,
     "metadata": {},
     "output_type": "execute_result"
    }
   ],
   "source": [
    "# Correct errors in database\n",
    "_id = errors[1]['_id']\n",
    "result = collection.update({'_id': _id}, {'$set': {'google_id': gid, 'wiki_url': wiki_url, 'education': edu}})\n",
    "result"
   ]
  },
  {
   "cell_type": "code",
   "execution_count": 132,
   "id": "republican-configuration",
   "metadata": {
    "ExecuteTime": {
     "end_time": "2021-02-28T23:08:04.679164Z",
     "start_time": "2021-02-28T23:08:04.673292Z"
    },
    "scrolled": true
   },
   "outputs": [
    {
     "name": "stdout",
     "output_type": "stream",
     "text": [
      "/m/0f9kbx\n",
      "https://en.wikipedia.org/wiki/Ralph_Norman\n",
      "[['BS', 'Presbyterian College']]\n"
     ]
    }
   ],
   "source": [
    "# Verify\n",
    "result = collection.find_one({'_id': _id})\n",
    "print(result['google_id'])\n",
    "print(result['wiki_url'])\n",
    "print(result['education'])"
   ]
  },
  {
   "cell_type": "code",
   "execution_count": null,
   "id": "posted-isaac",
   "metadata": {},
   "outputs": [],
   "source": []
  }
 ],
 "metadata": {
  "kernelspec": {
   "display_name": "nosql-etl",
   "language": "python",
   "name": "nosql-etl"
  },
  "language_info": {
   "codemirror_mode": {
    "name": "ipython",
    "version": 3
   },
   "file_extension": ".py",
   "mimetype": "text/x-python",
   "name": "python",
   "nbconvert_exporter": "python",
   "pygments_lexer": "ipython3",
   "version": "3.9.1"
  },
  "toc": {
   "base_numbering": 1,
   "nav_menu": {},
   "number_sections": false,
   "sideBar": true,
   "skip_h1_title": false,
   "title_cell": "Table of Contents",
   "title_sidebar": "Contents",
   "toc_cell": false,
   "toc_position": {},
   "toc_section_display": true,
   "toc_window_display": true
  }
 },
 "nbformat": 4,
 "nbformat_minor": 5
}
