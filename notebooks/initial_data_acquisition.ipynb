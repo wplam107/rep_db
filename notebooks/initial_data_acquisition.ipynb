{
 "cells": [
  {
   "cell_type": "markdown",
   "metadata": {},
   "source": [
    "# Initial Data Acquisition Notebook\n",
    "- Data from https://projects.propublica.org/api-docs/congress-api/\n",
    "- Notebook for code to be refactored in the ```db-build``` directory\n",
    "- Database will hold 2 most recent congresses"
   ]
  },
  {
   "cell_type": "markdown",
   "metadata": {},
   "source": [
    "## Initial Configuration\n",
    "- ProPublica API and Firebase/Firestore Configuration\n",
    "- Class object built in ```auth.py```"
   ]
  },
  {
   "cell_type": "code",
   "execution_count": 1,
   "metadata": {
    "ExecuteTime": {
     "end_time": "2021-02-03T01:05:51.377633Z",
     "start_time": "2021-02-03T01:05:50.907526Z"
    }
   },
   "outputs": [],
   "source": [
    "# Config reader\n",
    "import configparser\n",
    "\n",
    "# Database connection and authentication\n",
    "import firebase_admin\n",
    "from firebase_admin import credentials, firestore\n",
    "\n",
    "# Read/Scrape data\n",
    "import requests\n",
    "import json\n",
    "import re\n",
    "from datetime import datetime"
   ]
  },
  {
   "cell_type": "code",
   "execution_count": 2,
   "metadata": {
    "ExecuteTime": {
     "end_time": "2021-02-03T01:05:51.393853Z",
     "start_time": "2021-02-03T01:05:51.380016Z"
    }
   },
   "outputs": [],
   "source": [
    "# Read config.ini file\n",
    "config = configparser.ConfigParser()\n",
    "config.read('./auth/config.ini')\n",
    "\n",
    "# Get ProPublica Auth\n",
    "PROPUBLICA_API_KEY = config.get('propublica', 'PROPUBLICA_API_KEY')\n",
    "API_ROOT = 'https://api.propublica.org/congress/v1/'\n",
    "header = {'X-API-Key': f'{PROPUBLICA_API_KEY}'}\n",
    "\n",
    "# Get Google Firebase Auth\n",
    "GCP_AUTH_PATH = config.get('firebase', 'GCP_AUTH_PATH')\n",
    "cred = credentials.Certificate(GCP_AUTH_PATH)\n",
    "app = firebase_admin.initialize_app(cred)\n",
    "\n",
    "# Instantiate connection to database\n",
    "db = firestore.client()"
   ]
  },
  {
   "cell_type": "markdown",
   "metadata": {},
   "source": [
    "## Members of US House of Representatives Data\n",
    "- Script to build the US Representatives collection, ```reps```, in the Google Firestore database: ```build_house_db.py```"
   ]
  },
  {
   "cell_type": "markdown",
   "metadata": {},
   "source": [
    "### Get Initial Congress and Clean Data/Select Features"
   ]
  },
  {
   "cell_type": "code",
   "execution_count": 3,
   "metadata": {
    "ExecuteTime": {
     "end_time": "2021-02-03T01:05:51.403010Z",
     "start_time": "2021-02-03T01:05:51.397547Z"
    }
   },
   "outputs": [],
   "source": [
    "def get_house_ids(congress):\n",
    "    '''\n",
    "    Function to get house members' ProPublica ID by congress number\n",
    "    '''\n",
    "\n",
    "    call_string = API_ROOT + f'{congress}/house/members.json'\n",
    "    r = requests.get(call_string, headers=header)\n",
    "    result = r.json()['results'][0]['members']\n",
    "    member_ids = [ member['id'] for member in result ]\n",
    "    \n",
    "    return member_ids"
   ]
  },
  {
   "cell_type": "code",
   "execution_count": 4,
   "metadata": {
    "ExecuteTime": {
     "end_time": "2021-02-03T01:05:51.823372Z",
     "start_time": "2021-02-03T01:05:51.405946Z"
    }
   },
   "outputs": [],
   "source": [
    "# House member ids of the 116-117th Congress (2018-2022)\n",
    "ids_116 = get_house_ids(116)\n",
    "ids_117 = get_house_ids(117)"
   ]
  },
  {
   "cell_type": "code",
   "execution_count": 5,
   "metadata": {
    "ExecuteTime": {
     "end_time": "2021-02-03T01:05:51.829876Z",
     "start_time": "2021-02-03T01:05:51.826298Z"
    }
   },
   "outputs": [],
   "source": [
    "# Create list of unique IDs to remove redundant API calls\n",
    "all_ids = list(set(ids_116 + ids_117))"
   ]
  },
  {
   "cell_type": "code",
   "execution_count": 6,
   "metadata": {
    "ExecuteTime": {
     "end_time": "2021-02-03T01:05:51.836440Z",
     "start_time": "2021-02-03T01:05:51.832506Z"
    }
   },
   "outputs": [],
   "source": [
    "def get_member_data(member):\n",
    "    '''\n",
    "    Function to get house member's data\n",
    "    '''\n",
    "    \n",
    "    call_string = API_ROOT + f'members/{member}.json'\n",
    "    r = requests.get(call_string, headers=header)\n",
    "    result = r.json()['results'][0]\n",
    "    \n",
    "    return result"
   ]
  },
  {
   "cell_type": "code",
   "execution_count": 7,
   "metadata": {
    "ExecuteTime": {
     "end_time": "2021-02-03T01:05:52.115100Z",
     "start_time": "2021-02-03T01:05:51.838806Z"
    }
   },
   "outputs": [
    {
     "name": "stdout",
     "output_type": "stream",
     "text": [
      "id: H001088\n",
      "member_id: H001088\n",
      "first_name: Jim\n",
      "middle_name: None\n",
      "last_name: Hagedorn\n"
     ]
    }
   ],
   "source": [
    "# Sample\n",
    "sample_id = all_ids[0]\n",
    "sample = get_member_data(sample_id)\n",
    "for k, v in list(sample.items())[:5]:\n",
    "    print(f'{k}: {v}')"
   ]
  },
  {
   "cell_type": "code",
   "execution_count": 8,
   "metadata": {
    "ExecuteTime": {
     "end_time": "2021-02-03T01:05:52.124546Z",
     "start_time": "2021-02-03T01:05:52.120621Z"
    }
   },
   "outputs": [],
   "source": [
    "# Create generator, split list in half to ensure under batch write limit\n",
    "half = int(len(all_ids)/2)\n",
    "members1 = ( get_member_data(member) for member in all_ids[:half] )\n",
    "members2 = ( get_member_data(member) for member in all_ids[half:] )"
   ]
  },
  {
   "cell_type": "code",
   "execution_count": 9,
   "metadata": {
    "ExecuteTime": {
     "end_time": "2021-02-03T01:05:52.131011Z",
     "start_time": "2021-02-03T01:05:52.128008Z"
    }
   },
   "outputs": [],
   "source": [
    "def to_date(s):\n",
    "    date = datetime.strptime(s, '%Y-%m-%d')\n",
    "    return date"
   ]
  },
  {
   "cell_type": "code",
   "execution_count": 10,
   "metadata": {
    "ExecuteTime": {
     "end_time": "2021-02-03T01:05:52.140033Z",
     "start_time": "2021-02-03T01:05:52.133313Z"
    }
   },
   "outputs": [],
   "source": [
    "def member_cleaner(member):\n",
    "    '''\n",
    "    Function to keep relevent information on congress member\n",
    "    '''\n",
    "    \n",
    "    roles = member['roles']\n",
    "    roles.sort(key=lambda x: x['congress'], reverse=True)\n",
    "    fec_id = roles[0]['fec_candidate_id'] # Most recent FEC candidate ID\n",
    "    congresses = [ role['congress'] for role in roles ]\n",
    "    \n",
    "    mem_dict = {\n",
    "        '_id': member['id'],\n",
    "        'first_name': member['first_name'],\n",
    "        'middle_name': member['middle_name'],\n",
    "        'last_name': member['last_name'],\n",
    "        'dob': to_date(member['date_of_birth']),\n",
    "        'gender': member['gender'],\n",
    "        'current_party': member['current_party'],\n",
    "        'google_id': member['google_entity_id'],\n",
    "        'votesmart_id': member['votesmart_id'],\n",
    "        'govtrack_id': member['govtrack_id'],\n",
    "        'cspan_id': member['cspan_id'],\n",
    "        'crp_id': member['crp_id'],\n",
    "        'fec_id': fec_id,\n",
    "        'congresses': congresses,   \n",
    "    }\n",
    "    \n",
    "    return mem_dict"
   ]
  },
  {
   "cell_type": "markdown",
   "metadata": {},
   "source": [
    "### Inserting into Google Firestore"
   ]
  },
  {
   "cell_type": "code",
   "execution_count": 11,
   "metadata": {
    "ExecuteTime": {
     "end_time": "2021-02-03T01:05:52.145396Z",
     "start_time": "2021-02-03T01:05:52.142639Z"
    }
   },
   "outputs": [],
   "source": [
    "members_insert1 = map(member_cleaner, members1)\n",
    "members_insert2 = map(member_cleaner, members2)"
   ]
  },
  {
   "cell_type": "code",
   "execution_count": 12,
   "metadata": {
    "ExecuteTime": {
     "end_time": "2021-02-03T01:05:52.152722Z",
     "start_time": "2021-02-03T01:05:52.147728Z"
    }
   },
   "outputs": [],
   "source": [
    "def batch_insert_members(members, db):\n",
    "    '''\n",
    "    Function to batch insert house members into database\n",
    "    '''\n",
    "    \n",
    "    batch = db.batch()\n",
    "    members_len = 0\n",
    "    for member in members:\n",
    "        _id = member['_id']\n",
    "        insert_ref = db.collection(\"reps\").document(f\"{_id}\")\n",
    "        batch.set(insert_ref, member)\n",
    "        members_len += 1\n",
    "            \n",
    "    batch.commit()\n",
    "    \n",
    "    batch_len = len(batch.write_results)\n",
    "    f_string = f'Batch Length: {batch_len}, Members Length: {members_len}'\n",
    "    assert batch_len == members_len, f_string\n",
    "    \n",
    "    print(f'{batch_len} members inserted')"
   ]
  },
  {
   "cell_type": "code",
   "execution_count": 13,
   "metadata": {
    "ExecuteTime": {
     "end_time": "2021-02-03T01:05:52.157888Z",
     "start_time": "2021-02-03T01:05:52.155189Z"
    }
   },
   "outputs": [],
   "source": [
    "# batch_insert_members(members_insert1, db)\n",
    "# batch_insert_members(members_insert2, db)"
   ]
  },
  {
   "cell_type": "markdown",
   "metadata": {},
   "source": [
    "## US House Roll Call Data\n",
    "- Script to build US House roll call collection, ```bills```, in Firestore database: ```build_bills_db.py```"
   ]
  },
  {
   "cell_type": "markdown",
   "metadata": {},
   "source": [
    "### Get Initial Congress Roll Calls"
   ]
  },
  {
   "cell_type": "code",
   "execution_count": 14,
   "metadata": {
    "ExecuteTime": {
     "end_time": "2021-02-03T01:05:52.169260Z",
     "start_time": "2021-02-03T01:05:52.161398Z"
    }
   },
   "outputs": [],
   "source": [
    "def get_roll_call_vote(congress, session, roll_call_number):\n",
    "    '''\n",
    "    Function to get singular roll call vote\n",
    "    '''\n",
    "    \n",
    "    call_string = API_ROOT + f'{congress}/house/sessions/{session}/votes/{roll_call_number}.json'\n",
    "    r = requests.get(call_string, headers=header)\n",
    "    \n",
    "    # Ignore nominations, quorum, and non-bill actions\n",
    "    try:\n",
    "        result = r.json()['results']['votes']['vote']\n",
    "        if (result['bill'] == {}) or (result['bill']['number'] == 'QUORUM'):\n",
    "            return None\n",
    "        else:\n",
    "            return result\n",
    "        \n",
    "    except:\n",
    "        return None"
   ]
  },
  {
   "cell_type": "code",
   "execution_count": 15,
   "metadata": {
    "ExecuteTime": {
     "end_time": "2021-02-03T01:05:52.181375Z",
     "start_time": "2021-02-03T01:05:52.172913Z"
    }
   },
   "outputs": [],
   "source": [
    "def rc_clean(rc_vote):\n",
    "    '''\n",
    "    Function to keep relevent information from roll call\n",
    "    '''\n",
    "\n",
    "    if rc_vote != None:\n",
    "        bill = rc_vote['bill']\n",
    "        vote_dict = {\n",
    "            'congress': rc_vote['congress'],\n",
    "            'session': rc_vote['session'],\n",
    "            'roll_call': rc_vote['roll_call'],\n",
    "            'bill_id': bill['bill_id'],\n",
    "            'api_call_id': ''.join(bill['number'].split('.')).lower(),\n",
    "            'title': bill['title'],\n",
    "            'description': rc_vote['description'],\n",
    "            'date': to_date(rc_vote['date']),\n",
    "            'result': rc_vote['result'],\n",
    "            'yes': [],\n",
    "            'no': [],\n",
    "            'not voting': [],\n",
    "            'present': [],\n",
    "            'speaker': [],\n",
    "        }\n",
    "        for mem in rc_vote['positions']:\n",
    "            mem_id = mem['member_id']\n",
    "            pos = mem['vote_position'].lower()\n",
    "            vote_dict[pos].append(mem_id)\n",
    "    \n",
    "    else:\n",
    "        vote_dict = None\n",
    "        \n",
    "    return vote_dict"
   ]
  },
  {
   "cell_type": "code",
   "execution_count": 16,
   "metadata": {
    "ExecuteTime": {
     "end_time": "2021-02-03T01:05:52.304154Z",
     "start_time": "2021-02-03T01:05:52.184652Z"
    }
   },
   "outputs": [
    {
     "name": "stdout",
     "output_type": "stream",
     "text": [
      "congress: 116\n",
      "session: 1\n",
      "roll_call: 4\n",
      "bill_id: hres5-116\n",
      "api_call_id: hres5\n"
     ]
    }
   ],
   "source": [
    "# Sample\n",
    "sample_rc = get_roll_call_vote(116, 1, 4)\n",
    "sample = rc_clean(sample_rc)\n",
    "for k, v in list(sample.items())[:5]:\n",
    "    print(f'{k}: {v}')"
   ]
  },
  {
   "cell_type": "markdown",
   "metadata": {},
   "source": [
    "### Set Initial Roll Call Range\n",
    "- Roll calls: https://clerk.house.gov/Votes"
   ]
  },
  {
   "cell_type": "code",
   "execution_count": 17,
   "metadata": {
    "ExecuteTime": {
     "end_time": "2021-02-03T01:05:52.309767Z",
     "start_time": "2021-02-03T01:05:52.306610Z"
    }
   },
   "outputs": [],
   "source": [
    "# Roll calls from 1st and 2nd sessions of 116th congress\n",
    "rc_116_1 = range(1, 702) # 701 roll calls\n",
    "rc_116_2 = range(1, 254) # 253 roll calls\n",
    "\n",
    "# Roll calls from 1st session of 117th congress (as of 2021-02-02)\n",
    "rc_117_1 = range(1, 19) # 18 roll calls"
   ]
  },
  {
   "cell_type": "code",
   "execution_count": 18,
   "metadata": {
    "ExecuteTime": {
     "end_time": "2021-02-03T01:05:52.316299Z",
     "start_time": "2021-02-03T01:05:52.312336Z"
    }
   },
   "outputs": [],
   "source": [
    "# Generators for batch insert\n",
    "votes_116_1 = ( rc_clean(get_roll_call_vote(116, 1, rc)) for rc in rc_116_1 )\n",
    "votes_116_2 = ( rc_clean(get_roll_call_vote(116, 2, rc)) for rc in rc_116_2 )\n",
    "votes_117_1 = ( rc_clean(get_roll_call_vote(117, 1, rc)) for rc in rc_117_1 )"
   ]
  },
  {
   "cell_type": "code",
   "execution_count": 19,
   "metadata": {
    "ExecuteTime": {
     "end_time": "2021-02-03T01:05:52.325421Z",
     "start_time": "2021-02-03T01:05:52.318791Z"
    }
   },
   "outputs": [],
   "source": [
    "def batch_insert_rc(members):\n",
    "    '''\n",
    "    Function to keep relevent information from roll call\n",
    "    '''\n",
    "    batch = db.batch()\n",
    "    mem_num = 0\n",
    "    b_num = 1\n",
    "    total = 0\n",
    "    for mem in members:\n",
    "        if mem != None:\n",
    "            c = mem['congress']\n",
    "            s = mem['session']\n",
    "            r = mem['roll_call']\n",
    "            _id = f'{c}_{s}_{r}'\n",
    "            insert_ref = db.collection(\"votes\").document(_id)\n",
    "            batch.set(insert_ref, mem)\n",
    "            mem_num += 1\n",
    "            total += 1\n",
    "            if mem_num > 399:\n",
    "                batch.commit()\n",
    "                print(f'{mem_num} bills inserted in batch #{b_num}')\n",
    "                mem_num = 0\n",
    "                b_num += 1\n",
    "                batch = db.batch()\n",
    "    \n",
    "    batch.commit()\n",
    "    print(f'{mem_num} bills inserted in batch #{b_num}')\n",
    "    print(f'Total inserted: {total}')"
   ]
  },
  {
   "cell_type": "code",
   "execution_count": 20,
   "metadata": {
    "ExecuteTime": {
     "end_time": "2021-02-03T01:05:52.330300Z",
     "start_time": "2021-02-03T01:05:52.327793Z"
    }
   },
   "outputs": [],
   "source": [
    "# batch_insert_rc(votes_116_1)"
   ]
  }
 ],
 "metadata": {
  "kernelspec": {
   "display_name": "db-env",
   "language": "python",
   "name": "db-env"
  },
  "language_info": {
   "codemirror_mode": {
    "name": "ipython",
    "version": 3
   },
   "file_extension": ".py",
   "mimetype": "text/x-python",
   "name": "python",
   "nbconvert_exporter": "python",
   "pygments_lexer": "ipython3",
   "version": "3.7.7"
  },
  "toc": {
   "base_numbering": 1,
   "nav_menu": {},
   "number_sections": false,
   "sideBar": true,
   "skip_h1_title": false,
   "title_cell": "Table of Contents",
   "title_sidebar": "Contents",
   "toc_cell": false,
   "toc_position": {},
   "toc_section_display": true,
   "toc_window_display": false
  }
 },
 "nbformat": 4,
 "nbformat_minor": 2
}
