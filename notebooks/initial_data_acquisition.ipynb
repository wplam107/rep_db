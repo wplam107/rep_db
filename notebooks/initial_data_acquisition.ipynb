{
 "cells": [
  {
   "cell_type": "markdown",
   "metadata": {},
   "source": [
    "# Initial Data Acquisition Notebook\n",
    "- Data from https://projects.propublica.org/api-docs/congress-api/\n",
    "- Notebook for code to be refactored in the ```db-build``` directory\n",
    "- Database will hold 2 most recent congresses"
   ]
  },
  {
   "cell_type": "markdown",
   "metadata": {},
   "source": [
    "## Initial Configuration\n",
    "- ProPublica API and Firebase/Firestore Configuration\n",
    "- Class object built in ```auth.py```"
   ]
  },
  {
   "cell_type": "code",
   "execution_count": null,
   "metadata": {
    "ExecuteTime": {
     "end_time": "2021-02-02T20:04:01.817151Z",
     "start_time": "2021-02-02T20:04:01.128011Z"
    }
   },
   "outputs": [],
   "source": [
    "# Config reader\n",
    "import configparser\n",
    "\n",
    "# Database connection and authentication\n",
    "import firebase_admin\n",
    "from firebase_admin import credentials, firestore\n",
    "\n",
    "# Read/Scrape data\n",
    "import requests\n",
    "import json\n",
    "import re\n",
    "from bs4 import BeautifulSoup\n",
    "from datetime import datetime"
   ]
  },
  {
   "cell_type": "code",
   "execution_count": null,
   "metadata": {
    "ExecuteTime": {
     "end_time": "2021-02-02T20:04:01.829372Z",
     "start_time": "2021-02-02T20:04:01.820305Z"
    }
   },
   "outputs": [],
   "source": [
    "# Read config.ini file\n",
    "config = configparser.ConfigParser()\n",
    "config.read('../auth/config.ini')\n",
    "\n",
    "# Get ProPublica Auth\n",
    "PROPUBLICA_API_KEY = config.get('propublica', 'PROPUBLICA_API_KEY')\n",
    "API_ROOT = 'https://api.propublica.org/congress/v1/'\n",
    "header = {'X-API-Key': f'{PROPUBLICA_API_KEY}'}\n",
    "\n",
    "# Get Google Firebase Auth\n",
    "GCP_AUTH_PATH = config.get('firebase', 'GCP_AUTH_PATH')\n",
    "cred = credentials.Certificate(GCP_AUTH_PATH)\n",
    "app = firebase_admin.initialize_app(cred)\n",
    "\n",
    "# Instantiate connection to database\n",
    "db = firestore.client()"
   ]
  },
  {
   "cell_type": "markdown",
   "metadata": {},
   "source": [
    "## Members of US House of Representatives Data\n",
    "- Script to build the US Representatives collection, ```reps```, in the Google Firestore database: ```build_house_db.py```"
   ]
  },
  {
   "cell_type": "markdown",
   "metadata": {},
   "source": [
    "### Get Initial Congress and Clean Data/Select Features"
   ]
  },
  {
   "cell_type": "code",
   "execution_count": null,
   "metadata": {
    "ExecuteTime": {
     "end_time": "2021-02-02T20:04:08.228302Z",
     "start_time": "2021-02-02T20:04:08.223976Z"
    }
   },
   "outputs": [],
   "source": [
    "def get_house_ids(congress):\n",
    "    '''\n",
    "    Function to get house members' ProPublica ID by congress number\n",
    "    '''\n",
    "\n",
    "    call_string = API_ROOT + f'{congress}/house/members.json'\n",
    "    r = requests.get(call_string, headers=header)\n",
    "    result = r.json()['results'][0]['members']\n",
    "    member_ids = [ member['id'] for member in result ]\n",
    "    \n",
    "    return member_ids"
   ]
  },
  {
   "cell_type": "code",
   "execution_count": null,
   "metadata": {
    "ExecuteTime": {
     "end_time": "2021-02-02T20:04:08.955865Z",
     "start_time": "2021-02-02T20:04:08.478604Z"
    }
   },
   "outputs": [],
   "source": [
    "# House member ids of the 116-117th Congress (2018-2022)\n",
    "ids_116 = get_house_ids(116)\n",
    "ids_117 = get_house_ids(117)"
   ]
  },
  {
   "cell_type": "code",
   "execution_count": null,
   "metadata": {
    "ExecuteTime": {
     "end_time": "2021-02-02T20:04:08.961277Z",
     "start_time": "2021-02-02T20:04:08.958221Z"
    }
   },
   "outputs": [],
   "source": [
    "# Create list of unique IDs to remove redundant API calls\n",
    "all_ids = list(set(ids_116 + ids_117))"
   ]
  },
  {
   "cell_type": "code",
   "execution_count": null,
   "metadata": {
    "ExecuteTime": {
     "end_time": "2021-02-02T20:04:09.694261Z",
     "start_time": "2021-02-02T20:04:09.690301Z"
    }
   },
   "outputs": [],
   "source": [
    "def get_member_data(member):\n",
    "    '''\n",
    "    Function to get house member's data\n",
    "    '''\n",
    "    \n",
    "    call_string = API_ROOT + f'members/{member}.json'\n",
    "    r = requests.get(call_string, headers=header)\n",
    "    result = r.json()['results'][0]\n",
    "    \n",
    "    return result"
   ]
  },
  {
   "cell_type": "code",
   "execution_count": null,
   "metadata": {
    "ExecuteTime": {
     "end_time": "2021-02-02T20:04:12.746260Z",
     "start_time": "2021-02-02T20:04:12.649736Z"
    }
   },
   "outputs": [],
   "source": [
    "# Sample\n",
    "sample_id = all_ids[0]\n",
    "sample = get_member_data(sample_id)\n",
    "for k, v in list(sample.items())[:5]:\n",
    "    print(f'{k}: {v}')"
   ]
  },
  {
   "cell_type": "code",
   "execution_count": null,
   "metadata": {
    "ExecuteTime": {
     "end_time": "2021-02-02T20:08:13.253919Z",
     "start_time": "2021-02-02T20:08:13.250355Z"
    }
   },
   "outputs": [],
   "source": [
    "# Create generator, split list in half to ensure under batch write limit\n",
    "half = int(len(all_ids)/2)\n",
    "members1 = ( get_member_data(member) for member in all_ids[:half] )\n",
    "members2 = ( get_member_data(member) for member in all_ids[half:] )"
   ]
  },
  {
   "cell_type": "code",
   "execution_count": null,
   "metadata": {
    "ExecuteTime": {
     "end_time": "2021-02-02T20:08:14.291820Z",
     "start_time": "2021-02-02T20:08:14.287863Z"
    }
   },
   "outputs": [],
   "source": [
    "def to_date(s):\n",
    "    date = datetime.strptime(s, '%Y-%m-%d')\n",
    "    return date"
   ]
  },
  {
   "cell_type": "code",
   "execution_count": null,
   "metadata": {
    "ExecuteTime": {
     "end_time": "2021-02-02T20:08:15.279169Z",
     "start_time": "2021-02-02T20:08:15.271509Z"
    }
   },
   "outputs": [],
   "source": [
    "def member_cleaner(member):\n",
    "    '''\n",
    "    Function to keep relevent information on congress member\n",
    "    '''\n",
    "    \n",
    "    roles = member['roles']\n",
    "    roles.sort(key=lambda x: x['congress'], reverse=True)\n",
    "    fec_id = roles[0]['fec_candidate_id'] # Most recent FEC candidate ID\n",
    "    congresses = [ role['congress'] for role in roles ]\n",
    "    \n",
    "    mem_dict = {\n",
    "        '_id': member['id'],\n",
    "        'first_name': member['first_name'],\n",
    "        'middle_name': member['middle_name'],\n",
    "        'last_name': member['last_name'],\n",
    "        'dob': to_date(member['date_of_birth']),\n",
    "        'gender': member['gender'],\n",
    "        'current_party': member['current_party'],\n",
    "        'google_id': member['google_entity_id'],\n",
    "        'votesmart_id': member['votesmart_id'],\n",
    "        'govtrack_id': member['govtrack_id'],\n",
    "        'cspan_id': member['cspan_id'],\n",
    "        'crp_id': member['crp_id'],\n",
    "        'fec_id': fec_id,\n",
    "        'congresses': congresses,   \n",
    "    }\n",
    "    \n",
    "    return mem_dict"
   ]
  },
  {
   "cell_type": "markdown",
   "metadata": {},
   "source": [
    "### Inserting into Google Firestore"
   ]
  },
  {
   "cell_type": "code",
   "execution_count": null,
   "metadata": {
    "ExecuteTime": {
     "end_time": "2021-02-02T20:08:28.083395Z",
     "start_time": "2021-02-02T20:08:28.079530Z"
    }
   },
   "outputs": [],
   "source": [
    "members_insert1 = map(member_cleaner, members1)\n",
    "members_insert2 = map(member_cleaner, members2)"
   ]
  },
  {
   "cell_type": "code",
   "execution_count": null,
   "metadata": {
    "ExecuteTime": {
     "end_time": "2021-02-02T20:09:04.922563Z",
     "start_time": "2021-02-02T20:09:04.716158Z"
    }
   },
   "outputs": [],
   "source": [
    "samp = next(members_insert1)"
   ]
  },
  {
   "cell_type": "code",
   "execution_count": null,
   "metadata": {
    "ExecuteTime": {
     "end_time": "2021-02-02T20:09:07.300100Z",
     "start_time": "2021-02-02T20:09:07.294500Z"
    }
   },
   "outputs": [],
   "source": [
    "samp"
   ]
  },
  {
   "cell_type": "code",
   "execution_count": null,
   "metadata": {
    "ExecuteTime": {
     "end_time": "2021-02-02T00:51:42.024276Z",
     "start_time": "2021-02-02T00:51:42.018732Z"
    }
   },
   "outputs": [],
   "source": [
    "def batch_insert_members(members, db):\n",
    "    '''\n",
    "    Function to batch insert house members into database\n",
    "    '''\n",
    "    \n",
    "    batch = db.batch()\n",
    "    members_len = 0\n",
    "    for member in members:\n",
    "        _id = member['_id']\n",
    "        insert_ref = db.collection(\"reps\").document(f\"{_id}\")\n",
    "        batch.set(insert_ref, member)\n",
    "        members_len += 1\n",
    "            \n",
    "    batch.commit()\n",
    "    \n",
    "    batch_len = len(batch.write_results)\n",
    "    f_string = f'Batch Length: {batch_len}, Members Length: {members_len}'\n",
    "    assert batch_len == members_len, f_string\n",
    "    \n",
    "    print(f'{batch_len} members inserted')"
   ]
  },
  {
   "cell_type": "code",
   "execution_count": null,
   "metadata": {
    "ExecuteTime": {
     "end_time": "2021-02-02T00:51:42.030502Z",
     "start_time": "2021-02-02T00:51:42.026735Z"
    }
   },
   "outputs": [],
   "source": [
    "# batch_insert_members(members_insert1, db)\n",
    "# batch_insert_members(members_insert2, db)"
   ]
  },
  {
   "cell_type": "markdown",
   "metadata": {},
   "source": [
    "## US House Roll Call Data\n",
    "- Script to build US House roll call collection, ```bills```, in Firestore database: ```build_bills_db```"
   ]
  },
  {
   "cell_type": "markdown",
   "metadata": {},
   "source": [
    "### Get Initial Congress Roll Calls"
   ]
  },
  {
   "cell_type": "code",
   "execution_count": null,
   "metadata": {
    "ExecuteTime": {
     "end_time": "2021-02-02T18:47:36.091219Z",
     "start_time": "2021-02-02T18:47:36.086407Z"
    }
   },
   "outputs": [],
   "source": [
    "def get_roll_call_vote(congress, session, roll_call_number):\n",
    "    '''\n",
    "    Function to get singular roll call vote\n",
    "    '''\n",
    "    \n",
    "    call_string = API_ROOT + f'{congress}/house/sessions/{session}/votes/{roll_call_number}.json'\n",
    "    r = requests.get(call_string, headers=header)\n",
    "    \n",
    "    # Ignore nominations, quorum, and non-bill actions\n",
    "    try:\n",
    "        result = r.json()['results']['votes']['vote']\n",
    "        if (result['bill'] == {}) or (result['bill']['number'] == 'QUORUM'):\n",
    "            return None\n",
    "        else:\n",
    "            return result\n",
    "        \n",
    "    except:\n",
    "        return None"
   ]
  },
  {
   "cell_type": "code",
   "execution_count": null,
   "metadata": {
    "ExecuteTime": {
     "end_time": "2021-02-02T18:46:33.680669Z",
     "start_time": "2021-02-02T18:46:33.416258Z"
    }
   },
   "outputs": [],
   "source": [
    "x = get_roll_call_vote(116, 1, 3)\n",
    "x"
   ]
  },
  {
   "cell_type": "code",
   "execution_count": null,
   "metadata": {
    "ExecuteTime": {
     "end_time": "2021-02-02T18:36:21.042017Z",
     "start_time": "2021-02-02T18:36:21.037767Z"
    }
   },
   "outputs": [],
   "source": [
    "x.keys()"
   ]
  },
  {
   "cell_type": "code",
   "execution_count": null,
   "metadata": {},
   "outputs": [],
   "source": []
  }
 ],
 "metadata": {
  "kernelspec": {
   "display_name": "db-env",
   "language": "python",
   "name": "db-env"
  },
  "language_info": {
   "codemirror_mode": {
    "name": "ipython",
    "version": 3
   },
   "file_extension": ".py",
   "mimetype": "text/x-python",
   "name": "python",
   "nbconvert_exporter": "python",
   "pygments_lexer": "ipython3",
   "version": "3.7.7"
  },
  "toc": {
   "base_numbering": 1,
   "nav_menu": {},
   "number_sections": false,
   "sideBar": true,
   "skip_h1_title": false,
   "title_cell": "Table of Contents",
   "title_sidebar": "Contents",
   "toc_cell": false,
   "toc_position": {},
   "toc_section_display": true,
   "toc_window_display": false
  }
 },
 "nbformat": 4,
 "nbformat_minor": 2
}
