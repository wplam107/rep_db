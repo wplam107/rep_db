{
 "cells": [
  {
   "cell_type": "code",
   "execution_count": 52,
   "metadata": {
    "ExecuteTime": {
     "end_time": "2021-02-05T21:52:45.034848Z",
     "start_time": "2021-02-05T21:52:45.029972Z"
    }
   },
   "outputs": [],
   "source": [
    "# Data Visualization\n",
    "import numpy as np\n",
    "import pandas as pd\n",
    "import plotly.graph_objects as go\n",
    "import plotly.express as px\n",
    "\n",
    "# Config Reader\n",
    "import configparser\n",
    "\n",
    "# Database Connection\n",
    "import firebase_admin\n",
    "from firebase_admin import credentials, firestore"
   ]
  },
  {
   "cell_type": "code",
   "execution_count": 2,
   "metadata": {
    "ExecuteTime": {
     "end_time": "2021-02-05T20:32:19.544540Z",
     "start_time": "2021-02-05T20:32:19.536838Z"
    }
   },
   "outputs": [],
   "source": [
    "# Read config.ini file\n",
    "config = configparser.ConfigParser()\n",
    "config.read('./auth/config.ini')\n",
    "\n",
    "# Get Google Firebase Auth\n",
    "GCP_AUTH_PATH = config.get('firebase', 'GCP_AUTH_PATH')\n",
    "cred = credentials.Certificate(GCP_AUTH_PATH)\n",
    "app = firebase_admin.initialize_app(cred)\n",
    "\n",
    "# Instantiate connection to database\n",
    "db = firestore.client()"
   ]
  },
  {
   "cell_type": "code",
   "execution_count": 3,
   "metadata": {
    "ExecuteTime": {
     "end_time": "2021-02-05T20:35:44.935691Z",
     "start_time": "2021-02-05T20:35:44.925992Z"
    }
   },
   "outputs": [],
   "source": [
    "# Create collection references\n",
    "reps_ref = db.collection(\"reps\")\n",
    "edu_ref = db.collection(\"edu\")\n",
    "votes_ref = db.collection(\"votes\")"
   ]
  },
  {
   "cell_type": "code",
   "execution_count": 267,
   "metadata": {
    "ExecuteTime": {
     "end_time": "2021-02-07T23:57:55.759219Z",
     "start_time": "2021-02-07T23:57:53.552377Z"
    }
   },
   "outputs": [],
   "source": [
    "degrees = pd.DataFrame([ doc.to_dict() for doc in edu_ref.get() ])\n",
    "reps = pd.DataFrame([ doc.to_dict() for doc in reps_ref.get() ])"
   ]
  },
  {
   "cell_type": "code",
   "execution_count": 268,
   "metadata": {
    "ExecuteTime": {
     "end_time": "2021-02-07T23:57:55.766493Z",
     "start_time": "2021-02-07T23:57:55.761725Z"
    }
   },
   "outputs": [],
   "source": [
    "degrees['degree'] = degrees['degree'].map(lambda x: ''.join(x.split('.')))"
   ]
  },
  {
   "cell_type": "code",
   "execution_count": 269,
   "metadata": {
    "ExecuteTime": {
     "end_time": "2021-02-07T23:57:56.535837Z",
     "start_time": "2021-02-07T23:57:56.528649Z"
    }
   },
   "outputs": [],
   "source": [
    "cc_dict = {\n",
    "    'Associates': ['AAS', 'AS', 'AA'],\n",
    "    'Bachelors': ['BS', 'BA', 'SB', 'AB', 'BDiv', 'BBA', 'BEng', 'BM', 'ALB', 'BSN', 'BGS', 'BPA', 'BSBA', 'LLB'],\n",
    "    'High School': ['HS'],\n",
    "    'JD': ['JD'],\n",
    "    'Masters - General': ['MA', 'MS', 'SM', 'MSc', 'MFA', 'MAcc'],\n",
    "    'Masters - Public': ['MIA', 'MPA', 'MUP', 'MPP', 'MSW', 'MSS', 'MPH', 'MHS'],\n",
    "    'Masters - Education': ['MEd', 'SYC'],\n",
    "    'Masters - Law': ['LLM'],\n",
    "    'Masters - Theology': ['MDiv', 'ThM'],\n",
    "    'MBA': ['MBA', 'MSEM'],\n",
    "    'PHD': ['PhD'],\n",
    "    'Veterinary': ['DVM'],\n",
    "    'Dental': ['DDS', 'DMD'],\n",
    "    'MD': ['MD', 'DPM'],\n",
    "    'PHD - Education': ['EdD'],\n",
    "    'PHD - Theology': ['DMin'],\n",
    "    'PHD - Public': ['DPA'],\n",
    "    'Nursing': ['MSN'],\n",
    "}"
   ]
  },
  {
   "cell_type": "code",
   "execution_count": 270,
   "metadata": {
    "ExecuteTime": {
     "end_time": "2021-02-07T23:57:57.433253Z",
     "start_time": "2021-02-07T23:57:57.410924Z"
    }
   },
   "outputs": [],
   "source": [
    "x = degrees['degree']\n",
    "cond_list = []\n",
    "choice_list = []\n",
    "for k, vs in cc_dict.items():\n",
    "    for v in vs:\n",
    "        cond_list.append(x == v)\n",
    "        choice_list.append(k)\n",
    "\n",
    "degrees['degree_group'] = np.select(cond_list, choice_list)"
   ]
  },
  {
   "cell_type": "code",
   "execution_count": 271,
   "metadata": {
    "ExecuteTime": {
     "end_time": "2021-02-07T23:57:59.262106Z",
     "start_time": "2021-02-07T23:57:59.242015Z"
    }
   },
   "outputs": [],
   "source": [
    "# Create merged DataFrame\n",
    "df = degrees.merge(reps, how='left', on='_id')\n",
    "df.sort_values('_id', inplace=True)\n",
    "\n",
    "# Replace null values\n",
    "df['middle_name'] = np.where(df['middle_name'].isna(), '', df['middle_name'])\n",
    "\n",
    "# Add 'in_office' column\n",
    "df['in_office'] = df['congresses'].map(set(['117']).issubset)"
   ]
  },
  {
   "cell_type": "code",
   "execution_count": 273,
   "metadata": {
    "ExecuteTime": {
     "end_time": "2021-02-07T23:58:17.589526Z",
     "start_time": "2021-02-07T23:58:17.522202Z"
    }
   },
   "outputs": [],
   "source": [
    "# Create groupby DataFrame\n",
    "df = df.groupby(['_id', 'first_name', 'middle_name', 'last_name', 'current_party', 'dob', 'gender', 'in_office'])['degree_group'].apply(list).reset_index()"
   ]
  },
  {
   "cell_type": "code",
   "execution_count": 274,
   "metadata": {
    "ExecuteTime": {
     "end_time": "2021-02-07T23:58:20.623594Z",
     "start_time": "2021-02-07T23:58:20.617879Z"
    }
   },
   "outputs": [
    {
     "data": {
      "text/plain": [
       "435"
      ]
     },
     "execution_count": 274,
     "metadata": {},
     "output_type": "execute_result"
    }
   ],
   "source": [
    "# Check results\n",
    "df['in_office'].sum() # Number of US Reps in office: 435"
   ]
  },
  {
   "cell_type": "code",
   "execution_count": 275,
   "metadata": {
    "ExecuteTime": {
     "end_time": "2021-02-07T23:58:24.870688Z",
     "start_time": "2021-02-07T23:58:24.865646Z"
    }
   },
   "outputs": [],
   "source": [
    "def query_edu(df, deg_type=[], in_office=True):\n",
    "    mask = df['degree_group'].map(set(deg_type).issubset)\n",
    "    result = df[mask]\n",
    "    if in_office:\n",
    "        result = result[result['in_office']].drop(columns='in_office')\n",
    "        \n",
    "    return result"
   ]
  },
  {
   "cell_type": "code",
   "execution_count": 276,
   "metadata": {
    "ExecuteTime": {
     "end_time": "2021-02-07T23:58:25.309000Z",
     "start_time": "2021-02-07T23:58:25.305433Z"
    }
   },
   "outputs": [],
   "source": [
    "degree_groups = list(cc_dict.keys())"
   ]
  },
  {
   "cell_type": "code",
   "execution_count": 277,
   "metadata": {
    "ExecuteTime": {
     "end_time": "2021-02-07T23:58:27.190774Z",
     "start_time": "2021-02-07T23:58:27.185588Z"
    }
   },
   "outputs": [
    {
     "data": {
      "text/plain": [
       "['Associates',\n",
       " 'Bachelors',\n",
       " 'High School',\n",
       " 'JD',\n",
       " 'Masters - General',\n",
       " 'Masters - Public',\n",
       " 'Masters - Education',\n",
       " 'Masters - Law',\n",
       " 'Masters - Theology',\n",
       " 'MBA',\n",
       " 'PHD',\n",
       " 'Veterinary',\n",
       " 'Dental',\n",
       " 'MD',\n",
       " 'PHD - Education',\n",
       " 'PHD - Theology',\n",
       " 'PHD - Public',\n",
       " 'Nursing']"
      ]
     },
     "execution_count": 277,
     "metadata": {},
     "output_type": "execute_result"
    }
   ],
   "source": [
    "degree_groups"
   ]
  },
  {
   "cell_type": "code",
   "execution_count": 281,
   "metadata": {
    "ExecuteTime": {
     "end_time": "2021-02-08T00:01:16.812049Z",
     "start_time": "2021-02-08T00:01:16.780148Z"
    }
   },
   "outputs": [
    {
     "data": {
      "text/html": [
       "<div>\n",
       "<style scoped>\n",
       "    .dataframe tbody tr th:only-of-type {\n",
       "        vertical-align: middle;\n",
       "    }\n",
       "\n",
       "    .dataframe tbody tr th {\n",
       "        vertical-align: top;\n",
       "    }\n",
       "\n",
       "    .dataframe thead th {\n",
       "        text-align: right;\n",
       "    }\n",
       "</style>\n",
       "<table border=\"1\" class=\"dataframe\">\n",
       "  <thead>\n",
       "    <tr style=\"text-align: right;\">\n",
       "      <th></th>\n",
       "      <th>_id</th>\n",
       "      <th>first_name</th>\n",
       "      <th>middle_name</th>\n",
       "      <th>last_name</th>\n",
       "      <th>current_party</th>\n",
       "      <th>dob</th>\n",
       "      <th>gender</th>\n",
       "      <th>degree_group</th>\n",
       "    </tr>\n",
       "  </thead>\n",
       "  <tbody>\n",
       "    <tr>\n",
       "      <th>344</th>\n",
       "      <td>O000171</td>\n",
       "      <td>Tom</td>\n",
       "      <td></td>\n",
       "      <td>O'Halleran</td>\n",
       "      <td>D</td>\n",
       "      <td>1946-01-24 00:00:00+00:00</td>\n",
       "      <td>M</td>\n",
       "      <td>[High School]</td>\n",
       "    </tr>\n",
       "    <tr>\n",
       "      <th>497</th>\n",
       "      <td>W000827</td>\n",
       "      <td>Ron</td>\n",
       "      <td></td>\n",
       "      <td>Wright</td>\n",
       "      <td>R</td>\n",
       "      <td>1953-04-08 00:00:00+00:00</td>\n",
       "      <td>M</td>\n",
       "      <td>[High School]</td>\n",
       "    </tr>\n",
       "    <tr>\n",
       "      <th>419</th>\n",
       "      <td>S001177</td>\n",
       "      <td>Gregorio</td>\n",
       "      <td>Kilili Camacho</td>\n",
       "      <td>Sablan</td>\n",
       "      <td>I</td>\n",
       "      <td>1955-01-19 00:00:00+00:00</td>\n",
       "      <td>M</td>\n",
       "      <td>[High School]</td>\n",
       "    </tr>\n",
       "    <tr>\n",
       "      <th>62</th>\n",
       "      <td>C001054</td>\n",
       "      <td>Jerry</td>\n",
       "      <td></td>\n",
       "      <td>Carl</td>\n",
       "      <td>R</td>\n",
       "      <td>1958-06-17 00:00:00+00:00</td>\n",
       "      <td>M</td>\n",
       "      <td>[High School]</td>\n",
       "    </tr>\n",
       "    <tr>\n",
       "      <th>357</th>\n",
       "      <td>P000604</td>\n",
       "      <td>Donald</td>\n",
       "      <td>M.</td>\n",
       "      <td>Payne</td>\n",
       "      <td>D</td>\n",
       "      <td>1958-12-17 00:00:00+00:00</td>\n",
       "      <td>M</td>\n",
       "      <td>[High School]</td>\n",
       "    </tr>\n",
       "    <tr>\n",
       "      <th>370</th>\n",
       "      <td>R000103</td>\n",
       "      <td>Matt</td>\n",
       "      <td></td>\n",
       "      <td>Rosendale</td>\n",
       "      <td>R</td>\n",
       "      <td>1960-07-07 00:00:00+00:00</td>\n",
       "      <td>M</td>\n",
       "      <td>[High School]</td>\n",
       "    </tr>\n",
       "    <tr>\n",
       "      <th>37</th>\n",
       "      <td>B001295</td>\n",
       "      <td>Mike</td>\n",
       "      <td></td>\n",
       "      <td>Bost</td>\n",
       "      <td>R</td>\n",
       "      <td>1960-12-30 00:00:00+00:00</td>\n",
       "      <td>M</td>\n",
       "      <td>[High School]</td>\n",
       "    </tr>\n",
       "    <tr>\n",
       "      <th>202</th>\n",
       "      <td>H001077</td>\n",
       "      <td>Clay</td>\n",
       "      <td></td>\n",
       "      <td>Higgins</td>\n",
       "      <td>R</td>\n",
       "      <td>1961-08-24 00:00:00+00:00</td>\n",
       "      <td>M</td>\n",
       "      <td>[High School]</td>\n",
       "    </tr>\n",
       "    <tr>\n",
       "      <th>69</th>\n",
       "      <td>C001067</td>\n",
       "      <td>Yvette</td>\n",
       "      <td>D.</td>\n",
       "      <td>Clarke</td>\n",
       "      <td>D</td>\n",
       "      <td>1964-11-21 00:00:00+00:00</td>\n",
       "      <td>F</td>\n",
       "      <td>[High School]</td>\n",
       "    </tr>\n",
       "    <tr>\n",
       "      <th>250</th>\n",
       "      <td>K000395</td>\n",
       "      <td>Fred</td>\n",
       "      <td></td>\n",
       "      <td>Keller</td>\n",
       "      <td>R</td>\n",
       "      <td>1965-10-23 00:00:00+00:00</td>\n",
       "      <td>M</td>\n",
       "      <td>[High School]</td>\n",
       "    </tr>\n",
       "    <tr>\n",
       "      <th>329</th>\n",
       "      <td>M001214</td>\n",
       "      <td>Frank</td>\n",
       "      <td></td>\n",
       "      <td>Mrvan</td>\n",
       "      <td>D</td>\n",
       "      <td>1969-04-16 00:00:00+00:00</td>\n",
       "      <td>M</td>\n",
       "      <td>[High School]</td>\n",
       "    </tr>\n",
       "    <tr>\n",
       "      <th>164</th>\n",
       "      <td>G000577</td>\n",
       "      <td>Garret</td>\n",
       "      <td></td>\n",
       "      <td>Graves</td>\n",
       "      <td>R</td>\n",
       "      <td>1972-01-31 00:00:00+00:00</td>\n",
       "      <td>M</td>\n",
       "      <td>[High School]</td>\n",
       "    </tr>\n",
       "    <tr>\n",
       "      <th>367</th>\n",
       "      <td>P000617</td>\n",
       "      <td>Ayanna</td>\n",
       "      <td></td>\n",
       "      <td>Pressley</td>\n",
       "      <td>D</td>\n",
       "      <td>1974-02-03 00:00:00+00:00</td>\n",
       "      <td>F</td>\n",
       "      <td>[High School]</td>\n",
       "    </tr>\n",
       "    <tr>\n",
       "      <th>467</th>\n",
       "      <td>V000129</td>\n",
       "      <td>David</td>\n",
       "      <td></td>\n",
       "      <td>Valadao</td>\n",
       "      <td>R</td>\n",
       "      <td>1977-04-14 00:00:00+00:00</td>\n",
       "      <td>M</td>\n",
       "      <td>[High School]</td>\n",
       "    </tr>\n",
       "    <tr>\n",
       "      <th>17</th>\n",
       "      <td>B000825</td>\n",
       "      <td>Lauren</td>\n",
       "      <td></td>\n",
       "      <td>Boebert</td>\n",
       "      <td>R</td>\n",
       "      <td>1986-12-15 00:00:00+00:00</td>\n",
       "      <td>F</td>\n",
       "      <td>[High School]</td>\n",
       "    </tr>\n",
       "    <tr>\n",
       "      <th>462</th>\n",
       "      <td>T000486</td>\n",
       "      <td>Ritchie</td>\n",
       "      <td></td>\n",
       "      <td>Torres</td>\n",
       "      <td>D</td>\n",
       "      <td>1988-03-12 00:00:00+00:00</td>\n",
       "      <td>M</td>\n",
       "      <td>[High School]</td>\n",
       "    </tr>\n",
       "    <tr>\n",
       "      <th>85</th>\n",
       "      <td>C001104</td>\n",
       "      <td>Madison</td>\n",
       "      <td></td>\n",
       "      <td>Cawthorn</td>\n",
       "      <td>R</td>\n",
       "      <td>1995-08-01 00:00:00+00:00</td>\n",
       "      <td>M</td>\n",
       "      <td>[High School]</td>\n",
       "    </tr>\n",
       "  </tbody>\n",
       "</table>\n",
       "</div>"
      ],
      "text/plain": [
       "         _id first_name     middle_name   last_name current_party  \\\n",
       "344  O000171        Tom                  O'Halleran             D   \n",
       "497  W000827        Ron                      Wright             R   \n",
       "419  S001177   Gregorio  Kilili Camacho      Sablan             I   \n",
       "62   C001054      Jerry                        Carl             R   \n",
       "357  P000604     Donald              M.       Payne             D   \n",
       "370  R000103       Matt                   Rosendale             R   \n",
       "37   B001295       Mike                        Bost             R   \n",
       "202  H001077       Clay                     Higgins             R   \n",
       "69   C001067     Yvette              D.      Clarke             D   \n",
       "250  K000395       Fred                      Keller             R   \n",
       "329  M001214      Frank                       Mrvan             D   \n",
       "164  G000577     Garret                      Graves             R   \n",
       "367  P000617     Ayanna                    Pressley             D   \n",
       "467  V000129      David                     Valadao             R   \n",
       "17   B000825     Lauren                     Boebert             R   \n",
       "462  T000486    Ritchie                      Torres             D   \n",
       "85   C001104    Madison                    Cawthorn             R   \n",
       "\n",
       "                          dob gender   degree_group  \n",
       "344 1946-01-24 00:00:00+00:00      M  [High School]  \n",
       "497 1953-04-08 00:00:00+00:00      M  [High School]  \n",
       "419 1955-01-19 00:00:00+00:00      M  [High School]  \n",
       "62  1958-06-17 00:00:00+00:00      M  [High School]  \n",
       "357 1958-12-17 00:00:00+00:00      M  [High School]  \n",
       "370 1960-07-07 00:00:00+00:00      M  [High School]  \n",
       "37  1960-12-30 00:00:00+00:00      M  [High School]  \n",
       "202 1961-08-24 00:00:00+00:00      M  [High School]  \n",
       "69  1964-11-21 00:00:00+00:00      F  [High School]  \n",
       "250 1965-10-23 00:00:00+00:00      M  [High School]  \n",
       "329 1969-04-16 00:00:00+00:00      M  [High School]  \n",
       "164 1972-01-31 00:00:00+00:00      M  [High School]  \n",
       "367 1974-02-03 00:00:00+00:00      F  [High School]  \n",
       "467 1977-04-14 00:00:00+00:00      M  [High School]  \n",
       "17  1986-12-15 00:00:00+00:00      F  [High School]  \n",
       "462 1988-03-12 00:00:00+00:00      M  [High School]  \n",
       "85  1995-08-01 00:00:00+00:00      M  [High School]  "
      ]
     },
     "execution_count": 281,
     "metadata": {},
     "output_type": "execute_result"
    }
   ],
   "source": [
    "query_edu(df, ['High School']).sort_values('dob')"
   ]
  },
  {
   "cell_type": "code",
   "execution_count": null,
   "metadata": {},
   "outputs": [],
   "source": []
  }
 ],
 "metadata": {
  "kernelspec": {
   "display_name": "app-env",
   "language": "python",
   "name": "app-env"
  },
  "language_info": {
   "codemirror_mode": {
    "name": "ipython",
    "version": 3
   },
   "file_extension": ".py",
   "mimetype": "text/x-python",
   "name": "python",
   "nbconvert_exporter": "python",
   "pygments_lexer": "ipython3",
   "version": "3.7.4"
  },
  "toc": {
   "base_numbering": 1,
   "nav_menu": {},
   "number_sections": true,
   "sideBar": true,
   "skip_h1_title": false,
   "title_cell": "Table of Contents",
   "title_sidebar": "Contents",
   "toc_cell": false,
   "toc_position": {},
   "toc_section_display": true,
   "toc_window_display": false
  }
 },
 "nbformat": 4,
 "nbformat_minor": 2
}
