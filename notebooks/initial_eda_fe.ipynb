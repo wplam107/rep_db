{
 "cells": [
  {
   "cell_type": "markdown",
   "metadata": {},
   "source": [
    "# EDA and Feature Engineering"
   ]
  },
  {
   "cell_type": "code",
   "execution_count": 1,
   "metadata": {
    "ExecuteTime": {
     "end_time": "2021-02-11T18:10:33.580119Z",
     "start_time": "2021-02-11T18:10:29.564213Z"
    }
   },
   "outputs": [],
   "source": [
    "# Data Visualization\n",
    "import numpy as np\n",
    "import pandas as pd\n",
    "import plotly.graph_objects as go\n",
    "import plotly.express as px\n",
    "\n",
    "# Config Reader\n",
    "import configparser\n",
    "\n",
    "# Database Connection\n",
    "import firebase_admin\n",
    "from firebase_admin import credentials, firestore"
   ]
  },
  {
   "cell_type": "code",
   "execution_count": 2,
   "metadata": {
    "ExecuteTime": {
     "end_time": "2021-02-11T18:10:33.601173Z",
     "start_time": "2021-02-11T18:10:33.582945Z"
    }
   },
   "outputs": [],
   "source": [
    "# Read config.ini file\n",
    "config = configparser.ConfigParser()\n",
    "config.read('./auth/config.ini')\n",
    "\n",
    "# Get Google Firebase Auth\n",
    "GCP_AUTH_PATH = config.get('firebase', 'GCP_AUTH_PATH')\n",
    "cred = credentials.Certificate(GCP_AUTH_PATH)\n",
    "app = firebase_admin.initialize_app(cred)\n",
    "\n",
    "# Instantiate connection to database\n",
    "db = firestore.client()"
   ]
  },
  {
   "cell_type": "code",
   "execution_count": 3,
   "metadata": {
    "ExecuteTime": {
     "end_time": "2021-02-11T18:10:33.614179Z",
     "start_time": "2021-02-11T18:10:33.608576Z"
    }
   },
   "outputs": [],
   "source": [
    "# Create collection references\n",
    "reps_ref = db.collection(\"reps\")\n",
    "edu_ref = db.collection(\"edu\")\n",
    "votes_ref = db.collection(\"votes\")"
   ]
  },
  {
   "cell_type": "code",
   "execution_count": 4,
   "metadata": {
    "ExecuteTime": {
     "end_time": "2021-02-11T18:10:35.627012Z",
     "start_time": "2021-02-11T18:10:33.619055Z"
    }
   },
   "outputs": [],
   "source": [
    "# Pull educational and representative data from database\n",
    "degrees = pd.DataFrame([ doc.to_dict() for doc in edu_ref.get() ])\n",
    "reps = pd.DataFrame([ doc.to_dict() for doc in reps_ref.get() ])"
   ]
  },
  {
   "cell_type": "code",
   "execution_count": 5,
   "metadata": {
    "ExecuteTime": {
     "end_time": "2021-02-11T18:10:35.641656Z",
     "start_time": "2021-02-11T18:10:35.629316Z"
    }
   },
   "outputs": [],
   "source": [
    "# Clean degree strings (ex. 'J.D.' -> 'JD')\n",
    "degrees['degree'] = degrees['degree'].map(lambda x: ''.join(x.split('.')))"
   ]
  },
  {
   "cell_type": "code",
   "execution_count": 6,
   "metadata": {
    "ExecuteTime": {
     "end_time": "2021-02-11T18:10:35.653240Z",
     "start_time": "2021-02-11T18:10:35.645026Z"
    }
   },
   "outputs": [],
   "source": [
    "# Dictionary to bin degrees\n",
    "cc_dict = {\n",
    "    'Associates': ['AAS', 'AS', 'AA'],\n",
    "    'Bachelors': ['BS', 'BA', 'SB', 'AB', 'BDiv', 'BBA', 'BEng', 'BM', 'ALB', 'BSN', 'BGS', 'BPA', 'BSBA', 'LLB'],\n",
    "    'High School': ['HS'],\n",
    "    'JD': ['JD'],\n",
    "    'Masters - General': ['MA', 'MS', 'SM', 'MSc', 'MFA', 'MAcc'],\n",
    "    'Masters - Public': ['MIA', 'MPA', 'MUP', 'MPP', 'MSW', 'MSS', 'MPH', 'MHS'],\n",
    "    'Masters - Education': ['MEd', 'SYC'],\n",
    "    'Masters - Law': ['LLM'],\n",
    "    'Masters - Theology': ['MDiv', 'ThM'],\n",
    "    'MBA': ['MBA', 'MSEM'],\n",
    "    'PHD': ['PhD'],\n",
    "    'Veterinary': ['DVM'],\n",
    "    'Dental': ['DDS', 'DMD'],\n",
    "    'MD': ['MD', 'DPM'],\n",
    "    'PHD - Education': ['EdD'],\n",
    "    'PHD - Theology': ['DMin'],\n",
    "    'PHD - Public': ['DPA'],\n",
    "    'Nursing': ['MSN', 'GrDip'],\n",
    "}"
   ]
  },
  {
   "cell_type": "code",
   "execution_count": 7,
   "metadata": {
    "ExecuteTime": {
     "end_time": "2021-02-11T18:10:35.678402Z",
     "start_time": "2021-02-11T18:10:35.655528Z"
    }
   },
   "outputs": [],
   "source": [
    "# Bin degrees\n",
    "x = degrees['degree']\n",
    "cond_list = []\n",
    "choice_list = []\n",
    "for k, vs in cc_dict.items():\n",
    "    for v in vs:\n",
    "        cond_list.append(x == v)\n",
    "        choice_list.append(k)\n",
    "\n",
    "degrees['degree_group'] = np.select(cond_list, choice_list)"
   ]
  },
  {
   "cell_type": "code",
   "execution_count": 8,
   "metadata": {
    "ExecuteTime": {
     "end_time": "2021-02-11T18:10:35.687492Z",
     "start_time": "2021-02-11T18:10:35.683819Z"
    }
   },
   "outputs": [],
   "source": [
    "def clean_congresses(cong):\n",
    "    return set([ int(c) for c in cong ])"
   ]
  },
  {
   "cell_type": "code",
   "execution_count": 9,
   "metadata": {
    "ExecuteTime": {
     "end_time": "2021-02-11T18:10:35.701208Z",
     "start_time": "2021-02-11T18:10:35.690904Z"
    }
   },
   "outputs": [],
   "source": [
    "# Convert congresses into set of ints\n",
    "reps['congresses'] = reps['congresses'].map(clean_congresses)\n",
    "\n",
    "# Add 'in_office' feature\n",
    "reps['in_office'] = reps['congresses'].map(set([117]).issubset)\n",
    "\n",
    "# Replace null values\n",
    "reps['middle_name'] = np.where(reps['middle_name'].isna(), '', reps['middle_name'])"
   ]
  },
  {
   "cell_type": "code",
   "execution_count": 10,
   "metadata": {
    "ExecuteTime": {
     "end_time": "2021-02-11T18:10:35.793894Z",
     "start_time": "2021-02-11T18:10:35.703635Z"
    }
   },
   "outputs": [],
   "source": [
    "# Data groupby\n",
    "institutions = degrees.groupby('_id')['institution'].apply(list)\n",
    "deg_groups = degrees.groupby('_id')['degree_group'].apply(list)\n",
    "degs = degrees.groupby('_id')['degree'].apply(list)"
   ]
  },
  {
   "cell_type": "code",
   "execution_count": 15,
   "metadata": {
    "ExecuteTime": {
     "end_time": "2021-02-11T18:13:42.961202Z",
     "start_time": "2021-02-11T18:13:42.936488Z"
    }
   },
   "outputs": [],
   "source": [
    "# Create merged DataFrame\n",
    "df = reps[[\n",
    "    '_id', 'current_party', 'state', 'first_name',\n",
    "    'middle_name', 'last_name', 'dob', 'gender',\n",
    "    'congresses', 'in_office'\n",
    "]]\n",
    "df = df.merge(institutions, how='left', on='_id')\n",
    "df = df.merge(deg_groups, how='left', on='_id')\n",
    "df = df.merge(degs, how='left', on='_id')"
   ]
  },
  {
   "cell_type": "code",
   "execution_count": 17,
   "metadata": {
    "ExecuteTime": {
     "end_time": "2021-02-11T18:13:50.965781Z",
     "start_time": "2021-02-11T18:13:50.959961Z"
    }
   },
   "outputs": [
    {
     "name": "stdout",
     "output_type": "stream",
     "text": [
      "Members in office: 441\n",
      "Number of states: 56\n"
     ]
    }
   ],
   "source": [
    "# Check results\n",
    "print('Members in office:', df['in_office'].sum()) # 435 voting members + 6 non-voting members\n",
    "print('Number of states:', len(df['state'].unique())) # 50 states + 6 at-large districts"
   ]
  },
  {
   "cell_type": "code",
   "execution_count": 18,
   "metadata": {
    "ExecuteTime": {
     "end_time": "2021-02-11T18:13:52.956416Z",
     "start_time": "2021-02-11T18:13:52.944091Z"
    }
   },
   "outputs": [],
   "source": [
    "class QueryData():\n",
    "    '''\n",
    "    Query DataFrame Object, allowing list object queries\n",
    "    \n",
    "    Parameters\n",
    "    ----------\n",
    "    df - Pandas DataFrame\n",
    "    '''\n",
    "    \n",
    "    def __init__(self, df):\n",
    "        self.data = df.reset_index(drop=True)\n",
    "        \n",
    "    def query_pipeline(self, pipeline=[]):\n",
    "        '''\n",
    "        Query data with pipeline\n",
    "        \n",
    "        Parameters\n",
    "        ----------\n",
    "        pipeline - list of comparison tuples (field, value)\n",
    "        \n",
    "        Returns\n",
    "        -------\n",
    "        DataFrame with query results\n",
    "        '''\n",
    "        \n",
    "        result = self.data\n",
    "        mask = None\n",
    "        for c, v in pipeline:\n",
    "            if type(self.data[c][0]) == list:\n",
    "                if type(v) != list:\n",
    "                    v = [v]\n",
    "                mask = result[c].map(set(v).issubset)\n",
    "                result = result[mask].reset_index(drop=True)\n",
    "            else:\n",
    "                mask = result[c].map(lambda x: x==v)\n",
    "                result = result[mask].reset_index(drop=True)\n",
    "\n",
    "        return result\n",
    "    \n",
    "    def get_col_vals(self, columns=[], sort=False):\n",
    "        '''\n",
    "        Get list of possible values for query\n",
    "        \n",
    "        Parameters\n",
    "        ----------\n",
    "        columns - list of query columns\n",
    "        sort - bool to return sorted lists\n",
    "        \n",
    "        Returns\n",
    "        -------\n",
    "        Dictionary of field and list of values\n",
    "        '''\n",
    "        \n",
    "        values = {}\n",
    "        for c in columns:\n",
    "            if type(self.data[c][0]) == list:\n",
    "                vals = []\n",
    "                for val in self.data[c]:\n",
    "                    for v in val:\n",
    "                        if v not in vals:\n",
    "                            vals.append(v)\n",
    "                if sort:\n",
    "                    vals = sorted(vals)\n",
    "                values[c] = vals\n",
    "                \n",
    "            else:\n",
    "                vals = list(self.data[c].unique())\n",
    "                if sort:\n",
    "                    vals = sorted(vals)\n",
    "                values[c] = vals\n",
    "                \n",
    "        return values"
   ]
  },
  {
   "cell_type": "code",
   "execution_count": 19,
   "metadata": {
    "ExecuteTime": {
     "end_time": "2021-02-11T18:13:53.643506Z",
     "start_time": "2021-02-11T18:13:53.639595Z"
    }
   },
   "outputs": [],
   "source": [
    "query = QueryData(df)"
   ]
  },
  {
   "cell_type": "code",
   "execution_count": 20,
   "metadata": {
    "ExecuteTime": {
     "end_time": "2021-02-11T18:13:53.915029Z",
     "start_time": "2021-02-11T18:13:53.905113Z"
    }
   },
   "outputs": [
    {
     "data": {
      "text/plain": [
       "{'degree_group': ['Associates',\n",
       "  'Bachelors',\n",
       "  'Dental',\n",
       "  'High School',\n",
       "  'JD',\n",
       "  'MBA',\n",
       "  'MD',\n",
       "  'Masters - Education',\n",
       "  'Masters - General',\n",
       "  'Masters - Law',\n",
       "  'Masters - Public',\n",
       "  'Masters - Theology',\n",
       "  'Nursing',\n",
       "  'PHD',\n",
       "  'PHD - Education',\n",
       "  'PHD - Public',\n",
       "  'PHD - Theology',\n",
       "  'Veterinary'],\n",
       " 'in_office': [False, True],\n",
       " 'gender': ['F', 'M']}"
      ]
     },
     "execution_count": 20,
     "metadata": {},
     "output_type": "execute_result"
    }
   ],
   "source": [
    "query.get_col_vals(['degree_group', 'in_office', 'gender'], sort=True)"
   ]
  },
  {
   "cell_type": "code",
   "execution_count": 21,
   "metadata": {
    "ExecuteTime": {
     "end_time": "2021-02-11T18:13:54.273135Z",
     "start_time": "2021-02-11T18:13:54.239273Z"
    }
   },
   "outputs": [
    {
     "data": {
      "text/html": [
       "<div>\n",
       "<style scoped>\n",
       "    .dataframe tbody tr th:only-of-type {\n",
       "        vertical-align: middle;\n",
       "    }\n",
       "\n",
       "    .dataframe tbody tr th {\n",
       "        vertical-align: top;\n",
       "    }\n",
       "\n",
       "    .dataframe thead th {\n",
       "        text-align: right;\n",
       "    }\n",
       "</style>\n",
       "<table border=\"1\" class=\"dataframe\">\n",
       "  <thead>\n",
       "    <tr style=\"text-align: right;\">\n",
       "      <th></th>\n",
       "      <th>_id</th>\n",
       "      <th>current_party</th>\n",
       "      <th>state</th>\n",
       "      <th>first_name</th>\n",
       "      <th>middle_name</th>\n",
       "      <th>last_name</th>\n",
       "      <th>dob</th>\n",
       "      <th>gender</th>\n",
       "      <th>congresses</th>\n",
       "      <th>in_office</th>\n",
       "      <th>institution</th>\n",
       "      <th>degree_group</th>\n",
       "      <th>degree</th>\n",
       "    </tr>\n",
       "  </thead>\n",
       "  <tbody>\n",
       "    <tr>\n",
       "      <th>0</th>\n",
       "      <td>B001291</td>\n",
       "      <td>R</td>\n",
       "      <td>TX</td>\n",
       "      <td>Brian</td>\n",
       "      <td></td>\n",
       "      <td>Babin</td>\n",
       "      <td>1948-03-23 00:00:00+00:00</td>\n",
       "      <td>M</td>\n",
       "      <td>{114, 115, 116, 117}</td>\n",
       "      <td>True</td>\n",
       "      <td>[University of Texas Health Science Center, La...</td>\n",
       "      <td>[Dental, Bachelors]</td>\n",
       "      <td>[DDS, BS]</td>\n",
       "    </tr>\n",
       "    <tr>\n",
       "      <th>1</th>\n",
       "      <td>F000465</td>\n",
       "      <td>R</td>\n",
       "      <td>GA</td>\n",
       "      <td>A.</td>\n",
       "      <td>Drew</td>\n",
       "      <td>Ferguson</td>\n",
       "      <td>1966-11-15 00:00:00+00:00</td>\n",
       "      <td>M</td>\n",
       "      <td>{115, 116, 117}</td>\n",
       "      <td>True</td>\n",
       "      <td>[University of Georgia, Augusta University]</td>\n",
       "      <td>[Bachelors, Dental]</td>\n",
       "      <td>[BS, DMD]</td>\n",
       "    </tr>\n",
       "    <tr>\n",
       "      <th>2</th>\n",
       "      <td>G000565</td>\n",
       "      <td>R</td>\n",
       "      <td>AZ</td>\n",
       "      <td>Paul</td>\n",
       "      <td></td>\n",
       "      <td>Gosar</td>\n",
       "      <td>1958-11-22 00:00:00+00:00</td>\n",
       "      <td>M</td>\n",
       "      <td>{112, 113, 114, 115, 116, 117}</td>\n",
       "      <td>True</td>\n",
       "      <td>[Creighton University, Creighton University]</td>\n",
       "      <td>[Dental, Bachelors]</td>\n",
       "      <td>[DDS, BS]</td>\n",
       "    </tr>\n",
       "    <tr>\n",
       "      <th>3</th>\n",
       "      <td>S001148</td>\n",
       "      <td>R</td>\n",
       "      <td>ID</td>\n",
       "      <td>Mike</td>\n",
       "      <td></td>\n",
       "      <td>Simpson</td>\n",
       "      <td>1950-09-08 00:00:00+00:00</td>\n",
       "      <td>M</td>\n",
       "      <td>{106, 107, 108, 109, 110, 111, 112, 113, 114, ...</td>\n",
       "      <td>True</td>\n",
       "      <td>[Washington University, Utah State University]</td>\n",
       "      <td>[Dental, Bachelors]</td>\n",
       "      <td>[DMD, BS]</td>\n",
       "    </tr>\n",
       "    <tr>\n",
       "      <th>4</th>\n",
       "      <td>V000133</td>\n",
       "      <td>R</td>\n",
       "      <td>NJ</td>\n",
       "      <td>Jefferson</td>\n",
       "      <td></td>\n",
       "      <td>Van Drew</td>\n",
       "      <td>1953-02-23 00:00:00+00:00</td>\n",
       "      <td>M</td>\n",
       "      <td>{116, 117}</td>\n",
       "      <td>True</td>\n",
       "      <td>[Rutgers University, New Brunswick, Fairleigh ...</td>\n",
       "      <td>[Bachelors, Dental]</td>\n",
       "      <td>[BS, DMD]</td>\n",
       "    </tr>\n",
       "  </tbody>\n",
       "</table>\n",
       "</div>"
      ],
      "text/plain": [
       "       _id current_party state first_name middle_name last_name  \\\n",
       "0  B001291             R    TX      Brian                 Babin   \n",
       "1  F000465             R    GA         A.        Drew  Ferguson   \n",
       "2  G000565             R    AZ       Paul                 Gosar   \n",
       "3  S001148             R    ID       Mike               Simpson   \n",
       "4  V000133             R    NJ  Jefferson              Van Drew   \n",
       "\n",
       "                        dob gender  \\\n",
       "0 1948-03-23 00:00:00+00:00      M   \n",
       "1 1966-11-15 00:00:00+00:00      M   \n",
       "2 1958-11-22 00:00:00+00:00      M   \n",
       "3 1950-09-08 00:00:00+00:00      M   \n",
       "4 1953-02-23 00:00:00+00:00      M   \n",
       "\n",
       "                                          congresses  in_office  \\\n",
       "0                               {114, 115, 116, 117}       True   \n",
       "1                                    {115, 116, 117}       True   \n",
       "2                     {112, 113, 114, 115, 116, 117}       True   \n",
       "3  {106, 107, 108, 109, 110, 111, 112, 113, 114, ...       True   \n",
       "4                                         {116, 117}       True   \n",
       "\n",
       "                                         institution         degree_group  \\\n",
       "0  [University of Texas Health Science Center, La...  [Dental, Bachelors]   \n",
       "1        [University of Georgia, Augusta University]  [Bachelors, Dental]   \n",
       "2       [Creighton University, Creighton University]  [Dental, Bachelors]   \n",
       "3     [Washington University, Utah State University]  [Dental, Bachelors]   \n",
       "4  [Rutgers University, New Brunswick, Fairleigh ...  [Bachelors, Dental]   \n",
       "\n",
       "      degree  \n",
       "0  [DDS, BS]  \n",
       "1  [BS, DMD]  \n",
       "2  [DDS, BS]  \n",
       "3  [DMD, BS]  \n",
       "4  [BS, DMD]  "
      ]
     },
     "execution_count": 21,
     "metadata": {},
     "output_type": "execute_result"
    }
   ],
   "source": [
    "query.query_pipeline([('degree_group', 'Dental'), ('gender', 'M')])"
   ]
  },
  {
   "cell_type": "code",
   "execution_count": 28,
   "metadata": {
    "ExecuteTime": {
     "end_time": "2021-02-11T18:16:12.209723Z",
     "start_time": "2021-02-11T18:16:12.195838Z"
    },
    "scrolled": false
   },
   "outputs": [],
   "source": [
    "def plot_stack(df, col_1, col_2, sort_by=None, by_pct=False):\n",
    "    new_df = df.loc[df['in_office'] == True]\n",
    "    opt_1 = new_df[col_1].unique()\n",
    "    opt_2 = new_df[col_2].unique()\n",
    "    figures = []\n",
    "    if sort_by:\n",
    "        sort_tups = []\n",
    "    for i in opt_1:\n",
    "        x = opt_2\n",
    "        raw_y = []\n",
    "        if by_pct:\n",
    "            pct_y = []\n",
    "        for j in opt_2:\n",
    "            data = len(new_df.loc[(new_df[col_1] == i) & (new_df[col_2] == j)])\n",
    "            raw_y.append(data)\n",
    "            if by_pct:\n",
    "                total = len(new_df.loc[new_df[col_2] == j])\n",
    "                data = data / total\n",
    "                pct_y.append(data)\n",
    "            tup = (i, j, data)\n",
    "            sort_tups.append(tup)\n",
    "        if by_pct:\n",
    "            f_string = f'{\" \".join(col_2.split(\"_\")).upper()}'\n",
    "            figures.append(go.Bar(\n",
    "                name=i,\n",
    "                x=x,\n",
    "                y=pct_y,\n",
    "                customdata=raw_y,\n",
    "                text=[ f_string for _ in range(len(raw_y)) ],\n",
    "                hovertemplate=\n",
    "                f'{col_1.upper()}: {i}<br>' +\n",
    "                '%{text}: %{x}<br>' +\n",
    "                'TOTAL: %{customdata}<br>' +\n",
    "                'PTC: %{y:.1%}'\n",
    "            ))\n",
    "            \n",
    "        else:\n",
    "            figures.append(go.Bar(name=i, x=x, y=raw_y))\n",
    "        \n",
    "    fig = go.Figure(figures)\n",
    "    fig.update_layout(barmode='stack')\n",
    "    title = f\"{' '.join(col_1.split('_')).upper()} by {' '.join(col_2.split('_')).upper()}\"\n",
    "    fig.update_layout(title=title)\n",
    "    fig.update_layout()\n",
    "    if sort_by:\n",
    "        sort_tups = sorted([ tup for tup in sort_tups if tup[0] == sort_by ], key=lambda x: x[2], reverse=True)\n",
    "        fig.update_layout(xaxis={'categoryorder':'array', 'categoryarray': [ val[1] for val in sort_tups ]})\n",
    "    return fig"
   ]
  },
  {
   "cell_type": "code",
   "execution_count": 35,
   "metadata": {
    "ExecuteTime": {
     "end_time": "2021-02-12T00:34:11.775529Z",
     "start_time": "2021-02-12T00:34:11.461754Z"
    }
   },
   "outputs": [
    {
     "data": {
      "application/vnd.plotly.v1+json": {
       "config": {
        "plotlyServerURL": "https://plot.ly"
       },
       "data": [
        {
         "customdata": [
          6,
          0,
          1,
          8,
          11,
          8,
          23,
          1,
          3,
          1,
          5,
          3,
          7,
          6,
          16,
          7,
          12,
          5,
          5,
          4,
          9,
          3,
          7,
          4,
          0,
          1,
          7,
          6,
          0,
          0,
          0,
          4,
          1,
          4,
          4,
          3,
          4,
          2,
          5,
          4,
          1,
          2,
          3,
          0,
          1,
          1,
          0,
          3,
          0,
          0,
          1,
          1,
          0,
          0,
          0,
          1
         ],
         "hovertemplate": "CURRENT_PARTY: R<br>%{text}: %{x}<br>TOTAL: %{customdata}<br>PTC: %{y:.1%}",
         "name": "R",
         "text": [
          "STATE",
          "STATE",
          "STATE",
          "STATE",
          "STATE",
          "STATE",
          "STATE",
          "STATE",
          "STATE",
          "STATE",
          "STATE",
          "STATE",
          "STATE",
          "STATE",
          "STATE",
          "STATE",
          "STATE",
          "STATE",
          "STATE",
          "STATE",
          "STATE",
          "STATE",
          "STATE",
          "STATE",
          "STATE",
          "STATE",
          "STATE",
          "STATE",
          "STATE",
          "STATE",
          "STATE",
          "STATE",
          "STATE",
          "STATE",
          "STATE",
          "STATE",
          "STATE",
          "STATE",
          "STATE",
          "STATE",
          "STATE",
          "STATE",
          "STATE",
          "STATE",
          "STATE",
          "STATE",
          "STATE",
          "STATE",
          "STATE",
          "STATE",
          "STATE",
          "STATE",
          "STATE",
          "STATE",
          "STATE",
          "STATE"
         ],
         "type": "bar",
         "x": [
          "AL",
          "MA",
          "NV",
          "NC",
          "CA",
          "GA",
          "TX",
          "ND",
          "IA",
          "OR",
          "OK",
          "CO",
          "NY",
          "MO",
          "FL",
          "IN",
          "OH",
          "KY",
          "IL",
          "VA",
          "PA",
          "NE",
          "MI",
          "AZ",
          "DE",
          "MD",
          "TN",
          "SC",
          "HI",
          "CT",
          "RI",
          "AR",
          "WY",
          "UT",
          "MN",
          "WA",
          "KS",
          "ID",
          "WI",
          "LA",
          "PR",
          "NJ",
          "MS",
          "ME",
          "NM",
          "SD",
          "NH",
          "WV",
          "DC",
          "VI",
          "MT",
          "AS",
          "MP",
          "GU",
          "VT",
          "AK"
         ],
         "y": [
          0.8571428571428571,
          0,
          0.25,
          0.6153846153846154,
          0.20754716981132076,
          0.5714285714285714,
          0.6388888888888888,
          1,
          0.75,
          0.2,
          1,
          0.42857142857142855,
          0.2692307692307692,
          0.75,
          0.5925925925925926,
          0.7777777777777778,
          0.75,
          0.8333333333333334,
          0.2777777777777778,
          0.36363636363636365,
          0.5,
          1,
          0.5,
          0.4444444444444444,
          0,
          0.125,
          0.7777777777777778,
          0.8571428571428571,
          0,
          0,
          0,
          1,
          1,
          1,
          0.5,
          0.3,
          0.8,
          1,
          0.625,
          0.8,
          1,
          0.16666666666666666,
          0.75,
          0,
          0.25,
          1,
          0,
          1,
          0,
          0,
          1,
          1,
          0,
          0,
          0,
          1
         ]
        },
        {
         "customdata": [
          1,
          9,
          3,
          5,
          42,
          6,
          13,
          0,
          1,
          4,
          0,
          4,
          19,
          2,
          11,
          2,
          4,
          1,
          13,
          7,
          9,
          0,
          7,
          5,
          1,
          7,
          2,
          1,
          2,
          5,
          2,
          0,
          0,
          0,
          4,
          7,
          1,
          0,
          3,
          1,
          0,
          10,
          1,
          2,
          3,
          0,
          2,
          0,
          1,
          1,
          0,
          0,
          0,
          1,
          1,
          0
         ],
         "hovertemplate": "CURRENT_PARTY: D<br>%{text}: %{x}<br>TOTAL: %{customdata}<br>PTC: %{y:.1%}",
         "name": "D",
         "text": [
          "STATE",
          "STATE",
          "STATE",
          "STATE",
          "STATE",
          "STATE",
          "STATE",
          "STATE",
          "STATE",
          "STATE",
          "STATE",
          "STATE",
          "STATE",
          "STATE",
          "STATE",
          "STATE",
          "STATE",
          "STATE",
          "STATE",
          "STATE",
          "STATE",
          "STATE",
          "STATE",
          "STATE",
          "STATE",
          "STATE",
          "STATE",
          "STATE",
          "STATE",
          "STATE",
          "STATE",
          "STATE",
          "STATE",
          "STATE",
          "STATE",
          "STATE",
          "STATE",
          "STATE",
          "STATE",
          "STATE",
          "STATE",
          "STATE",
          "STATE",
          "STATE",
          "STATE",
          "STATE",
          "STATE",
          "STATE",
          "STATE",
          "STATE",
          "STATE",
          "STATE",
          "STATE",
          "STATE",
          "STATE",
          "STATE"
         ],
         "type": "bar",
         "x": [
          "AL",
          "MA",
          "NV",
          "NC",
          "CA",
          "GA",
          "TX",
          "ND",
          "IA",
          "OR",
          "OK",
          "CO",
          "NY",
          "MO",
          "FL",
          "IN",
          "OH",
          "KY",
          "IL",
          "VA",
          "PA",
          "NE",
          "MI",
          "AZ",
          "DE",
          "MD",
          "TN",
          "SC",
          "HI",
          "CT",
          "RI",
          "AR",
          "WY",
          "UT",
          "MN",
          "WA",
          "KS",
          "ID",
          "WI",
          "LA",
          "PR",
          "NJ",
          "MS",
          "ME",
          "NM",
          "SD",
          "NH",
          "WV",
          "DC",
          "VI",
          "MT",
          "AS",
          "MP",
          "GU",
          "VT",
          "AK"
         ],
         "y": [
          0.14285714285714285,
          1,
          0.75,
          0.38461538461538464,
          0.7924528301886793,
          0.42857142857142855,
          0.3611111111111111,
          0,
          0.25,
          0.8,
          0,
          0.5714285714285714,
          0.7307692307692307,
          0.25,
          0.4074074074074074,
          0.2222222222222222,
          0.25,
          0.16666666666666666,
          0.7222222222222222,
          0.6363636363636364,
          0.5,
          0,
          0.5,
          0.5555555555555556,
          1,
          0.875,
          0.2222222222222222,
          0.14285714285714285,
          1,
          1,
          1,
          0,
          0,
          0,
          0.5,
          0.7,
          0.2,
          0,
          0.375,
          0.2,
          0,
          0.8333333333333334,
          0.25,
          1,
          0.75,
          0,
          1,
          0,
          1,
          1,
          0,
          0,
          0,
          1,
          1,
          0
         ]
        },
        {
         "customdata": [
          0,
          0,
          0,
          0,
          0,
          0,
          0,
          0,
          0,
          0,
          0,
          0,
          0,
          0,
          0,
          0,
          0,
          0,
          0,
          0,
          0,
          0,
          0,
          0,
          0,
          0,
          0,
          0,
          0,
          0,
          0,
          0,
          0,
          0,
          0,
          0,
          0,
          0,
          0,
          0,
          0,
          0,
          0,
          0,
          0,
          0,
          0,
          0,
          0,
          0,
          0,
          0,
          1,
          0,
          0,
          0
         ],
         "hovertemplate": "CURRENT_PARTY: I<br>%{text}: %{x}<br>TOTAL: %{customdata}<br>PTC: %{y:.1%}",
         "name": "I",
         "text": [
          "STATE",
          "STATE",
          "STATE",
          "STATE",
          "STATE",
          "STATE",
          "STATE",
          "STATE",
          "STATE",
          "STATE",
          "STATE",
          "STATE",
          "STATE",
          "STATE",
          "STATE",
          "STATE",
          "STATE",
          "STATE",
          "STATE",
          "STATE",
          "STATE",
          "STATE",
          "STATE",
          "STATE",
          "STATE",
          "STATE",
          "STATE",
          "STATE",
          "STATE",
          "STATE",
          "STATE",
          "STATE",
          "STATE",
          "STATE",
          "STATE",
          "STATE",
          "STATE",
          "STATE",
          "STATE",
          "STATE",
          "STATE",
          "STATE",
          "STATE",
          "STATE",
          "STATE",
          "STATE",
          "STATE",
          "STATE",
          "STATE",
          "STATE",
          "STATE",
          "STATE",
          "STATE",
          "STATE",
          "STATE",
          "STATE"
         ],
         "type": "bar",
         "x": [
          "AL",
          "MA",
          "NV",
          "NC",
          "CA",
          "GA",
          "TX",
          "ND",
          "IA",
          "OR",
          "OK",
          "CO",
          "NY",
          "MO",
          "FL",
          "IN",
          "OH",
          "KY",
          "IL",
          "VA",
          "PA",
          "NE",
          "MI",
          "AZ",
          "DE",
          "MD",
          "TN",
          "SC",
          "HI",
          "CT",
          "RI",
          "AR",
          "WY",
          "UT",
          "MN",
          "WA",
          "KS",
          "ID",
          "WI",
          "LA",
          "PR",
          "NJ",
          "MS",
          "ME",
          "NM",
          "SD",
          "NH",
          "WV",
          "DC",
          "VI",
          "MT",
          "AS",
          "MP",
          "GU",
          "VT",
          "AK"
         ],
         "y": [
          0,
          0,
          0,
          0,
          0,
          0,
          0,
          0,
          0,
          0,
          0,
          0,
          0,
          0,
          0,
          0,
          0,
          0,
          0,
          0,
          0,
          0,
          0,
          0,
          0,
          0,
          0,
          0,
          0,
          0,
          0,
          0,
          0,
          0,
          0,
          0,
          0,
          0,
          0,
          0,
          0,
          0,
          0,
          0,
          0,
          0,
          0,
          0,
          0,
          0,
          0,
          0,
          1,
          0,
          0,
          0
         ]
        }
       ],
       "layout": {
        "barmode": "stack",
        "template": {
         "data": {
          "bar": [
           {
            "error_x": {
             "color": "#2a3f5f"
            },
            "error_y": {
             "color": "#2a3f5f"
            },
            "marker": {
             "line": {
              "color": "#E5ECF6",
              "width": 0.5
             }
            },
            "type": "bar"
           }
          ],
          "barpolar": [
           {
            "marker": {
             "line": {
              "color": "#E5ECF6",
              "width": 0.5
             }
            },
            "type": "barpolar"
           }
          ],
          "carpet": [
           {
            "aaxis": {
             "endlinecolor": "#2a3f5f",
             "gridcolor": "white",
             "linecolor": "white",
             "minorgridcolor": "white",
             "startlinecolor": "#2a3f5f"
            },
            "baxis": {
             "endlinecolor": "#2a3f5f",
             "gridcolor": "white",
             "linecolor": "white",
             "minorgridcolor": "white",
             "startlinecolor": "#2a3f5f"
            },
            "type": "carpet"
           }
          ],
          "choropleth": [
           {
            "colorbar": {
             "outlinewidth": 0,
             "ticks": ""
            },
            "type": "choropleth"
           }
          ],
          "contour": [
           {
            "colorbar": {
             "outlinewidth": 0,
             "ticks": ""
            },
            "colorscale": [
             [
              0,
              "#0d0887"
             ],
             [
              0.1111111111111111,
              "#46039f"
             ],
             [
              0.2222222222222222,
              "#7201a8"
             ],
             [
              0.3333333333333333,
              "#9c179e"
             ],
             [
              0.4444444444444444,
              "#bd3786"
             ],
             [
              0.5555555555555556,
              "#d8576b"
             ],
             [
              0.6666666666666666,
              "#ed7953"
             ],
             [
              0.7777777777777778,
              "#fb9f3a"
             ],
             [
              0.8888888888888888,
              "#fdca26"
             ],
             [
              1,
              "#f0f921"
             ]
            ],
            "type": "contour"
           }
          ],
          "contourcarpet": [
           {
            "colorbar": {
             "outlinewidth": 0,
             "ticks": ""
            },
            "type": "contourcarpet"
           }
          ],
          "heatmap": [
           {
            "colorbar": {
             "outlinewidth": 0,
             "ticks": ""
            },
            "colorscale": [
             [
              0,
              "#0d0887"
             ],
             [
              0.1111111111111111,
              "#46039f"
             ],
             [
              0.2222222222222222,
              "#7201a8"
             ],
             [
              0.3333333333333333,
              "#9c179e"
             ],
             [
              0.4444444444444444,
              "#bd3786"
             ],
             [
              0.5555555555555556,
              "#d8576b"
             ],
             [
              0.6666666666666666,
              "#ed7953"
             ],
             [
              0.7777777777777778,
              "#fb9f3a"
             ],
             [
              0.8888888888888888,
              "#fdca26"
             ],
             [
              1,
              "#f0f921"
             ]
            ],
            "type": "heatmap"
           }
          ],
          "heatmapgl": [
           {
            "colorbar": {
             "outlinewidth": 0,
             "ticks": ""
            },
            "colorscale": [
             [
              0,
              "#0d0887"
             ],
             [
              0.1111111111111111,
              "#46039f"
             ],
             [
              0.2222222222222222,
              "#7201a8"
             ],
             [
              0.3333333333333333,
              "#9c179e"
             ],
             [
              0.4444444444444444,
              "#bd3786"
             ],
             [
              0.5555555555555556,
              "#d8576b"
             ],
             [
              0.6666666666666666,
              "#ed7953"
             ],
             [
              0.7777777777777778,
              "#fb9f3a"
             ],
             [
              0.8888888888888888,
              "#fdca26"
             ],
             [
              1,
              "#f0f921"
             ]
            ],
            "type": "heatmapgl"
           }
          ],
          "histogram": [
           {
            "marker": {
             "colorbar": {
              "outlinewidth": 0,
              "ticks": ""
             }
            },
            "type": "histogram"
           }
          ],
          "histogram2d": [
           {
            "colorbar": {
             "outlinewidth": 0,
             "ticks": ""
            },
            "colorscale": [
             [
              0,
              "#0d0887"
             ],
             [
              0.1111111111111111,
              "#46039f"
             ],
             [
              0.2222222222222222,
              "#7201a8"
             ],
             [
              0.3333333333333333,
              "#9c179e"
             ],
             [
              0.4444444444444444,
              "#bd3786"
             ],
             [
              0.5555555555555556,
              "#d8576b"
             ],
             [
              0.6666666666666666,
              "#ed7953"
             ],
             [
              0.7777777777777778,
              "#fb9f3a"
             ],
             [
              0.8888888888888888,
              "#fdca26"
             ],
             [
              1,
              "#f0f921"
             ]
            ],
            "type": "histogram2d"
           }
          ],
          "histogram2dcontour": [
           {
            "colorbar": {
             "outlinewidth": 0,
             "ticks": ""
            },
            "colorscale": [
             [
              0,
              "#0d0887"
             ],
             [
              0.1111111111111111,
              "#46039f"
             ],
             [
              0.2222222222222222,
              "#7201a8"
             ],
             [
              0.3333333333333333,
              "#9c179e"
             ],
             [
              0.4444444444444444,
              "#bd3786"
             ],
             [
              0.5555555555555556,
              "#d8576b"
             ],
             [
              0.6666666666666666,
              "#ed7953"
             ],
             [
              0.7777777777777778,
              "#fb9f3a"
             ],
             [
              0.8888888888888888,
              "#fdca26"
             ],
             [
              1,
              "#f0f921"
             ]
            ],
            "type": "histogram2dcontour"
           }
          ],
          "mesh3d": [
           {
            "colorbar": {
             "outlinewidth": 0,
             "ticks": ""
            },
            "type": "mesh3d"
           }
          ],
          "parcoords": [
           {
            "line": {
             "colorbar": {
              "outlinewidth": 0,
              "ticks": ""
             }
            },
            "type": "parcoords"
           }
          ],
          "pie": [
           {
            "automargin": true,
            "type": "pie"
           }
          ],
          "scatter": [
           {
            "marker": {
             "colorbar": {
              "outlinewidth": 0,
              "ticks": ""
             }
            },
            "type": "scatter"
           }
          ],
          "scatter3d": [
           {
            "line": {
             "colorbar": {
              "outlinewidth": 0,
              "ticks": ""
             }
            },
            "marker": {
             "colorbar": {
              "outlinewidth": 0,
              "ticks": ""
             }
            },
            "type": "scatter3d"
           }
          ],
          "scattercarpet": [
           {
            "marker": {
             "colorbar": {
              "outlinewidth": 0,
              "ticks": ""
             }
            },
            "type": "scattercarpet"
           }
          ],
          "scattergeo": [
           {
            "marker": {
             "colorbar": {
              "outlinewidth": 0,
              "ticks": ""
             }
            },
            "type": "scattergeo"
           }
          ],
          "scattergl": [
           {
            "marker": {
             "colorbar": {
              "outlinewidth": 0,
              "ticks": ""
             }
            },
            "type": "scattergl"
           }
          ],
          "scattermapbox": [
           {
            "marker": {
             "colorbar": {
              "outlinewidth": 0,
              "ticks": ""
             }
            },
            "type": "scattermapbox"
           }
          ],
          "scatterpolar": [
           {
            "marker": {
             "colorbar": {
              "outlinewidth": 0,
              "ticks": ""
             }
            },
            "type": "scatterpolar"
           }
          ],
          "scatterpolargl": [
           {
            "marker": {
             "colorbar": {
              "outlinewidth": 0,
              "ticks": ""
             }
            },
            "type": "scatterpolargl"
           }
          ],
          "scatterternary": [
           {
            "marker": {
             "colorbar": {
              "outlinewidth": 0,
              "ticks": ""
             }
            },
            "type": "scatterternary"
           }
          ],
          "surface": [
           {
            "colorbar": {
             "outlinewidth": 0,
             "ticks": ""
            },
            "colorscale": [
             [
              0,
              "#0d0887"
             ],
             [
              0.1111111111111111,
              "#46039f"
             ],
             [
              0.2222222222222222,
              "#7201a8"
             ],
             [
              0.3333333333333333,
              "#9c179e"
             ],
             [
              0.4444444444444444,
              "#bd3786"
             ],
             [
              0.5555555555555556,
              "#d8576b"
             ],
             [
              0.6666666666666666,
              "#ed7953"
             ],
             [
              0.7777777777777778,
              "#fb9f3a"
             ],
             [
              0.8888888888888888,
              "#fdca26"
             ],
             [
              1,
              "#f0f921"
             ]
            ],
            "type": "surface"
           }
          ],
          "table": [
           {
            "cells": {
             "fill": {
              "color": "#EBF0F8"
             },
             "line": {
              "color": "white"
             }
            },
            "header": {
             "fill": {
              "color": "#C8D4E3"
             },
             "line": {
              "color": "white"
             }
            },
            "type": "table"
           }
          ]
         },
         "layout": {
          "annotationdefaults": {
           "arrowcolor": "#2a3f5f",
           "arrowhead": 0,
           "arrowwidth": 1
          },
          "autotypenumbers": "strict",
          "coloraxis": {
           "colorbar": {
            "outlinewidth": 0,
            "ticks": ""
           }
          },
          "colorscale": {
           "diverging": [
            [
             0,
             "#8e0152"
            ],
            [
             0.1,
             "#c51b7d"
            ],
            [
             0.2,
             "#de77ae"
            ],
            [
             0.3,
             "#f1b6da"
            ],
            [
             0.4,
             "#fde0ef"
            ],
            [
             0.5,
             "#f7f7f7"
            ],
            [
             0.6,
             "#e6f5d0"
            ],
            [
             0.7,
             "#b8e186"
            ],
            [
             0.8,
             "#7fbc41"
            ],
            [
             0.9,
             "#4d9221"
            ],
            [
             1,
             "#276419"
            ]
           ],
           "sequential": [
            [
             0,
             "#0d0887"
            ],
            [
             0.1111111111111111,
             "#46039f"
            ],
            [
             0.2222222222222222,
             "#7201a8"
            ],
            [
             0.3333333333333333,
             "#9c179e"
            ],
            [
             0.4444444444444444,
             "#bd3786"
            ],
            [
             0.5555555555555556,
             "#d8576b"
            ],
            [
             0.6666666666666666,
             "#ed7953"
            ],
            [
             0.7777777777777778,
             "#fb9f3a"
            ],
            [
             0.8888888888888888,
             "#fdca26"
            ],
            [
             1,
             "#f0f921"
            ]
           ],
           "sequentialminus": [
            [
             0,
             "#0d0887"
            ],
            [
             0.1111111111111111,
             "#46039f"
            ],
            [
             0.2222222222222222,
             "#7201a8"
            ],
            [
             0.3333333333333333,
             "#9c179e"
            ],
            [
             0.4444444444444444,
             "#bd3786"
            ],
            [
             0.5555555555555556,
             "#d8576b"
            ],
            [
             0.6666666666666666,
             "#ed7953"
            ],
            [
             0.7777777777777778,
             "#fb9f3a"
            ],
            [
             0.8888888888888888,
             "#fdca26"
            ],
            [
             1,
             "#f0f921"
            ]
           ]
          },
          "colorway": [
           "#636efa",
           "#EF553B",
           "#00cc96",
           "#ab63fa",
           "#FFA15A",
           "#19d3f3",
           "#FF6692",
           "#B6E880",
           "#FF97FF",
           "#FECB52"
          ],
          "font": {
           "color": "#2a3f5f"
          },
          "geo": {
           "bgcolor": "white",
           "lakecolor": "white",
           "landcolor": "#E5ECF6",
           "showlakes": true,
           "showland": true,
           "subunitcolor": "white"
          },
          "hoverlabel": {
           "align": "left"
          },
          "hovermode": "closest",
          "mapbox": {
           "style": "light"
          },
          "paper_bgcolor": "white",
          "plot_bgcolor": "#E5ECF6",
          "polar": {
           "angularaxis": {
            "gridcolor": "white",
            "linecolor": "white",
            "ticks": ""
           },
           "bgcolor": "#E5ECF6",
           "radialaxis": {
            "gridcolor": "white",
            "linecolor": "white",
            "ticks": ""
           }
          },
          "scene": {
           "xaxis": {
            "backgroundcolor": "#E5ECF6",
            "gridcolor": "white",
            "gridwidth": 2,
            "linecolor": "white",
            "showbackground": true,
            "ticks": "",
            "zerolinecolor": "white"
           },
           "yaxis": {
            "backgroundcolor": "#E5ECF6",
            "gridcolor": "white",
            "gridwidth": 2,
            "linecolor": "white",
            "showbackground": true,
            "ticks": "",
            "zerolinecolor": "white"
           },
           "zaxis": {
            "backgroundcolor": "#E5ECF6",
            "gridcolor": "white",
            "gridwidth": 2,
            "linecolor": "white",
            "showbackground": true,
            "ticks": "",
            "zerolinecolor": "white"
           }
          },
          "shapedefaults": {
           "line": {
            "color": "#2a3f5f"
           }
          },
          "ternary": {
           "aaxis": {
            "gridcolor": "white",
            "linecolor": "white",
            "ticks": ""
           },
           "baxis": {
            "gridcolor": "white",
            "linecolor": "white",
            "ticks": ""
           },
           "bgcolor": "#E5ECF6",
           "caxis": {
            "gridcolor": "white",
            "linecolor": "white",
            "ticks": ""
           }
          },
          "title": {
           "x": 0.05
          },
          "xaxis": {
           "automargin": true,
           "gridcolor": "white",
           "linecolor": "white",
           "ticks": "",
           "title": {
            "standoff": 15
           },
           "zerolinecolor": "white",
           "zerolinewidth": 2
          },
          "yaxis": {
           "automargin": true,
           "gridcolor": "white",
           "linecolor": "white",
           "ticks": "",
           "title": {
            "standoff": 15
           },
           "zerolinecolor": "white",
           "zerolinewidth": 2
          }
         }
        },
        "title": {
         "text": "CURRENT PARTY by STATE"
        },
        "xaxis": {
         "categoryarray": [
          "MA",
          "DE",
          "HI",
          "CT",
          "RI",
          "ME",
          "NH",
          "DC",
          "VI",
          "GU",
          "VT",
          "MD",
          "NJ",
          "OR",
          "CA",
          "NV",
          "NM",
          "NY",
          "IL",
          "WA",
          "VA",
          "CO",
          "AZ",
          "PA",
          "MI",
          "MN",
          "GA",
          "FL",
          "NC",
          "WI",
          "TX",
          "IA",
          "MO",
          "OH",
          "MS",
          "IN",
          "TN",
          "KS",
          "LA",
          "KY",
          "AL",
          "SC",
          "ND",
          "OK",
          "NE",
          "AR",
          "WY",
          "UT",
          "ID",
          "PR",
          "SD",
          "WV",
          "MT",
          "AS",
          "MP",
          "AK"
         ],
         "categoryorder": "array"
        }
       }
      },
      "text/html": [
       "<div>                            <div id=\"c0f1d4a2-a6e6-4a24-93f8-5be69965521e\" class=\"plotly-graph-div\" style=\"height:525px; width:100%;\"></div>            <script type=\"text/javascript\">                require([\"plotly\"], function(Plotly) {                    window.PLOTLYENV=window.PLOTLYENV || {};                                    if (document.getElementById(\"c0f1d4a2-a6e6-4a24-93f8-5be69965521e\")) {                    Plotly.newPlot(                        \"c0f1d4a2-a6e6-4a24-93f8-5be69965521e\",                        [{\"customdata\": [6, 0, 1, 8, 11, 8, 23, 1, 3, 1, 5, 3, 7, 6, 16, 7, 12, 5, 5, 4, 9, 3, 7, 4, 0, 1, 7, 6, 0, 0, 0, 4, 1, 4, 4, 3, 4, 2, 5, 4, 1, 2, 3, 0, 1, 1, 0, 3, 0, 0, 1, 1, 0, 0, 0, 1], \"hovertemplate\": \"CURRENT_PARTY: R<br>%{text}: %{x}<br>TOTAL: %{customdata}<br>PTC: %{y:.1%}\", \"name\": \"R\", \"text\": [\"STATE\", \"STATE\", \"STATE\", \"STATE\", \"STATE\", \"STATE\", \"STATE\", \"STATE\", \"STATE\", \"STATE\", \"STATE\", \"STATE\", \"STATE\", \"STATE\", \"STATE\", \"STATE\", \"STATE\", \"STATE\", \"STATE\", \"STATE\", \"STATE\", \"STATE\", \"STATE\", \"STATE\", \"STATE\", \"STATE\", \"STATE\", \"STATE\", \"STATE\", \"STATE\", \"STATE\", \"STATE\", \"STATE\", \"STATE\", \"STATE\", \"STATE\", \"STATE\", \"STATE\", \"STATE\", \"STATE\", \"STATE\", \"STATE\", \"STATE\", \"STATE\", \"STATE\", \"STATE\", \"STATE\", \"STATE\", \"STATE\", \"STATE\", \"STATE\", \"STATE\", \"STATE\", \"STATE\", \"STATE\", \"STATE\"], \"type\": \"bar\", \"x\": [\"AL\", \"MA\", \"NV\", \"NC\", \"CA\", \"GA\", \"TX\", \"ND\", \"IA\", \"OR\", \"OK\", \"CO\", \"NY\", \"MO\", \"FL\", \"IN\", \"OH\", \"KY\", \"IL\", \"VA\", \"PA\", \"NE\", \"MI\", \"AZ\", \"DE\", \"MD\", \"TN\", \"SC\", \"HI\", \"CT\", \"RI\", \"AR\", \"WY\", \"UT\", \"MN\", \"WA\", \"KS\", \"ID\", \"WI\", \"LA\", \"PR\", \"NJ\", \"MS\", \"ME\", \"NM\", \"SD\", \"NH\", \"WV\", \"DC\", \"VI\", \"MT\", \"AS\", \"MP\", \"GU\", \"VT\", \"AK\"], \"y\": [0.8571428571428571, 0.0, 0.25, 0.6153846153846154, 0.20754716981132076, 0.5714285714285714, 0.6388888888888888, 1.0, 0.75, 0.2, 1.0, 0.42857142857142855, 0.2692307692307692, 0.75, 0.5925925925925926, 0.7777777777777778, 0.75, 0.8333333333333334, 0.2777777777777778, 0.36363636363636365, 0.5, 1.0, 0.5, 0.4444444444444444, 0.0, 0.125, 0.7777777777777778, 0.8571428571428571, 0.0, 0.0, 0.0, 1.0, 1.0, 1.0, 0.5, 0.3, 0.8, 1.0, 0.625, 0.8, 1.0, 0.16666666666666666, 0.75, 0.0, 0.25, 1.0, 0.0, 1.0, 0.0, 0.0, 1.0, 1.0, 0.0, 0.0, 0.0, 1.0]}, {\"customdata\": [1, 9, 3, 5, 42, 6, 13, 0, 1, 4, 0, 4, 19, 2, 11, 2, 4, 1, 13, 7, 9, 0, 7, 5, 1, 7, 2, 1, 2, 5, 2, 0, 0, 0, 4, 7, 1, 0, 3, 1, 0, 10, 1, 2, 3, 0, 2, 0, 1, 1, 0, 0, 0, 1, 1, 0], \"hovertemplate\": \"CURRENT_PARTY: D<br>%{text}: %{x}<br>TOTAL: %{customdata}<br>PTC: %{y:.1%}\", \"name\": \"D\", \"text\": [\"STATE\", \"STATE\", \"STATE\", \"STATE\", \"STATE\", \"STATE\", \"STATE\", \"STATE\", \"STATE\", \"STATE\", \"STATE\", \"STATE\", \"STATE\", \"STATE\", \"STATE\", \"STATE\", \"STATE\", \"STATE\", \"STATE\", \"STATE\", \"STATE\", \"STATE\", \"STATE\", \"STATE\", \"STATE\", \"STATE\", \"STATE\", \"STATE\", \"STATE\", \"STATE\", \"STATE\", \"STATE\", \"STATE\", \"STATE\", \"STATE\", \"STATE\", \"STATE\", \"STATE\", \"STATE\", \"STATE\", \"STATE\", \"STATE\", \"STATE\", \"STATE\", \"STATE\", \"STATE\", \"STATE\", \"STATE\", \"STATE\", \"STATE\", \"STATE\", \"STATE\", \"STATE\", \"STATE\", \"STATE\", \"STATE\"], \"type\": \"bar\", \"x\": [\"AL\", \"MA\", \"NV\", \"NC\", \"CA\", \"GA\", \"TX\", \"ND\", \"IA\", \"OR\", \"OK\", \"CO\", \"NY\", \"MO\", \"FL\", \"IN\", \"OH\", \"KY\", \"IL\", \"VA\", \"PA\", \"NE\", \"MI\", \"AZ\", \"DE\", \"MD\", \"TN\", \"SC\", \"HI\", \"CT\", \"RI\", \"AR\", \"WY\", \"UT\", \"MN\", \"WA\", \"KS\", \"ID\", \"WI\", \"LA\", \"PR\", \"NJ\", \"MS\", \"ME\", \"NM\", \"SD\", \"NH\", \"WV\", \"DC\", \"VI\", \"MT\", \"AS\", \"MP\", \"GU\", \"VT\", \"AK\"], \"y\": [0.14285714285714285, 1.0, 0.75, 0.38461538461538464, 0.7924528301886793, 0.42857142857142855, 0.3611111111111111, 0.0, 0.25, 0.8, 0.0, 0.5714285714285714, 0.7307692307692307, 0.25, 0.4074074074074074, 0.2222222222222222, 0.25, 0.16666666666666666, 0.7222222222222222, 0.6363636363636364, 0.5, 0.0, 0.5, 0.5555555555555556, 1.0, 0.875, 0.2222222222222222, 0.14285714285714285, 1.0, 1.0, 1.0, 0.0, 0.0, 0.0, 0.5, 0.7, 0.2, 0.0, 0.375, 0.2, 0.0, 0.8333333333333334, 0.25, 1.0, 0.75, 0.0, 1.0, 0.0, 1.0, 1.0, 0.0, 0.0, 0.0, 1.0, 1.0, 0.0]}, {\"customdata\": [0, 0, 0, 0, 0, 0, 0, 0, 0, 0, 0, 0, 0, 0, 0, 0, 0, 0, 0, 0, 0, 0, 0, 0, 0, 0, 0, 0, 0, 0, 0, 0, 0, 0, 0, 0, 0, 0, 0, 0, 0, 0, 0, 0, 0, 0, 0, 0, 0, 0, 0, 0, 1, 0, 0, 0], \"hovertemplate\": \"CURRENT_PARTY: I<br>%{text}: %{x}<br>TOTAL: %{customdata}<br>PTC: %{y:.1%}\", \"name\": \"I\", \"text\": [\"STATE\", \"STATE\", \"STATE\", \"STATE\", \"STATE\", \"STATE\", \"STATE\", \"STATE\", \"STATE\", \"STATE\", \"STATE\", \"STATE\", \"STATE\", \"STATE\", \"STATE\", \"STATE\", \"STATE\", \"STATE\", \"STATE\", \"STATE\", \"STATE\", \"STATE\", \"STATE\", \"STATE\", \"STATE\", \"STATE\", \"STATE\", \"STATE\", \"STATE\", \"STATE\", \"STATE\", \"STATE\", \"STATE\", \"STATE\", \"STATE\", \"STATE\", \"STATE\", \"STATE\", \"STATE\", \"STATE\", \"STATE\", \"STATE\", \"STATE\", \"STATE\", \"STATE\", \"STATE\", \"STATE\", \"STATE\", \"STATE\", \"STATE\", \"STATE\", \"STATE\", \"STATE\", \"STATE\", \"STATE\", \"STATE\"], \"type\": \"bar\", \"x\": [\"AL\", \"MA\", \"NV\", \"NC\", \"CA\", \"GA\", \"TX\", \"ND\", \"IA\", \"OR\", \"OK\", \"CO\", \"NY\", \"MO\", \"FL\", \"IN\", \"OH\", \"KY\", \"IL\", \"VA\", \"PA\", \"NE\", \"MI\", \"AZ\", \"DE\", \"MD\", \"TN\", \"SC\", \"HI\", \"CT\", \"RI\", \"AR\", \"WY\", \"UT\", \"MN\", \"WA\", \"KS\", \"ID\", \"WI\", \"LA\", \"PR\", \"NJ\", \"MS\", \"ME\", \"NM\", \"SD\", \"NH\", \"WV\", \"DC\", \"VI\", \"MT\", \"AS\", \"MP\", \"GU\", \"VT\", \"AK\"], \"y\": [0.0, 0.0, 0.0, 0.0, 0.0, 0.0, 0.0, 0.0, 0.0, 0.0, 0.0, 0.0, 0.0, 0.0, 0.0, 0.0, 0.0, 0.0, 0.0, 0.0, 0.0, 0.0, 0.0, 0.0, 0.0, 0.0, 0.0, 0.0, 0.0, 0.0, 0.0, 0.0, 0.0, 0.0, 0.0, 0.0, 0.0, 0.0, 0.0, 0.0, 0.0, 0.0, 0.0, 0.0, 0.0, 0.0, 0.0, 0.0, 0.0, 0.0, 0.0, 0.0, 1.0, 0.0, 0.0, 0.0]}],                        {\"barmode\": \"stack\", \"template\": {\"data\": {\"bar\": [{\"error_x\": {\"color\": \"#2a3f5f\"}, \"error_y\": {\"color\": \"#2a3f5f\"}, \"marker\": {\"line\": {\"color\": \"#E5ECF6\", \"width\": 0.5}}, \"type\": \"bar\"}], \"barpolar\": [{\"marker\": {\"line\": {\"color\": \"#E5ECF6\", \"width\": 0.5}}, \"type\": \"barpolar\"}], \"carpet\": [{\"aaxis\": {\"endlinecolor\": \"#2a3f5f\", \"gridcolor\": \"white\", \"linecolor\": \"white\", \"minorgridcolor\": \"white\", \"startlinecolor\": \"#2a3f5f\"}, \"baxis\": {\"endlinecolor\": \"#2a3f5f\", \"gridcolor\": \"white\", \"linecolor\": \"white\", \"minorgridcolor\": \"white\", \"startlinecolor\": \"#2a3f5f\"}, \"type\": \"carpet\"}], \"choropleth\": [{\"colorbar\": {\"outlinewidth\": 0, \"ticks\": \"\"}, \"type\": \"choropleth\"}], \"contour\": [{\"colorbar\": {\"outlinewidth\": 0, \"ticks\": \"\"}, \"colorscale\": [[0.0, \"#0d0887\"], [0.1111111111111111, \"#46039f\"], [0.2222222222222222, \"#7201a8\"], [0.3333333333333333, \"#9c179e\"], [0.4444444444444444, \"#bd3786\"], [0.5555555555555556, \"#d8576b\"], [0.6666666666666666, \"#ed7953\"], [0.7777777777777778, \"#fb9f3a\"], [0.8888888888888888, \"#fdca26\"], [1.0, \"#f0f921\"]], \"type\": \"contour\"}], \"contourcarpet\": [{\"colorbar\": {\"outlinewidth\": 0, \"ticks\": \"\"}, \"type\": \"contourcarpet\"}], \"heatmap\": [{\"colorbar\": {\"outlinewidth\": 0, \"ticks\": \"\"}, \"colorscale\": [[0.0, \"#0d0887\"], [0.1111111111111111, \"#46039f\"], [0.2222222222222222, \"#7201a8\"], [0.3333333333333333, \"#9c179e\"], [0.4444444444444444, \"#bd3786\"], [0.5555555555555556, \"#d8576b\"], [0.6666666666666666, \"#ed7953\"], [0.7777777777777778, \"#fb9f3a\"], [0.8888888888888888, \"#fdca26\"], [1.0, \"#f0f921\"]], \"type\": \"heatmap\"}], \"heatmapgl\": [{\"colorbar\": {\"outlinewidth\": 0, \"ticks\": \"\"}, \"colorscale\": [[0.0, \"#0d0887\"], [0.1111111111111111, \"#46039f\"], [0.2222222222222222, \"#7201a8\"], [0.3333333333333333, \"#9c179e\"], [0.4444444444444444, \"#bd3786\"], [0.5555555555555556, \"#d8576b\"], [0.6666666666666666, \"#ed7953\"], [0.7777777777777778, \"#fb9f3a\"], [0.8888888888888888, \"#fdca26\"], [1.0, \"#f0f921\"]], \"type\": \"heatmapgl\"}], \"histogram\": [{\"marker\": {\"colorbar\": {\"outlinewidth\": 0, \"ticks\": \"\"}}, \"type\": \"histogram\"}], \"histogram2d\": [{\"colorbar\": {\"outlinewidth\": 0, \"ticks\": \"\"}, \"colorscale\": [[0.0, \"#0d0887\"], [0.1111111111111111, \"#46039f\"], [0.2222222222222222, \"#7201a8\"], [0.3333333333333333, \"#9c179e\"], [0.4444444444444444, \"#bd3786\"], [0.5555555555555556, \"#d8576b\"], [0.6666666666666666, \"#ed7953\"], [0.7777777777777778, \"#fb9f3a\"], [0.8888888888888888, \"#fdca26\"], [1.0, \"#f0f921\"]], \"type\": \"histogram2d\"}], \"histogram2dcontour\": [{\"colorbar\": {\"outlinewidth\": 0, \"ticks\": \"\"}, \"colorscale\": [[0.0, \"#0d0887\"], [0.1111111111111111, \"#46039f\"], [0.2222222222222222, \"#7201a8\"], [0.3333333333333333, \"#9c179e\"], [0.4444444444444444, \"#bd3786\"], [0.5555555555555556, \"#d8576b\"], [0.6666666666666666, \"#ed7953\"], [0.7777777777777778, \"#fb9f3a\"], [0.8888888888888888, \"#fdca26\"], [1.0, \"#f0f921\"]], \"type\": \"histogram2dcontour\"}], \"mesh3d\": [{\"colorbar\": {\"outlinewidth\": 0, \"ticks\": \"\"}, \"type\": \"mesh3d\"}], \"parcoords\": [{\"line\": {\"colorbar\": {\"outlinewidth\": 0, \"ticks\": \"\"}}, \"type\": \"parcoords\"}], \"pie\": [{\"automargin\": true, \"type\": \"pie\"}], \"scatter\": [{\"marker\": {\"colorbar\": {\"outlinewidth\": 0, \"ticks\": \"\"}}, \"type\": \"scatter\"}], \"scatter3d\": [{\"line\": {\"colorbar\": {\"outlinewidth\": 0, \"ticks\": \"\"}}, \"marker\": {\"colorbar\": {\"outlinewidth\": 0, \"ticks\": \"\"}}, \"type\": \"scatter3d\"}], \"scattercarpet\": [{\"marker\": {\"colorbar\": {\"outlinewidth\": 0, \"ticks\": \"\"}}, \"type\": \"scattercarpet\"}], \"scattergeo\": [{\"marker\": {\"colorbar\": {\"outlinewidth\": 0, \"ticks\": \"\"}}, \"type\": \"scattergeo\"}], \"scattergl\": [{\"marker\": {\"colorbar\": {\"outlinewidth\": 0, \"ticks\": \"\"}}, \"type\": \"scattergl\"}], \"scattermapbox\": [{\"marker\": {\"colorbar\": {\"outlinewidth\": 0, \"ticks\": \"\"}}, \"type\": \"scattermapbox\"}], \"scatterpolar\": [{\"marker\": {\"colorbar\": {\"outlinewidth\": 0, \"ticks\": \"\"}}, \"type\": \"scatterpolar\"}], \"scatterpolargl\": [{\"marker\": {\"colorbar\": {\"outlinewidth\": 0, \"ticks\": \"\"}}, \"type\": \"scatterpolargl\"}], \"scatterternary\": [{\"marker\": {\"colorbar\": {\"outlinewidth\": 0, \"ticks\": \"\"}}, \"type\": \"scatterternary\"}], \"surface\": [{\"colorbar\": {\"outlinewidth\": 0, \"ticks\": \"\"}, \"colorscale\": [[0.0, \"#0d0887\"], [0.1111111111111111, \"#46039f\"], [0.2222222222222222, \"#7201a8\"], [0.3333333333333333, \"#9c179e\"], [0.4444444444444444, \"#bd3786\"], [0.5555555555555556, \"#d8576b\"], [0.6666666666666666, \"#ed7953\"], [0.7777777777777778, \"#fb9f3a\"], [0.8888888888888888, \"#fdca26\"], [1.0, \"#f0f921\"]], \"type\": \"surface\"}], \"table\": [{\"cells\": {\"fill\": {\"color\": \"#EBF0F8\"}, \"line\": {\"color\": \"white\"}}, \"header\": {\"fill\": {\"color\": \"#C8D4E3\"}, \"line\": {\"color\": \"white\"}}, \"type\": \"table\"}]}, \"layout\": {\"annotationdefaults\": {\"arrowcolor\": \"#2a3f5f\", \"arrowhead\": 0, \"arrowwidth\": 1}, \"autotypenumbers\": \"strict\", \"coloraxis\": {\"colorbar\": {\"outlinewidth\": 0, \"ticks\": \"\"}}, \"colorscale\": {\"diverging\": [[0, \"#8e0152\"], [0.1, \"#c51b7d\"], [0.2, \"#de77ae\"], [0.3, \"#f1b6da\"], [0.4, \"#fde0ef\"], [0.5, \"#f7f7f7\"], [0.6, \"#e6f5d0\"], [0.7, \"#b8e186\"], [0.8, \"#7fbc41\"], [0.9, \"#4d9221\"], [1, \"#276419\"]], \"sequential\": [[0.0, \"#0d0887\"], [0.1111111111111111, \"#46039f\"], [0.2222222222222222, \"#7201a8\"], [0.3333333333333333, \"#9c179e\"], [0.4444444444444444, \"#bd3786\"], [0.5555555555555556, \"#d8576b\"], [0.6666666666666666, \"#ed7953\"], [0.7777777777777778, \"#fb9f3a\"], [0.8888888888888888, \"#fdca26\"], [1.0, \"#f0f921\"]], \"sequentialminus\": [[0.0, \"#0d0887\"], [0.1111111111111111, \"#46039f\"], [0.2222222222222222, \"#7201a8\"], [0.3333333333333333, \"#9c179e\"], [0.4444444444444444, \"#bd3786\"], [0.5555555555555556, \"#d8576b\"], [0.6666666666666666, \"#ed7953\"], [0.7777777777777778, \"#fb9f3a\"], [0.8888888888888888, \"#fdca26\"], [1.0, \"#f0f921\"]]}, \"colorway\": [\"#636efa\", \"#EF553B\", \"#00cc96\", \"#ab63fa\", \"#FFA15A\", \"#19d3f3\", \"#FF6692\", \"#B6E880\", \"#FF97FF\", \"#FECB52\"], \"font\": {\"color\": \"#2a3f5f\"}, \"geo\": {\"bgcolor\": \"white\", \"lakecolor\": \"white\", \"landcolor\": \"#E5ECF6\", \"showlakes\": true, \"showland\": true, \"subunitcolor\": \"white\"}, \"hoverlabel\": {\"align\": \"left\"}, \"hovermode\": \"closest\", \"mapbox\": {\"style\": \"light\"}, \"paper_bgcolor\": \"white\", \"plot_bgcolor\": \"#E5ECF6\", \"polar\": {\"angularaxis\": {\"gridcolor\": \"white\", \"linecolor\": \"white\", \"ticks\": \"\"}, \"bgcolor\": \"#E5ECF6\", \"radialaxis\": {\"gridcolor\": \"white\", \"linecolor\": \"white\", \"ticks\": \"\"}}, \"scene\": {\"xaxis\": {\"backgroundcolor\": \"#E5ECF6\", \"gridcolor\": \"white\", \"gridwidth\": 2, \"linecolor\": \"white\", \"showbackground\": true, \"ticks\": \"\", \"zerolinecolor\": \"white\"}, \"yaxis\": {\"backgroundcolor\": \"#E5ECF6\", \"gridcolor\": \"white\", \"gridwidth\": 2, \"linecolor\": \"white\", \"showbackground\": true, \"ticks\": \"\", \"zerolinecolor\": \"white\"}, \"zaxis\": {\"backgroundcolor\": \"#E5ECF6\", \"gridcolor\": \"white\", \"gridwidth\": 2, \"linecolor\": \"white\", \"showbackground\": true, \"ticks\": \"\", \"zerolinecolor\": \"white\"}}, \"shapedefaults\": {\"line\": {\"color\": \"#2a3f5f\"}}, \"ternary\": {\"aaxis\": {\"gridcolor\": \"white\", \"linecolor\": \"white\", \"ticks\": \"\"}, \"baxis\": {\"gridcolor\": \"white\", \"linecolor\": \"white\", \"ticks\": \"\"}, \"bgcolor\": \"#E5ECF6\", \"caxis\": {\"gridcolor\": \"white\", \"linecolor\": \"white\", \"ticks\": \"\"}}, \"title\": {\"x\": 0.05}, \"xaxis\": {\"automargin\": true, \"gridcolor\": \"white\", \"linecolor\": \"white\", \"ticks\": \"\", \"title\": {\"standoff\": 15}, \"zerolinecolor\": \"white\", \"zerolinewidth\": 2}, \"yaxis\": {\"automargin\": true, \"gridcolor\": \"white\", \"linecolor\": \"white\", \"ticks\": \"\", \"title\": {\"standoff\": 15}, \"zerolinecolor\": \"white\", \"zerolinewidth\": 2}}}, \"title\": {\"text\": \"CURRENT PARTY by STATE\"}, \"xaxis\": {\"categoryarray\": [\"MA\", \"DE\", \"HI\", \"CT\", \"RI\", \"ME\", \"NH\", \"DC\", \"VI\", \"GU\", \"VT\", \"MD\", \"NJ\", \"OR\", \"CA\", \"NV\", \"NM\", \"NY\", \"IL\", \"WA\", \"VA\", \"CO\", \"AZ\", \"PA\", \"MI\", \"MN\", \"GA\", \"FL\", \"NC\", \"WI\", \"TX\", \"IA\", \"MO\", \"OH\", \"MS\", \"IN\", \"TN\", \"KS\", \"LA\", \"KY\", \"AL\", \"SC\", \"ND\", \"OK\", \"NE\", \"AR\", \"WY\", \"UT\", \"ID\", \"PR\", \"SD\", \"WV\", \"MT\", \"AS\", \"MP\", \"AK\"], \"categoryorder\": \"array\"}},                        {\"responsive\": true}                    ).then(function(){\n",
       "                            \n",
       "var gd = document.getElementById('c0f1d4a2-a6e6-4a24-93f8-5be69965521e');\n",
       "var x = new MutationObserver(function (mutations, observer) {{\n",
       "        var display = window.getComputedStyle(gd).display;\n",
       "        if (!display || display === 'none') {{\n",
       "            console.log([gd, 'removed!']);\n",
       "            Plotly.purge(gd);\n",
       "            observer.disconnect();\n",
       "        }}\n",
       "}});\n",
       "\n",
       "// Listen for the removal of the full notebook cells\n",
       "var notebookContainer = gd.closest('#notebook-container');\n",
       "if (notebookContainer) {{\n",
       "    x.observe(notebookContainer, {childList: true});\n",
       "}}\n",
       "\n",
       "// Listen for the clearing of the current output cell\n",
       "var outputEl = gd.closest('.output');\n",
       "if (outputEl) {{\n",
       "    x.observe(outputEl, {childList: true});\n",
       "}}\n",
       "\n",
       "                        })                };                });            </script>        </div>"
      ]
     },
     "metadata": {},
     "output_type": "display_data"
    }
   ],
   "source": [
    "plot_stack(df, 'current_party', 'state', sort_by='D', by_pct=True)"
   ]
  },
  {
   "cell_type": "code",
   "execution_count": null,
   "metadata": {},
   "outputs": [],
   "source": []
  }
 ],
 "metadata": {
  "kernelspec": {
   "display_name": "app-env",
   "language": "python",
   "name": "app-env"
  },
  "language_info": {
   "codemirror_mode": {
    "name": "ipython",
    "version": 3
   },
   "file_extension": ".py",
   "mimetype": "text/x-python",
   "name": "python",
   "nbconvert_exporter": "python",
   "pygments_lexer": "ipython3",
   "version": "3.7.4"
  },
  "toc": {
   "base_numbering": 1,
   "nav_menu": {},
   "number_sections": false,
   "sideBar": true,
   "skip_h1_title": false,
   "title_cell": "Table of Contents",
   "title_sidebar": "Contents",
   "toc_cell": false,
   "toc_position": {},
   "toc_section_display": true,
   "toc_window_display": false
  }
 },
 "nbformat": 4,
 "nbformat_minor": 2
}
