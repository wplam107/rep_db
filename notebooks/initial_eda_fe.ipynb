{
 "cells": [
  {
   "cell_type": "markdown",
   "metadata": {},
   "source": [
    "# EDA and Feature Engineering"
   ]
  },
  {
   "cell_type": "code",
   "execution_count": 1,
   "metadata": {
    "ExecuteTime": {
     "end_time": "2021-02-10T17:09:46.482347Z",
     "start_time": "2021-02-10T17:09:38.750047Z"
    }
   },
   "outputs": [],
   "source": [
    "# Data Visualization\n",
    "import numpy as np\n",
    "import pandas as pd\n",
    "import plotly.graph_objects as go\n",
    "import plotly.express as px\n",
    "\n",
    "# Config Reader\n",
    "import configparser\n",
    "\n",
    "# Database Connection\n",
    "import firebase_admin\n",
    "from firebase_admin import credentials, firestore"
   ]
  },
  {
   "cell_type": "code",
   "execution_count": 2,
   "metadata": {
    "ExecuteTime": {
     "end_time": "2021-02-10T17:09:46.515846Z",
     "start_time": "2021-02-10T17:09:46.485136Z"
    }
   },
   "outputs": [],
   "source": [
    "# Read config.ini file\n",
    "config = configparser.ConfigParser()\n",
    "config.read('./auth/config.ini')\n",
    "\n",
    "# Get Google Firebase Auth\n",
    "GCP_AUTH_PATH = config.get('firebase', 'GCP_AUTH_PATH')\n",
    "cred = credentials.Certificate(GCP_AUTH_PATH)\n",
    "app = firebase_admin.initialize_app(cred)\n",
    "\n",
    "# Instantiate connection to database\n",
    "db = firestore.client()"
   ]
  },
  {
   "cell_type": "code",
   "execution_count": 3,
   "metadata": {
    "ExecuteTime": {
     "end_time": "2021-02-10T17:09:46.523135Z",
     "start_time": "2021-02-10T17:09:46.519058Z"
    }
   },
   "outputs": [],
   "source": [
    "# Create collection references\n",
    "reps_ref = db.collection(\"reps\")\n",
    "edu_ref = db.collection(\"edu\")\n",
    "votes_ref = db.collection(\"votes\")"
   ]
  },
  {
   "cell_type": "code",
   "execution_count": 4,
   "metadata": {
    "ExecuteTime": {
     "end_time": "2021-02-10T17:09:48.423249Z",
     "start_time": "2021-02-10T17:09:46.525836Z"
    }
   },
   "outputs": [],
   "source": [
    "# Pull educational and representative data from database\n",
    "degrees = pd.DataFrame([ doc.to_dict() for doc in edu_ref.get() ])\n",
    "reps = pd.DataFrame([ doc.to_dict() for doc in reps_ref.get() ])"
   ]
  },
  {
   "cell_type": "code",
   "execution_count": 5,
   "metadata": {
    "ExecuteTime": {
     "end_time": "2021-02-10T17:09:48.435614Z",
     "start_time": "2021-02-10T17:09:48.425998Z"
    }
   },
   "outputs": [],
   "source": [
    "# Clean degree strings (ex. 'J.D.' -> 'JD')\n",
    "degrees['degree'] = degrees['degree'].map(lambda x: ''.join(x.split('.')))"
   ]
  },
  {
   "cell_type": "code",
   "execution_count": 6,
   "metadata": {
    "ExecuteTime": {
     "end_time": "2021-02-10T17:09:49.598980Z",
     "start_time": "2021-02-10T17:09:49.591197Z"
    }
   },
   "outputs": [],
   "source": [
    "# Dictionary to bin degrees\n",
    "cc_dict = {\n",
    "    'Associates': ['AAS', 'AS', 'AA'],\n",
    "    'Bachelors': ['BS', 'BA', 'SB', 'AB', 'BDiv', 'BBA', 'BEng', 'BM', 'ALB', 'BSN', 'BGS', 'BPA', 'BSBA', 'LLB'],\n",
    "    'High School': ['HS'],\n",
    "    'JD': ['JD'],\n",
    "    'Masters - General': ['MA', 'MS', 'SM', 'MSc', 'MFA', 'MAcc'],\n",
    "    'Masters - Public': ['MIA', 'MPA', 'MUP', 'MPP', 'MSW', 'MSS', 'MPH', 'MHS'],\n",
    "    'Masters - Education': ['MEd', 'SYC'],\n",
    "    'Masters - Law': ['LLM'],\n",
    "    'Masters - Theology': ['MDiv', 'ThM'],\n",
    "    'MBA': ['MBA', 'MSEM'],\n",
    "    'PHD': ['PhD'],\n",
    "    'Veterinary': ['DVM'],\n",
    "    'Dental': ['DDS', 'DMD'],\n",
    "    'MD': ['MD', 'DPM'],\n",
    "    'PHD - Education': ['EdD'],\n",
    "    'PHD - Theology': ['DMin'],\n",
    "    'PHD - Public': ['DPA'],\n",
    "    'Nursing': ['MSN', 'GrDip'],\n",
    "}"
   ]
  },
  {
   "cell_type": "code",
   "execution_count": 7,
   "metadata": {
    "ExecuteTime": {
     "end_time": "2021-02-10T17:09:52.955656Z",
     "start_time": "2021-02-10T17:09:52.933009Z"
    }
   },
   "outputs": [],
   "source": [
    "# Bin degrees\n",
    "x = degrees['degree']\n",
    "cond_list = []\n",
    "choice_list = []\n",
    "for k, vs in cc_dict.items():\n",
    "    for v in vs:\n",
    "        cond_list.append(x == v)\n",
    "        choice_list.append(k)\n",
    "\n",
    "degrees['degree_group'] = np.select(cond_list, choice_list)"
   ]
  },
  {
   "cell_type": "code",
   "execution_count": 9,
   "metadata": {
    "ExecuteTime": {
     "end_time": "2021-02-10T17:11:00.319443Z",
     "start_time": "2021-02-10T17:11:00.315995Z"
    }
   },
   "outputs": [],
   "source": [
    "def clean_congresses(cong):\n",
    "    return set([ int(c) for c in cong ])"
   ]
  },
  {
   "cell_type": "code",
   "execution_count": 15,
   "metadata": {
    "ExecuteTime": {
     "end_time": "2021-02-10T17:16:24.414355Z",
     "start_time": "2021-02-10T17:16:24.410285Z"
    }
   },
   "outputs": [],
   "source": [
    "# Convert congresses into set of ints\n",
    "reps['congresses'] = reps['congresses'].map(clean_congresses)\n",
    "\n",
    "# Add 'in_office' feature\n",
    "reps['in_office'] = reps['congresses'].map(set([117]).issubset)\n",
    "\n",
    "# Replace null values\n",
    "reps['middle_name'] = np.where(reps['middle_name'].isna(), '', reps['middle_name'])"
   ]
  },
  {
   "cell_type": "code",
   "execution_count": 8,
   "metadata": {
    "ExecuteTime": {
     "end_time": "2021-02-10T17:10:03.384690Z",
     "start_time": "2021-02-10T17:10:03.291314Z"
    }
   },
   "outputs": [],
   "source": [
    "# Data groupby\n",
    "institutions = degrees.groupby('_id')['institution'].apply(list)\n",
    "deg_groups = degrees.groupby('_id')['degree_group'].apply(list)\n",
    "degs = degrees.groupby('_id')['degree'].apply(list)"
   ]
  },
  {
   "cell_type": "code",
   "execution_count": null,
   "metadata": {
    "ExecuteTime": {
     "end_time": "2021-02-09T18:37:40.697693Z",
     "start_time": "2021-02-09T18:37:40.675955Z"
    }
   },
   "outputs": [],
   "source": [
    "# Create merged DataFrame\n",
    "df = reps[['_id', 'current_party', 'state', 'first_name', 'middle_name', 'last_name', 'dob', 'gender', 'congresses']]\n",
    "df = df.merge(institutions, how='left', on='_id')\n",
    "df = df.merge(deg_groups, how='left', on='_id')\n",
    "df = df.merge(degs, how='left', on='_id')"
   ]
  },
  {
   "cell_type": "code",
   "execution_count": null,
   "metadata": {
    "ExecuteTime": {
     "end_time": "2021-02-09T18:37:40.774827Z",
     "start_time": "2021-02-09T18:37:40.733927Z"
    }
   },
   "outputs": [],
   "source": [
    "# Check results\n",
    "print('Members in office:', df['in_office'].sum()) # 435 voting members + 6 non-voting members\n",
    "print('Number of states:', len(df['state'].unique())) # 50 states + 6 at-large districts"
   ]
  },
  {
   "cell_type": "code",
   "execution_count": null,
   "metadata": {
    "ExecuteTime": {
     "end_time": "2021-02-09T18:37:40.790804Z",
     "start_time": "2021-02-09T18:37:40.777791Z"
    }
   },
   "outputs": [],
   "source": [
    "class QueryData():\n",
    "    '''\n",
    "    Query DataFrame Object, allowing list object queries\n",
    "    \n",
    "    Parameters\n",
    "    ----------\n",
    "    df - Pandas DataFrame\n",
    "    '''\n",
    "    \n",
    "    def __init__(self, df):\n",
    "        self.data = df.reset_index(drop=True)\n",
    "        \n",
    "    def query_pipeline(self, pipeline=[]):\n",
    "        '''\n",
    "        Query data with pipeline\n",
    "        \n",
    "        Parameters\n",
    "        ----------\n",
    "        pipeline - list of comparison tuples (field, value)\n",
    "        \n",
    "        Returns\n",
    "        -------\n",
    "        DataFrame with query results\n",
    "        '''\n",
    "        \n",
    "        result = self.data\n",
    "        mask = None\n",
    "        for c, v in pipeline:\n",
    "            if type(self.data[c][0]) == list:\n",
    "                if type(v) != list:\n",
    "                    v = [v]\n",
    "                mask = result[c].map(set(v).issubset)\n",
    "                result = result[mask].reset_index(drop=True)\n",
    "            else:\n",
    "                mask = result[c].map(lambda x: x==v)\n",
    "                result = result[mask].reset_index(drop=True)\n",
    "\n",
    "        return result\n",
    "    \n",
    "    def get_col_vals(self, columns=[], sort=False):\n",
    "        '''\n",
    "        Get list of possible values for query\n",
    "        \n",
    "        Parameters\n",
    "        ----------\n",
    "        columns - list of query columns\n",
    "        sort - bool to return sorted lists\n",
    "        \n",
    "        Returns\n",
    "        -------\n",
    "        Dictionary of field and list of values\n",
    "        '''\n",
    "        \n",
    "        values = {}\n",
    "        for c in columns:\n",
    "            if type(self.data[c][0]) == list:\n",
    "                vals = []\n",
    "                for val in self.data[c]:\n",
    "                    for v in val:\n",
    "                        if v not in vals:\n",
    "                            vals.append(v)\n",
    "                if sort:\n",
    "                    vals = sorted(vals)\n",
    "                values[c] = vals\n",
    "                \n",
    "            else:\n",
    "                vals = list(self.data[c].unique())\n",
    "                if sort:\n",
    "                    vals = sorted(vals)\n",
    "                values[c] = vals\n",
    "                \n",
    "        return values"
   ]
  },
  {
   "cell_type": "code",
   "execution_count": null,
   "metadata": {
    "ExecuteTime": {
     "end_time": "2021-02-09T18:37:40.797069Z",
     "start_time": "2021-02-09T18:37:40.793472Z"
    }
   },
   "outputs": [],
   "source": [
    "query = QueryData(df)"
   ]
  },
  {
   "cell_type": "code",
   "execution_count": null,
   "metadata": {
    "ExecuteTime": {
     "end_time": "2021-02-09T18:37:40.819094Z",
     "start_time": "2021-02-09T18:37:40.800117Z"
    }
   },
   "outputs": [],
   "source": [
    "query.get_col_vals(['degree_group', 'in_office', 'gender'], sort=True)"
   ]
  },
  {
   "cell_type": "code",
   "execution_count": null,
   "metadata": {
    "ExecuteTime": {
     "end_time": "2021-02-09T18:37:40.866239Z",
     "start_time": "2021-02-09T18:37:40.822315Z"
    }
   },
   "outputs": [],
   "source": [
    "query.query_pipeline([('degree_group', 'Dental'), ('gender', 'M')])"
   ]
  },
  {
   "cell_type": "code",
   "execution_count": null,
   "metadata": {
    "ExecuteTime": {
     "end_time": "2021-02-09T22:24:12.951527Z",
     "start_time": "2021-02-09T22:24:12.937989Z"
    },
    "scrolled": false
   },
   "outputs": [],
   "source": [
    "def plot_stack(df, col_1, col_2, sort_by=None, by_pct=False):\n",
    "    new_df = df.loc[df['in_office'] == True]\n",
    "    opt_1 = new_df[col_1].unique()\n",
    "    opt_2 = new_df[col_2].unique()\n",
    "    figures = []\n",
    "    if sort_by:\n",
    "        sort_tups = []\n",
    "    for i in opt_1:\n",
    "        x = opt_2\n",
    "        raw_y = []\n",
    "        if by_pct:\n",
    "            pct_y = []\n",
    "        for j in opt_2:\n",
    "            data = len(new_df.loc[(new_df[col_1] == i) & (new_df[col_2] == j)])\n",
    "            raw_y.append(data)\n",
    "            if by_pct:\n",
    "                total = len(new_df.loc[new_df[col_2] == j])\n",
    "                data = data / total\n",
    "                pct_y.append(data)\n",
    "            tup = (i, j, data)\n",
    "            sort_tups.append(tup)\n",
    "        if by_pct:\n",
    "            f_string = f'{\" \".join(col_2.split(\"_\")).upper()}'\n",
    "            figures.append(go.Bar(\n",
    "                name=i,\n",
    "                x=x,\n",
    "                y=pct_y,\n",
    "                customdata=raw_y,\n",
    "                text=[ f_string for _ in range(len(raw_y)) ],\n",
    "                hovertemplate=\n",
    "                f'{col_1.upper()}: {i}<br>' +\n",
    "                '%{text}: %{x}<br>' +\n",
    "                'TOTAL: %{customdata}<br>' +\n",
    "                'PTC: %{y:.1%}'\n",
    "            ))\n",
    "            \n",
    "        else:\n",
    "            figures.append(go.Bar(name=i, x=x, y=raw_y))\n",
    "        \n",
    "    fig = go.Figure(figures)\n",
    "    fig.update_layout(barmode='stack')\n",
    "    if sort_by:\n",
    "        sort_tups = sorted([ tup for tup in sort_tups if tup[0] == sort_by ], key=lambda x: x[2], reverse=True)\n",
    "        fig.update_layout(xaxis={'categoryorder':'array', 'categoryarray': [ val[1] for val in sort_tups ]})\n",
    "    return fig"
   ]
  },
  {
   "cell_type": "code",
   "execution_count": null,
   "metadata": {
    "ExecuteTime": {
     "end_time": "2021-02-09T22:24:13.414109Z",
     "start_time": "2021-02-09T22:24:13.382752Z"
    }
   },
   "outputs": [],
   "source": [
    "plot_stack(df, 'gender', 'current_party', sort_by='F', by_pct=True)"
   ]
  },
  {
   "cell_type": "code",
   "execution_count": null,
   "metadata": {},
   "outputs": [],
   "source": []
  }
 ],
 "metadata": {
  "kernelspec": {
   "display_name": "app-env",
   "language": "python",
   "name": "app-env"
  },
  "language_info": {
   "codemirror_mode": {
    "name": "ipython",
    "version": 3
   },
   "file_extension": ".py",
   "mimetype": "text/x-python",
   "name": "python",
   "nbconvert_exporter": "python",
   "pygments_lexer": "ipython3",
   "version": "3.7.4"
  },
  "toc": {
   "base_numbering": 1,
   "nav_menu": {},
   "number_sections": false,
   "sideBar": true,
   "skip_h1_title": false,
   "title_cell": "Table of Contents",
   "title_sidebar": "Contents",
   "toc_cell": false,
   "toc_position": {},
   "toc_section_display": true,
   "toc_window_display": false
  }
 },
 "nbformat": 4,
 "nbformat_minor": 2
}
