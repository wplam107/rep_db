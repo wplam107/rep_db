{
 "cells": [
  {
   "cell_type": "code",
   "execution_count": 22,
   "metadata": {
    "ExecuteTime": {
     "end_time": "2021-02-05T18:42:37.192606Z",
     "start_time": "2021-02-05T18:42:37.079587Z"
    }
   },
   "outputs": [],
   "source": [
    "# Config Reader\n",
    "import configparser\n",
    "\n",
    "# Database Connection\n",
    "import firebase_admin\n",
    "from firebase_admin import credentials, firestore\n",
    "\n",
    "# Read/Scrape data\n",
    "import requests\n",
    "import json\n",
    "import re\n",
    "from bs4 import BeautifulSoup"
   ]
  },
  {
   "cell_type": "code",
   "execution_count": 2,
   "metadata": {
    "ExecuteTime": {
     "end_time": "2021-02-05T18:10:28.207550Z",
     "start_time": "2021-02-05T18:10:28.199291Z"
    }
   },
   "outputs": [],
   "source": [
    "# Read config.ini file\n",
    "config = configparser.ConfigParser()\n",
    "config.read('./auth/config.ini')\n",
    "\n",
    "# Get Google Firebase Auth\n",
    "GCP_AUTH_PATH = config.get('firebase', 'GCP_AUTH_PATH')\n",
    "cred = credentials.Certificate(GCP_AUTH_PATH)\n",
    "app = firebase_admin.initialize_app(cred)\n",
    "\n",
    "# Instantiate connection to database\n",
    "db = firestore.client()"
   ]
  },
  {
   "cell_type": "code",
   "execution_count": 3,
   "metadata": {
    "ExecuteTime": {
     "end_time": "2021-02-05T18:10:43.281713Z",
     "start_time": "2021-02-05T18:10:43.277880Z"
    }
   },
   "outputs": [],
   "source": [
    "# Collection refs\n",
    "reps_ref = db.collection(\"reps\")\n",
    "edu_ref = db.collection(\"edu\")"
   ]
  },
  {
   "cell_type": "code",
   "execution_count": 76,
   "metadata": {
    "ExecuteTime": {
     "end_time": "2021-02-05T19:59:44.476424Z",
     "start_time": "2021-02-05T19:59:44.211730Z"
    }
   },
   "outputs": [],
   "source": [
    "# Get ProPublica and document IDs of reps where degree = 'HS' in edu collection\n",
    "hs_query = edu_ref.where(\"degree\", \"==\", \"HS\").select([\"_id\"]).stream()\n",
    "hs = [ (doc.get('_id'), doc.id) for doc in hs_query ]"
   ]
  },
  {
   "cell_type": "code",
   "execution_count": 78,
   "metadata": {
    "ExecuteTime": {
     "end_time": "2021-02-05T20:00:17.710877Z",
     "start_time": "2021-02-05T20:00:17.706285Z"
    }
   },
   "outputs": [
    {
     "name": "stdout",
     "output_type": "stream",
     "text": [
      "Sample: ('G000577', '09jDHasMSchzzQECYt0j')\n",
      "Number of Reps: 23\n"
     ]
    }
   ],
   "source": [
    "# Sample\n",
    "print('Sample:', hs[0])\n",
    "print('Number of Reps:', len(hs))"
   ]
  },
  {
   "cell_type": "code",
   "execution_count": 79,
   "metadata": {
    "ExecuteTime": {
     "end_time": "2021-02-05T20:00:47.771851Z",
     "start_time": "2021-02-05T20:00:47.190468Z"
    }
   },
   "outputs": [],
   "source": [
    "# Create lists of max length 10 for query (\"in\" comparison operator only accepts arrays <= 10)\n",
    "query_lists = []\n",
    "new_list = []\n",
    "i = 0\n",
    "for rep in hs:\n",
    "    new_list.append(rep[0])\n",
    "    i += 1\n",
    "    if i > 9:\n",
    "        query_lists.append(new_list)\n",
    "        new_list = []\n",
    "        i = 0\n",
    "query_lists.append(new_list)\n",
    "\n",
    "# List of reps with 'HS' degrees\n",
    "reps = []\n",
    "for q_list in query_lists:\n",
    "    q = reps_ref.where(\"_id\", \"in\", q_list).stream()\n",
    "    result = [ doc.to_dict() for doc in q ]\n",
    "    reps += result"
   ]
  },
  {
   "cell_type": "code",
   "execution_count": 80,
   "metadata": {
    "ExecuteTime": {
     "end_time": "2021-02-05T20:00:47.927811Z",
     "start_time": "2021-02-05T20:00:47.920149Z"
    }
   },
   "outputs": [],
   "source": [
    "def get_vs_edu(rep):\n",
    "    url = 'https://justfacts.votesmart.org/candidate/biography/' + rep['votesmart_id']\n",
    "    r = requests.get(url).content\n",
    "    soup = BeautifulSoup(r)\n",
    "\n",
    "    # Collapsable card object\n",
    "    edu_card = soup.find('b', text='Education').parent.parent.parent\n",
    "    \n",
    "    # Education paragraph objects\n",
    "    edu = [ p.text for p in edu_card.find_all('p') ]\n",
    "    \n",
    "    edus = []\n",
    "    for e in edu:\n",
    "        entry = e.split(',')\n",
    "        if len(entry[0]) < 5:\n",
    "            degree = entry[0]\n",
    "            for s in entry[1:]:\n",
    "                if re.search('(?=.*College)|(?=.*University)|(?=.*School)|(?=.*Institute)', s):\n",
    "                    institution = s.strip()\n",
    "                    edus.append([degree, institution])\n",
    "    \n",
    "    if edus != []:\n",
    "        return edus\n",
    "    else:\n",
    "        return None"
   ]
  },
  {
   "cell_type": "code",
   "execution_count": 81,
   "metadata": {
    "ExecuteTime": {
     "end_time": "2021-02-05T20:01:07.401887Z",
     "start_time": "2021-02-05T20:00:49.448940Z"
    }
   },
   "outputs": [],
   "source": [
    "# Get all degrees to be inserted\n",
    "for_update = []\n",
    "for rep in reps:\n",
    "    if rep['votesmart_id'] != None:\n",
    "        result = get_vs_edu(rep)\n",
    "        if result != None:\n",
    "            for r in result:\n",
    "                data = {\n",
    "                    '_id': rep['_id'],\n",
    "                    'degree': r[0],\n",
    "                    'institution': r[1]\n",
    "                }\n",
    "                for_update.append(data)"
   ]
  },
  {
   "cell_type": "code",
   "execution_count": 83,
   "metadata": {
    "ExecuteTime": {
     "end_time": "2021-02-05T20:04:50.041904Z",
     "start_time": "2021-02-05T20:04:50.037784Z"
    }
   },
   "outputs": [],
   "source": [
    "# Find docs that need to be deleted\n",
    "for_delete = [ doc[1] for doc in hs if doc[0] in [ rep['_id'] for rep in for_update ] ]"
   ]
  },
  {
   "cell_type": "code",
   "execution_count": 95,
   "metadata": {
    "ExecuteTime": {
     "end_time": "2021-02-05T20:14:11.058802Z",
     "start_time": "2021-02-05T20:14:10.965218Z"
    }
   },
   "outputs": [],
   "source": [
    "# Batch delete edu docs\n",
    "batch = db.batch()\n",
    "for doc in for_delete:\n",
    "    ref = db.collection(\"edu\").document(doc)\n",
    "    batch.delete(ref)\n",
    "    \n",
    "com = batch.commit()"
   ]
  },
  {
   "cell_type": "code",
   "execution_count": 100,
   "metadata": {
    "ExecuteTime": {
     "end_time": "2021-02-05T20:15:54.335995Z",
     "start_time": "2021-02-05T20:15:54.238339Z"
    }
   },
   "outputs": [
    {
     "name": "stdout",
     "output_type": "stream",
     "text": [
      "Number of reps with HS: 20\n"
     ]
    }
   ],
   "source": [
    "# Check to see if rep educations have been updated\n",
    "new_query = edu_ref.where(\"degree\", \"==\", \"HS\").select([\"_id\"]).stream()\n",
    "new_hs = [ (doc.get('_id'), doc.id) for doc in new_query ]\n",
    "print('Number of reps with HS:', len(new_hs)) # Originally 23"
   ]
  },
  {
   "cell_type": "code",
   "execution_count": 101,
   "metadata": {
    "ExecuteTime": {
     "end_time": "2021-02-05T20:18:50.240095Z",
     "start_time": "2021-02-05T20:18:50.235196Z"
    }
   },
   "outputs": [
    {
     "data": {
      "text/plain": [
       "{'_id': 'E000215', 'degree': 'AA', 'institution': 'Cañada College'}"
      ]
     },
     "execution_count": 101,
     "metadata": {},
     "output_type": "execute_result"
    }
   ],
   "source": [
    "# Sample\n",
    "for_update[0]"
   ]
  },
  {
   "cell_type": "code",
   "execution_count": 102,
   "metadata": {
    "ExecuteTime": {
     "end_time": "2021-02-05T20:19:31.176222Z",
     "start_time": "2021-02-05T20:19:31.047135Z"
    }
   },
   "outputs": [],
   "source": [
    "# Batch insert new docs\n",
    "batch = db.batch()\n",
    "for doc in for_update:\n",
    "    ref = db.collection(\"edu\").document()\n",
    "    batch.set(ref, doc)\n",
    "    \n",
    "com = batch.commit()"
   ]
  },
  {
   "cell_type": "code",
   "execution_count": 108,
   "metadata": {
    "ExecuteTime": {
     "end_time": "2021-02-05T20:23:22.413355Z",
     "start_time": "2021-02-05T20:23:22.408638Z"
    }
   },
   "outputs": [
    {
     "data": {
      "text/plain": [
       "3"
      ]
     },
     "execution_count": 108,
     "metadata": {},
     "output_type": "execute_result"
    }
   ],
   "source": [
    "len(com)"
   ]
  }
 ],
 "metadata": {
  "kernelspec": {
   "display_name": "db-env",
   "language": "python",
   "name": "db-env"
  },
  "language_info": {
   "codemirror_mode": {
    "name": "ipython",
    "version": 3
   },
   "file_extension": ".py",
   "mimetype": "text/x-python",
   "name": "python",
   "nbconvert_exporter": "python",
   "pygments_lexer": "ipython3",
   "version": "3.7.4"
  },
  "toc": {
   "base_numbering": 1,
   "nav_menu": {},
   "number_sections": true,
   "sideBar": true,
   "skip_h1_title": false,
   "title_cell": "Table of Contents",
   "title_sidebar": "Contents",
   "toc_cell": false,
   "toc_position": {},
   "toc_section_display": true,
   "toc_window_display": false
  }
 },
 "nbformat": 4,
 "nbformat_minor": 2
}
