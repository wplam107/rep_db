{
 "cells": [
  {
   "cell_type": "markdown",
   "metadata": {},
   "source": [
    "# Additional Data Acquisition and Cleaning\n",
    "- The following code is not in a script\n",
    "- Future checks and cleans will be integrated into ```db-update``` folder"
   ]
  },
  {
   "cell_type": "code",
   "execution_count": 11,
   "metadata": {
    "ExecuteTime": {
     "end_time": "2021-02-08T22:44:56.448599Z",
     "start_time": "2021-02-08T22:44:51.992351Z"
    }
   },
   "outputs": [],
   "source": [
    "# Config Reader\n",
    "import configparser\n",
    "\n",
    "# Database Connection\n",
    "import firebase_admin\n",
    "from firebase_admin import credentials, firestore\n",
    "\n",
    "# EDA for Data Cleaning and Reacquisition\n",
    "import numpy as np\n",
    "import pandas as pd\n",
    "\n",
    "# Read/Scrape data\n",
    "import requests\n",
    "import json\n",
    "import re\n",
    "from bs4 import BeautifulSoup"
   ]
  },
  {
   "cell_type": "code",
   "execution_count": 3,
   "metadata": {
    "ExecuteTime": {
     "end_time": "2021-02-08T22:42:28.309829Z",
     "start_time": "2021-02-08T22:42:28.301133Z"
    }
   },
   "outputs": [],
   "source": [
    "# Read config.ini file\n",
    "config = configparser.ConfigParser()\n",
    "config.read('./auth/config.ini')\n",
    "\n",
    "# Get Google Firebase Auth\n",
    "GCP_AUTH_PATH = config.get('firebase', 'GCP_AUTH_PATH')\n",
    "cred = credentials.Certificate(GCP_AUTH_PATH)\n",
    "app = firebase_admin.initialize_app(cred)\n",
    "\n",
    "# Instantiate connection to database\n",
    "db = firestore.client()"
   ]
  },
  {
   "cell_type": "code",
   "execution_count": 4,
   "metadata": {
    "ExecuteTime": {
     "end_time": "2021-02-08T22:42:28.795030Z",
     "start_time": "2021-02-08T22:42:28.791868Z"
    }
   },
   "outputs": [],
   "source": [
    "# Collection refs\n",
    "reps_ref = db.collection(\"reps\")\n",
    "edu_ref = db.collection(\"edu\")"
   ]
  },
  {
   "cell_type": "markdown",
   "metadata": {},
   "source": [
    "## Find Missing Educational Backgrounds\n",
    "- 6 US Representatives missing educational background"
   ]
  },
  {
   "cell_type": "code",
   "execution_count": 19,
   "metadata": {
    "ExecuteTime": {
     "end_time": "2021-02-08T22:46:49.443906Z",
     "start_time": "2021-02-08T22:46:48.179998Z"
    }
   },
   "outputs": [],
   "source": [
    "all_degrees = edu_ref.get()\n",
    "all_reps = reps_ref.get()"
   ]
  },
  {
   "cell_type": "code",
   "execution_count": 36,
   "metadata": {
    "ExecuteTime": {
     "end_time": "2021-02-08T22:53:48.275016Z",
     "start_time": "2021-02-08T22:53:48.223962Z"
    }
   },
   "outputs": [],
   "source": [
    "degrees = pd.DataFrame([ doc.to_dict() for doc in all_degrees ])\n",
    "reps = pd.DataFrame([ doc.to_dict() for doc in all_reps ])"
   ]
  },
  {
   "cell_type": "code",
   "execution_count": 37,
   "metadata": {
    "ExecuteTime": {
     "end_time": "2021-02-08T22:53:48.881763Z",
     "start_time": "2021-02-08T22:53:48.848097Z"
    }
   },
   "outputs": [
    {
     "name": "stdout",
     "output_type": "stream",
     "text": [
      "(502, 2)\n"
     ]
    }
   ],
   "source": [
    "df = degrees.groupby(['_id'])['degree'].apply(list).reset_index()\n",
    "print(df.shape)"
   ]
  },
  {
   "cell_type": "code",
   "execution_count": 38,
   "metadata": {
    "ExecuteTime": {
     "end_time": "2021-02-08T22:53:49.574000Z",
     "start_time": "2021-02-08T22:53:49.570402Z"
    }
   },
   "outputs": [
    {
     "name": "stdout",
     "output_type": "stream",
     "text": [
      "(508, 16)\n"
     ]
    }
   ],
   "source": [
    "print(reps.shape)"
   ]
  },
  {
   "cell_type": "code",
   "execution_count": 39,
   "metadata": {
    "ExecuteTime": {
     "end_time": "2021-02-08T22:53:50.324428Z",
     "start_time": "2021-02-08T22:53:50.314245Z"
    }
   },
   "outputs": [],
   "source": [
    "df = reps.merge(df, on='_id', how='left')"
   ]
  },
  {
   "cell_type": "markdown",
   "metadata": {},
   "source": [
    "## Notes\n",
    "- The 6 Representatives with missing educational backgrounds were manually checked\n",
    "- Using length < 5 of string resulted in error for Representative Cori Bush (GrDip - Nursing Degree)\n",
    "- Function to grab educational institutions without finished degrees additionally did not return the correct 'HS' coding"
   ]
  },
  {
   "cell_type": "code",
   "execution_count": 56,
   "metadata": {
    "ExecuteTime": {
     "end_time": "2021-02-08T23:17:25.552530Z",
     "start_time": "2021-02-08T23:17:25.548048Z"
    }
   },
   "outputs": [],
   "source": [
    "missing_df = df.loc[df['degree'].isna()]"
   ]
  },
  {
   "cell_type": "code",
   "execution_count": 57,
   "metadata": {
    "ExecuteTime": {
     "end_time": "2021-02-08T23:17:25.960780Z",
     "start_time": "2021-02-08T23:17:25.931041Z"
    }
   },
   "outputs": [
    {
     "data": {
      "text/html": [
       "<div>\n",
       "<style scoped>\n",
       "    .dataframe tbody tr th:only-of-type {\n",
       "        vertical-align: middle;\n",
       "    }\n",
       "\n",
       "    .dataframe tbody tr th {\n",
       "        vertical-align: top;\n",
       "    }\n",
       "\n",
       "    .dataframe thead th {\n",
       "        text-align: right;\n",
       "    }\n",
       "</style>\n",
       "<table border=\"1\" class=\"dataframe\">\n",
       "  <thead>\n",
       "    <tr style=\"text-align: right;\">\n",
       "      <th></th>\n",
       "      <th>google_id</th>\n",
       "      <th>congresses</th>\n",
       "      <th>state</th>\n",
       "      <th>fec_id</th>\n",
       "      <th>gender</th>\n",
       "      <th>wiki_url</th>\n",
       "      <th>govtrack_id</th>\n",
       "      <th>votesmart_id</th>\n",
       "      <th>cspan_id</th>\n",
       "      <th>middle_name</th>\n",
       "      <th>crp_id</th>\n",
       "      <th>dob</th>\n",
       "      <th>last_name</th>\n",
       "      <th>current_party</th>\n",
       "      <th>first_name</th>\n",
       "      <th>_id</th>\n",
       "      <th>degree</th>\n",
       "    </tr>\n",
       "  </thead>\n",
       "  <tbody>\n",
       "    <tr>\n",
       "      <th>19</th>\n",
       "      <td>/g/11cntkcbkt</td>\n",
       "      <td>[117]</td>\n",
       "      <td>MO</td>\n",
       "      <td>H8MO01143</td>\n",
       "      <td>F</td>\n",
       "      <td>https://en.wikipedia.org/wiki/Cori_Bush</td>\n",
       "      <td>456829</td>\n",
       "      <td>None</td>\n",
       "      <td>None</td>\n",
       "      <td>None</td>\n",
       "      <td>None</td>\n",
       "      <td>1976-07-21 00:00:00+00:00</td>\n",
       "      <td>Bush</td>\n",
       "      <td>D</td>\n",
       "      <td>Cori</td>\n",
       "      <td>B001224</td>\n",
       "      <td>NaN</td>\n",
       "    </tr>\n",
       "    <tr>\n",
       "      <th>49</th>\n",
       "      <td>/m/09ry4tm</td>\n",
       "      <td>[117, 116, 115]</td>\n",
       "      <td>OH</td>\n",
       "      <td>H8OH12180</td>\n",
       "      <td>M</td>\n",
       "      <td>https://en.wikipedia.org/wiki/Troy_Balderson</td>\n",
       "      <td>412747</td>\n",
       "      <td>102781</td>\n",
       "      <td>None</td>\n",
       "      <td>None</td>\n",
       "      <td>N00042194</td>\n",
       "      <td>1962-01-16 00:00:00+00:00</td>\n",
       "      <td>Balderson</td>\n",
       "      <td>R</td>\n",
       "      <td>Troy</td>\n",
       "      <td>B001306</td>\n",
       "      <td>NaN</td>\n",
       "    </tr>\n",
       "    <tr>\n",
       "      <th>209</th>\n",
       "      <td>/m/0_qf84y</td>\n",
       "      <td>[117]</td>\n",
       "      <td>NM</td>\n",
       "      <td>H8NM02156</td>\n",
       "      <td>F</td>\n",
       "      <td>https://en.wikipedia.org/wiki/Yvette_Herrell</td>\n",
       "      <td>456834</td>\n",
       "      <td>121681</td>\n",
       "      <td>None</td>\n",
       "      <td>None</td>\n",
       "      <td>None</td>\n",
       "      <td>1964-03-16 00:00:00+00:00</td>\n",
       "      <td>Herrell</td>\n",
       "      <td>R</td>\n",
       "      <td>Yvette</td>\n",
       "      <td>H001084</td>\n",
       "      <td>NaN</td>\n",
       "    </tr>\n",
       "    <tr>\n",
       "      <th>273</th>\n",
       "      <td>/m/0ds17_9</td>\n",
       "      <td>[117, 116, 115, 114, 113, 112]</td>\n",
       "      <td>MO</td>\n",
       "      <td>H0MO07113</td>\n",
       "      <td>M</td>\n",
       "      <td>https://en.wikipedia.org/wiki/Billy_Long</td>\n",
       "      <td>412445</td>\n",
       "      <td>123401</td>\n",
       "      <td>61880</td>\n",
       "      <td>None</td>\n",
       "      <td>N00030676</td>\n",
       "      <td>1955-08-11 00:00:00+00:00</td>\n",
       "      <td>Long</td>\n",
       "      <td>R</td>\n",
       "      <td>Billy</td>\n",
       "      <td>L000576</td>\n",
       "      <td>NaN</td>\n",
       "    </tr>\n",
       "    <tr>\n",
       "      <th>339</th>\n",
       "      <td>/m/024v0s</td>\n",
       "      <td>[117, 116, 115, 114, 113, 112, 111, 110, 109, ...</td>\n",
       "      <td>CA</td>\n",
       "      <td>H8CA34068</td>\n",
       "      <td>F</td>\n",
       "      <td>https://en.wikipedia.org/wiki/Grace_Napolitano</td>\n",
       "      <td>400290</td>\n",
       "      <td>8393</td>\n",
       "      <td>57873</td>\n",
       "      <td>F.</td>\n",
       "      <td>N00006789</td>\n",
       "      <td>1936-12-04 00:00:00+00:00</td>\n",
       "      <td>Napolitano</td>\n",
       "      <td>D</td>\n",
       "      <td>Grace</td>\n",
       "      <td>N000179</td>\n",
       "      <td>NaN</td>\n",
       "    </tr>\n",
       "    <tr>\n",
       "      <th>435</th>\n",
       "      <td>/m/05t08cn</td>\n",
       "      <td>[117, 116, 115]</td>\n",
       "      <td>PA</td>\n",
       "      <td>H6PA16320</td>\n",
       "      <td>M</td>\n",
       "      <td>https://en.wikipedia.org/wiki/Lloyd_Smucker</td>\n",
       "      <td>412722</td>\n",
       "      <td>102454</td>\n",
       "      <td>103540</td>\n",
       "      <td>None</td>\n",
       "      <td>N00038781</td>\n",
       "      <td>1964-01-23 00:00:00+00:00</td>\n",
       "      <td>Smucker</td>\n",
       "      <td>R</td>\n",
       "      <td>Lloyd</td>\n",
       "      <td>S001199</td>\n",
       "      <td>NaN</td>\n",
       "    </tr>\n",
       "  </tbody>\n",
       "</table>\n",
       "</div>"
      ],
      "text/plain": [
       "         google_id                                         congresses state  \\\n",
       "19   /g/11cntkcbkt                                              [117]    MO   \n",
       "49      /m/09ry4tm                                    [117, 116, 115]    OH   \n",
       "209     /m/0_qf84y                                              [117]    NM   \n",
       "273     /m/0ds17_9                     [117, 116, 115, 114, 113, 112]    MO   \n",
       "339      /m/024v0s  [117, 116, 115, 114, 113, 112, 111, 110, 109, ...    CA   \n",
       "435     /m/05t08cn                                    [117, 116, 115]    PA   \n",
       "\n",
       "        fec_id gender                                        wiki_url  \\\n",
       "19   H8MO01143      F         https://en.wikipedia.org/wiki/Cori_Bush   \n",
       "49   H8OH12180      M    https://en.wikipedia.org/wiki/Troy_Balderson   \n",
       "209  H8NM02156      F    https://en.wikipedia.org/wiki/Yvette_Herrell   \n",
       "273  H0MO07113      M        https://en.wikipedia.org/wiki/Billy_Long   \n",
       "339  H8CA34068      F  https://en.wikipedia.org/wiki/Grace_Napolitano   \n",
       "435  H6PA16320      M     https://en.wikipedia.org/wiki/Lloyd_Smucker   \n",
       "\n",
       "    govtrack_id votesmart_id cspan_id middle_name     crp_id  \\\n",
       "19       456829         None     None        None       None   \n",
       "49       412747       102781     None        None  N00042194   \n",
       "209      456834       121681     None        None       None   \n",
       "273      412445       123401    61880        None  N00030676   \n",
       "339      400290         8393    57873          F.  N00006789   \n",
       "435      412722       102454   103540        None  N00038781   \n",
       "\n",
       "                          dob   last_name current_party first_name      _id  \\\n",
       "19  1976-07-21 00:00:00+00:00        Bush             D       Cori  B001224   \n",
       "49  1962-01-16 00:00:00+00:00   Balderson             R       Troy  B001306   \n",
       "209 1964-03-16 00:00:00+00:00     Herrell             R     Yvette  H001084   \n",
       "273 1955-08-11 00:00:00+00:00        Long             R      Billy  L000576   \n",
       "339 1936-12-04 00:00:00+00:00  Napolitano             D      Grace  N000179   \n",
       "435 1964-01-23 00:00:00+00:00     Smucker             R      Lloyd  S001199   \n",
       "\n",
       "    degree  \n",
       "19     NaN  \n",
       "49     NaN  \n",
       "209    NaN  \n",
       "273    NaN  \n",
       "339    NaN  \n",
       "435    NaN  "
      ]
     },
     "execution_count": 57,
     "metadata": {},
     "output_type": "execute_result"
    }
   ],
   "source": [
    "missing_df"
   ]
  },
  {
   "cell_type": "markdown",
   "metadata": {},
   "source": [
    "## 'HS' Encoding"
   ]
  },
  {
   "cell_type": "code",
   "execution_count": 58,
   "metadata": {
    "ExecuteTime": {
     "end_time": "2021-02-08T23:17:30.190690Z",
     "start_time": "2021-02-08T23:17:30.010606Z"
    }
   },
   "outputs": [],
   "source": [
    "# Get ProPublica and document IDs of reps where degree = 'HS' in edu collection\n",
    "hs_query = edu_ref.where(\"degree\", \"==\", \"HS\").select([\"_id\"]).stream()\n",
    "hs = [ (doc.get('_id'), doc.id) for doc in hs_query ]"
   ]
  },
  {
   "cell_type": "code",
   "execution_count": 59,
   "metadata": {
    "ExecuteTime": {
     "end_time": "2021-02-08T23:17:33.479910Z",
     "start_time": "2021-02-08T23:17:33.475704Z"
    }
   },
   "outputs": [
    {
     "name": "stdout",
     "output_type": "stream",
     "text": [
      "Sample: ('W000827', '4qzTARSp1eH92Vl7Au4F')\n",
      "Number of Reps: 23\n"
     ]
    }
   ],
   "source": [
    "# Sample\n",
    "print('Sample:', hs[0])\n",
    "print('Number of Reps:', len(hs))"
   ]
  },
  {
   "cell_type": "code",
   "execution_count": 60,
   "metadata": {
    "ExecuteTime": {
     "end_time": "2021-02-08T23:17:36.126414Z",
     "start_time": "2021-02-08T23:17:35.674651Z"
    }
   },
   "outputs": [],
   "source": [
    "# Create lists of max length 10 for query (\"in\" comparison operator only accepts arrays <= 10)\n",
    "query_lists = []\n",
    "new_list = []\n",
    "i = 0\n",
    "for rep in hs:\n",
    "    new_list.append(rep[0])\n",
    "    i += 1\n",
    "    if i > 9:\n",
    "        query_lists.append(new_list)\n",
    "        new_list = []\n",
    "        i = 0\n",
    "query_lists.append(new_list)\n",
    "\n",
    "# List of reps with 'HS' degrees\n",
    "reps = []\n",
    "for q_list in query_lists:\n",
    "    q = reps_ref.where(\"_id\", \"in\", q_list).stream()\n",
    "    result = [ doc.to_dict() for doc in q ]\n",
    "    reps += result"
   ]
  },
  {
   "cell_type": "code",
   "execution_count": 61,
   "metadata": {
    "ExecuteTime": {
     "end_time": "2021-02-08T23:17:53.332679Z",
     "start_time": "2021-02-08T23:17:53.324946Z"
    }
   },
   "outputs": [],
   "source": [
    "def get_vs_edu(rep):\n",
    "    url = 'https://justfacts.votesmart.org/candidate/biography/' + rep['votesmart_id']\n",
    "    r = requests.get(url).content\n",
    "    soup = BeautifulSoup(r)\n",
    "\n",
    "    # Collapsable card object\n",
    "    edu_card = soup.find('b', text='Education').parent.parent.parent\n",
    "    \n",
    "    # Education paragraph objects\n",
    "    edu = [ p.text for p in edu_card.find_all('p') ]\n",
    "    \n",
    "    edus = []\n",
    "    for e in edu:\n",
    "        entry = e.split(',')\n",
    "        if len(entry[0]) < 5:\n",
    "            degree = entry[0]\n",
    "            for s in entry[1:]:\n",
    "                if re.search('(?=.*College)|(?=.*University)|(?=.*School)|(?=.*Institute)', s):\n",
    "                    institution = s.strip()\n",
    "                    edus.append([degree, institution])\n",
    "    \n",
    "    if edus != []:\n",
    "        return edus\n",
    "    else:\n",
    "        return None"
   ]
  },
  {
   "cell_type": "code",
   "execution_count": 62,
   "metadata": {
    "ExecuteTime": {
     "end_time": "2021-02-08T23:18:20.364273Z",
     "start_time": "2021-02-08T23:17:54.676595Z"
    }
   },
   "outputs": [],
   "source": [
    "# Get all fixed degrees to be inserted\n",
    "for_update = []\n",
    "for rep in reps:\n",
    "    if rep['votesmart_id'] != None:\n",
    "        result = get_vs_edu(rep)\n",
    "        if result != None:\n",
    "            for r in result:\n",
    "                data = {\n",
    "                    '_id': rep['_id'],\n",
    "                    'degree': r[0],\n",
    "                    'institution': r[1]\n",
    "                }\n",
    "                for_update.append(data)"
   ]
  },
  {
   "cell_type": "code",
   "execution_count": 64,
   "metadata": {
    "ExecuteTime": {
     "end_time": "2021-02-08T23:20:59.947933Z",
     "start_time": "2021-02-08T23:20:59.944190Z"
    }
   },
   "outputs": [],
   "source": [
    "# Find docs that need to be deleted\n",
    "for_delete = [ doc[1] for doc in hs if doc[0] in [ rep['_id'] for rep in for_update ] ]"
   ]
  },
  {
   "cell_type": "code",
   "execution_count": 69,
   "metadata": {
    "ExecuteTime": {
     "end_time": "2021-02-09T00:05:53.825716Z",
     "start_time": "2021-02-09T00:05:53.820874Z"
    }
   },
   "outputs": [],
   "source": [
    "# Append missing_df data\n",
    "m_update = []\n",
    "for rep in missing_df['_id']:\n",
    "    if rep == 'B001224': # Cori Bush\n",
    "        data = {\n",
    "            '_id': rep,\n",
    "            'degree': 'GrDip',\n",
    "            'institution': 'Lutheran School of Nursing'\n",
    "        }\n",
    "    else:\n",
    "        data = {\n",
    "            '_id': rep,\n",
    "            'degree': 'HS',\n",
    "            'institution': 'HS'\n",
    "        }\n",
    "    m_update.append(data)\n",
    "    \n",
    "# Add missing data to batch\n",
    "for_update += m_update"
   ]
  },
  {
   "cell_type": "code",
   "execution_count": 71,
   "metadata": {
    "ExecuteTime": {
     "end_time": "2021-02-09T00:06:22.802110Z",
     "start_time": "2021-02-09T00:06:22.491994Z"
    }
   },
   "outputs": [],
   "source": [
    "# Batch delete edu docs\n",
    "batch = db.batch()\n",
    "for doc in for_delete:\n",
    "    ref = db.collection(\"edu\").document(doc)\n",
    "    batch.delete(ref)\n",
    "    \n",
    "com = batch.commit()"
   ]
  },
  {
   "cell_type": "code",
   "execution_count": 73,
   "metadata": {
    "ExecuteTime": {
     "end_time": "2021-02-09T00:06:48.066617Z",
     "start_time": "2021-02-09T00:06:48.061827Z"
    }
   },
   "outputs": [
    {
     "data": {
      "text/plain": [
       "{'_id': 'N000188', 'degree': 'AS', 'institution': 'Camden County College'}"
      ]
     },
     "execution_count": 73,
     "metadata": {},
     "output_type": "execute_result"
    }
   ],
   "source": [
    "# Sample\n",
    "for_update[0]"
   ]
  },
  {
   "cell_type": "code",
   "execution_count": 74,
   "metadata": {
    "ExecuteTime": {
     "end_time": "2021-02-09T00:06:58.561334Z",
     "start_time": "2021-02-09T00:06:58.437571Z"
    }
   },
   "outputs": [],
   "source": [
    "# Batch insert new docs\n",
    "batch = db.batch()\n",
    "for doc in for_update:\n",
    "    ref = db.collection(\"edu\").document()\n",
    "    batch.set(ref, doc)\n",
    "    \n",
    "com = batch.commit()"
   ]
  },
  {
   "cell_type": "code",
   "execution_count": 75,
   "metadata": {
    "ExecuteTime": {
     "end_time": "2021-02-09T00:06:59.201360Z",
     "start_time": "2021-02-09T00:06:59.196990Z"
    }
   },
   "outputs": [
    {
     "data": {
      "text/plain": [
       "9"
      ]
     },
     "execution_count": 75,
     "metadata": {},
     "output_type": "execute_result"
    }
   ],
   "source": [
    "len(com)"
   ]
  },
  {
   "cell_type": "code",
   "execution_count": 76,
   "metadata": {
    "ExecuteTime": {
     "end_time": "2021-02-09T00:07:40.994674Z",
     "start_time": "2021-02-09T00:07:40.889182Z"
    }
   },
   "outputs": [
    {
     "name": "stdout",
     "output_type": "stream",
     "text": [
      "Number of reps with HS: 25\n"
     ]
    }
   ],
   "source": [
    "# Check to see if rep educations have been updated\n",
    "new_query = edu_ref.where(\"degree\", \"==\", \"HS\").select([\"_id\"]).stream()\n",
    "new_hs = [ (doc.get('_id'), doc.id) for doc in new_query ]\n",
    "print('Number of reps with HS:', len(new_hs)) # Originally 23"
   ]
  },
  {
   "cell_type": "code",
   "execution_count": null,
   "metadata": {},
   "outputs": [],
   "source": []
  }
 ],
 "metadata": {
  "kernelspec": {
   "display_name": "db-env",
   "language": "python",
   "name": "db-env"
  },
  "language_info": {
   "codemirror_mode": {
    "name": "ipython",
    "version": 3
   },
   "file_extension": ".py",
   "mimetype": "text/x-python",
   "name": "python",
   "nbconvert_exporter": "python",
   "pygments_lexer": "ipython3",
   "version": "3.7.4"
  },
  "toc": {
   "base_numbering": 1,
   "nav_menu": {},
   "number_sections": false,
   "sideBar": true,
   "skip_h1_title": false,
   "title_cell": "Table of Contents",
   "title_sidebar": "Contents",
   "toc_cell": false,
   "toc_position": {},
   "toc_section_display": true,
   "toc_window_display": true
  }
 },
 "nbformat": 4,
 "nbformat_minor": 2
}
