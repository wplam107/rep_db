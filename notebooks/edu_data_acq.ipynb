{
 "cells": [
  {
   "cell_type": "markdown",
   "id": "grand-swaziland",
   "metadata": {},
   "source": [
    "# Educational Background Acquisition Notebook\n",
    "- Webscraping Wikipedia for US House of Representatives Educational Backgrounds\n",
    "- Vote Smart used as backup"
   ]
  },
  {
   "cell_type": "markdown",
   "id": "infinite-sensitivity",
   "metadata": {},
   "source": [
    "## Configuration"
   ]
  },
  {
   "cell_type": "code",
   "execution_count": 1,
   "id": "pretty-addition",
   "metadata": {
    "ExecuteTime": {
     "end_time": "2021-02-26T04:33:51.979578Z",
     "start_time": "2021-02-26T04:33:51.860318Z"
    }
   },
   "outputs": [],
   "source": [
    "import configparser\n",
    "import pymongo"
   ]
  },
  {
   "cell_type": "code",
   "execution_count": 2,
   "id": "parallel-garlic",
   "metadata": {
    "ExecuteTime": {
     "end_time": "2021-02-26T04:33:52.023154Z",
     "start_time": "2021-02-26T04:33:51.984728Z"
    }
   },
   "outputs": [],
   "source": [
    "config = configparser.ConfigParser()\n",
    "config.read('../database-dev/auth/config.ini')\n",
    "\n",
    "MONGO_LOCAL = config.get('mongodb', 'MONGO_LOCAL')\n",
    "MONGO_DB = config.get('mongodb', 'MONGO_DB')\n",
    "client = pymongo.MongoClient(MONGO_LOCAL)\n",
    "db = client.get_database(MONGO_DB)"
   ]
  },
  {
   "cell_type": "code",
   "execution_count": 3,
   "id": "undefined-latest",
   "metadata": {
    "ExecuteTime": {
     "end_time": "2021-02-26T04:33:52.032858Z",
     "start_time": "2021-02-26T04:33:52.028516Z"
    }
   },
   "outputs": [],
   "source": [
    "# Set database collection\n",
    "collection = db['reps']"
   ]
  },
  {
   "cell_type": "markdown",
   "id": "scientific-relay",
   "metadata": {},
   "source": [
    "## Database Query\n",
    "- Get representative documents (ID, name, wikipedia URL) from MongoDB."
   ]
  },
  {
   "cell_type": "code",
   "execution_count": 4,
   "id": "electric-seeker",
   "metadata": {
    "ExecuteTime": {
     "end_time": "2021-02-26T04:33:52.057813Z",
     "start_time": "2021-02-26T04:33:52.040490Z"
    }
   },
   "outputs": [],
   "source": [
    "# Database query returning wikipedia URLs\n",
    "result = collection.find(\n",
    "    {},\n",
    "    {'_id': 1, 'first_name': 1, 'last_name': 1, 'wiki_url': 1, 'votesmart_id': 1}\n",
    ")\n",
    "reps = [ rep for rep in result ]"
   ]
  },
  {
   "cell_type": "code",
   "execution_count": 5,
   "id": "previous-acrylic",
   "metadata": {
    "ExecuteTime": {
     "end_time": "2021-02-26T04:33:52.067712Z",
     "start_time": "2021-02-26T04:33:52.062345Z"
    }
   },
   "outputs": [],
   "source": [
    "# Check if there are missing wikipedia URLs\n",
    "for rep in reps:\n",
    "    assert rep['wiki_url'] != None\n",
    "    assert rep['wiki_url'] != ''"
   ]
  },
  {
   "cell_type": "markdown",
   "id": "understanding-audit",
   "metadata": {},
   "source": [
    "## Data Acquisition - Beautiful Soup\n",
    "- Scrape educational backgrounds from wikipedia with Beautiful Soup.\n",
    "- Educational background located in ```<th>Education</th>``` or ```<th><a>Alma mater</a></th>``` row of ```<table>``` with attribute ```class=\"infobox\"```.\n",
    "- Manual check of individuals without tertiary educational degrees."
   ]
  },
  {
   "cell_type": "code",
   "execution_count": 6,
   "id": "silent-password",
   "metadata": {
    "ExecuteTime": {
     "end_time": "2021-02-26T04:33:52.288033Z",
     "start_time": "2021-02-26T04:33:52.072217Z"
    }
   },
   "outputs": [],
   "source": [
    "import functools\n",
    "import requests\n",
    "import re\n",
    "from bs4 import BeautifulSoup"
   ]
  },
  {
   "cell_type": "code",
   "execution_count": 7,
   "id": "reported-impact",
   "metadata": {
    "ExecuteTime": {
     "end_time": "2021-02-26T04:33:52.294326Z",
     "start_time": "2021-02-26T04:33:52.290280Z"
    }
   },
   "outputs": [],
   "source": [
    "# Wrapper for error logging\n",
    "def error_logging(func):\n",
    "    @functools.wraps(func)\n",
    "    def wrapper_error(*args):\n",
    "        data = None\n",
    "        error = None\n",
    "        try:\n",
    "            data = func(*args)\n",
    "        except Exception as e:\n",
    "            error = type(e)\n",
    "        return data, error\n",
    "    return wrapper_error"
   ]
  },
  {
   "cell_type": "code",
   "execution_count": 8,
   "id": "cardiovascular-religious",
   "metadata": {
    "ExecuteTime": {
     "end_time": "2021-02-26T04:33:52.304487Z",
     "start_time": "2021-02-26T04:33:52.298937Z"
    }
   },
   "outputs": [],
   "source": [
    "@error_logging\n",
    "def wiki_edu_scrape(wiki_url):\n",
    "    '''\n",
    "    Function to scrape wikipedia by \"Education\" or \"Alma mater\" table row\n",
    "    '''\n",
    "    \n",
    "    r = requests.get(wiki_url).text\n",
    "    soup = BeautifulSoup(r)\n",
    "    box = soup.find('table', attrs={'class': 'infobox vcard'})\n",
    "    try:\n",
    "        edus = box.find('th', text='Education').next_sibling\n",
    "        edu = [ a.text for a in edus.find_all('a') ]\n",
    "    except:\n",
    "        edus = box.find('a', attrs={'title': 'Alma mater'})\n",
    "        edu = [ a.text for a in edus.parent.next_sibling.find_all('a') ]\n",
    "    \n",
    "    return edu"
   ]
  },
  {
   "cell_type": "code",
   "execution_count": 9,
   "id": "occasional-initial",
   "metadata": {
    "ExecuteTime": {
     "end_time": "2021-02-26T04:33:52.312219Z",
     "start_time": "2021-02-26T04:33:52.307540Z"
    }
   },
   "outputs": [],
   "source": [
    "@error_logging\n",
    "def get_vs_id(rep):\n",
    "    '''\n",
    "    Function to retrieve missing Vote Smart ID with query\n",
    "    '''\n",
    "    \n",
    "    call_string = f'https://votesmart.org/search?q={rep[\"first_name\"]}+{rep[\"last_name\"]}'\n",
    "    r = requests.get(call_string).text\n",
    "    soup = BeautifulSoup(r)\n",
    "    anchors = soup.find_all('a')\n",
    "    for a in anchors:\n",
    "        if a.text == f'{rep[\"first_name\"]} {rep[\"last_name\"]}':\n",
    "            _id = re.search('(?<=/).*?(?=(?:/))', str(a))[0]\n",
    "            break\n",
    "    \n",
    "    return _id"
   ]
  },
  {
   "cell_type": "code",
   "execution_count": 10,
   "id": "secure-protection",
   "metadata": {
    "ExecuteTime": {
     "end_time": "2021-02-26T04:33:52.321757Z",
     "start_time": "2021-02-26T04:33:52.314703Z"
    }
   },
   "outputs": [],
   "source": [
    "@error_logging\n",
    "def vs_edu_scrape(rep):\n",
    "    '''\n",
    "    Function to scrape Vote Smart by \"Education\" <b> element\n",
    "    '''\n",
    "    \n",
    "    url = 'https://justfacts.votesmart.org/candidate/biography/' + rep['votesmart_id']\n",
    "    r = requests.get(url).content\n",
    "    soup = BeautifulSoup(r)\n",
    "\n",
    "    # Collapsable card object\n",
    "    edu_card = soup.find('b', text='Education').parent.parent.parent\n",
    "    \n",
    "    # Education paragraph objects\n",
    "    edu = [ p.text for p in edu_card.find_all('p') ]\n",
    "    \n",
    "    edus = []\n",
    "    for e in edu:\n",
    "        entry = e.split(',')\n",
    "        if len(entry[0]) < 5:\n",
    "            degree = entry[0]\n",
    "            for s in entry[1:]:\n",
    "                pattern = '(?=.*College)|(?=.*University)|(?=.*School)|(?=.*Institute)'\n",
    "                if re.search(pattern, s):\n",
    "                    institution = s.strip()\n",
    "                    edus.append([degree, institution])\n",
    "    \n",
    "    if edus != []:\n",
    "        return edus\n",
    "    else:\n",
    "        return None"
   ]
  },
  {
   "cell_type": "code",
   "execution_count": 11,
   "id": "rational-parliament",
   "metadata": {
    "ExecuteTime": {
     "end_time": "2021-02-26T04:33:52.331966Z",
     "start_time": "2021-02-26T04:33:52.324139Z"
    }
   },
   "outputs": [],
   "source": [
    "@error_logging\n",
    "def clean_edu(rep):\n",
    "    '''\n",
    "    Function to pair degree with institution and standardize non-degrees\n",
    "    '''\n",
    "    \n",
    "    edu = rep['education']\n",
    "    \n",
    "    edu_list = []\n",
    "    for i in range(len(edu)):\n",
    "        institute = None\n",
    "        degree = None\n",
    "        if len(edu[i]) < 10:\n",
    "            degree = edu[i]\n",
    "            degree = ''.join(degree.split('.')).upper()\n",
    "            for j in range(i-1, -1, -1):\n",
    "                if len(edu[j]) >= 10:\n",
    "                    institute = edu[j]\n",
    "                    edu_list.append([degree, institute])\n",
    "                    break\n",
    "\n",
    "    return edu_list"
   ]
  },
  {
   "cell_type": "code",
   "execution_count": 12,
   "id": "final-falls",
   "metadata": {
    "ExecuteTime": {
     "end_time": "2021-02-26T04:36:45.771938Z",
     "start_time": "2021-02-26T04:33:52.334075Z"
    }
   },
   "outputs": [],
   "source": [
    "# Scrape educational backgrounds of all current (2021) reps\n",
    "no_wiki_edu = []\n",
    "no_vs_id = []\n",
    "no_vs_edu = []\n",
    "other_errors = []\n",
    "for rep in reps:\n",
    "    edus, error = wiki_edu_scrape(rep['wiki_url'])\n",
    "    rep['education'] = edus\n",
    "    if error: # No educational background on wikipedia\n",
    "        no_wiki_edu.append(rep)\n",
    "        \n",
    "    elif len(edus) < 2: # No degree shown in wikipedia educational background\n",
    "        vs_id, error = get_vs_id(rep)\n",
    "        if error:\n",
    "            no_vs_id.append(rep)\n",
    "        else:\n",
    "            rep['votesmart_id'] = vs_id\n",
    "            edus, error = vs_edu_scrape(rep)\n",
    "            if error:\n",
    "                no_vs_edu.append(rep)\n",
    "            else:\n",
    "                rep['education'] = edus\n",
    "    \n",
    "    else:\n",
    "        edus, error = clean_edu(rep)\n",
    "        if error:\n",
    "            other_errors.append(rep)\n",
    "        else:\n",
    "            rep['education'] = edus"
   ]
  },
  {
   "cell_type": "markdown",
   "id": "irish-characterization",
   "metadata": {},
   "source": [
    "### Manual Check: No tertiary educational degree"
   ]
  },
  {
   "cell_type": "code",
   "execution_count": 24,
   "id": "greenhouse-viewer",
   "metadata": {
    "ExecuteTime": {
     "end_time": "2021-02-26T04:39:24.514449Z",
     "start_time": "2021-02-26T04:39:24.507367Z"
    },
    "scrolled": true
   },
   "outputs": [
    {
     "data": {
      "text/plain": [
       "[{'_id': 'B000825',\n",
       "  'first_name': 'Lauren',\n",
       "  'last_name': 'Boebert',\n",
       "  'votesmart_id': None,\n",
       "  'wiki_url': 'https://en.wikipedia.org/wiki/Lauren_Boebert',\n",
       "  'education': None},\n",
       " {'_id': 'B001295',\n",
       "  'first_name': 'Mike',\n",
       "  'last_name': 'Bost',\n",
       "  'votesmart_id': '6302',\n",
       "  'wiki_url': 'https://en.wikipedia.org/wiki/Mike_Bost',\n",
       "  'education': None},\n",
       " {'_id': 'G000577',\n",
       "  'first_name': 'Garret',\n",
       "  'last_name': 'Graves',\n",
       "  'votesmart_id': '155424',\n",
       "  'wiki_url': 'https://en.wikipedia.org/wiki/Garret_Graves',\n",
       "  'education': None},\n",
       " {'_id': 'K000395',\n",
       "  'first_name': 'Fred',\n",
       "  'last_name': 'Keller',\n",
       "  'votesmart_id': '119553',\n",
       "  'wiki_url': 'https://en.wikipedia.org/wiki/Fred_Keller_(politician)',\n",
       "  'education': None},\n",
       " {'_id': 'N000190',\n",
       "  'first_name': 'Ralph',\n",
       "  'last_name': 'Norman',\n",
       "  'votesmart_id': '47930',\n",
       "  'wiki_url': 'https://en.wikipedia.org/wiki/Karen_Handel',\n",
       "  'education': None},\n",
       " {'_id': 'O000171',\n",
       "  'first_name': 'Tom',\n",
       "  'last_name': \"O'Halleran\",\n",
       "  'votesmart_id': '28499',\n",
       "  'wiki_url': \"https://en.wikipedia.org/wiki/Tom_O'Halleran\",\n",
       "  'education': None},\n",
       " {'_id': 'R000103',\n",
       "  'first_name': 'Matt',\n",
       "  'last_name': 'Rosendale',\n",
       "  'votesmart_id': '120815',\n",
       "  'wiki_url': 'https://en.wikipedia.org/wiki/Matt_Rosendale',\n",
       "  'education': None},\n",
       " {'_id': 'S001177',\n",
       "  'first_name': 'Gregorio',\n",
       "  'last_name': 'Sablan',\n",
       "  'votesmart_id': '110903',\n",
       "  'wiki_url': 'https://en.wikipedia.org/wiki/Gregorio_Sablan',\n",
       "  'education': None}]"
      ]
     },
     "execution_count": 24,
     "metadata": {},
     "output_type": "execute_result"
    }
   ],
   "source": [
    "no_wiki_edu"
   ]
  },
  {
   "cell_type": "markdown",
   "id": "optimum-shell",
   "metadata": {},
   "source": [
    "### Manual Check: No tertiary educational degree\n",
    "- Manually assign ```'education': None```"
   ]
  },
  {
   "cell_type": "code",
   "execution_count": 20,
   "id": "final-examination",
   "metadata": {
    "ExecuteTime": {
     "end_time": "2021-02-26T04:37:49.551174Z",
     "start_time": "2021-02-26T04:37:49.546220Z"
    }
   },
   "outputs": [
    {
     "data": {
      "text/plain": [
       "[{'_id': 'C001104',\n",
       "  'first_name': 'Madison',\n",
       "  'last_name': 'Cawthorn',\n",
       "  'votesmart_id': None,\n",
       "  'wiki_url': 'https://en.wikipedia.org/wiki/Madison_Cawthorn',\n",
       "  'education': ['Patrick Henry College']},\n",
       " {'_id': 'W000827',\n",
       "  'first_name': 'Ron',\n",
       "  'last_name': 'Wright',\n",
       "  'votesmart_id': '78666',\n",
       "  'wiki_url': 'https://en.wikipedia.org/wiki/Ron_Wright_(politician)',\n",
       "  'education': ['University of Texas at Arlington']}]"
      ]
     },
     "execution_count": 20,
     "metadata": {},
     "output_type": "execute_result"
    }
   ],
   "source": [
    "no_vs_id"
   ]
  },
  {
   "cell_type": "code",
   "execution_count": 26,
   "id": "absent-dubai",
   "metadata": {
    "ExecuteTime": {
     "end_time": "2021-02-26T04:46:32.077696Z",
     "start_time": "2021-02-26T04:46:32.074628Z"
    }
   },
   "outputs": [],
   "source": [
    "for rep in no_vs_id:\n",
    "    rep['education'] = None"
   ]
  },
  {
   "cell_type": "markdown",
   "id": "passing-password",
   "metadata": {
    "ExecuteTime": {
     "end_time": "2021-02-26T04:38:28.261707Z",
     "start_time": "2021-02-26T04:38:28.257586Z"
    }
   },
   "source": [
    "## Update Database"
   ]
  },
  {
   "cell_type": "code",
   "execution_count": 25,
   "id": "analyzed-myrtle",
   "metadata": {
    "ExecuteTime": {
     "end_time": "2021-02-26T04:43:58.769366Z",
     "start_time": "2021-02-26T04:43:58.766843Z"
    }
   },
   "outputs": [],
   "source": [
    "from pymongo import UpdateOne"
   ]
  },
  {
   "cell_type": "code",
   "execution_count": 28,
   "id": "broken-serve",
   "metadata": {
    "ExecuteTime": {
     "end_time": "2021-02-26T04:52:34.705370Z",
     "start_time": "2021-02-26T04:52:34.698102Z"
    }
   },
   "outputs": [],
   "source": [
    "# Create bulk updates\n",
    "updates = []\n",
    "for rep in reps:\n",
    "    update = UpdateOne(\n",
    "        {'_id': rep['_id']},\n",
    "        {'$set': {'votesmart_id': rep['votesmart_id'], 'education': rep['education']}}\n",
    "    )\n",
    "    updates.append(update)"
   ]
  },
  {
   "cell_type": "code",
   "execution_count": 29,
   "id": "integral-prayer",
   "metadata": {
    "ExecuteTime": {
     "end_time": "2021-02-26T04:53:37.216878Z",
     "start_time": "2021-02-26T04:53:37.146791Z"
    }
   },
   "outputs": [],
   "source": [
    "result = collection.bulk_write(updates)"
   ]
  },
  {
   "cell_type": "code",
   "execution_count": 30,
   "id": "specific-hostel",
   "metadata": {
    "ExecuteTime": {
     "end_time": "2021-02-26T04:53:50.166398Z",
     "start_time": "2021-02-26T04:53:50.161037Z"
    }
   },
   "outputs": [
    {
     "data": {
      "text/plain": [
       "{'writeErrors': [],\n",
       " 'writeConcernErrors': [],\n",
       " 'nInserted': 0,\n",
       " 'nUpserted': 0,\n",
       " 'nMatched': 440,\n",
       " 'nModified': 440,\n",
       " 'nRemoved': 0,\n",
       " 'upserted': []}"
      ]
     },
     "execution_count": 30,
     "metadata": {},
     "output_type": "execute_result"
    }
   ],
   "source": [
    "result.bulk_api_result"
   ]
  }
 ],
 "metadata": {
  "kernelspec": {
   "display_name": "nosql-etl",
   "language": "python",
   "name": "nosql-etl"
  },
  "language_info": {
   "codemirror_mode": {
    "name": "ipython",
    "version": 3
   },
   "file_extension": ".py",
   "mimetype": "text/x-python",
   "name": "python",
   "nbconvert_exporter": "python",
   "pygments_lexer": "ipython3",
   "version": "3.9.1"
  },
  "toc": {
   "base_numbering": 1,
   "nav_menu": {},
   "number_sections": false,
   "sideBar": true,
   "skip_h1_title": false,
   "title_cell": "Table of Contents",
   "title_sidebar": "Contents",
   "toc_cell": false,
   "toc_position": {},
   "toc_section_display": true,
   "toc_window_display": true
  }
 },
 "nbformat": 4,
 "nbformat_minor": 5
}
