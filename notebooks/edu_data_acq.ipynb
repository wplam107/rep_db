{
 "cells": [
  {
   "cell_type": "code",
   "execution_count": 302,
   "metadata": {
    "ExecuteTime": {
     "end_time": "2021-02-03T17:26:37.044696Z",
     "start_time": "2021-02-03T17:26:37.041561Z"
    }
   },
   "outputs": [],
   "source": [
    "# Database connection and authentication\n",
    "import configparser\n",
    "import firebase_admin\n",
    "from firebase_admin import credentials, firestore\n",
    "\n",
    "# Scraping\n",
    "import re\n",
    "import requests\n",
    "import time\n",
    "from bs4 import BeautifulSoup"
   ]
  },
  {
   "cell_type": "code",
   "execution_count": 2,
   "metadata": {
    "ExecuteTime": {
     "end_time": "2021-02-03T04:30:10.678039Z",
     "start_time": "2021-02-03T04:30:10.671371Z"
    }
   },
   "outputs": [],
   "source": [
    "# Read config.ini file\n",
    "config = configparser.ConfigParser()\n",
    "config.read('./auth/config.ini')\n",
    "\n",
    "# Get Google Firebase Auth\n",
    "GCP_AUTH_PATH = config.get('firebase', 'GCP_AUTH_PATH')\n",
    "cred = credentials.Certificate(GCP_AUTH_PATH)\n",
    "app = firebase_admin.initialize_app(cred)\n",
    "\n",
    "# Instantiate connection to database\n",
    "db = firestore.client()"
   ]
  },
  {
   "cell_type": "code",
   "execution_count": 4,
   "metadata": {
    "ExecuteTime": {
     "end_time": "2021-02-03T04:32:33.175066Z",
     "start_time": "2021-02-03T04:32:33.165316Z"
    }
   },
   "outputs": [],
   "source": [
    "# Instantiate collection reference\n",
    "ref = db.collection(\"reps\")"
   ]
  },
  {
   "cell_type": "code",
   "execution_count": 337,
   "metadata": {
    "ExecuteTime": {
     "end_time": "2021-02-03T19:28:15.247874Z",
     "start_time": "2021-02-03T19:28:15.230768Z"
    }
   },
   "outputs": [],
   "source": [
    "# Query ProPublica and VoteSmart IDs of representatives\n",
    "query = ref.where(\"first_name\", \"!=\", \"\").select([\"_id\", \"votesmart_id\"]).stream()"
   ]
  },
  {
   "cell_type": "code",
   "execution_count": 338,
   "metadata": {
    "ExecuteTime": {
     "end_time": "2021-02-03T19:28:17.710250Z",
     "start_time": "2021-02-03T19:28:15.757306Z"
    }
   },
   "outputs": [],
   "source": [
    "# Retrieve IDs\n",
    "rep_ids = [ doc.to_dict() for doc in query ]"
   ]
  },
  {
   "cell_type": "code",
   "execution_count": 339,
   "metadata": {
    "ExecuteTime": {
     "end_time": "2021-02-03T19:28:17.735314Z",
     "start_time": "2021-02-03T19:28:17.731675Z"
    }
   },
   "outputs": [],
   "source": [
    "def get_box_titles(vs_id):\n",
    "    vs_url = 'https://justfacts.votesmart.org/candidate/biography/'\n",
    "    r = requests.get(vs_url+vs_id).text\n",
    "    soup = BeautifulSoup(r)\n",
    "    box_titles = soup.find_all(\"b\")\n",
    "    return box_titles"
   ]
  },
  {
   "cell_type": "code",
   "execution_count": 340,
   "metadata": {
    "ExecuteTime": {
     "end_time": "2021-02-03T19:28:18.338405Z",
     "start_time": "2021-02-03T19:28:18.333527Z"
    }
   },
   "outputs": [],
   "source": [
    "def get_bio_data(card, box_titles):\n",
    "    for box in box_titles:\n",
    "        if box.text == f'{card}':\n",
    "            ps = box.find_parent().find_parent().find_next_sibling().find_all(\"p\")\n",
    "            return [ p.text for p in ps ]"
   ]
  },
  {
   "cell_type": "code",
   "execution_count": 341,
   "metadata": {
    "ExecuteTime": {
     "end_time": "2021-02-03T20:08:26.629351Z",
     "start_time": "2021-02-03T20:00:16.297233Z"
    }
   },
   "outputs": [],
   "source": [
    "# Get education and professional experience\n",
    "for rep in rep_ids:\n",
    "    if rep['votesmart_id'] != None:\n",
    "        vs_id = rep['votesmart_id']\n",
    "        box_titles = get_box_titles(vs_id)\n",
    "        edu = get_bio_data('Education', box_titles)\n",
    "        pro = get_bio_data('Professional Experience', box_titles)\n",
    "        rep['education'] = edu\n",
    "        rep['profession'] = pro\n",
    "        time.sleep(0.1)\n",
    "        \n",
    "    else: \n",
    "        rep['education'] = {}\n",
    "        rep['profession'] = {}"
   ]
  },
  {
   "cell_type": "code",
   "execution_count": 342,
   "metadata": {
    "ExecuteTime": {
     "end_time": "2021-02-03T20:08:26.643008Z",
     "start_time": "2021-02-03T20:08:26.632016Z"
    }
   },
   "outputs": [],
   "source": [
    "# Standardize null data\n",
    "null_list = [[], [''], ['No education information on file.']]\n",
    "for rep in rep_ids:\n",
    "    if rep['education'] in null_list: \n",
    "        rep['education'] = {}\n",
    "    else:\n",
    "        pass"
   ]
  },
  {
   "cell_type": "code",
   "execution_count": 437,
   "metadata": {
    "ExecuteTime": {
     "end_time": "2021-02-03T21:42:20.413776Z",
     "start_time": "2021-02-03T21:42:20.400728Z"
    }
   },
   "outputs": [],
   "source": [
    "def degree_dict():\n",
    "    bach = { \n",
    "        deg: 'Bachelor'\n",
    "        for deg in [\n",
    "            'BA', 'BS', \"Bachelor's\", 'BSBA', 'BABS', 'AB', \n",
    "            'BBA', 'Bachelors', 'LLB', 'BSIE', 'BSBAGE', 'BSFS',\n",
    "            'ALB', 'BD', 'BSN', 'BM', 'BS/BA', 'BSA', 'BSE'\n",
    "        ]\n",
    "    }\n",
    "    cert = {\n",
    "        deg: 'Graduated'\n",
    "        for deg in [\n",
    "            'Graduated', 'Certificate', 'Certified', 'Licensed', \n",
    "            'Gradated', 'Sixth-Year Degree', 'Ceritifed'\n",
    "        ]\n",
    "    }\n",
    "    associates = {\n",
    "        deg: 'Associate'\n",
    "        for deg in [\n",
    "            'AA', 'AS', 'AAS', \"Associate's\", 'Associates'\n",
    "        ]\n",
    "    }\n",
    "    non_deg = {\n",
    "        deg: 'Attended'\n",
    "        for deg in [\n",
    "            'Attended'\n",
    "        ]\n",
    "    }\n",
    "    master = {\n",
    "        deg: 'Master'\n",
    "        for deg in [\n",
    "            'MA', 'MS', 'MSW', 'MPhil', \"Master's\", 'Masters', 'MEd', 'ML', 'MF',\n",
    "            'MSEd', 'BA/MA', 'MHS', 'MPH', 'MSPA', 'MPP', 'MPA', 'MFA', 'MDiv',\n",
    "            'MDV', 'ThM', 'MEM', 'Master\\x92s', 'MC'\n",
    "        ]\n",
    "    }\n",
    "    mba = {\n",
    "        deg: 'MBA'\n",
    "        for deg in [\n",
    "            'MBA'\n",
    "        ]\n",
    "    }\n",
    "    med = {\n",
    "        deg: 'Medical'\n",
    "        for deg in [\n",
    "            'MD', 'DO', 'DPM'\n",
    "        ]\n",
    "    }\n",
    "    law = {\n",
    "        deg: 'Law'\n",
    "        for deg in [\n",
    "            'JD'\n",
    "        ]\n",
    "    }\n",
    "    dental = {\n",
    "        deg: 'Dental'\n",
    "        for deg in [\n",
    "            'DDS', 'DMD'\n",
    "        ]\n",
    "    }\n",
    "    nurse = {\n",
    "        deg: 'Nursing'\n",
    "        for deg in [\n",
    "            'RN', 'PA', 'MSN', 'MSN/MPH'\n",
    "        ]\n",
    "    }\n",
    "    vet = {\n",
    "        deg: 'Veterinary'\n",
    "        for deg in [\n",
    "            'DVM'\n",
    "        ]\n",
    "    }\n",
    "    phd = {\n",
    "        deg: 'Doctorate'\n",
    "        for deg in [\n",
    "            'PhD', 'DMin', 'EdD'\n",
    "        ]\n",
    "    }\n",
    "    deg_dict = dict(bach, **cert)\n",
    "    deg_dict.update(associates)\n",
    "    deg_dict.update(non_deg)\n",
    "    deg_dict.update(master)\n",
    "    deg_dict.update(mba)\n",
    "    deg_dict.update(med)\n",
    "    deg_dict.update(law)\n",
    "    deg_dict.update(dental)\n",
    "    deg_dict.update(nurse)\n",
    "    deg_dict.update(vet)\n",
    "    deg_dict.update(phd)\n",
    "    \n",
    "    return deg_dict"
   ]
  },
  {
   "cell_type": "code",
   "execution_count": 438,
   "metadata": {
    "ExecuteTime": {
     "end_time": "2021-02-03T21:42:20.636391Z",
     "start_time": "2021-02-03T21:42:20.630570Z"
    }
   },
   "outputs": [],
   "source": [
    "def clean_education(rep):\n",
    "    edu = rep['education']\n",
    "    clean_edu = {}\n",
    "    deg_dict = degree_dict()\n",
    "    for e in edu:\n",
    "        ins = None\n",
    "        if e != '':\n",
    "            div_e = e.split(', ')\n",
    "            if len(div_e) == 1:\n",
    "                pass\n",
    "            else:\n",
    "                deg = deg_dict[div_e[0]]\n",
    "                for s in div_e[1:]:\n",
    "                    if re.search(\n",
    "                        '(?=.*School)|(?=.*College)|(?=.*University)|(?=.*Institute)|(?=.*Center)', s\n",
    "                    ):\n",
    "                        ins = s\n",
    "                clean_edu[deg] = ins\n",
    "\n",
    "    return clean_edu"
   ]
  },
  {
   "cell_type": "code",
   "execution_count": 439,
   "metadata": {
    "ExecuteTime": {
     "end_time": "2021-02-03T21:42:20.895336Z",
     "start_time": "2021-02-03T21:42:20.873272Z"
    },
    "scrolled": true
   },
   "outputs": [],
   "source": [
    "# Find all KeyErrors for dictionary\n",
    "for rep in rep_ids:\n",
    "    try:\n",
    "        clean_education(rep)\n",
    "    except Exception as e:\n",
    "        print(e)\n",
    "        print(rep)"
   ]
  },
  {
   "cell_type": "code",
   "execution_count": 442,
   "metadata": {
    "ExecuteTime": {
     "end_time": "2021-02-03T21:43:01.720926Z",
     "start_time": "2021-02-03T21:43:01.697786Z"
    }
   },
   "outputs": [],
   "source": [
    "# Clean educational data\n",
    "for rep in rep_ids:\n",
    "    rep['education'] = clean_education(rep)"
   ]
  },
  {
   "cell_type": "code",
   "execution_count": 445,
   "metadata": {
    "ExecuteTime": {
     "end_time": "2021-02-03T21:43:54.956095Z",
     "start_time": "2021-02-03T21:43:54.952385Z"
    }
   },
   "outputs": [
    {
     "name": "stdout",
     "output_type": "stream",
     "text": [
      "{'Dental': 'Medical College of Georgia', 'Graduated': 'The University of Georgia'}\n",
      "{'Master': 'Virginia Union University Samuel DeWitt Proctor School of Theology', 'Law': 'University of Virginia School of Law', 'Bachelor': 'American University'}\n",
      "{'Bachelor': 'Drake University'}\n",
      "{'Bachelor': 'University of Virginia', 'MBA': 'German International School of Management and Administration (GISMA)/Purdue University'}\n",
      "{'Bachelor': 'Illinois State University'}\n",
      "{'Attended': 'Western Washington University', 'Law': 'University of Washington School of Law', 'Bachelor': 'Fordham University'}\n",
      "{'Law': 'Harvard University Law School', 'Bachelor': 'Stanford University'}\n",
      "{'Attended': 'Liberty University', 'Bachelor': 'University of Nebraska at Lincoln'}\n",
      "{'Attended': 'New York University', 'Bachelor': 'Queens College'}\n",
      "{'Attended': 'Florida Agricultural and Mechanical University', 'Law': 'Texas Southern University'}\n"
     ]
    }
   ],
   "source": [
    "# Sample\n",
    "for rep in rep_ids[:10]:\n",
    "    print(rep['education'])"
   ]
  },
  {
   "cell_type": "code",
   "execution_count": 446,
   "metadata": {
    "ExecuteTime": {
     "end_time": "2021-02-03T21:45:15.599101Z",
     "start_time": "2021-02-03T21:45:15.594451Z"
    }
   },
   "outputs": [
    {
     "name": "stdout",
     "output_type": "stream",
     "text": [
      "58\n"
     ]
    }
   ],
   "source": [
    "# Missing educational data\n",
    "i = 0\n",
    "for rep in rep_ids:\n",
    "    if rep['education'] == {}:\n",
    "        i += 1\n",
    "\n",
    "print(i)"
   ]
  },
  {
   "cell_type": "code",
   "execution_count": null,
   "metadata": {},
   "outputs": [],
   "source": []
  }
 ],
 "metadata": {
  "kernelspec": {
   "display_name": "db-env",
   "language": "python",
   "name": "db-env"
  },
  "language_info": {
   "codemirror_mode": {
    "name": "ipython",
    "version": 3
   },
   "file_extension": ".py",
   "mimetype": "text/x-python",
   "name": "python",
   "nbconvert_exporter": "python",
   "pygments_lexer": "ipython3",
   "version": "3.7.7"
  },
  "toc": {
   "base_numbering": 1,
   "nav_menu": {},
   "number_sections": true,
   "sideBar": true,
   "skip_h1_title": false,
   "title_cell": "Table of Contents",
   "title_sidebar": "Contents",
   "toc_cell": false,
   "toc_position": {},
   "toc_section_display": true,
   "toc_window_display": false
  }
 },
 "nbformat": 4,
 "nbformat_minor": 2
}
