{
 "cells": [
  {
   "cell_type": "code",
   "execution_count": 1,
   "metadata": {
    "ExecuteTime": {
     "end_time": "2021-02-04T04:08:50.769892Z",
     "start_time": "2021-02-04T04:08:48.174895Z"
    }
   },
   "outputs": [],
   "source": [
    "# Database connection and authentication\n",
    "import configparser\n",
    "import firebase_admin\n",
    "from firebase_admin import credentials, firestore\n",
    "\n",
    "# Scraping\n",
    "import re\n",
    "import requests\n",
    "import time\n",
    "from bs4 import BeautifulSoup"
   ]
  },
  {
   "cell_type": "code",
   "execution_count": 2,
   "metadata": {
    "ExecuteTime": {
     "end_time": "2021-02-04T04:08:51.972408Z",
     "start_time": "2021-02-04T04:08:51.943103Z"
    }
   },
   "outputs": [],
   "source": [
    "# Read config.ini file\n",
    "config = configparser.ConfigParser()\n",
    "config.read('./auth/config.ini')\n",
    "\n",
    "# Get Google Firebase Auth\n",
    "GCP_AUTH_PATH = config.get('firebase', 'GCP_AUTH_PATH')\n",
    "cred = credentials.Certificate(GCP_AUTH_PATH)\n",
    "app = firebase_admin.initialize_app(cred)\n",
    "\n",
    "# Instantiate connection to database\n",
    "db = firestore.client()"
   ]
  },
  {
   "cell_type": "code",
   "execution_count": 3,
   "metadata": {
    "ExecuteTime": {
     "end_time": "2021-02-04T04:08:55.784013Z",
     "start_time": "2021-02-04T04:08:55.781082Z"
    }
   },
   "outputs": [],
   "source": [
    "# Instantiate collection reference\n",
    "ref = db.collection(\"reps\")"
   ]
  },
  {
   "cell_type": "code",
   "execution_count": null,
   "metadata": {
    "ExecuteTime": {
     "end_time": "2021-02-03T19:28:15.247874Z",
     "start_time": "2021-02-03T19:28:15.230768Z"
    }
   },
   "outputs": [],
   "source": [
    "# Query ProPublica and VoteSmart IDs of representatives\n",
    "query = ref.where(\"first_name\", \"!=\", \"\").select([\"_id\", \"votesmart_id\"]).stream()"
   ]
  },
  {
   "cell_type": "code",
   "execution_count": null,
   "metadata": {
    "ExecuteTime": {
     "end_time": "2021-02-03T19:28:17.710250Z",
     "start_time": "2021-02-03T19:28:15.757306Z"
    }
   },
   "outputs": [],
   "source": [
    "# Retrieve IDs\n",
    "rep_ids = [ doc.to_dict() for doc in query ]"
   ]
  },
  {
   "cell_type": "code",
   "execution_count": null,
   "metadata": {
    "ExecuteTime": {
     "end_time": "2021-02-03T19:28:17.735314Z",
     "start_time": "2021-02-03T19:28:17.731675Z"
    }
   },
   "outputs": [],
   "source": [
    "def get_box_titles(vs_id):\n",
    "    vs_url = 'https://justfacts.votesmart.org/candidate/biography/'\n",
    "    r = requests.get(vs_url+vs_id).text\n",
    "    soup = BeautifulSoup(r)\n",
    "    box_titles = soup.find_all(\"b\")\n",
    "    return box_titles"
   ]
  },
  {
   "cell_type": "code",
   "execution_count": null,
   "metadata": {
    "ExecuteTime": {
     "end_time": "2021-02-03T19:28:18.338405Z",
     "start_time": "2021-02-03T19:28:18.333527Z"
    }
   },
   "outputs": [],
   "source": [
    "def get_bio_data(card, box_titles):\n",
    "    for box in box_titles:\n",
    "        if box.text == f'{card}':\n",
    "            ps = box.find_parent().find_parent().find_next_sibling().find_all(\"p\")\n",
    "            return [ p.text for p in ps ]"
   ]
  },
  {
   "cell_type": "code",
   "execution_count": null,
   "metadata": {
    "ExecuteTime": {
     "end_time": "2021-02-03T20:08:26.629351Z",
     "start_time": "2021-02-03T20:00:16.297233Z"
    }
   },
   "outputs": [],
   "source": [
    "# Get education and professional experience\n",
    "for rep in rep_ids:\n",
    "    if rep['votesmart_id'] != None:\n",
    "        vs_id = rep['votesmart_id']\n",
    "        box_titles = get_box_titles(vs_id)\n",
    "        edu = get_bio_data('Education', box_titles)\n",
    "        pro = get_bio_data('Professional Experience', box_titles)\n",
    "        rep['education'] = edu\n",
    "        rep['profession'] = pro\n",
    "        time.sleep(0.1)\n",
    "        \n",
    "    else: \n",
    "        rep['education'] = {}\n",
    "        rep['profession'] = {}"
   ]
  },
  {
   "cell_type": "code",
   "execution_count": null,
   "metadata": {
    "ExecuteTime": {
     "end_time": "2021-02-03T20:08:26.643008Z",
     "start_time": "2021-02-03T20:08:26.632016Z"
    }
   },
   "outputs": [],
   "source": [
    "# Standardize null data\n",
    "null_list = [[], [''], ['No education information on file.']]\n",
    "for rep in rep_ids:\n",
    "    if rep['education'] in null_list: \n",
    "        rep['education'] = {}\n",
    "    else:\n",
    "        pass"
   ]
  },
  {
   "cell_type": "code",
   "execution_count": null,
   "metadata": {
    "ExecuteTime": {
     "end_time": "2021-02-03T21:42:20.413776Z",
     "start_time": "2021-02-03T21:42:20.400728Z"
    }
   },
   "outputs": [],
   "source": [
    "def degree_dict():\n",
    "    bach = { \n",
    "        deg: 'Bachelor'\n",
    "        for deg in [\n",
    "            'BA', 'BS', \"Bachelor's\", 'BSBA', 'BABS', 'AB', \n",
    "            'BBA', 'Bachelors', 'LLB', 'BSIE', 'BSBAGE', 'BSFS',\n",
    "            'ALB', 'BD', 'BSN', 'BM', 'BS/BA', 'BSA', 'BSE'\n",
    "        ]\n",
    "    }\n",
    "    cert = {\n",
    "        deg: 'Graduated'\n",
    "        for deg in [\n",
    "            'Graduated', 'Certificate', 'Certified', 'Licensed', \n",
    "            'Gradated', 'Sixth-Year Degree', 'Ceritifed'\n",
    "        ]\n",
    "    }\n",
    "    associates = {\n",
    "        deg: 'Associate'\n",
    "        for deg in [\n",
    "            'AA', 'AS', 'AAS', \"Associate's\", 'Associates'\n",
    "        ]\n",
    "    }\n",
    "    non_deg = {\n",
    "        deg: 'Attended'\n",
    "        for deg in [\n",
    "            'Attended'\n",
    "        ]\n",
    "    }\n",
    "    master = {\n",
    "        deg: 'Master'\n",
    "        for deg in [\n",
    "            'MA', 'MS', 'MSW', 'MPhil', \"Master's\", 'Masters', 'MEd', 'ML', 'MF',\n",
    "            'MSEd', 'BA/MA', 'MHS', 'MPH', 'MSPA', 'MPP', 'MPA', 'MFA', 'MDiv',\n",
    "            'MDV', 'ThM', 'MEM', 'Master\\x92s', 'MC'\n",
    "        ]\n",
    "    }\n",
    "    mba = {\n",
    "        deg: 'MBA'\n",
    "        for deg in [\n",
    "            'MBA'\n",
    "        ]\n",
    "    }\n",
    "    med = {\n",
    "        deg: 'Medical'\n",
    "        for deg in [\n",
    "            'MD', 'DO', 'DPM'\n",
    "        ]\n",
    "    }\n",
    "    law = {\n",
    "        deg: 'Law'\n",
    "        for deg in [\n",
    "            'JD'\n",
    "        ]\n",
    "    }\n",
    "    dental = {\n",
    "        deg: 'Dental'\n",
    "        for deg in [\n",
    "            'DDS', 'DMD'\n",
    "        ]\n",
    "    }\n",
    "    nurse = {\n",
    "        deg: 'Nursing'\n",
    "        for deg in [\n",
    "            'RN', 'PA', 'MSN', 'MSN/MPH'\n",
    "        ]\n",
    "    }\n",
    "    vet = {\n",
    "        deg: 'Veterinary'\n",
    "        for deg in [\n",
    "            'DVM'\n",
    "        ]\n",
    "    }\n",
    "    phd = {\n",
    "        deg: 'Doctorate'\n",
    "        for deg in [\n",
    "            'PhD', 'DMin', 'EdD'\n",
    "        ]\n",
    "    }\n",
    "    deg_dict = dict(bach, **cert)\n",
    "    deg_dict.update(associates)\n",
    "    deg_dict.update(non_deg)\n",
    "    deg_dict.update(master)\n",
    "    deg_dict.update(mba)\n",
    "    deg_dict.update(med)\n",
    "    deg_dict.update(law)\n",
    "    deg_dict.update(dental)\n",
    "    deg_dict.update(nurse)\n",
    "    deg_dict.update(vet)\n",
    "    deg_dict.update(phd)\n",
    "    \n",
    "    return deg_dict"
   ]
  },
  {
   "cell_type": "code",
   "execution_count": null,
   "metadata": {
    "ExecuteTime": {
     "end_time": "2021-02-03T21:42:20.636391Z",
     "start_time": "2021-02-03T21:42:20.630570Z"
    }
   },
   "outputs": [],
   "source": [
    "def clean_education(rep):\n",
    "    edu = rep['education']\n",
    "    clean_edu = {}\n",
    "    deg_dict = degree_dict()\n",
    "    for e in edu:\n",
    "        ins = None\n",
    "        if e != '':\n",
    "            div_e = e.split(', ')\n",
    "            if len(div_e) == 1:\n",
    "                pass\n",
    "            else:\n",
    "                deg = deg_dict[div_e[0]]\n",
    "                for s in div_e[1:]:\n",
    "                    if re.search(\n",
    "                        '(?=.*School)|(?=.*College)|(?=.*University)|(?=.*Institute)|(?=.*Center)', s\n",
    "                    ):\n",
    "                        ins = s\n",
    "                clean_edu[deg] = ins\n",
    "\n",
    "    return clean_edu"
   ]
  },
  {
   "cell_type": "code",
   "execution_count": null,
   "metadata": {
    "ExecuteTime": {
     "end_time": "2021-02-03T21:42:20.895336Z",
     "start_time": "2021-02-03T21:42:20.873272Z"
    },
    "scrolled": true
   },
   "outputs": [],
   "source": [
    "# Find all KeyErrors for dictionary\n",
    "for rep in rep_ids:\n",
    "    try:\n",
    "        clean_education(rep)\n",
    "    except Exception as e:\n",
    "        print(e)\n",
    "        print(rep)"
   ]
  },
  {
   "cell_type": "code",
   "execution_count": null,
   "metadata": {
    "ExecuteTime": {
     "end_time": "2021-02-03T21:43:01.720926Z",
     "start_time": "2021-02-03T21:43:01.697786Z"
    }
   },
   "outputs": [],
   "source": [
    "# Clean educational data\n",
    "for rep in rep_ids:\n",
    "    rep['education'] = clean_education(rep)"
   ]
  },
  {
   "cell_type": "code",
   "execution_count": null,
   "metadata": {
    "ExecuteTime": {
     "end_time": "2021-02-03T21:43:54.956095Z",
     "start_time": "2021-02-03T21:43:54.952385Z"
    }
   },
   "outputs": [],
   "source": [
    "# Sample\n",
    "for rep in rep_ids[:10]:\n",
    "    print(rep['education'])"
   ]
  },
  {
   "cell_type": "code",
   "execution_count": null,
   "metadata": {
    "ExecuteTime": {
     "end_time": "2021-02-03T21:59:20.996221Z",
     "start_time": "2021-02-03T21:59:20.990226Z"
    }
   },
   "outputs": [],
   "source": [
    "def simple_ed_query(query):\n",
    "    total = 0\n",
    "    found = 0\n",
    "    missing = 0\n",
    "    not_missing = 0\n",
    "    for rep in rep_ids:\n",
    "        total += 1\n",
    "        if rep['education'] == {}:\n",
    "            missing += 1\n",
    "        else:\n",
    "            not_missing += 1\n",
    "            if f'{query}' in rep['education'].keys():\n",
    "                found += 1\n",
    "    f_string_1 = f'{round(100*found/total, 2)}% of reps have a {query} degree'\n",
    "    f_string_2 = f'{round(100*found/not_missing, 2)}% of reps with educational data have a {query} degree'\n",
    "    f_string_3 = f'{missing} of {total} have missing educational data'\n",
    "    print(f_string_1)\n",
    "    print(f_string_2)\n",
    "    print(f_string_3)"
   ]
  },
  {
   "cell_type": "code",
   "execution_count": null,
   "metadata": {
    "ExecuteTime": {
     "end_time": "2021-02-03T22:02:02.650090Z",
     "start_time": "2021-02-03T22:02:02.646767Z"
    }
   },
   "outputs": [],
   "source": [
    "simple_ed_query('Dental')"
   ]
  },
  {
   "cell_type": "code",
   "execution_count": null,
   "metadata": {
    "ExecuteTime": {
     "end_time": "2021-02-03T22:21:45.618053Z",
     "start_time": "2021-02-03T22:21:45.613245Z"
    }
   },
   "outputs": [],
   "source": [
    "missing_vs = []\n",
    "missing_pull = []\n",
    "for rep in rep_ids:\n",
    "    if rep['votesmart_id'] == None:\n",
    "        missing_vs.append(rep['_id'])\n",
    "    elif rep['education'] == {}:\n",
    "        missing_pull.append(rep)"
   ]
  },
  {
   "cell_type": "code",
   "execution_count": null,
   "metadata": {
    "ExecuteTime": {
     "end_time": "2021-02-03T22:36:33.997473Z",
     "start_time": "2021-02-03T22:36:33.988436Z"
    }
   },
   "outputs": [],
   "source": [
    "chopped = []\n",
    "old_list = []\n",
    "for i in range(len(missing_vs)):\n",
    "    if i % 10 == 0:\n",
    "        if old_list != []:\n",
    "            chopped.append(old_list)\n",
    "        old_list = []\n",
    "        old_list.append(missing_vs[i])\n",
    "    elif i == len(missing_vs) - 1:\n",
    "        old_list.append(missing_vs[i])\n",
    "        chopped.append(old_list)\n",
    "    else:\n",
    "        old_list.append(missing_vs[i])"
   ]
  },
  {
   "cell_type": "code",
   "execution_count": null,
   "metadata": {
    "ExecuteTime": {
     "end_time": "2021-02-03T22:38:04.685236Z",
     "start_time": "2021-02-03T22:38:04.676722Z"
    }
   },
   "outputs": [],
   "source": [
    "queries = [ ref.where(\"_id\", \"in\", chopped[i]).stream() for i in range(len(chopped)) ]"
   ]
  },
  {
   "cell_type": "code",
   "execution_count": null,
   "metadata": {
    "ExecuteTime": {
     "end_time": "2021-02-03T22:39:48.168524Z",
     "start_time": "2021-02-03T22:39:46.516893Z"
    }
   },
   "outputs": [],
   "source": [
    "no_vs = [ doc.to_dict() for query in queries for doc in query ]"
   ]
  },
  {
   "cell_type": "code",
   "execution_count": 30,
   "metadata": {
    "ExecuteTime": {
     "end_time": "2021-02-04T04:34:19.555096Z",
     "start_time": "2021-02-04T04:34:19.509235Z"
    }
   },
   "outputs": [],
   "source": [
    "import json\n",
    "from mediawiki import MediaWiki"
   ]
  },
  {
   "cell_type": "code",
   "execution_count": 5,
   "metadata": {
    "ExecuteTime": {
     "end_time": "2021-02-04T04:09:17.217069Z",
     "start_time": "2021-02-04T04:09:17.213333Z"
    }
   },
   "outputs": [],
   "source": [
    "GCP_API_KEY = config.get('gcpkeys', 'GCP_API_KEY')"
   ]
  },
  {
   "cell_type": "code",
   "execution_count": 6,
   "metadata": {
    "ExecuteTime": {
     "end_time": "2021-02-04T04:09:19.331182Z",
     "start_time": "2021-02-04T04:09:19.325095Z"
    },
    "scrolled": true
   },
   "outputs": [],
   "source": [
    "def get_wiki_url(google_id):\n",
    "    '''\n",
    "    Function to get wikipedia page from Google Knowledge Graph API\n",
    "    '''\n",
    "    \n",
    "    params = {\n",
    "        'ids': google_id,\n",
    "        'limit': 10,\n",
    "        'indent': True,\n",
    "        'key': GCP_API_KEY,\n",
    "    }\n",
    "\n",
    "    service_url = 'https://kgsearch.googleapis.com/v1/entities:search'\n",
    "    url = service_url + '?'\n",
    "    r = requests.get(url, params=params)\n",
    "    result = r.json()\n",
    "    wiki_url = result['itemListElement'][0]['result']['detailedDescription']['url']\n",
    "    \n",
    "    return wiki_url"
   ]
  },
  {
   "cell_type": "code",
   "execution_count": 7,
   "metadata": {
    "ExecuteTime": {
     "end_time": "2021-02-04T04:09:19.686879Z",
     "start_time": "2021-02-04T04:09:19.682283Z"
    }
   },
   "outputs": [],
   "source": [
    "def get_education(wiki_url):\n",
    "    '''\n",
    "    Function to get education from wikipedia infobox\n",
    "    '''\n",
    "    \n",
    "    r = requests.get(wiki_url).text\n",
    "    soup = BeautifulSoup(r)\n",
    "    box = soup.find('table', attrs={'class': 'infobox vcard'})\n",
    "    sibling = True\n",
    "    edus = box.find('th', text='Education').next_sibling\n",
    "    edu = [ a.text for a in edus.find_all('a') ]\n",
    "    return edu"
   ]
  },
  {
   "cell_type": "code",
   "execution_count": 10,
   "metadata": {
    "ExecuteTime": {
     "end_time": "2021-02-04T04:12:59.147430Z",
     "start_time": "2021-02-04T04:12:58.649529Z"
    }
   },
   "outputs": [],
   "source": [
    "query = ref.where(\"_id\", \"!=\", \"\").select([\"_id\", \"google_id\", \"first_name\", \"middle_name\", \"last_name\"]).stream()\n",
    "reps = [ doc.to_dict() for doc in query ]"
   ]
  },
  {
   "cell_type": "code",
   "execution_count": 73,
   "metadata": {
    "ExecuteTime": {
     "end_time": "2021-02-04T04:57:22.867885Z",
     "start_time": "2021-02-04T04:57:22.862074Z"
    }
   },
   "outputs": [],
   "source": [
    "def find_google_id(rep):\n",
    "    '''\n",
    "    Function to find Google Entity ID\n",
    "    '''\n",
    "    \n",
    "    name = f\"{rep['first_name']} {rep['last_name']} politician\"\n",
    "    params = {\n",
    "        'query': name,\n",
    "        'limit': 10,\n",
    "        'indent': True,\n",
    "        'key': GCP_API_KEY,\n",
    "    }\n",
    "\n",
    "    service_url = 'https://kgsearch.googleapis.com/v1/entities:search'\n",
    "    url = service_url + '?'\n",
    "    r = requests.get(url, params=params)\n",
    "    result = r.json()['itemListElement'][0]['result']\n",
    "    _id = result['@id'][3:]\n",
    "    \n",
    "    return _id"
   ]
  },
  {
   "cell_type": "code",
   "execution_count": 74,
   "metadata": {
    "ExecuteTime": {
     "end_time": "2021-02-04T04:57:46.287265Z",
     "start_time": "2021-02-04T04:57:45.030438Z"
    },
    "scrolled": true
   },
   "outputs": [],
   "source": [
    "# Find Google Entity IDs\n",
    "for rep in reps:\n",
    "    if rep['google_id'] == None:\n",
    "        rep['google_id'] = find_google_id(rep)"
   ]
  },
  {
   "cell_type": "code",
   "execution_count": 31,
   "metadata": {
    "ExecuteTime": {
     "end_time": "2021-02-04T04:34:53.454640Z",
     "start_time": "2021-02-04T04:34:53.270757Z"
    }
   },
   "outputs": [],
   "source": [
    "wikipedia = MediaWiki()"
   ]
  },
  {
   "cell_type": "code",
   "execution_count": null,
   "metadata": {},
   "outputs": [],
   "source": []
  }
 ],
 "metadata": {
  "kernelspec": {
   "display_name": "db-env",
   "language": "python",
   "name": "db-env"
  },
  "language_info": {
   "codemirror_mode": {
    "name": "ipython",
    "version": 3
   },
   "file_extension": ".py",
   "mimetype": "text/x-python",
   "name": "python",
   "nbconvert_exporter": "python",
   "pygments_lexer": "ipython3",
   "version": "3.7.7"
  },
  "toc": {
   "base_numbering": 1,
   "nav_menu": {},
   "number_sections": true,
   "sideBar": true,
   "skip_h1_title": false,
   "title_cell": "Table of Contents",
   "title_sidebar": "Contents",
   "toc_cell": false,
   "toc_position": {},
   "toc_section_display": true,
   "toc_window_display": false
  }
 },
 "nbformat": 4,
 "nbformat_minor": 2
}
