{
 "cells": [
  {
   "cell_type": "markdown",
   "metadata": {},
   "source": [
    "# Acquiring Educational Data for Reps"
   ]
  },
  {
   "cell_type": "code",
   "execution_count": 1,
   "metadata": {
    "ExecuteTime": {
     "end_time": "2021-02-08T20:14:35.184486Z",
     "start_time": "2021-02-08T20:14:34.430264Z"
    }
   },
   "outputs": [],
   "source": [
    "# Database connection and authentication\n",
    "import configparser\n",
    "import firebase_admin\n",
    "from firebase_admin import credentials, firestore\n",
    "\n",
    "# Scraping\n",
    "import re\n",
    "import requests\n",
    "import time\n",
    "import json\n",
    "from bs4 import BeautifulSoup\n",
    "from mediawiki import MediaWiki"
   ]
  },
  {
   "cell_type": "markdown",
   "metadata": {},
   "source": [
    "## Database and Credentials\n",
    "- Functions in ```db_function.py``` file\n",
    "- Script to build database collection in ```build_edu_db.py``` file"
   ]
  },
  {
   "cell_type": "code",
   "execution_count": 2,
   "metadata": {
    "ExecuteTime": {
     "end_time": "2021-02-08T20:14:35.326641Z",
     "start_time": "2021-02-08T20:14:35.318528Z"
    }
   },
   "outputs": [],
   "source": [
    "# Read config.ini file\n",
    "config = configparser.ConfigParser()\n",
    "config.read('./auth/config.ini')\n",
    "\n",
    "# Get Google Firebase Auth\n",
    "GCP_AUTH_PATH = config.get('firebase', 'GCP_AUTH_PATH')\n",
    "cred = credentials.Certificate(GCP_AUTH_PATH)\n",
    "app = firebase_admin.initialize_app(cred)\n",
    "\n",
    "# Instantiate connection to database\n",
    "db = firestore.client()\n",
    "\n",
    "# Google Knowledge Graph API Key\n",
    "GCP_API_KEY = config.get('gcpkeys', 'GCP_API_KEY')"
   ]
  },
  {
   "cell_type": "code",
   "execution_count": 3,
   "metadata": {
    "ExecuteTime": {
     "end_time": "2021-02-08T20:14:35.599879Z",
     "start_time": "2021-02-08T20:14:35.594376Z"
    }
   },
   "outputs": [],
   "source": [
    "# Instantiate collection reference\n",
    "ref = db.collection(\"reps\")"
   ]
  },
  {
   "cell_type": "markdown",
   "metadata": {},
   "source": [
    "## Acquire Rep Data"
   ]
  },
  {
   "cell_type": "code",
   "execution_count": 4,
   "metadata": {
    "ExecuteTime": {
     "end_time": "2021-02-08T20:14:36.661929Z",
     "start_time": "2021-02-08T20:14:36.037664Z"
    }
   },
   "outputs": [],
   "source": [
    "# Retrieve all reps\n",
    "query = ref.where(\"_id\", \"!=\", \"\").select([\"_id\", \"google_id\", \"first_name\", \"middle_name\", \"last_name\"]).stream()\n",
    "reps = [ doc.to_dict() for doc in query ]"
   ]
  },
  {
   "cell_type": "markdown",
   "metadata": {},
   "source": [
    "### Get Missing Google Entity IDs\n",
    "- Certain reps have missing Google Entity IDs\n",
    "- Acquire Google Entity IDs utilizing the Google Knowledge Graph API"
   ]
  },
  {
   "cell_type": "code",
   "execution_count": 5,
   "metadata": {
    "ExecuteTime": {
     "end_time": "2021-02-08T20:14:37.075546Z",
     "start_time": "2021-02-08T20:14:37.069577Z"
    }
   },
   "outputs": [],
   "source": [
    "def find_google_id(rep):\n",
    "    '''\n",
    "    Function to find Google Entity ID\n",
    "    '''\n",
    "    \n",
    "    first_name = rep[\"first_name\"]\n",
    "    last_name = rep[\"last_name\"]\n",
    "    name = f'{first_name} {last_name} politician'\n",
    "    params = {\n",
    "        'query': name,\n",
    "        'limit': 10,\n",
    "        'indent': True,\n",
    "        'key': GCP_API_KEY,\n",
    "    }\n",
    "\n",
    "    service_url = 'https://kgsearch.googleapis.com/v1/entities:search'\n",
    "    url = service_url + '?'\n",
    "    r = requests.get(url, params=params)\n",
    "    result = r.json()['itemListElement'][0]['result']\n",
    "    _id = result['@id'][3:]\n",
    "    \n",
    "    return _id"
   ]
  },
  {
   "cell_type": "code",
   "execution_count": 6,
   "metadata": {
    "ExecuteTime": {
     "end_time": "2021-02-08T20:14:38.643365Z",
     "start_time": "2021-02-08T20:14:37.285579Z"
    },
    "scrolled": true
   },
   "outputs": [],
   "source": [
    "# Find and assign Google Entity IDs for reps with missing google_ids\n",
    "for rep in reps:\n",
    "    if rep['google_id'] == None:\n",
    "        rep['google_id'] = find_google_id(rep)"
   ]
  },
  {
   "cell_type": "markdown",
   "metadata": {},
   "source": [
    "### Get Wikipedia Page from Google Knowledge Graph API"
   ]
  },
  {
   "cell_type": "code",
   "execution_count": 7,
   "metadata": {
    "ExecuteTime": {
     "end_time": "2021-02-08T20:14:38.653077Z",
     "start_time": "2021-02-08T20:14:38.646979Z"
    }
   },
   "outputs": [],
   "source": [
    "def get_google_entity(rep):\n",
    "    '''\n",
    "    Function to get Google entity JSON\n",
    "    '''\n",
    "    \n",
    "    google_id = rep['google_id']\n",
    "    params = {\n",
    "        'ids': google_id,\n",
    "        'limit': 10,\n",
    "        'indent': True,\n",
    "        'key': GCP_API_KEY,\n",
    "    }\n",
    "\n",
    "    service_url = 'https://kgsearch.googleapis.com/v1/entities:search'\n",
    "    url = service_url + '?'\n",
    "    r = requests.get(url, params=params)\n",
    "    result = r.json()\n",
    "    \n",
    "    return result"
   ]
  },
  {
   "cell_type": "code",
   "execution_count": 8,
   "metadata": {
    "ExecuteTime": {
     "end_time": "2021-02-08T20:14:38.662932Z",
     "start_time": "2021-02-08T20:14:38.657972Z"
    }
   },
   "outputs": [],
   "source": [
    "def get_wiki_url(rep):\n",
    "    '''\n",
    "    Function to get wiki_url if it exists in Google Knowledge Graph,\n",
    "    returns tuple (wiki_url, error)\n",
    "    '''\n",
    "    \n",
    "    result = get_google_entity(rep)\n",
    "    \n",
    "    wiki_url = None\n",
    "    try:\n",
    "        wiki_url = result['itemListElement'][0]['result']['detailedDescription']['url']\n",
    "        return wiki_url, None\n",
    "    except Exception as e:\n",
    "        return wiki_url, e"
   ]
  },
  {
   "cell_type": "code",
   "execution_count": 9,
   "metadata": {
    "ExecuteTime": {
     "end_time": "2021-02-08T20:16:32.512228Z",
     "start_time": "2021-02-08T20:14:38.665640Z"
    }
   },
   "outputs": [],
   "source": [
    "# Get Wikipedia URLs for reps\n",
    "for rep in reps:\n",
    "    rep['wiki_url'], rep['error'] = get_wiki_url(rep)"
   ]
  },
  {
   "cell_type": "markdown",
   "metadata": {},
   "source": [
    "### Handle Errors"
   ]
  },
  {
   "cell_type": "code",
   "execution_count": 10,
   "metadata": {
    "ExecuteTime": {
     "end_time": "2021-02-08T20:16:32.520915Z",
     "start_time": "2021-02-08T20:16:32.515362Z"
    }
   },
   "outputs": [],
   "source": [
    "# Check errors\n",
    "errors = {}\n",
    "for rep in reps:\n",
    "    error = rep['error']\n",
    "    if error == None:\n",
    "        pass\n",
    "    else:\n",
    "        e_type = type(error)\n",
    "        if e_type not in errors.keys():\n",
    "            errors[e_type] = []\n",
    "        \n",
    "        errors[e_type].append(rep)"
   ]
  },
  {
   "cell_type": "code",
   "execution_count": 11,
   "metadata": {
    "ExecuteTime": {
     "end_time": "2021-02-08T20:16:32.532072Z",
     "start_time": "2021-02-08T20:16:32.526469Z"
    },
    "scrolled": true
   },
   "outputs": [
    {
     "name": "stdout",
     "output_type": "stream",
     "text": [
      "<class 'IndexError'> errors: 16\n",
      "<class 'KeyError'> errors: 12\n"
     ]
    }
   ],
   "source": [
    "# Check number of errors by type\n",
    "for k in errors.keys():\n",
    "    print(k, 'errors:', len(errors[k]))"
   ]
  },
  {
   "cell_type": "markdown",
   "metadata": {},
   "source": [
    "#### IndexError: Incorrect Google Entity IDs from ProPublica database\n",
    "- Use Google Knowledge Graph to get new IDs"
   ]
  },
  {
   "cell_type": "code",
   "execution_count": 12,
   "metadata": {
    "ExecuteTime": {
     "end_time": "2021-02-08T20:16:36.081933Z",
     "start_time": "2021-02-08T20:16:32.535477Z"
    }
   },
   "outputs": [
    {
     "name": "stdout",
     "output_type": "stream",
     "text": [
      "16\n"
     ]
    }
   ],
   "source": [
    "# Determine if ProPublica google_id is incorrect\n",
    "i = 0\n",
    "for rep in errors[IndexError]:\n",
    "    if find_google_id(rep) != rep['google_id']:\n",
    "        i += 1\n",
    "print(i)"
   ]
  },
  {
   "cell_type": "code",
   "execution_count": 13,
   "metadata": {
    "ExecuteTime": {
     "end_time": "2021-02-08T20:16:42.619397Z",
     "start_time": "2021-02-08T20:16:36.085623Z"
    }
   },
   "outputs": [
    {
     "name": "stdout",
     "output_type": "stream",
     "text": [
      "0\n"
     ]
    }
   ],
   "source": [
    "# Use new Google Entity ID to get Wikipedia URL\n",
    "i = 0\n",
    "for rep in errors[IndexError]:\n",
    "    rep['google_id'] = find_google_id(rep)\n",
    "    rep['wiki_url'], rep['error'] = get_wiki_url(rep)\n",
    "    if rep['error'] != None:\n",
    "        i += 1\n",
    "print(i) # Number of reps still with error"
   ]
  },
  {
   "cell_type": "markdown",
   "metadata": {
    "ExecuteTime": {
     "end_time": "2021-02-04T22:14:36.755823Z",
     "start_time": "2021-02-04T22:14:36.327334Z"
    }
   },
   "source": [
    "#### KeyError: Google Entity missing Wikipedia page URL\n",
    "- Use MediaWiki package to get page URL"
   ]
  },
  {
   "cell_type": "code",
   "execution_count": 14,
   "metadata": {
    "ExecuteTime": {
     "end_time": "2021-02-08T20:16:42.829473Z",
     "start_time": "2021-02-08T20:16:42.622216Z"
    }
   },
   "outputs": [],
   "source": [
    "wikipedia = MediaWiki()"
   ]
  },
  {
   "cell_type": "code",
   "execution_count": 15,
   "metadata": {
    "ExecuteTime": {
     "end_time": "2021-02-08T20:16:48.835641Z",
     "start_time": "2021-02-08T20:16:42.832629Z"
    }
   },
   "outputs": [
    {
     "name": "stdout",
     "output_type": "stream",
     "text": [
      "0\n"
     ]
    }
   ],
   "source": [
    "# Get Wikipedia URLs\n",
    "i = 0\n",
    "for rep in errors[KeyError]:\n",
    "    try:\n",
    "        name = get_google_entity(rep)['itemListElement'][0]['result']['name']\n",
    "        p = wikipedia.page(f'{name} politician')\n",
    "        rep['wiki_url'] = p.url\n",
    "        rep['error'] = None\n",
    "    except:\n",
    "        i += 1\n",
    "print(i) # Number of reps still with error"
   ]
  },
  {
   "cell_type": "markdown",
   "metadata": {},
   "source": [
    "### Get Educational Background with Wikipedia Scrape\n",
    "- Note: All rep errors are None"
   ]
  },
  {
   "cell_type": "code",
   "execution_count": 16,
   "metadata": {
    "ExecuteTime": {
     "end_time": "2021-02-08T20:16:48.845921Z",
     "start_time": "2021-02-08T20:16:48.838661Z"
    }
   },
   "outputs": [],
   "source": [
    "def get_education(wiki_url):\n",
    "    '''\n",
    "    Function to get education from wikipedia infobox,\n",
    "    returns tuple (education, error)\n",
    "    '''\n",
    "    \n",
    "    try:\n",
    "        r = requests.get(wiki_url).text\n",
    "        soup = BeautifulSoup(r)\n",
    "        box = soup.find('table', attrs={'class': 'infobox vcard'})\n",
    "        sibling = True\n",
    "        edus = box.find('th', text='Education').next_sibling\n",
    "        edu = [ a.text for a in edus.find_all('a') ]\n",
    "        return edu, None\n",
    "    except Exception as e:\n",
    "        return None, e"
   ]
  },
  {
   "cell_type": "code",
   "execution_count": 17,
   "metadata": {
    "ExecuteTime": {
     "end_time": "2021-02-08T20:20:39.127297Z",
     "start_time": "2021-02-08T20:16:48.848732Z"
    }
   },
   "outputs": [],
   "source": [
    "# Get education from Wikipedia with error saving\n",
    "errors = {}\n",
    "for rep in reps:\n",
    "    wiki_url = rep['wiki_url']\n",
    "    rep['education'], rep['error'] = get_education(wiki_url)\n",
    "    if rep['error'] == None:\n",
    "        pass\n",
    "    else:\n",
    "        e_type = type(rep['error'])\n",
    "        if e_type not in errors.keys():\n",
    "            errors[e_type] = []\n",
    "        \n",
    "        errors[e_type].append(rep)"
   ]
  },
  {
   "cell_type": "code",
   "execution_count": 18,
   "metadata": {
    "ExecuteTime": {
     "end_time": "2021-02-08T20:20:39.133278Z",
     "start_time": "2021-02-08T20:20:39.129594Z"
    }
   },
   "outputs": [
    {
     "name": "stdout",
     "output_type": "stream",
     "text": [
      "<class 'AttributeError'> errors: 12\n"
     ]
    }
   ],
   "source": [
    "# Check number of errors by type\n",
    "for k in errors.keys():\n",
    "    print(k, 'errors:', len(errors[k]))"
   ]
  },
  {
   "cell_type": "markdown",
   "metadata": {},
   "source": [
    "#### Funny Detour\n",
    "- The Google Entity ID provided by ProPublica for Texas Politician John Carter was the ID for the movie *John Carter*\n",
    "- Note: After contacting ProPublica, issue has been fixed"
   ]
  },
  {
   "cell_type": "code",
   "execution_count": null,
   "metadata": {
    "ExecuteTime": {
     "end_time": "2021-02-08T20:13:07.656438Z",
     "start_time": "2021-02-08T20:13:07.654046Z"
    }
   },
   "outputs": [],
   "source": [
    "# John Carter from ProPublica provided Google Entity ID\n",
    "# get_google_entity(errors[AttributeError][2])"
   ]
  },
  {
   "cell_type": "code",
   "execution_count": null,
   "metadata": {
    "ExecuteTime": {
     "end_time": "2021-02-08T20:13:08.725437Z",
     "start_time": "2021-02-08T20:13:08.722410Z"
    }
   },
   "outputs": [],
   "source": [
    "# Find results for John Carter\n",
    "# rep = errors[AttributeError][2]\n",
    "# first_name = rep[\"first_name\"]\n",
    "# last_name = rep[\"last_name\"]\n",
    "# name = f'{first_name} {last_name}'\n",
    "# params = {\n",
    "#     'query': name,\n",
    "#     'limit': 10,\n",
    "#     'indent': True,\n",
    "#     'key': GCP_API_KEY,\n",
    "# }\n",
    "# service_url = 'https://kgsearch.googleapis.com/v1/entities:search'\n",
    "# url = service_url + '?'\n",
    "# r = requests.get(url, params=params)\n",
    "# result = r.json()"
   ]
  },
  {
   "cell_type": "code",
   "execution_count": null,
   "metadata": {
    "ExecuteTime": {
     "end_time": "2021-02-08T20:13:09.173436Z",
     "start_time": "2021-02-08T20:13:09.171084Z"
    }
   },
   "outputs": [],
   "source": [
    "# Narrow to only 'Person' entities\n",
    "# possible = []\n",
    "# for r in result['itemListElement']:\n",
    "#     if 'Person' in r['result']['@type']:\n",
    "#         possible.append(r)"
   ]
  },
  {
   "cell_type": "code",
   "execution_count": null,
   "metadata": {
    "ExecuteTime": {
     "end_time": "2021-02-08T20:13:09.854168Z",
     "start_time": "2021-02-08T20:13:09.851127Z"
    }
   },
   "outputs": [],
   "source": [
    "# Sort by highest resultScore\n",
    "# possible.sort(key=lambda x: x['resultScore'], reverse=True)\n",
    "# possible[0] # Correct John Carter"
   ]
  },
  {
   "cell_type": "code",
   "execution_count": null,
   "metadata": {
    "ExecuteTime": {
     "end_time": "2021-02-08T20:13:12.229721Z",
     "start_time": "2021-02-08T20:13:12.226853Z"
    }
   },
   "outputs": [],
   "source": [
    "# Replace John Carter (movie) with John Carter (politician)\n",
    "# errors[AttributeError][2]['google_id'] = possible[0]['result']['@id']\n",
    "# errors[AttributeError][2]['wiki_url'] = possible[0]['result']['detailedDescription']['url']\n",
    "\n",
    "# Get educational background\n",
    "# rep = errors[AttributeError][2]\n",
    "# rep['education'], rep['error'] = get_education(wiki_url)"
   ]
  },
  {
   "cell_type": "code",
   "execution_count": null,
   "metadata": {
    "ExecuteTime": {
     "end_time": "2021-02-08T20:13:12.659835Z",
     "start_time": "2021-02-08T20:13:12.657213Z"
    }
   },
   "outputs": [],
   "source": [
    "# Check\n",
    "# errors[AttributeError].pop(2)"
   ]
  },
  {
   "cell_type": "code",
   "execution_count": null,
   "metadata": {
    "ExecuteTime": {
     "end_time": "2021-02-08T20:10:57.518999Z",
     "start_time": "2021-02-08T20:10:57.512138Z"
    }
   },
   "outputs": [],
   "source": [
    "# len(errors[AttributeError])"
   ]
  },
  {
   "cell_type": "markdown",
   "metadata": {},
   "source": [
    "#### End Detour\n",
    "#### AttributeError: No 'Education' Section in Wikipedia Page Infobox\n",
    "- Some are in 'Personal details' section in 'Alma mater' row\n",
    "- Some have no tertiary education"
   ]
  },
  {
   "cell_type": "code",
   "execution_count": 19,
   "metadata": {
    "ExecuteTime": {
     "end_time": "2021-02-08T21:22:43.482095Z",
     "start_time": "2021-02-08T21:22:43.472553Z"
    }
   },
   "outputs": [],
   "source": [
    "# Reassign errors\n",
    "errors = errors[AttributeError]"
   ]
  },
  {
   "cell_type": "code",
   "execution_count": 20,
   "metadata": {
    "ExecuteTime": {
     "end_time": "2021-02-08T21:22:43.949604Z",
     "start_time": "2021-02-08T21:22:43.941217Z"
    }
   },
   "outputs": [],
   "source": [
    "def get_alma_mater(rep):\n",
    "    '''\n",
    "    Function for alternative education scrape of Wikipedia page\n",
    "    '''\n",
    "    \n",
    "    try:\n",
    "        url = rep['wiki_url']\n",
    "        r = requests.get(url)\n",
    "        soup = BeautifulSoup(r.content)\n",
    "        infobox = soup.find('table', attrs={'class': 'infobox vcard'})\n",
    "        am = infobox.find('a', attrs={'title': 'Alma mater'})\n",
    "        edu = [ a.text for a in am.parent.next_sibling.find_all('a') ]\n",
    "        return edu, None\n",
    "    except Exception as e:\n",
    "        return None, e"
   ]
  },
  {
   "cell_type": "code",
   "execution_count": 21,
   "metadata": {
    "ExecuteTime": {
     "end_time": "2021-02-08T21:22:51.035482Z",
     "start_time": "2021-02-08T21:22:46.175821Z"
    }
   },
   "outputs": [],
   "source": [
    "# No tertiary education\n",
    "no_edus = []\n",
    "for rep in errors:\n",
    "    rep['education'], rep['error'] = get_alma_mater(rep)\n",
    "    if rep['error'] != None:\n",
    "        no_edus.append(rep)"
   ]
  },
  {
   "cell_type": "markdown",
   "metadata": {},
   "source": [
    "# Data Cleaning Education and Insertion"
   ]
  },
  {
   "cell_type": "code",
   "execution_count": 24,
   "metadata": {
    "ExecuteTime": {
     "end_time": "2021-02-08T21:23:49.967701Z",
     "start_time": "2021-02-08T21:23:49.963653Z"
    }
   },
   "outputs": [],
   "source": [
    "# Remove error keys from rep dictionaries\n",
    "for rep in reps:\n",
    "    del rep['error']"
   ]
  },
  {
   "cell_type": "markdown",
   "metadata": {},
   "source": [
    "### Notes on Function:\n",
    "- Dictionary ```{degree: institution}``` was not used as the possibility of an individual earning 2 of the same degree types will result in key conflicts.  Additionally, ```{institution: degree}``` dictionary was not used as an individual may earn more than 1 degree from the same institution.\n",
    "- Tuples were not used as many databases do not accept tuples as data types."
   ]
  },
  {
   "cell_type": "code",
   "execution_count": 23,
   "metadata": {
    "ExecuteTime": {
     "end_time": "2021-02-08T21:23:47.342060Z",
     "start_time": "2021-02-08T21:23:47.334853Z"
    }
   },
   "outputs": [],
   "source": [
    "def clean_education(rep):\n",
    "    '''\n",
    "    Function to pair degree with institution and standardize non-degrees\n",
    "    '''\n",
    "    \n",
    "    edu = rep['education']\n",
    "    if edu == None:\n",
    "        return [['HS', 'HS']]\n",
    "    if len(edu) < 2:\n",
    "        return [['HS', 'HS']]\n",
    "    \n",
    "    edu_list = []\n",
    "    for i in range(len(edu)):\n",
    "        institute = None\n",
    "        degree = None\n",
    "        if len(edu[i]) < 5:\n",
    "            degree = edu[i]\n",
    "            for j in range(i-1, -1, -1):\n",
    "                if len(edu[j]) >= 5:\n",
    "                    institute = edu[j]\n",
    "                    edu_list.append([degree, institute])\n",
    "                    break\n",
    "\n",
    "    return edu_list"
   ]
  },
  {
   "cell_type": "code",
   "execution_count": 25,
   "metadata": {
    "ExecuteTime": {
     "end_time": "2021-02-08T21:23:55.082107Z",
     "start_time": "2021-02-08T21:23:55.076530Z"
    }
   },
   "outputs": [],
   "source": [
    "# Clean education\n",
    "for rep in reps:\n",
    "    rep['education'] = clean_education(rep)"
   ]
  },
  {
   "cell_type": "code",
   "execution_count": 26,
   "metadata": {
    "ExecuteTime": {
     "end_time": "2021-02-08T21:23:55.986251Z",
     "start_time": "2021-02-08T21:23:55.981130Z"
    }
   },
   "outputs": [
    {
     "data": {
      "text/plain": [
       "{'first_name': 'Jason',\n",
       " 'last_name': 'Crow',\n",
       " '_id': 'C001121',\n",
       " 'middle_name': None,\n",
       " 'google_id': '/g/11gzqdw_wg',\n",
       " 'wiki_url': 'https://en.wikipedia.org/wiki/Jason_Crow',\n",
       " 'education': [['BA', 'University of Wisconsin, Madison'],\n",
       "  ['JD', 'University of Denver']]}"
      ]
     },
     "execution_count": 26,
     "metadata": {},
     "output_type": "execute_result"
    }
   ],
   "source": [
    "# Sample\n",
    "reps[100]"
   ]
  },
  {
   "cell_type": "markdown",
   "metadata": {},
   "source": [
    "## Batch Insert Data"
   ]
  },
  {
   "cell_type": "markdown",
   "metadata": {},
   "source": [
    "### Inserting Updated Google Entity IDs and Wikipedia URLs"
   ]
  },
  {
   "cell_type": "code",
   "execution_count": null,
   "metadata": {
    "ExecuteTime": {
     "end_time": "2021-02-05T02:21:37.172429Z",
     "start_time": "2021-02-05T02:21:36.557804Z"
    }
   },
   "outputs": [],
   "source": [
    "# batch = db.batch()\n",
    "# total = 0\n",
    "# insert_len = 0\n",
    "# batch_num = 1\n",
    "# for rep in reps:\n",
    "#     insert_ref = db.collection(\"reps\").document(rep['_id'])\n",
    "#     up_dict = {\n",
    "#         'google_id': rep['google_id'],\n",
    "#         'wiki_url': rep['wiki_url'],\n",
    "#     }\n",
    "#     batch.update(insert_ref, up_dict)\n",
    "#     insert_len += 1\n",
    "#     total += 1\n",
    "#     if insert_len > 200:\n",
    "#         batch.commit()\n",
    "#         print(f'{insert_len} reps updated in batch #{batch_num}')\n",
    "#         insert_len = 0\n",
    "#         batch_num += 1\n",
    "        \n",
    "# batch.commit()\n",
    "# print(f'{insert_len} reps updated in batch #{batch_num}')\n",
    "# print(f'{total} reps updated in total')"
   ]
  },
  {
   "cell_type": "markdown",
   "metadata": {},
   "source": [
    "### Inserting into New Collection 'edu'"
   ]
  },
  {
   "cell_type": "code",
   "execution_count": null,
   "metadata": {
    "ExecuteTime": {
     "end_time": "2021-02-05T02:34:18.715700Z",
     "start_time": "2021-02-05T02:34:17.395762Z"
    }
   },
   "outputs": [],
   "source": [
    "# batch = db.batch()\n",
    "# total = 0\n",
    "# insert_len = 0\n",
    "# batch_num = 1\n",
    "# for rep in reps:\n",
    "#     for edu in rep['education']:\n",
    "#         insert_ref = db.collection(\"edu\").document()\n",
    "#         data = {\n",
    "#             '_id': rep['_id'],\n",
    "#             'degree': edu[0],\n",
    "#             'institution': edu[1]\n",
    "#         }\n",
    "#         batch.set(insert_ref, data)\n",
    "#         insert_len += 1\n",
    "#         total += 1\n",
    "#         if insert_len > 399:\n",
    "#             batch.commit()\n",
    "#             print(f'{insert_len} degrees inserted in batch #{batch_num}')\n",
    "#             insert_len = 0\n",
    "#             batch_num += 1\n",
    "\n",
    "# batch.commit()\n",
    "# print(f'{insert_len} degrees inserted in batch #{batch_num}')\n",
    "# print(f'{total} degrees inserted in total')"
   ]
  }
 ],
 "metadata": {
  "kernelspec": {
   "display_name": "db-env",
   "language": "python",
   "name": "db-env"
  },
  "language_info": {
   "codemirror_mode": {
    "name": "ipython",
    "version": 3
   },
   "file_extension": ".py",
   "mimetype": "text/x-python",
   "name": "python",
   "nbconvert_exporter": "python",
   "pygments_lexer": "ipython3",
   "version": "3.7.4"
  },
  "toc": {
   "base_numbering": 1,
   "nav_menu": {},
   "number_sections": false,
   "sideBar": true,
   "skip_h1_title": false,
   "title_cell": "Table of Contents",
   "title_sidebar": "Contents",
   "toc_cell": false,
   "toc_position": {},
   "toc_section_display": true,
   "toc_window_display": false
  }
 },
 "nbformat": 4,
 "nbformat_minor": 2
}
