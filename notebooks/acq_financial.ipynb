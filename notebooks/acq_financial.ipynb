{
 "cells": [
  {
   "cell_type": "markdown",
   "id": "grave-politics",
   "metadata": {},
   "source": [
    "# Acquiring Financial Contributions Data from OpenSecrets.org"
   ]
  },
  {
   "cell_type": "code",
   "execution_count": 1,
   "id": "economic-immunology",
   "metadata": {
    "ExecuteTime": {
     "end_time": "2021-03-03T21:31:44.784044Z",
     "start_time": "2021-03-03T21:31:44.557398Z"
    }
   },
   "outputs": [],
   "source": [
    "import configparser\n",
    "import pymongo\n",
    "import requests\n",
    "import json\n",
    "import us"
   ]
  },
  {
   "cell_type": "markdown",
   "id": "binding-elder",
   "metadata": {},
   "source": [
    "## Configuration"
   ]
  },
  {
   "cell_type": "code",
   "execution_count": 2,
   "id": "controlling-bunny",
   "metadata": {
    "ExecuteTime": {
     "end_time": "2021-03-03T21:31:48.832380Z",
     "start_time": "2021-03-03T21:31:48.797557Z"
    }
   },
   "outputs": [],
   "source": [
    "config = configparser.ConfigParser()\n",
    "config.read('../database-dev/auth/config.ini')\n",
    "FEC_KEY = config.get('fec', 'FEC_API_KEY')\n",
    "OPENSECRETS_KEY = config.get('opensecrets', 'OPEN_SECRETS_API_KEY')\n",
    "OPENSECRETS_ROOT = config.get('opensecrets', 'OPEN_SECRETS_ROOT')\n",
    "MONGO_LOCAL = config.get('mongodb', 'MONGO_LOCAL')\n",
    "MONGO_DB = config.get('mongodb', 'MONGO_DB')\n",
    "client = pymongo.MongoClient(MONGO_LOCAL)\n",
    "db = client.get_database(MONGO_DB)"
   ]
  },
  {
   "cell_type": "code",
   "execution_count": 3,
   "id": "competitive-hometown",
   "metadata": {
    "ExecuteTime": {
     "end_time": "2021-03-03T21:31:56.443570Z",
     "start_time": "2021-03-03T21:31:56.439976Z"
    }
   },
   "outputs": [],
   "source": [
    "collection = db['reps']"
   ]
  },
  {
   "cell_type": "code",
   "execution_count": 4,
   "id": "younger-sixth",
   "metadata": {
    "ExecuteTime": {
     "end_time": "2021-03-03T21:31:57.443952Z",
     "start_time": "2021-03-03T21:31:57.440350Z"
    }
   },
   "outputs": [],
   "source": [
    "states = [ state.abbr for state in us.states.STATES ]"
   ]
  },
  {
   "cell_type": "code",
   "execution_count": 16,
   "id": "premium-variance",
   "metadata": {
    "ExecuteTime": {
     "end_time": "2021-03-03T21:40:46.873975Z",
     "start_time": "2021-03-03T21:40:46.859214Z"
    }
   },
   "outputs": [],
   "source": [
    "projection_dict = {\n",
    "    '_id': 1,\n",
    "    'crp_id': 1,\n",
    "    'fec_id': 1,\n",
    "}\n",
    "results = collection.find({'in_office': True, 'state': {'$in': states}}, projection_dict)\n",
    "reps = [ rep for rep in results ]"
   ]
  },
  {
   "cell_type": "code",
   "execution_count": 6,
   "id": "satellite-vision",
   "metadata": {
    "ExecuteTime": {
     "end_time": "2021-03-03T21:31:59.411612Z",
     "start_time": "2021-03-03T21:31:59.399701Z"
    }
   },
   "outputs": [
    {
     "data": {
      "text/plain": [
       "432"
      ]
     },
     "execution_count": 6,
     "metadata": {},
     "output_type": "execute_result"
    }
   ],
   "source": [
    "len(reps)"
   ]
  },
  {
   "cell_type": "code",
   "execution_count": 18,
   "id": "adjustable-retention",
   "metadata": {
    "ExecuteTime": {
     "end_time": "2021-03-03T22:12:51.138657Z",
     "start_time": "2021-03-03T22:12:51.133929Z"
    }
   },
   "outputs": [
    {
     "data": {
      "text/plain": [
       "{'_id': 'A000055', 'crp_id': 'N00003028', 'fec_id': 'H6AL04098'}"
      ]
     },
     "execution_count": 18,
     "metadata": {},
     "output_type": "execute_result"
    }
   ],
   "source": [
    "reps[1]"
   ]
  },
  {
   "cell_type": "markdown",
   "id": "bright-microwave",
   "metadata": {},
   "source": [
    "### Notes:\n",
    "- Several reps were missing ```crp_id``` (Center for Responsive Politics IDs).\n",
    "- Cross-checking reps by state in the OpenSecrets.org database, the entries of those reps do not exist in the database."
   ]
  },
  {
   "cell_type": "code",
   "execution_count": 7,
   "id": "protecting-topic",
   "metadata": {
    "ExecuteTime": {
     "end_time": "2021-03-03T21:32:03.909988Z",
     "start_time": "2021-03-03T21:32:03.890382Z"
    }
   },
   "outputs": [],
   "source": [
    "missing = []\n",
    "for rep in reps:\n",
    "    if (rep['crp_id'] == None) or (rep['crp_id'] == ''):\n",
    "        missing.append(rep)"
   ]
  },
  {
   "cell_type": "code",
   "execution_count": 8,
   "id": "precious-communication",
   "metadata": {
    "ExecuteTime": {
     "end_time": "2021-03-03T21:32:04.623896Z",
     "start_time": "2021-03-03T21:32:04.619121Z"
    }
   },
   "outputs": [
    {
     "data": {
      "text/plain": [
       "57"
      ]
     },
     "execution_count": 8,
     "metadata": {},
     "output_type": "execute_result"
    }
   ],
   "source": [
    "len(missing)"
   ]
  },
  {
   "cell_type": "markdown",
   "id": "champion-jaguar",
   "metadata": {},
   "source": [
    "## Acquisition of Data"
   ]
  },
  {
   "cell_type": "code",
   "execution_count": null,
   "id": "criminal-process",
   "metadata": {
    "ExecuteTime": {
     "end_time": "2021-03-03T21:28:11.263006Z",
     "start_time": "2021-03-03T21:28:11.256975Z"
    }
   },
   "outputs": [],
   "source": [
    "def get_contributions(crp_id):\n",
    "    url = OPENSECRETS_ROOT\n",
    "    headers = {\n",
    "        'method': 'candSector',\n",
    "        'cid': crp_id,\n",
    "        'output': 'json',\n",
    "        'apikey': OPENSECRETS_KEY\n",
    "    }\n",
    "    r = requests.get(url, headers=headers)\n",
    "    result = r.json()['response']['sectors']['sector']\n",
    "    \n",
    "    sectors = []\n",
    "    for sector in result:\n",
    "        contribution_dict = {\n",
    "            'sector': sector['@attributes']['sector_name'],\n",
    "            'individual': sector['@attributes']['indivs'],\n",
    "            'pacs': sector['@attributes']['pacs'],\n",
    "            'total': sector['@attributes']['total']\n",
    "        }\n",
    "        sectors.append(contribution_dict)\n",
    "    \n",
    "    return sectors"
   ]
  },
  {
   "cell_type": "code",
   "execution_count": null,
   "id": "intensive-holiday",
   "metadata": {
    "ExecuteTime": {
     "end_time": "2021-03-03T21:09:23.661001Z",
     "start_time": "2021-03-03T20:55:10.437552Z"
    }
   },
   "outputs": [],
   "source": [
    "for rep in reps:\n",
    "    crp_id = rep['crp_id']\n",
    "    try:\n",
    "        rep['sectors'] = get_contributions(crp_id)\n",
    "    except:\n",
    "        rep['sectors'] = None"
   ]
  },
  {
   "cell_type": "code",
   "execution_count": null,
   "id": "contrary-testimony",
   "metadata": {},
   "outputs": [],
   "source": []
  }
 ],
 "metadata": {
  "kernelspec": {
   "display_name": "nosql-etl",
   "language": "python",
   "name": "nosql-etl"
  },
  "language_info": {
   "codemirror_mode": {
    "name": "ipython",
    "version": 3
   },
   "file_extension": ".py",
   "mimetype": "text/x-python",
   "name": "python",
   "nbconvert_exporter": "python",
   "pygments_lexer": "ipython3",
   "version": "3.9.1"
  },
  "toc": {
   "base_numbering": 1,
   "nav_menu": {},
   "number_sections": false,
   "sideBar": true,
   "skip_h1_title": false,
   "title_cell": "Table of Contents",
   "title_sidebar": "Contents",
   "toc_cell": false,
   "toc_position": {},
   "toc_section_display": true,
   "toc_window_display": false
  }
 },
 "nbformat": 4,
 "nbformat_minor": 5
}
